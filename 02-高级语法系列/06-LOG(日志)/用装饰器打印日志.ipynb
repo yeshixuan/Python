{
 "cells": [
  {
   "cell_type": "code",
   "execution_count": 1,
   "metadata": {},
   "outputs": [
    {
     "name": "stderr",
     "output_type": "stream",
     "text": [
      "2019-03-25 20:57:59,787 - DEBUG - This is a debug log.\n",
      "2019-03-25 20:57:59,788 - INFO - This is a info log.\n",
      "2019-03-25 20:57:59,789 - WARNING - This is a warning log.\n",
      "2019-03-25 20:57:59,791 - ERROR - This is a error log.\n",
      "2019-03-25 20:57:59,792 - CRITICAL - This is a critical log.\n"
     ]
    }
   ],
   "source": [
    "import logging\n",
    "# basicConfig第一次在执行logging.debug的时候已经初始化定义了，restart编辑器才能重新编译\n",
    "LOG_FORMAT = \"%(asctime)s - %(levelname)s - %(message)s\"\n",
    "logging.basicConfig(level=logging.DEBUG, format=LOG_FORMAT)\n",
    "\n",
    "logging.debug(\"This is a debug log.\")\n",
    "logging.info(\"This is a info log.\")\n",
    "logging.warning(\"This is a warning log.\")\n",
    "logging.error(\"This is a error log.\")\n",
    "logging.critical(\"This is a critical log.\")"
   ]
  },
  {
   "cell_type": "markdown",
   "metadata": {},
   "source": [
    "#### 装饰器\n",
    "- 使用装饰器，打印函数执行的时间"
   ]
  },
  {
   "cell_type": "code",
   "execution_count": 3,
   "metadata": {},
   "outputs": [
    {
     "name": "stderr",
     "output_type": "stream",
     "text": [
      "2019-03-25 21:00:49,640 - ERROR - this is a error logging.\n"
     ]
    },
    {
     "name": "stdout",
     "output_type": "stream",
     "text": [
      "test done\n"
     ]
    }
   ],
   "source": [
    "import logging\n",
    "\n",
    "def log(func):\n",
    "    def wrapper(*args, **kwargs):\n",
    "        logging.error(\"this is a error logging.\")\n",
    "        return func(*args, **kwargs)\n",
    "    return wrapper\n",
    "\n",
    "@log\n",
    "def test():\n",
    "    print(\"test done\")\n",
    "    \n",
    "test()"
   ]
  },
  {
   "cell_type": "code",
   "execution_count": 5,
   "metadata": {},
   "outputs": [
    {
     "name": "stderr",
     "output_type": "stream",
     "text": [
      "2019-03-25 21:04:15,528 - ERROR - This is a message\n"
     ]
    },
    {
     "name": "stdout",
     "output_type": "stream",
     "text": [
      "test done\n"
     ]
    }
   ],
   "source": [
    "import logging \n",
    "\n",
    "LOG_FORMAT = \"%(asctime)s - %(levelname)s = %(message)s\"\n",
    "logging.basicConfig(format=LOG_FORMAT)\n",
    "\n",
    "def log(func):\n",
    "    def wrapper(*args, **kwargs):\n",
    "        logging.error(\"This is a message\")\n",
    "        return func(*args, **kwargs)\n",
    "    return wrapper\n",
    "\n",
    "@log\n",
    "def test():\n",
    "    print(\"test done\")\n",
    "    \n",
    "test()"
   ]
  },
  {
   "cell_type": "code",
   "execution_count": 16,
   "metadata": {},
   "outputs": [
    {
     "name": "stderr",
     "output_type": "stream",
     "text": [
      "2019-03-25 21:18:53,701 - ERROR - test done\n",
      "2019-03-25 21:18:53,703 - ERROR - main done\n"
     ]
    },
    {
     "name": "stdout",
     "output_type": "stream",
     "text": [
      "test done\n",
      "main done\n"
     ]
    }
   ],
   "source": [
    "# 使用装饰器，根据不同的函数传入的日志信息不相同\n",
    "import logging\n",
    "\n",
    "LOG_FORMAT = \"%(asctime)s - %(levelname)s - %(message)s\"\n",
    "logging.basicConfig(format = LOG_FORMAT, filename=\"test.log\")\n",
    "\n",
    "def log(test):\n",
    "    def decorator(func):\n",
    "        def wrapper(*args, **kwargs):\n",
    "            logging.error(test)\n",
    "            return func(*args, **kwargs)\n",
    "        return wrapper\n",
    "    return decorator\n",
    "\n",
    "@log(\"test done\")\n",
    "def test():\n",
    "    print(\"test done\")\n",
    "\n",
    "@log(\"main done\")\n",
    "def main():\n",
    "    print(\"main done\")\n",
    "    \n",
    "test()\n",
    "main()"
   ]
  },
  {
   "cell_type": "code",
   "execution_count": 14,
   "metadata": {},
   "outputs": [
    {
     "name": "stderr",
     "output_type": "stream",
     "text": [
      "2019-03-25 21:16:21,606 - ERROR - test done\n",
      "2019-03-25 21:16:21,607 - ERROR - main done\n",
      "2019-03-25 21:16:21,609 - ERROR - my\n"
     ]
    },
    {
     "name": "stdout",
     "output_type": "stream",
     "text": [
      "test done\n",
      "main done\n",
      "shihawo\n"
     ]
    }
   ],
   "source": [
    "def log(test):\n",
    "    def decorator(func):\n",
    "        def wrapper(*args, **kwargs):\n",
    "            logging.error(test)\n",
    "            return func(*args, **kwargs)\n",
    "        return wrapper\n",
    "    return decorator\n",
    "\n",
    "@log(\"test done\")\n",
    "def test():\n",
    "    print(\"test done\")\n",
    "    \n",
    "@log(\"main done\")\n",
    "def main():\n",
    "    print(\"main done\")\n",
    "test()\n",
    "main()\n",
    "s = \"my\"\n",
    "@log(s)\n",
    "def hello(tt):\n",
    "    print(tt)\n",
    "    \n",
    "hello(\"shihawo\")"
   ]
  },
  {
   "cell_type": "code",
   "execution_count": 30,
   "metadata": {},
   "outputs": [
    {
     "name": "stderr",
     "output_type": "stream",
     "text": [
      "2019-03-25 21:27:11,644 - ERROR - message\n"
     ]
    },
    {
     "name": "stdout",
     "output_type": "stream",
     "text": [
      "hhh\n",
      "sssssss\n"
     ]
    }
   ],
   "source": [
    "def log(func):\n",
    "    def wrapper(*args, **kwargs):\n",
    "        print(func.__name__)\n",
    "        logging.error(\"message\")\n",
    "        return func(*args, **kwargs)\n",
    "    return wrapper\n",
    "\n",
    "@log\n",
    "def hhh():\n",
    "    print(\"sssssss\")\n",
    "hhh()"
   ]
  },
  {
   "cell_type": "code",
   "execution_count": 32,
   "metadata": {},
   "outputs": [
    {
     "name": "stderr",
     "output_type": "stream",
     "text": [
      "2019-03-25 21:28:56,091 - ERROR - hsfd\n"
     ]
    },
    {
     "name": "stdout",
     "output_type": "stream",
     "text": [
      "shishang\n"
     ]
    }
   ],
   "source": [
    "\n",
    "def log(test):\n",
    "    def decorator(func):\n",
    "#         print(func.__name__)\n",
    "        def wrapper(*args, **kwargs):\n",
    "            logging.error(test)\n",
    "            return func(*args, **kwargs)\n",
    "        return wrapper\n",
    "    return decorator\n",
    "\n",
    "@log(\"hsfd\")\n",
    "def main(s):\n",
    "    print(s)\n",
    "    \n",
    "main(\"shishang\")"
   ]
  },
  {
   "cell_type": "code",
   "execution_count": null,
   "metadata": {},
   "outputs": [],
   "source": []
  }
 ],
 "metadata": {
  "kernelspec": {
   "display_name": "Python 3",
   "language": "python",
   "name": "python3"
  },
  "language_info": {
   "codemirror_mode": {
    "name": "ipython",
    "version": 3
   },
   "file_extension": ".py",
   "mimetype": "text/x-python",
   "name": "python",
   "nbconvert_exporter": "python",
   "pygments_lexer": "ipython3",
   "version": "3.7.0"
  }
 },
 "nbformat": 4,
 "nbformat_minor": 2
}
