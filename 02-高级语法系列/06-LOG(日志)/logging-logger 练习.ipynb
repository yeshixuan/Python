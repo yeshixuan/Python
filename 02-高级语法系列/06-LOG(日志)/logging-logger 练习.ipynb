{
 "cells": [
  {
   "cell_type": "markdown",
   "metadata": {},
   "source": [
    "#### 用logging的四大组件来实现日志的功能\n",
    "- 打印出函数执行的时间、日志的等级、日志的消息\n",
    "- 用装饰器\n",
    "- 不同的日志，要记录不同等级的日志消息\n",
    "#### 四大组件\n",
    "- 日志器（Logger): 产生日志第一个接口\n",
    "- 处理器（Handler）：把产生的日志发送到相应的目的地\n",
    "- 过滤器（Filter): 更精细地控制那些日志输出\n",
    "- 格式器（Formatter）：对输出信息进行格式化"
   ]
  },
  {
   "cell_type": "code",
   "execution_count": 2,
   "metadata": {},
   "outputs": [
    {
     "name": "stdout",
     "output_type": "stream",
     "text": [
      "test done\n",
      "test1 done\n",
      "main donoe\n"
     ]
    }
   ],
   "source": [
    "import logging\n",
    "\n",
    "logger = logging.getLogger(\"mylogger\")\n",
    "\n",
    "logger.setLevel(logging.DEBUG)\n",
    "\n",
    "# handler处理器\n",
    "# TimeRotationFileHandler是用来按照日期时区划分日志\n",
    "# RotationFileHandler是按照日志文件的大小划分日志\n",
    "\n",
    "debug_handler = logging.FileHandler(\"1121debug.log\")\n",
    "debug_handler.setLevel(logging.DEBUG)# 设置等级\n",
    "debug_handler.setFormatter(logging.Formatter(\"%(asctime)s - %(levelname)s - %(message)s\"))\n",
    "\n",
    "error_handler = logging.FileHandler(\"1121error.log\")\n",
    "error_handler.setLevel(logging.ERROR)\n",
    "error_handler.setFormatter(logging.Formatter(\"%(asctime)s - %(levelname)s - %(message)s\"))\n",
    "\n",
    "\n",
    "logger.addHandler(debug_handler)# 加入\n",
    "logger.addHandler(error_handler)\n",
    "\n",
    "def log(func):\n",
    "    def wrapper(*args, **kwargs):\n",
    "        logger.debug(\"This is a debugger info\")\n",
    "        logger.error(\"This is a error info\")\n",
    "        return func(*args, **kwargs)\n",
    "    return wrapper\n",
    "\n",
    "def loghiger(text):\n",
    "    def decorator(func):\n",
    "        def wrapper(*args, **kwargs):\n",
    "            logger.debug(text)\n",
    "            logger.error(text)\n",
    "            return func(*args, **kwargs)\n",
    "        return wrapper\n",
    "    return decorator\n",
    "\n",
    "# 按照函数的不同，要在日志中打印出不同的东西\n",
    "@log\n",
    "def text():\n",
    "    print(\"test done\")\n",
    "    \n",
    "@loghiger(\"This is test1 done\")\n",
    "def text1():\n",
    "    print(\"test1 done\")\n",
    "    \n",
    "@loghiger(\"This is main done\")\n",
    "def main():\n",
    "    print(\"main donoe\")\n",
    "    \n",
    "text()\n",
    "text1()\n",
    "main()"
   ]
  },
  {
   "cell_type": "markdown",
   "metadata": {},
   "source": [
    "#### 一般情况下，我们在实际的工作当中，经常把logging封装成一个装饰器，也可以按照个人的习惯，新建一个log个人Tools的文件，在需要保存日志的地方，把loggerTools给引进进来"
   ]
  }
 ],
 "metadata": {
  "kernelspec": {
   "display_name": "Python 3",
   "language": "python",
   "name": "python3"
  },
  "language_info": {
   "codemirror_mode": {
    "name": "ipython",
    "version": 3
   },
   "file_extension": ".py",
   "mimetype": "text/x-python",
   "name": "python",
   "nbconvert_exporter": "python",
   "pygments_lexer": "ipython3",
   "version": "3.7.0"
  }
 },
 "nbformat": 4,
 "nbformat_minor": 2
}
