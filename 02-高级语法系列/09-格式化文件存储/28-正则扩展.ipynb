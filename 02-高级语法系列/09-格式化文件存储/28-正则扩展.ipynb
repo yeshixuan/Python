{
 "cells": [
  {
   "cell_type": "markdown",
   "metadata": {},
   "source": [
    "# RE使用大致步骤\n",
    "- 1. 使用compile将表示正则的字符串编译成一个pattern对象\n",
    "- 2. 通过pattren对象提供一些力方法对文本进行查找匹配，获取匹配结果，一个Match对象\n",
    "- 3. 最后使用Match对象提供的属性和方法获取信息，根据需要进行操作\n",
    "\n",
    "# RE常用函数\n",
    "- group():获取一个或多个分配匹配的字符串，当要获得整个匹配的子串是，直接用group或者group(0)\n",
    "- start:获取分组匹配的子串在整个字符串中的起始位置，参数默认为0\n",
    "- end:获取分组匹配的子串在整个字符串中的借宿位置，默认为0\n",
    "- span：返回的结构技术（start（group）,end(group))\n"
   ]
  },
  {
   "cell_type": "code",
   "execution_count": 30,
   "metadata": {},
   "outputs": [
    {
     "name": "stdout",
     "output_type": "stream",
     "text": [
      "None\n",
      "123\n"
     ]
    }
   ],
   "source": [
    "# 导入祥光宝\n",
    "import re\n",
    "\n",
    "# 查找数字\n",
    "# r表示字符串不专一\n",
    "p = re.compile(r'\\d+')#至少出现一次\n",
    "# 在字符串中查找，按照规则p指定的征兆进行查找\n",
    "# 返回结果是None表示没有找到，否则会返回mathc对象\n",
    "m = p.match(\"one11234345twoewrf456565efwrwerwr89\")\n",
    "n = p.match(\"123df76676\")\n",
    "print(m)\n",
    "print(n.group())"
   ]
  },
  {
   "cell_type": "code",
   "execution_count": 40,
   "metadata": {},
   "outputs": [
    {
     "name": "stdout",
     "output_type": "stream",
     "text": [
      "<re.Match object; span=(4, 7), match='236'>\n"
     ]
    }
   ],
   "source": [
    "# 导入相关宝\n",
    "import re\n",
    "\n",
    "# 查找数字\n",
    "# r表示字符串不转义\n",
    "p = re.compile(r'\\d+')#至少出现一次\n",
    "# 在字符串中查找，按照规则p指定的征兆进行查找\n",
    "# 参数3,6表示在字符串中查找的范围\n",
    "m = p.match(\"one1236df76676\",4,20)\n",
    "\n",
    "print(m)\n",
    "\n",
    "# 上诉代码说明的问题\n",
    "# 1. match可以输入参数表示起始位置\n",
    "# 2.查找到的结果只包含一个，表示第一次进行匹配成功的内容"
   ]
  },
  {
   "cell_type": "code",
   "execution_count": 47,
   "metadata": {},
   "outputs": [
    {
     "name": "stdout",
     "output_type": "stream",
     "text": [
      "236\n",
      "4\n",
      "7\n",
      "236\n"
     ]
    }
   ],
   "source": [
    "print(m[0])\n",
    "print(m.start(0))\n",
    "print(m.end(0))\n",
    "print(m.group(0))"
   ]
  },
  {
   "cell_type": "code",
   "execution_count": 59,
   "metadata": {},
   "outputs": [
    {
     "name": "stdout",
     "output_type": "stream",
     "text": [
      "<re.Match object; span=(0, 4), match='I am'>\n",
      "I am\n",
      "0\n",
      "4\n",
      "I am\n",
      "0\n",
      "4\n"
     ]
    }
   ],
   "source": [
    "import re\n",
    "# I 表示忽略掉大小写\n",
    "p = re.compile(r'([a-z]+) ([a-z]+)',re.I)\n",
    "\n",
    "m = p.match(\"I am really love wangxiaojing\")\n",
    "print(m)\n",
    "\n",
    "print(m.group(0))\n",
    "print(m.start(0))\n",
    "print(m.end(0))#表示整个\n",
    "print(m.group())\n",
    "print(m.start())\n",
    "print(m.end())"
   ]
  },
  {
   "cell_type": "code",
   "execution_count": 60,
   "metadata": {},
   "outputs": [
    {
     "name": "stdout",
     "output_type": "stream",
     "text": [
      "I\n",
      "0\n",
      "1\n"
     ]
    }
   ],
   "source": [
    "print(m.group(1))#表示第一个\n",
    "print(m.start(1))\n",
    "print(m.end(1))"
   ]
  },
  {
   "cell_type": "code",
   "execution_count": 62,
   "metadata": {},
   "outputs": [
    {
     "name": "stdout",
     "output_type": "stream",
     "text": [
      "('I', 'am')\n"
     ]
    }
   ],
   "source": [
    "print(m.groups())# 分组，是元组"
   ]
  },
  {
   "cell_type": "markdown",
   "metadata": {},
   "source": [
    "# 查找\n",
    "- search(str,[,pos[,endpos]]):在字符串中查找匹配，end，pos和endpos表示起始位置\n",
    "- findall:查找所有\n",
    "- fubditer：查找，返回一个iter结果"
   ]
  },
  {
   "cell_type": "code",
   "execution_count": 69,
   "metadata": {},
   "outputs": [
    {
     "name": "stdout",
     "output_type": "stream",
     "text": [
      "<re.Match object; span=(3, 6), match='343'>\n",
      "343\n",
      "343\n"
     ]
    }
   ],
   "source": [
    "import re\n",
    "\n",
    "p = re.compile(r'\\d+')\n",
    "\n",
    "m = p.search(\"ond343 3535sfsfs5678four\")\n",
    "\n",
    "print(m)\n",
    "print(m.group())\n",
    "print(m.group())"
   ]
  },
  {
   "cell_type": "code",
   "execution_count": 74,
   "metadata": {},
   "outputs": [
    {
     "name": "stdout",
     "output_type": "stream",
     "text": [
      "['343', '3535', '5678']\n",
      "<class 'list'>\n"
     ]
    }
   ],
   "source": [
    "# 结果是列表\n",
    "rst = p.findall(\"ond343 3535sfsfs5678four\")\n",
    "print(rst)\n",
    "print(type(rst))"
   ]
  },
  {
   "cell_type": "markdown",
   "metadata": {},
   "source": [
    "# sub 替换\n",
    "- sub(rep1,str[,count])"
   ]
  },
  {
   "cell_type": "code",
   "execution_count": 78,
   "metadata": {},
   "outputs": [
    {
     "name": "stdout",
     "output_type": "stream",
     "text": [
      "hello word hello word xiaojing,hello word you\n"
     ]
    }
   ],
   "source": [
    "# sub替换的案例\n",
    "import re\n",
    "\n",
    "p = re.compile(r'(\\w+) (\\w+)')\n",
    "\n",
    "s = \"hello 123 wang 456 xiaojing,i love you\"\n",
    "\n",
    "rst = p.sub(r\"hello word\",s)\n",
    "print(rst)"
   ]
  },
  {
   "cell_type": "markdown",
   "metadata": {},
   "source": [
    "# 匹配中文\n",
    "- 大部分中文内容表示范围是[u4e00-u9fa5]，不包含全角标点"
   ]
  },
  {
   "cell_type": "code",
   "execution_count": 82,
   "metadata": {},
   "outputs": [
    {
     "name": "stdout",
     "output_type": "stream",
     "text": [
      "['世界', '你好']\n"
     ]
    }
   ],
   "source": [
    "import re\n",
    "\n",
    "title = u'世界 你好，hello moto'\n",
    "# 把r换成ur不好用\n",
    "p = re.compile(r'[\\u4e00-\\u9fa5]+')\n",
    "rst = p.findall(title)\n",
    "print(rst)"
   ]
  },
  {
   "cell_type": "markdown",
   "metadata": {},
   "source": [
    "# 贪婪和非贪婪\n",
    "- 贪婪：尽可能多的匹配，（*）表示贪狼匹配\n",
    "- 非贪婪：找到符合条件的最小内容即可，（？）表示非贪婪\n",
    "- 正在默认使用贪婪匹配"
   ]
  },
  {
   "cell_type": "code",
   "execution_count": 87,
   "metadata": {},
   "outputs": [
    {
     "name": "stdout",
     "output_type": "stream",
     "text": [
      "<div>name</div><div>age</div>\n",
      "<div>name</div>\n"
     ]
    }
   ],
   "source": [
    "import re\n",
    "\n",
    "title = u'<div>name</div><div>age</div>'\n",
    "\n",
    "p1 = re.compile(r\"<div>.*</div>\")\n",
    "p2 = re.compile(r\"<div>.*?</div>\")\n",
    "\n",
    "m1 = p1.search(title)\n",
    "print(m1.group())\n",
    "\n",
    "m2 = p2.search(title)\n",
    "print(m2.group())"
   ]
  },
  {
   "cell_type": "markdown",
   "metadata": {},
   "source": [
    "# 练习\n",
    "# 匹配一行文字中所有开头的字母"
   ]
  },
  {
   "cell_type": "code",
   "execution_count": 94,
   "metadata": {},
   "outputs": [
    {
     "name": "stdout",
     "output_type": "stream",
     "text": [
      "['i', 'l', 'y', 'b', 'y', 'd', 't', 'l', 'm']\n",
      "['i', 'l', 'o', 'v', 'e', 'y', 'o', 'u', 'b', 'u', 't', 'y', 'o', 'u', 'd', 'o', 'n', 't', 'l', 'o', 'v', 'e', 'm', 'e']\n",
      "['i', 'e', 'u', 't', 'u', 'n', 't', 'e', 'e']\n"
     ]
    }
   ],
   "source": [
    "import re\n",
    "\n",
    "s = \"i love you but you don't love me\"\n",
    "#\\b\\w findall\n",
    "\n",
    "content = re.findall(r'\\b\\w',s) # \\b 开头的那个 匹配单词的边界\n",
    "print(content)\n",
    "\n",
    "content1 = re.findall(r'\\w',s)\n",
    "\n",
    "print(content1)\n",
    "\n",
    "content2 = re.findall(r'\\w\\b',s)\n",
    "print(content2)"
   ]
  },
  {
   "cell_type": "markdown",
   "metadata": {},
   "source": [
    "#### 匹配一行文字中所有数字开头的内容"
   ]
  },
  {
   "cell_type": "code",
   "execution_count": 104,
   "metadata": {},
   "outputs": [
    {
     "name": "stdout",
     "output_type": "stream",
     "text": [
      "['2', '3', '4', '5', '7', '9']\n",
      "['6']\n"
     ]
    }
   ],
   "source": [
    "import re\n",
    "\n",
    "s = \"i 22love 33you 44but 5you don\\'t66 7love 99me\"\n",
    "content = re.findall(r'\\b\\d',s)\n",
    "print(content)\n",
    "\n",
    "content1 = re.findall(r'\\d\\b',s)# \n",
    "print(content1)"
   ]
  },
  {
   "cell_type": "markdown",
   "metadata": {},
   "source": [
    "#### 匹配只含数字和字母的行"
   ]
  },
  {
   "cell_type": "code",
   "execution_count": 107,
   "metadata": {},
   "outputs": [
    {
     "name": "stdout",
     "output_type": "stream",
     "text": [
      "['i', 'love', 'you', '22222kkk', 'but', 'def23', 'you', 'don', 'love', '2342342ere']\n"
     ]
    }
   ],
   "source": [
    "s2 ='i love you \\n22222kkk but  \\ndef23 you don love \\n2342342ere'\n",
    "\n",
    "content = re.findall(r'\\w+',s2,re.M)# re.M表示多行，但是范不放好像没区别\n",
    "print(content)"
   ]
  },
  {
   "cell_type": "markdown",
   "metadata": {},
   "source": [
    "#### 写一个正则表达式，使其能匹配以下字符，‘bit’,'bat','but','hit','mit'"
   ]
  },
  {
   "cell_type": "code",
   "execution_count": 114,
   "metadata": {},
   "outputs": [
    {
     "name": "stdout",
     "output_type": "stream",
     "text": [
      "['bit', 'bat', 'but', 'hit', 'mit']\n"
     ]
    }
   ],
   "source": [
    "s3 =\"‘bit’,'bat','but','hit','mit'\"\n",
    "content = re.findall(r'..t',s3)\n",
    "print(content)"
   ]
  },
  {
   "cell_type": "markdown",
   "metadata": {},
   "source": [
    "#### 提取每行中完整的年月日和时间段"
   ]
  },
  {
   "cell_type": "code",
   "execution_count": 117,
   "metadata": {},
   "outputs": [
    {
     "name": "stdout",
     "output_type": "stream",
     "text": [
      "['1988-11-30 22:33:44', '2008-01-02 05:34:56']\n"
     ]
    }
   ],
   "source": [
    "s3 = 'se2332 1988-11-30 22:33:44 jafsfsfsfs 2008-01-02 05:34:56'\n",
    "\n",
    "content = re.findall(r'\\d{4}-\\d{2}-\\d{2} \\d{2}:\\d{2}:\\d{2}',s3)\n",
    "print(content)"
   ]
  },
  {
   "cell_type": "markdown",
   "metadata": {},
   "source": [
    "#### 提取电子邮件的格式"
   ]
  },
  {
   "cell_type": "code",
   "execution_count": 121,
   "metadata": {},
   "outputs": [
    {
     "name": "stdout",
     "output_type": "stream",
     "text": [
      "['xxxxxx@gmail.com', 'xxxx@qq.com']\n"
     ]
    }
   ],
   "source": [
    "\n",
    "s4 ='''xxxxxx@gmail.com xxxx@qq.com baidu.com 99.com'''\n",
    "content = re.findall(r'\\w+@\\w+.com',s4)\n",
    "print(content)"
   ]
  },
  {
   "cell_type": "markdown",
   "metadata": {},
   "source": [
    "#### 把以上合法的电子邮件地址替换成我自己的电子邮件地址"
   ]
  },
  {
   "cell_type": "code",
   "execution_count": 123,
   "metadata": {},
   "outputs": [
    {
     "name": "stdout",
     "output_type": "stream",
     "text": [
      "zoulaogshi@liust.com zoulaogshi@liust.com baidu.com 99.com\n"
     ]
    }
   ],
   "source": [
    "content = re.sub(r'\\w+@\\w+.com','zoulaogshi@liust.com',s4)\n",
    "print(content)"
   ]
  },
  {
   "cell_type": "markdown",
   "metadata": {},
   "source": [
    "#### 使用正在提取字符串中的单词"
   ]
  },
  {
   "cell_type": "code",
   "execution_count": 3,
   "metadata": {},
   "outputs": [
    {
     "name": "stdout",
     "output_type": "stream",
     "text": [
      "['id', 'love', 'you', 'not', 'beacsre', 'whof', 'of', 'not']\n",
      "['id', 'love', 'you', 'not', 'beacsre', 'whof', 'of', 'sdx', 'not']\n",
      "id\n",
      "id\n"
     ]
    }
   ],
   "source": [
    "import re\n",
    "\n",
    "s5 = 'id love you not beacsre whof 234 of 4545sdx,not'\n",
    "content = re.findall(r'\\b[a-zA-Z]+\\b',s5)# \\b就近匹配\n",
    "print(content)\n",
    "\n",
    "content1 = re.findall(r'[a-zA-Z]+',s5)\n",
    "print(content1)\n",
    "\n",
    "content2 = re.search(r'\\b[a-zA-Z]+\\b',s5)\n",
    "print(content2.group())\n",
    "\n",
    "content3 = re.match(r'\\b[a-zA-Z]+\\b',s5) # 等于 re.search(r'^\\b[a-zA-Z]+\\b',s5)\n",
    "print(content3.group())"
   ]
  },
  {
   "cell_type": "code",
   "execution_count": null,
   "metadata": {},
   "outputs": [],
   "source": []
  }
 ],
 "metadata": {
  "kernelspec": {
   "display_name": "Python 3",
   "language": "python",
   "name": "python3"
  },
  "language_info": {
   "codemirror_mode": {
    "name": "ipython",
    "version": 3
   },
   "file_extension": ".py",
   "mimetype": "text/x-python",
   "name": "python",
   "nbconvert_exporter": "python",
   "pygments_lexer": "ipython3",
   "version": "3.7.0"
  }
 },
 "nbformat": 4,
 "nbformat_minor": 2
}
