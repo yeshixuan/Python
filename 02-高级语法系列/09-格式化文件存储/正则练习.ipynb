{
 "cells": [
  {
   "cell_type": "markdown",
   "metadata": {},
   "source": [
    "# RE使用大致步骤\n",
    "- 1. 使用compile将表示正则的字符编译成一个pattern对象\n",
    "- 2. 通过pattern对象提供一些方法对文本进行查找匹配，获取匹配结果，一个Match对象\n",
    "- 3. 最后使用Match对象提供的属性和方法获取信息，根据需要进行操作\n",
    "# RE常用函数\n",
    "- group()：获取一个或者多各分配匹配的字符串，当要获取整个匹配的子串时，直接用group或者group(0)\n",
    "- start: 获取分组匹配的子串在整个字符串中的起始位置，参数默认为0\n",
    "- end：获取分组匹配的子串在整个字符串中的结束位置，默认为0\n",
    "- span：返回的结果技术（start(group), end(group))"
   ]
  },
  {
   "cell_type": "code",
   "execution_count": 7,
   "metadata": {},
   "outputs": [
    {
     "name": "stdout",
     "output_type": "stream",
     "text": [
      "None\n",
      "<re.Match object; span=(0, 1), match='2'>\n",
      "2\n"
     ]
    }
   ],
   "source": [
    "import re\n",
    "\n",
    "# 朝赵数字\n",
    "# r表示字符串不转移\n",
    "p = re.compile(r\"\\d+\")\n",
    "# 在字符串中查找，按照规则p指定的正则进行查找\n",
    "# 返回结果是None表示没有找到，否则会返回match对象\n",
    "m = p.match(\"onesrwewer23424sfdsdfr234r234r23rsfsdfs\")# match从开始位置查找\n",
    "n = p.match(\"2w34edsfrwrwerwerw2342323\")\n",
    "print(m)\n",
    "print(n)\n",
    "# print(n.group())\n",
    "print(n.group(0))"
   ]
  },
  {
   "cell_type": "code",
   "execution_count": 9,
   "metadata": {},
   "outputs": [
    {
     "name": "stdout",
     "output_type": "stream",
     "text": [
      "<re.Match object; span=(3, 9), match='343452'>\n",
      "343452\n"
     ]
    }
   ],
   "source": [
    "import re\n",
    "\n",
    "p = re.compile(r\"\\d+\")\n",
    "m = p.match(\"one343452dsfsfserwerwe\",3,23)\n",
    "print(m)\n",
    "print(m.group())\n",
    "\n",
    "# 上述代码说明的问题\n",
    "# 1. match可以输入参数表示起始位置\n",
    "# 2. 查找到的结果值包含一个，表示第一次进行匹配成功的内容"
   ]
  },
  {
   "cell_type": "code",
   "execution_count": 15,
   "metadata": {},
   "outputs": [
    {
     "name": "stdout",
     "output_type": "stream",
     "text": [
      "343452\n",
      "3\n",
      "9\n",
      "343452\n"
     ]
    }
   ],
   "source": [
    "print(m[0])\n",
    "# print(m[1]) #报错\n",
    "print(m.start(0))\n",
    "print(m.end(0))# 也是包括左边不包括右边\n",
    "print(m.group())"
   ]
  },
  {
   "cell_type": "code",
   "execution_count": 31,
   "metadata": {},
   "outputs": [
    {
     "name": "stdout",
     "output_type": "stream",
     "text": [
      "<re.Match object; span=(0, 4), match='I am'>\n",
      "I am\n",
      "I am\n",
      "I\n",
      "am\n",
      "0\n",
      "4\n",
      "0\n",
      "4\n"
     ]
    }
   ],
   "source": [
    "import re\n",
    "# I 表示忽略掉大小写\n",
    "p = re.compile(r\"([a-z]+) ([a-z]+)\", re.I)#两个（）之间有空格\n",
    "\n",
    "m = p.match(\"I am really love xiaoxue\")\n",
    "print(m)\n",
    "print(m.group())\n",
    "print(m.group(0))\n",
    "\n",
    "print(m.group(1))\n",
    "print(m.group(2))\n",
    "\n",
    "print(m.start(0))\n",
    "print(m.end(0))\n",
    "print(m.start())\n",
    "print(m.end())"
   ]
  },
  {
   "cell_type": "code",
   "execution_count": 34,
   "metadata": {},
   "outputs": [
    {
     "name": "stdout",
     "output_type": "stream",
     "text": [
      "('I', 'am')\n"
     ]
    }
   ],
   "source": [
    "print(m.groups()) # 分组，是元组"
   ]
  },
  {
   "cell_type": "markdown",
   "metadata": {},
   "source": [
    "# 查找\n",
    "- search(str,[,pos[,endpos]]):在字符串中查找匹配，end， pos和endpos表示起始位置\n",
    "- findall:查找所有\n",
    "- fubditer: 查找，返回一个iter结果"
   ]
  },
  {
   "cell_type": "code",
   "execution_count": 43,
   "metadata": {},
   "outputs": [
    {
     "name": "stdout",
     "output_type": "stream",
     "text": [
      "<re.Match object; span=(3, 7), match='3242'>\n",
      "3242\n",
      "<class 'str'>\n"
     ]
    }
   ],
   "source": [
    "import re\n",
    "\n",
    "p = re.compile(r\"\\d+\")\n",
    "\n",
    "m = p.search(\"one3242 245sfs23424sfsf\")\n",
    "\n",
    "print(m)\n",
    "print(m.group())\n",
    "print(type(m.group())) # 字符串"
   ]
  },
  {
   "cell_type": "code",
   "execution_count": 45,
   "metadata": {},
   "outputs": [
    {
     "name": "stdout",
     "output_type": "stream",
     "text": [
      "['3242', '245', '23424']\n",
      "<class 'list'>\n"
     ]
    }
   ],
   "source": [
    "# 结果是列表\n",
    "rst = p.findall(\"one3242 245sfs23424sfsf\")\n",
    "print(rst)\n",
    "print(type(rst))"
   ]
  },
  {
   "cell_type": "markdown",
   "metadata": {},
   "source": [
    "# sub替换\n",
    "- sub(rep1, str[,count])"
   ]
  },
  {
   "cell_type": "code",
   "execution_count": 48,
   "metadata": {},
   "outputs": [
    {
     "name": "stdout",
     "output_type": "stream",
     "text": [
      "hello word hello word xiaox, hello word you\n"
     ]
    }
   ],
   "source": [
    "# sub替换的案例\n",
    "import re\n",
    "\n",
    "p = re.compile(r\"(\\w+) (\\w+)\")\n",
    "\n",
    "s = \"hello 123 wang 456 xiaox, i love you\"\n",
    "\n",
    "rst = p.sub(r\"hello word\", s)\n",
    "print(rst)"
   ]
  },
  {
   "cell_type": "markdown",
   "metadata": {},
   "source": [
    "# 匹配中文\n",
    "- 大部分中文内容表示范围是[u4e00-u9fa5]，不包含全角标点"
   ]
  },
  {
   "cell_type": "code",
   "execution_count": 53,
   "metadata": {},
   "outputs": [
    {
     "name": "stdout",
     "output_type": "stream",
     "text": [
      "['世界', '你好']\n"
     ]
    }
   ],
   "source": [
    "import re\n",
    "\n",
    "title = u\"世界 你好，hello moto\"\n",
    "\n",
    "p = re.compile(r\"[\\u4e00-\\u9fa5]+\")\n",
    "\n",
    "rst = p.findall(title)\n",
    "print(rst)"
   ]
  },
  {
   "cell_type": "markdown",
   "metadata": {},
   "source": [
    "# 贪婪和非贪婪\n",
    "- 贪婪：尽可能多滴匹配，（*）表示贪婪匹配\n",
    "- 非贪婪：找到符合条件的最小内容即可，（？）表示非贪婪\n",
    "- 正则默认使用贪婪匹配"
   ]
  },
  {
   "cell_type": "code",
   "execution_count": 58,
   "metadata": {},
   "outputs": [
    {
     "name": "stdout",
     "output_type": "stream",
     "text": [
      "<div>name</div><div>age</div>\n",
      "<div>name</div>\n"
     ]
    }
   ],
   "source": [
    "import re\n",
    "title = r\"<div>name</div><div>age</div>\"\n",
    "\n",
    "p1 = re.compile(r\"<div>.*</div>\")\n",
    "p2 = re.compile(r\"<div>.*?</div>\")\n",
    "\n",
    "m1 = p1.search(title)\n",
    "print(m1.group())\n",
    "\n",
    "m2 = p2.search(title)\n",
    "print(m2.group())"
   ]
  },
  {
   "cell_type": "markdown",
   "metadata": {},
   "source": [
    "# 练习\n",
    "# 匹配一行文字中所有开头的字母"
   ]
  },
  {
   "cell_type": "code",
   "execution_count": 65,
   "metadata": {},
   "outputs": [
    {
     "name": "stdout",
     "output_type": "stream",
     "text": [
      "['i', 'l', 'y', 'b', 'y', 'd', 't', 'l', 'm']\n",
      "['i', 'l', 'o', 'v', 'e', 'y', 'o', 'u', 'b', 'u', 't', 'y', 'o', 'u', 'd', 'o', 'n', 't', 'l', 'o', 'v', 'e', 'm', 'e']\n",
      "['i', 'e', 'u', 't', 'u', 'n', 't', 'e', 'e']\n"
     ]
    }
   ],
   "source": [
    "import re\n",
    "\n",
    "s =\"i love you but you don't love me\"\n",
    "# \\b\\w findall\n",
    "\n",
    "# p = re.compile(r\"\\b\\w\")\n",
    "# m = p.findall(s)\n",
    "\n",
    "m = re.findall(r\"\\b\\w\",s)\n",
    "print(m)\n",
    "\n",
    "m1 = re.findall(r\"\\w\", s)\n",
    "print(m1)\n",
    "\n",
    "m2 = re.findall(r\"\\w\\b\", s)\n",
    "print(m2)"
   ]
  },
  {
   "cell_type": "markdown",
   "metadata": {},
   "source": [
    "#### 匹配一行文字中所有数字开头的内容"
   ]
  },
  {
   "cell_type": "code",
   "execution_count": 74,
   "metadata": {},
   "outputs": [
    {
     "name": "stdout",
     "output_type": "stream",
     "text": [
      "['1', '3', '5', '6', '3']\n",
      "['2', '2', '2']\n"
     ]
    }
   ],
   "source": [
    "title = \"1wr2 3wefws2 5sdfs sdrfsf2 6sfs 34fsfs\"\n",
    "\n",
    "m = re.findall(r\"\\b\\d\", title)\n",
    "\n",
    "print(m)\n",
    "m1 = re.findall(r\"\\d\\b\", title)\n",
    "print(m1)"
   ]
  },
  {
   "cell_type": "markdown",
   "metadata": {},
   "source": [
    "#### 匹配只含数字和字母的行"
   ]
  },
  {
   "cell_type": "code",
   "execution_count": 83,
   "metadata": {},
   "outputs": [
    {
     "name": "stdout",
     "output_type": "stream",
     "text": [
      "['1w_r2', '3wefws2', '5sd', 'sfs', 'sdrf', 'sf26sfs', '34fsfs']\n"
     ]
    }
   ],
   "source": [
    "title = \"1w_r2 3wefws2\\n5sd\\sfs sdrf\\nsf26sfs\\n34fsfs\"\n",
    "\n",
    "# m = re.findall(r\"[0-9a-zA-Z]+\", title, re.M)# re.M表示多行\n",
    "m = re.findall(r\"\\w+\", title, re.M)# re.M\n",
    "\n",
    "\n",
    "print(m)"
   ]
  },
  {
   "cell_type": "markdown",
   "metadata": {},
   "source": [
    "#### 写一个正则表达式，使其能匹配以下字符，‘bit’,'bat','but','hit','mit'"
   ]
  },
  {
   "cell_type": "code",
   "execution_count": 86,
   "metadata": {},
   "outputs": [
    {
     "name": "stdout",
     "output_type": "stream",
     "text": [
      "['bit', 'bat', 'hit', 'mit']\n"
     ]
    }
   ],
   "source": [
    "import re\n",
    "\n",
    "s3 = \"'bit','bat','bum','hit','mit'\"\n",
    "\n",
    "content = re.findall(r\"..t\", s3)\n",
    "print(content)"
   ]
  },
  {
   "cell_type": "markdown",
   "metadata": {},
   "source": [
    "#### 提取每行中完整的年月日和时间段"
   ]
  },
  {
   "cell_type": "code",
   "execution_count": 90,
   "metadata": {},
   "outputs": [
    {
     "name": "stdout",
     "output_type": "stream",
     "text": [
      "['1988-11-30 22:33:44', '2008-01-02 05:34:56']\n"
     ]
    }
   ],
   "source": [
    "s3 = 'se2332 1988-11-30 22:33:44 jafsfsfsfs 2008-01-02 05:34:56'\n",
    "\n",
    "content = re.findall(r\"(\\d{4}-\\d{2}-\\d{2} \\d{2}:\\d{2}:\\d{2})\", s3)\n",
    "print(content)"
   ]
  },
  {
   "cell_type": "markdown",
   "metadata": {},
   "source": [
    "#### 提取电子邮件的格式"
   ]
  },
  {
   "cell_type": "code",
   "execution_count": 92,
   "metadata": {},
   "outputs": [
    {
     "name": "stdout",
     "output_type": "stream",
     "text": [
      "['xxxxxx@gmail.com', 'xxxx@qq.com']\n"
     ]
    }
   ],
   "source": [
    "s4 ='''xxxxxx@gmail.com xxxx@qq.com baidu.com 99.com'''\n",
    "\n",
    "content = re.findall(r\"\\w+@\\w+.com\", s4)\n",
    "print(content)"
   ]
  },
  {
   "cell_type": "markdown",
   "metadata": {},
   "source": [
    "#### 把以上合法的电子邮件地址替换成我自己的电子邮件地址"
   ]
  },
  {
   "cell_type": "code",
   "execution_count": 97,
   "metadata": {},
   "outputs": [
    {
     "name": "stdout",
     "output_type": "stream",
     "text": [
      "zhiles@qq.com zhiles@qq.com baidu.com 99.com\n",
      "<class 'str'>\n"
     ]
    }
   ],
   "source": [
    "content = re.sub(r\"\\w+@\\w+.com\", \"zhiles@qq.com\", s4)\n",
    "print(content)\n",
    "print(type(content))"
   ]
  },
  {
   "cell_type": "markdown",
   "metadata": {},
   "source": [
    "#### 使用正则提取字符串中的单词"
   ]
  },
  {
   "cell_type": "code",
   "execution_count": 101,
   "metadata": {},
   "outputs": [
    {
     "name": "stdout",
     "output_type": "stream",
     "text": [
      "['wefws', 'sdfs', 'sdrfs', 'sfs', 'fsfs']\n",
      "['sdfs', 'sdrfs', 'sfs', 'fsfs']\n",
      "['wefws', 'sdfs', 'sdrfs']\n",
      "['sdfs', 'sdrfs']\n"
     ]
    }
   ],
   "source": [
    "title = \"舒服舒服 wefws2 sdfs sdrfs 6sfs 34fsfs\"\n",
    "\n",
    "content = re.findall(r\"[a-z-A-Z]+\", title)\n",
    "print(content)\n",
    "\n",
    "content = re.findall(r\"[a-z-A-Z]+\\b\", title)\n",
    "print(content)\n",
    "\n",
    "content = re.findall(r\"\\b[a-z-A-Z]+\", title)\n",
    "print(content)\n",
    "\n",
    "content = re.findall(r\"\\b[a-z-A-Z]+\\b\", title)\n",
    "print(content)"
   ]
  }
 ],
 "metadata": {
  "kernelspec": {
   "display_name": "Python 3",
   "language": "python",
   "name": "python3"
  },
  "language_info": {
   "codemirror_mode": {
    "name": "ipython",
    "version": 3
   },
   "file_extension": ".py",
   "mimetype": "text/x-python",
   "name": "python",
   "nbconvert_exporter": "python",
   "pygments_lexer": "ipython3",
   "version": "3.7.0"
  }
 },
 "nbformat": 4,
 "nbformat_minor": 2
}
