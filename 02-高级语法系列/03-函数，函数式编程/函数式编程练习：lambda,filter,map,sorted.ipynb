{
 "cells": [
  {
   "cell_type": "markdown",
   "metadata": {},
   "source": [
    "# map(func, *iterables) --> map object\n",
    "# filter(function or None, iterable) --> filter object\n",
    "# sorted(iterable, /, *, key=None, reverse=False)\n",
    "# lambda x: x**2             "
   ]
  },
  {
   "cell_type": "markdown",
   "metadata": {},
   "source": [
    "## 利用map（）函数，把用户输入的不规范的英文，变成首字母大写，其他小写的规范的名字：比如说[\"ADMAm\",\"LISA\",'JACk][\"Admam\",\"Lisa\",'Jack\"]\n",
    "\n",
    "## 利用lambda函数"
   ]
  },
  {
   "cell_type": "code",
   "execution_count": 83,
   "metadata": {},
   "outputs": [
    {
     "name": "stdout",
     "output_type": "stream",
     "text": [
      "Admam\n",
      "Lisa\n",
      "Jack\n"
     ]
    },
    {
     "data": {
      "text/plain": [
       "[None, None, None]"
      ]
     },
     "execution_count": 83,
     "metadata": {},
     "output_type": "execute_result"
    }
   ],
   "source": [
    "def standards(s):\n",
    "#     t = s.lower()\n",
    "    t = s.capitalize()\n",
    "#     return t\n",
    "    print(t)\n",
    "\n",
    "# standards(\"ADMAM\")\n",
    "list(map(standards,[\"ADMAm\",\"LISA\",\"JACk\"]))\n",
    "    "
   ]
  },
  {
   "cell_type": "code",
   "execution_count": 84,
   "metadata": {},
   "outputs": [
    {
     "name": "stdout",
     "output_type": "stream",
     "text": [
      "['Admam', 'Lisa', 'Jack']\n"
     ]
    }
   ],
   "source": [
    "ls = [\"ADMAm\",\"LISA\",\"JACk\"]\n",
    "new_ls = map(lambda x:x.capitalize(),ls)\n",
    "print(list(new_ls))"
   ]
  },
  {
   "cell_type": "markdown",
   "metadata": {},
   "source": [
    "回数：从左到右和从优稻作度都是一样的数，例如 12321，999，请利用fillter()函数"
   ]
  },
  {
   "cell_type": "code",
   "execution_count": 85,
   "metadata": {},
   "outputs": [
    {
     "name": "stdout",
     "output_type": "stream",
     "text": [
      "[1, 2, 3, 4, 5, 6, 7, 8, 9, 11, 22, 33, 44, 55, 66, 77, 88, 99, 101, 111, 121, 131, 141, 151, 161, 171, 181, 191, 202, 212, 222, 232, 242, 252, 262, 272, 282, 292, 303, 313, 323, 333, 343, 353, 363, 373, 383, 393, 404, 414, 424, 434, 444, 454, 464, 474, 484, 494, 505, 515, 525, 535, 545, 555, 565, 575, 585, 595, 606, 616, 626, 636, 646, 656, 666, 676, 686, 696, 707, 717, 727, 737, 747, 757, 767, 777, 787, 797, 808, 818, 828, 838, 848, 858, 868, 878, 888, 898, 909, 919, 929, 939, 949, 959, 969, 979, 989, 999]\n"
     ]
    }
   ],
   "source": [
    "def equal(a,b):\n",
    "    return a == b\n",
    "# def is_palindrome(n):\n",
    "#     s = str(n)\n",
    "#     if equal(s[0],s[-1]):\n",
    "#         return \"是回数\"\n",
    "#     else:\n",
    "#         return \"不是回数\"\n",
    "# is_palindrome(121)\n",
    "\n",
    "def is_palindrome(n):\n",
    "    s = str(n)\n",
    "    for i in range(len(s)):\n",
    "        if equal(s[i],s[len(s)-1-i]):\n",
    "            continue\n",
    "        else:\n",
    "            return False\n",
    "    return True\n",
    "\n",
    "is_palindrome(4533232)\n",
    "outpup = filter(is_palindrome,range(1,1000))\n",
    "print(list(outpup))"
   ]
  },
  {
   "cell_type": "code",
   "execution_count": 86,
   "metadata": {},
   "outputs": [
    {
     "name": "stdout",
     "output_type": "stream",
     "text": [
      "[0, 1, 2, 3, 4, 5, 6, 7, 8, 9, 11, 22, 33, 44, 55, 66, 77, 88, 99, 101, 111, 121, 131, 141, 151, 161, 171, 181, 191, 202, 212, 222, 232, 242, 252, 262, 272, 282, 292, 303, 313, 323, 333, 343, 353, 363, 373, 383, 393, 404, 414, 424, 434, 444, 454, 464, 474, 484, 494, 505, 515, 525, 535, 545, 555, 565, 575, 585, 595, 606, 616, 626, 636, 646, 656, 666, 676, 686, 696, 707, 717, 727, 737, 747, 757, 767, 777, 787, 797, 808, 818, 828, 838, 848, 858, 868, 878, 888, 898, 909, 919, 929, 939, 949, 959, 969, 979, 989, 999]\n"
     ]
    }
   ],
   "source": [
    "ls = range(1000)\n",
    "\n",
    "new_ls = filter(lambda x:str(x)[0]==str(x)[len(str(x))-1], ls)\n",
    "print(list(new_ls))"
   ]
  },
  {
   "cell_type": "markdown",
   "metadata": {},
   "source": [
    "假设，我们用一组tuple来表示学生的名字和成绩：L =[(\"bob\",75),(\"ada\",66),(\"mimi\",89)]，用sorted()对上述列表按照名字排序"
   ]
  },
  {
   "cell_type": "code",
   "execution_count": 115,
   "metadata": {},
   "outputs": [
    {
     "name": "stdout",
     "output_type": "stream",
     "text": [
      "[('ada', 99), ('bob', 75), ('mimi', 89)]\n",
      "[56, 3, 2, 1, 0]\n"
     ]
    }
   ],
   "source": [
    "L =[(\"bob\",75),(\"ada\",99),(\"mimi\",89)]\n",
    "\n",
    "def by_name(t):\n",
    "    t = sorted(t[0],key=str.lower)#按字母顺序\n",
    "    return t\n",
    "L2 = sorted(L,key=by_name)\n",
    "\n",
    "print(L2)\n",
    "L = [1,2,56,3,0]\n",
    "L2 = sorted(L,reverse=True)\n",
    "print(L2)"
   ]
  },
  {
   "cell_type": "code",
   "execution_count": 121,
   "metadata": {},
   "outputs": [
    {
     "name": "stdout",
     "output_type": "stream",
     "text": [
      "[('ada', '99'), ('mimi', '89'), ('bob', '75')]\n"
     ]
    }
   ],
   "source": [
    "L =[(\"bob\",\"75\"),(\"ada\",\"99\"),(\"mimi\",\"89\")]\n",
    "\n",
    "def by_num(t):\n",
    "    s = sorted(t[1], key=str.lower)\n",
    "    return s\n",
    "\n",
    "L2 = sorted(L, key=by_num,reverse=True)\n",
    "print(L2)"
   ]
  },
  {
   "cell_type": "code",
   "execution_count": 122,
   "metadata": {},
   "outputs": [
    {
     "name": "stdout",
     "output_type": "stream",
     "text": [
      "[('bob', 75), ('mimi', 89), ('ada', 99)]\n"
     ]
    }
   ],
   "source": [
    "L =[(\"bob\",75),(\"ada\",99),(\"mimi\",89)]\n",
    "\n",
    "def by_score(t):\n",
    "    t = sorted(range(t[1]), key=abs)# int对象是不可被迭代的，所有包装下\n",
    "    return t\n",
    "\n",
    "L2 = sorted(L, key=by_score)\n",
    "print(L2)"
   ]
  },
  {
   "cell_type": "code",
   "execution_count": 123,
   "metadata": {},
   "outputs": [
    {
     "name": "stdout",
     "output_type": "stream",
     "text": [
      "[('mimi', 89), ('bob', 75), ('ada', 99)]\n",
      "[('ada', 99), ('mimi', 89), ('bob', 75)]\n"
     ]
    }
   ],
   "source": [
    "# 利用lambda函数\n",
    "ls =[(\"bob\",75),(\"ada\",99),(\"mimi\",89)]\n",
    "\n",
    "new_ls = sorted(ls, key=lambda x:x[0], reverse=True)\n",
    "print(new_ls)\n",
    "\n",
    "new_ls = sorted(ls, key=lambda x:x[1], reverse=True)\n",
    "print(new_ls)"
   ]
  },
  {
   "cell_type": "markdown",
   "metadata": {},
   "source": [
    "权重\n",
    "\n",
    "goods = [{\"name\":\"good1\",\"price\":200,\"sales\":100,\"starts\":5,\"comments\":100},{\"name\":\"good2\",\"price\":300,\"sales\":120,\"starts\":4,\"comments\":500},{\"name\":\"good3\",\"price\":500,\"sales\":3000,\"starts\":3,\"comments\":2000},{\"name\":\"good4\",\"price\":600,\"sales\":200,\"starts\":2,\"comments\":600},\n",
    "{\"name\":\"good5\",\"price\":700,\"sales\":500,\"starts\":1,\"comments\":200}]\n",
    "\n",
    "权重式100\n",
    "\n",
    "价格战的权重式40%，销量17%，评级13%，评论30%1"
   ]
  },
  {
   "cell_type": "code",
   "execution_count": 124,
   "metadata": {},
   "outputs": [
    {
     "name": "stdout",
     "output_type": "stream",
     "text": [
      "[{'name': 'good1', 'price': 200, 'sales': 100, 'starts': 5, 'comments': 100}, {'name': 'good2', 'price': 300, 'sales': 120, 'starts': 4, 'comments': 500}, {'name': 'good5', 'price': 700, 'sales': 500, 'starts': 1, 'comments': 200}, {'name': 'good4', 'price': 600, 'sales': 200, 'starts': 2, 'comments': 600}, {'name': 'good3', 'price': 500, 'sales': 3000, 'starts': 3, 'comments': 2000}]\n"
     ]
    }
   ],
   "source": [
    "goods = [{\"name\":\"good1\",\"price\":200,\"sales\":100,\"starts\":5,\"comments\":100},{\"name\":\"good2\",\"price\":300,\"sales\":120,\"starts\":4,\"comments\":500},{\"name\":\"good3\",\"price\":500,\"sales\":3000,\"starts\":3,\"comments\":2000},{\"name\":\"good4\",\"price\":600,\"sales\":200,\"starts\":2,\"comments\":600},\n",
    "{\"name\":\"good5\",\"price\":700,\"sales\":500,\"starts\":1,\"comments\":200}]\n",
    "\n",
    "# sorted（）进行排序\n",
    "\n",
    "def my_sorted(arg):\n",
    "    price = arg[\"price\"]\n",
    "    sales = arg[\"sales\"]\n",
    "    star =arg[\"starts\"]\n",
    "    comment = arg[\"comments\"]\n",
    "    data = price*0.4 + sales*0.17 + star*0.13 + comment*0.3\n",
    "    return data\n",
    "\n",
    "print(sorted(goods, key=my_sorted))\n",
    "    "
   ]
  },
  {
   "cell_type": "code",
   "execution_count": 125,
   "metadata": {},
   "outputs": [
    {
     "name": "stdout",
     "output_type": "stream",
     "text": [
      "[{'name': 'good3', 'price': 500, 'sales': 3000, 'starts': 3, 'comments': 2000}, {'name': 'good4', 'price': 600, 'sales': 200, 'starts': 2, 'comments': 600}, {'name': 'good5', 'price': 700, 'sales': 500, 'starts': 1, 'comments': 200}, {'name': 'good2', 'price': 300, 'sales': 120, 'starts': 4, 'comments': 500}, {'name': 'good1', 'price': 200, 'sales': 100, 'starts': 5, 'comments': 100}]\n"
     ]
    }
   ],
   "source": [
    "r = sorted(goods, key=lambda x:x[\"price\"]*0.4 + x[\"sales\"]*0.17 + x[\"starts\"]*0.13 + x[\"comments\"]*0.3, reverse=True)\n",
    "print(r)"
   ]
  },
  {
   "cell_type": "code",
   "execution_count": null,
   "metadata": {},
   "outputs": [],
   "source": []
  }
 ],
 "metadata": {
  "kernelspec": {
   "display_name": "Python 3",
   "language": "python",
   "name": "python3"
  },
  "language_info": {
   "codemirror_mode": {
    "name": "ipython",
    "version": 3
   },
   "file_extension": ".py",
   "mimetype": "text/x-python",
   "name": "python",
   "nbconvert_exporter": "python",
   "pygments_lexer": "ipython3",
   "version": "3.7.0"
  }
 },
 "nbformat": 4,
 "nbformat_minor": 2
}
