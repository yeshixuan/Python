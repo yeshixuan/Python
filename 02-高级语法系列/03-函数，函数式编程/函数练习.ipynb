{
 "cells": [
  {
   "cell_type": "markdown",
   "metadata": {},
   "source": [
    "# 函数式编程\n",
    "- 高阶函数\n",
    "- 返回函数\n",
    "- 匿名函数\n",
    "- 装饰器\n",
    "- 偏函数"
   ]
  },
  {
   "cell_type": "code",
   "execution_count": 2,
   "metadata": {},
   "outputs": [
    {
     "name": "stdout",
     "output_type": "stream",
     "text": [
      "AAAAAAAAAAAAA\n"
     ]
    }
   ],
   "source": [
    "# lambda表达式\n",
    "# 小函数举例\n",
    "def printA():\n",
    "    print(\"AAAAAAAAAAAAA\")\n",
    "\n",
    "printA()"
   ]
  },
  {
   "cell_type": "code",
   "execution_count": 4,
   "metadata": {},
   "outputs": [
    {
     "data": {
      "text/plain": [
       "300"
      ]
     },
     "execution_count": 4,
     "metadata": {},
     "output_type": "execute_result"
    }
   ],
   "source": [
    "# lambda表达式的用法\n",
    "# 1. 以lambda开头\n",
    "# 2. 紧跟一定的参数（如果有的话）\n",
    "# 3. 参数后用冒号和表达式主题隔开\n",
    "# 4. 只是一个表达式，所以没有return\n",
    "\n",
    "#计算一个数字的100倍\n",
    "# 因为就一个表达式，所以没有renturn \n",
    "\n",
    "num = lambda x: x * 100\n",
    "num(3)"
   ]
  },
  {
   "cell_type": "code",
   "execution_count": 7,
   "metadata": {},
   "outputs": [
    {
     "data": {
      "text/plain": [
       "431"
      ]
     },
     "execution_count": 7,
     "metadata": {},
     "output_type": "execute_result"
    }
   ],
   "source": [
    "stm2 = lambda x,y,z: x + y*10 + z*100\n",
    "stm2(1,3,4)"
   ]
  },
  {
   "cell_type": "markdown",
   "metadata": {},
   "source": [
    "高阶函数：把函数作为参数使用的函数"
   ]
  },
  {
   "cell_type": "code",
   "execution_count": 9,
   "metadata": {},
   "outputs": [
    {
     "name": "stdout",
     "output_type": "stream",
     "text": [
      "In funA\n"
     ]
    }
   ],
   "source": [
    "# 函数名称就是一个变量\n",
    "def funA():\n",
    "    print(\"In funA\")\n",
    "    \n",
    "funB = funA\n",
    "funB()"
   ]
  },
  {
   "cell_type": "markdown",
   "metadata": {},
   "source": [
    "- 函数名称是变量\n",
    "- funB和funA只是名称不一样而已\n",
    "- 既然是变量，则应该可以被当做参数传入另一个函数"
   ]
  },
  {
   "cell_type": "code",
   "execution_count": 13,
   "metadata": {},
   "outputs": [
    {
     "name": "stdout",
     "output_type": "stream",
     "text": [
      "2700\n",
      "2700\n"
     ]
    }
   ],
   "source": [
    "# 高阶函数举例\n",
    "# funA是普通函数，返回一个传入数字的100倍的数字\n",
    "\n",
    "def funA(n):\n",
    "    return n*100\n",
    "\n",
    "# 再写一个函数，把传入参数乘以300倍，利用高阶函数\n",
    "def funB(n):\n",
    "    # 最终想返回300n\n",
    "    return funA(n)*3\n",
    "print(funB(9))\n",
    "\n",
    "\n",
    "# 写一个高阶函数\n",
    "def funC(n, f):\n",
    "    # 假定函数是把n扩大100倍\n",
    "    return f(n)*3\n",
    "\n",
    "print(funC(9, funA))\n",
    "\n"
   ]
  },
  {
   "cell_type": "code",
   "execution_count": 14,
   "metadata": {},
   "outputs": [
    {
     "name": "stdout",
     "output_type": "stream",
     "text": [
      "5400\n"
     ]
    }
   ],
   "source": [
    "def funA(n):\n",
    "    return n*200\n",
    "\n",
    "def fun(n,f):\n",
    "    return f(n)*3\n",
    "print(fun(9,funA))"
   ]
  },
  {
   "cell_type": "code",
   "execution_count": 32,
   "metadata": {},
   "outputs": [
    {
     "name": "stdout",
     "output_type": "stream",
     "text": [
      "[0, 10, 20, 30, 40, 50, 60, 70, 80, 90]\n",
      "<class 'map'>\n",
      "0 100 200 300 400 500 600 700 800 900 []\n"
     ]
    }
   ],
   "source": [
    "# map举例\n",
    "# 有一个列表，相对列表里的每一个袁术乘以10，并得到新的列表\n",
    "l1 = [x*10 for x in range(10) ]\n",
    "print(l1)\n",
    "\n",
    "\n",
    "# 利用map实现\n",
    "def mulTen(n):\n",
    "    return n*10\n",
    "# l2 = mulTen(l1)\n",
    "\n",
    "# help(map)\n",
    "l3 = map(mulTen,l1)\n",
    "# map类型是一个可迭代的结构，所以可以使用for遍历\n",
    "print(type(l3))\n",
    "for i in l3:\n",
    "    print(i, end=\" \")\n",
    "    \n",
    "\n",
    "# 以下列表生成式得到的结果是空，why?\n",
    "l4 = [i for i in l3]   \n",
    "print(l4)\n"
   ]
  },
  {
   "cell_type": "code",
   "execution_count": 33,
   "metadata": {},
   "outputs": [],
   "source": [
    "# reduce 归并，缩减，把一个可迭代对象最后归并成一个结果\n",
    "# 对于作为参数的 函数有要求：必须有两个参数，必须返回结果\n",
    "# reduce([1,2,3,4,5])==f(f(f(f(1,2),3),4),5)\n",
    "# reduce 需要导入functools包"
   ]
  },
  {
   "cell_type": "code",
   "execution_count": 34,
   "metadata": {},
   "outputs": [
    {
     "name": "stdout",
     "output_type": "stream",
     "text": [
      "21\n"
     ]
    }
   ],
   "source": [
    "from functools import reduce\n",
    "\n",
    "# 定义一个操作函数\n",
    "# 加入操作函数值相加\n",
    "def myAdd(x, y):\n",
    "    return x + y\n",
    "\n",
    "# 对于列表 [1,2,3,4,5,6] 执行myAdd的reduce操作\n",
    "rst = reduce(myAdd,[1,2,3,4,5,6])\n",
    "print(rst)"
   ]
  },
  {
   "cell_type": "code",
   "execution_count": 38,
   "metadata": {},
   "outputs": [
    {
     "name": "stdout",
     "output_type": "stream",
     "text": [
      "<class 'filter'>\n",
      "<filter object at 0x000001DB6EF0EC88>\n",
      "[4, 2, 6, 456, 4, 4, 56, 6, 8, 8]\n"
     ]
    }
   ],
   "source": [
    "# filter(f,data),f是过滤函数，data是数据\n",
    "# 对于一个列表，对其进行过滤，偶数组成一个新列表\n",
    "# 需要定义过滤函数\n",
    "# 过滤函数要求有输入，返回布尔值\n",
    "\n",
    "def isEven(a):\n",
    "    return a%2==0\n",
    "l = [3,3,4,2,5,6,456,7,7,3,3,4,4,56,6,7,8,8,9,345]\n",
    "\n",
    "rst = filter(isEven, l)\n",
    "# 返回的filter内是一个可迭代对象\n",
    "print(type(rst))\n",
    "print(rst)\n",
    "\n",
    "print([i for i in rst])"
   ]
  },
  {
   "cell_type": "code",
   "execution_count": 41,
   "metadata": {},
   "outputs": [
    {
     "name": "stdout",
     "output_type": "stream",
     "text": [
      "[2, 3, 4, 23, 23, 34, 45, 54, 234]\n"
     ]
    }
   ],
   "source": [
    "# 排序的案例 sorted, reverse是否从大到小，默认是False，也就是从小到大\n",
    "a = [23,4,23,34,54,234,45,2,3]\n",
    "# a1 = sorted(a, reverse=True)\n",
    "a1 = sorted(a)\n",
    "print(a1)"
   ]
  },
  {
   "cell_type": "code",
   "execution_count": 43,
   "metadata": {},
   "outputs": [
    {
     "name": "stdout",
     "output_type": "stream",
     "text": [
      "[456, 234, 32, 7, 3, -34, -52]\n"
     ]
    }
   ],
   "source": [
    "# 排序案例2, key是排序的依据\n",
    "\n",
    "a = [-34,32,234,456,7,3,-52]\n",
    "# 按照绝对值进行排序\n",
    "# abs是求绝对值的意思\n",
    "# 即按照绝对值的倒叙排列\n",
    "# a1 = sorted(a, key=abs, reverse=True)\n",
    "a1 = sorted(a, reverse=True)\n",
    "print(a1)"
   ]
  },
  {
   "cell_type": "code",
   "execution_count": 54,
   "metadata": {},
   "outputs": [
    {
     "name": "stdout",
     "output_type": "stream",
     "text": [
      "['2fw2sfsq', 'Ddfew', 'Owser2f', 'adef', 'sfsf', '是wxangx']\n",
      "['2fw2sfsq', 'adef', 'Ddfew', 'Owser2f', 'sfsf', '是wxangx']\n"
     ]
    }
   ],
   "source": [
    "# sorted案例 从小到大 数字<大写<小写<中文 \n",
    "\n",
    "astr = [\"sfsf\",\"adef\",\"Ddfew\",\"是wxangx\",\"Owser2f\",\"2fw2sfsq\"]\n",
    "\n",
    "str1 = sorted(astr)\n",
    "print(str1)\n",
    "\n",
    "# str2 = sorted(astr, reverse=True)\n",
    "# print(str2)\n",
    "\n",
    "str3 = sorted(astr, key=str.lower)#大小写不敏感\n",
    "print(str3)"
   ]
  },
  {
   "cell_type": "code",
   "execution_count": 59,
   "metadata": {},
   "outputs": [
    {
     "name": "stdout",
     "output_type": "stream",
     "text": [
      "In myF\n",
      "None\n"
     ]
    }
   ],
   "source": [
    "def myF(a):\n",
    "    print(\"In myF\")\n",
    "    return None\n",
    "\n",
    "# m = myF(8)\n",
    "# print(m)\n",
    "\n",
    "print(myF(0))"
   ]
  },
  {
   "cell_type": "code",
   "execution_count": 60,
   "metadata": {},
   "outputs": [],
   "source": [
    "# 函数作为返回值返回，被返回的函数在函数内定义\n",
    "\n",
    "def myF2():\n",
    "    def myF3():\n",
    "        print(\"In myF3\")\n",
    "        return 3\n",
    "    return myF3"
   ]
  },
  {
   "cell_type": "code",
   "execution_count": 71,
   "metadata": {},
   "outputs": [
    {
     "name": "stdout",
     "output_type": "stream",
     "text": [
      "<class 'function'>\n",
      "xxxxxxxxxxxx\n",
      "In myF3\n",
      "3\n"
     ]
    }
   ],
   "source": [
    "# 使用上面定义\n",
    "# 调用myF2，返回一个myF3，赋值给m\n",
    "m = myF2() # m是一个函数\n",
    "print(type(m))\n",
    "print(\"xxxxxxxxxxxx\")\n",
    "\n",
    "n = m()\n",
    "print(n)\n"
   ]
  },
  {
   "cell_type": "code",
   "execution_count": 72,
   "metadata": {},
   "outputs": [],
   "source": [
    "# 复杂一点的返回函数的例子\n",
    "# args:参数列表\n",
    "# 1. myF4定义函数，返回内部定义的函数myF5\n",
    "# 2. myF5使用了外部变量，这个便是myF4的参数\n",
    "\n",
    "def myF4(*args):\n",
    "    def myF5():\n",
    "        rst = 0\n",
    "        for n in args:\n",
    "            rst += n\n",
    "        return rst\n",
    "    return myF5"
   ]
  },
  {
   "cell_type": "code",
   "execution_count": 74,
   "metadata": {},
   "outputs": [
    {
     "data": {
      "text/plain": [
       "45726"
      ]
     },
     "execution_count": 74,
     "metadata": {},
     "output_type": "execute_result"
    }
   ],
   "source": [
    "f5 = myF4(1,3,4,5,3,4,24,35,45645,2)\n",
    "f5()"
   ]
  },
  {
   "cell_type": "code",
   "execution_count": 75,
   "metadata": {},
   "outputs": [
    {
     "data": {
      "text/plain": [
       "150"
      ]
     },
     "execution_count": 75,
     "metadata": {},
     "output_type": "execute_result"
    }
   ],
   "source": [
    "f6 = myF4(10,3,56,78,3)\n",
    "f6()"
   ]
  },
  {
   "cell_type": "code",
   "execution_count": 77,
   "metadata": {},
   "outputs": [
    {
     "name": "stdout",
     "output_type": "stream",
     "text": [
      "9\n",
      "9\n",
      "9\n"
     ]
    }
   ],
   "source": [
    "# myF4是一个标准的闭包结构\n",
    "# 闭包常见坑\n",
    "def count():\n",
    "    # 定义列表，列表中存放的是定义的含糊\n",
    "    fs = []\n",
    "    for i in range(1,4):\n",
    "        # 定义了一个函数f\n",
    "        # f是一个闭包结构\n",
    "        def f():\n",
    "            return i*i\n",
    "        fs.append(f)\n",
    "    return fs\n",
    "f1,f2,f3 = count()\n",
    "print(f1())\n",
    "print(f2())\n",
    "print(f3())"
   ]
  },
  {
   "cell_type": "code",
   "execution_count": 78,
   "metadata": {},
   "outputs": [
    {
     "name": "stdout",
     "output_type": "stream",
     "text": [
      "1\n",
      "4\n",
      "9\n"
     ]
    }
   ],
   "source": [
    "# 结果都是9，返回闭包时，返回函数不能应用任何循环变量\n",
    "# 解决方法：在创造一个函数，用该函数的参数板顶循环变量的当前值，无论该循环变量以后如何更改，已经板顶的函数参数值不再改变\n",
    "def count2():\n",
    "    def f(j):\n",
    "        def g():\n",
    "            return j*j\n",
    "        return g\n",
    "    fs = []\n",
    "    for i in range(1,4):\n",
    "        fs.append(f(i))\n",
    "    return fs\n",
    "\n",
    "f1,f2,f3 = count2()\n",
    "\n",
    "print(f1())\n",
    "print(f2())\n",
    "print(f3())"
   ]
  },
  {
   "cell_type": "code",
   "execution_count": 81,
   "metadata": {},
   "outputs": [
    {
     "name": "stdout",
     "output_type": "stream",
     "text": [
      "1\n",
      "4\n",
      "9\n"
     ]
    }
   ],
   "source": [
    "def count():\n",
    "    def f(j):\n",
    "        def g():\n",
    "            return j*j\n",
    "        return g\n",
    "    fs = []\n",
    "    for i in range(1,4):\n",
    "        fs.append(f(i))\n",
    "    return fs\n",
    "\n",
    "f1,f2,f3 = count()\n",
    "print(f1())\n",
    "print(f2())\n",
    "print(f3())"
   ]
  },
  {
   "cell_type": "markdown",
   "metadata": {},
   "source": [
    "# 装饰器"
   ]
  },
  {
   "cell_type": "code",
   "execution_count": 83,
   "metadata": {},
   "outputs": [
    {
     "name": "stdout",
     "output_type": "stream",
     "text": [
      "Hello World!\n"
     ]
    }
   ],
   "source": [
    "def hello():\n",
    "    print(\"Hello World!\")\n",
    "    \n",
    "hello()"
   ]
  },
  {
   "cell_type": "code",
   "execution_count": 84,
   "metadata": {},
   "outputs": [
    {
     "name": "stdout",
     "output_type": "stream",
     "text": [
      "Hello World!\n"
     ]
    }
   ],
   "source": [
    "f = hello\n",
    "f()"
   ]
  },
  {
   "cell_type": "code",
   "execution_count": 87,
   "metadata": {},
   "outputs": [
    {
     "name": "stdout",
     "output_type": "stream",
     "text": [
      "2041970830600\n",
      "2041970830600\n",
      "hello\n",
      "hello\n"
     ]
    }
   ],
   "source": [
    "# f和hello是一个函数\n",
    "print(id(f))\n",
    "print(id(hello))\n",
    "\n",
    "print(f.__name__)\n",
    "print(hello.__name__)"
   ]
  },
  {
   "cell_type": "code",
   "execution_count": 88,
   "metadata": {},
   "outputs": [],
   "source": [
    "# 现在有新的需求：\n",
    "# 对hello功能进行扩展，每次打印hello之前答应系统当前时间\n",
    "# 是实现这个功能又不能改变现有代码\n",
    "# 使用装饰器"
   ]
  },
  {
   "cell_type": "code",
   "execution_count": 89,
   "metadata": {},
   "outputs": [
    {
     "data": {
      "text/plain": [
       "<function __main__.printTime.<locals>.wrapper(*args, **kwargs)>"
      ]
     },
     "execution_count": 89,
     "metadata": {},
     "output_type": "execute_result"
    }
   ],
   "source": [
    "# 任务：\n",
    "# 对hello函数进行功能扩展，每次执行hello玩打印当前时间\n",
    "import time\n",
    "\n",
    "#高阶函数，以函数作为参数\n",
    "def printTime(f):\n",
    "    def wrapper(*args,**kwargs):\n",
    "        print(\"Time:\", time.ctime())\n",
    "        return f(*args, **kwargs)\n",
    "    return wrapper\n"
   ]
  },
  {
   "cell_type": "code",
   "execution_count": 93,
   "metadata": {},
   "outputs": [
    {
     "name": "stdout",
     "output_type": "stream",
     "text": [
      "Time: Wed Mar 20 21:34:14 2019\n",
      "hello world\n"
     ]
    }
   ],
   "source": [
    "# 上面定义了装饰器，使用的时候需要使用@,此符号是python的语法糖\n",
    "@printTime\n",
    "def hello():\n",
    "    print(\"hello world\")\n",
    "    \n",
    "hello()"
   ]
  },
  {
   "cell_type": "code",
   "execution_count": 94,
   "metadata": {},
   "outputs": [
    {
     "name": "stdout",
     "output_type": "stream",
     "text": [
      "Time: Wed Mar 20 21:38:43 2019\n",
      "你好\n"
     ]
    }
   ],
   "source": [
    "def printTime(f):\n",
    "    def wrapper(*args, **kwargs):\n",
    "        print(\"Time:\",time.ctime())\n",
    "        return f(*args, **kwargs)\n",
    "    return wrapper\n",
    "\n",
    "@printTime\n",
    "def hello():\n",
    "    print(\"你好\")\n",
    "    \n",
    "hello()"
   ]
  },
  {
   "cell_type": "code",
   "execution_count": 95,
   "metadata": {},
   "outputs": [
    {
     "name": "stdout",
     "output_type": "stream",
     "text": [
      "Time: Wed Mar 20 21:41:14 2019\n",
      "你装饰我了吗\n"
     ]
    }
   ],
   "source": [
    "# 装饰器的好处是，一旦定义，则可以装饰任意函数\n",
    "# 一旦北汽装饰，则把装饰器的功能直接添加到定义函数的功能呢上\n",
    "\n",
    "@printTime\n",
    "def hello2():\n",
    "    print(\"你装饰我了吗\")\n",
    "    \n",
    "hello2()"
   ]
  },
  {
   "cell_type": "code",
   "execution_count": 103,
   "metadata": {},
   "outputs": [
    {
     "name": "stdout",
     "output_type": "stream",
     "text": [
      "Time: Wed Mar 20 21:47:18 2019\n",
      "我是手动执行的\n"
     ]
    }
   ],
   "source": [
    "# 上面对函数的装饰使用了系统定义的语法糖\n",
    "# 现在开始手动执行装饰器\n",
    "# 先定义函数\n",
    "\n",
    "def hello3():\n",
    "    print(\"我是手动执行的\")\n",
    "    \n",
    "# hello3()\n",
    "\n",
    "def printTime1(f):\n",
    "    def wrapper(*args, **kwargs):\n",
    "        print(\"Time:\", time.ctime())\n",
    "        return f(*args, **kwargs)\n",
    "    return wrapper\n",
    "\n",
    "# hello3 = printTime1(hello3)\n",
    "# hello3()\n",
    "\n",
    "f = printTime(hello3)\n",
    "f()"
   ]
  },
  {
   "cell_type": "markdown",
   "metadata": {},
   "source": [
    "# 偏函数"
   ]
  },
  {
   "cell_type": "code",
   "execution_count": 107,
   "metadata": {},
   "outputs": [
    {
     "data": {
      "text/plain": [
       "2700506"
      ]
     },
     "execution_count": 107,
     "metadata": {},
     "output_type": "execute_result"
    }
   ],
   "source": [
    "# 把字符串转化成十进制数字\n",
    "# int(\"34342323.34\")\n",
    "int(\"34342323\")\n",
    "int(232323.2323)\n",
    "\n",
    "# 求八进制的字符串12345， 表示成十进制的数字是多少\n",
    "int(\"12232332\", base=8)"
   ]
  },
  {
   "cell_type": "code",
   "execution_count": 110,
   "metadata": {},
   "outputs": [
    {
     "name": "stdout",
     "output_type": "stream",
     "text": [
      "273\n",
      "73\n",
      "7\n"
     ]
    }
   ],
   "source": [
    "sl = 0x111\n",
    "print(m)\n",
    "\n",
    "b = 0o111\n",
    "print(b)\n",
    "\n",
    "e = 0b111\n",
    "print(e)"
   ]
  },
  {
   "cell_type": "code",
   "execution_count": 114,
   "metadata": {},
   "outputs": [
    {
     "data": {
      "text/plain": [
       "353366"
      ]
     },
     "execution_count": 114,
     "metadata": {},
     "output_type": "execute_result"
    }
   ],
   "source": [
    "# 新建一个函数，此函数是默认输入的字符串是16进制数字\n",
    "# 把此字符串返回十进制的数字\n",
    "def int16(x, base=16):\n",
    "    return int(x, base)\n",
    "int16(\"56456\")"
   ]
  },
  {
   "cell_type": "code",
   "execution_count": 115,
   "metadata": {},
   "outputs": [
    {
     "data": {
      "text/plain": [
       "63"
      ]
     },
     "execution_count": 115,
     "metadata": {},
     "output_type": "execute_result"
    }
   ],
   "source": [
    "def int2(x,base=2):\n",
    "    return int(x, base)\n",
    "int2(\"111111\")"
   ]
  },
  {
   "cell_type": "code",
   "execution_count": 120,
   "metadata": {},
   "outputs": [
    {
     "data": {
      "text/plain": [
       "511"
      ]
     },
     "execution_count": 120,
     "metadata": {},
     "output_type": "execute_result"
    }
   ],
   "source": [
    "def int8(x, base=8):\n",
    "    return int(x, base)\n",
    "int8(\"777\")"
   ]
  },
  {
   "cell_type": "code",
   "execution_count": 122,
   "metadata": {},
   "outputs": [
    {
     "data": {
      "text/plain": [
       "4095"
      ]
     },
     "execution_count": 122,
     "metadata": {},
     "output_type": "execute_result"
    }
   ],
   "source": [
    "# 偏函数 参数固定的函数，相当于一个有特定参数的函数体\n",
    "# functools.partial的作用是把一个函数某些参数固定，返回一个新的函数\n",
    "import functools\n",
    "# 实现上面int16的功能\n",
    "int16 = functools.partial(int, base=16)\n",
    "int16(\"fff\")"
   ]
  },
  {
   "cell_type": "markdown",
   "metadata": {},
   "source": [
    "高级函数之zip函数：把两个可迭代内容生成一个可迭代的tuple元素类型组成的内容"
   ]
  },
  {
   "cell_type": "code",
   "execution_count": 130,
   "metadata": {},
   "outputs": [
    {
     "name": "stdout",
     "output_type": "stream",
     "text": [
      "<class 'zip'>\n",
      "<zip object at 0x000001DB6EF4B448>\n",
      "(1, 11, 111)\n",
      "(2, 22, 222)\n",
      "(3, 33, 333)\n",
      "(4, 44, 444)\n"
     ]
    }
   ],
   "source": [
    "# zip案例\n",
    "l1 = [1,2,3,4,5,6,7]\n",
    "l2 = [11,22,33,44,55,66]\n",
    "l3 = [111,222,333,444]\n",
    "\n",
    "z = zip(l1,l2,l3)\n",
    "print(type(z))\n",
    "print(z)\n",
    "\n",
    "for i in z:\n",
    "    print(i)"
   ]
  },
  {
   "cell_type": "code",
   "execution_count": 134,
   "metadata": {},
   "outputs": [
    {
     "name": "stdout",
     "output_type": "stream",
     "text": [
      "('xuchengxiaoxue', 89)\n",
      "('wangxiaojin', 78)\n",
      "('liqian', 56)\n",
      "[]\n",
      "[0, 1, 2, 3, 4]\n"
     ]
    }
   ],
   "source": [
    "l1 = [\"xuchengxiaoxue\", \"wangxiaojin\",\"liqian\"]\n",
    "l2 = [89,78,56]\n",
    "\n",
    "z = zip(l1, l2)\n",
    "\n",
    "for i in z:\n",
    "    print(i)\n",
    "    \n",
    "l3 = [i for i in z]\n",
    "print(l3)#为什么会是空\n",
    "l4 = [i for i in range(5)]\n",
    "print(l4)"
   ]
  },
  {
   "cell_type": "markdown",
   "metadata": {},
   "source": [
    "enumerate：跟zip功能比较像，对可迭代对象里的每一个元素，配上一个索引，然后索引和内容构成tuple类型"
   ]
  },
  {
   "cell_type": "code",
   "execution_count": 136,
   "metadata": {},
   "outputs": [
    {
     "name": "stdout",
     "output_type": "stream",
     "text": [
      "[(0, 11), (1, 22), (2, 33)]\n"
     ]
    }
   ],
   "source": [
    "# enumerate案例1\n",
    "l1 = [11,22,33]\n",
    "\n",
    "em = enumerate(l1)\n",
    "\n",
    "l2 = [i for i in em]\n",
    "print(l2)"
   ]
  },
  {
   "cell_type": "code",
   "execution_count": 137,
   "metadata": {},
   "outputs": [
    {
     "name": "stdout",
     "output_type": "stream",
     "text": [
      "[(100, 11), (101, 22), (102, 33)]\n"
     ]
    }
   ],
   "source": [
    "em = enumerate(l1, start=100)\n",
    "l2 = [i for i in em]\n",
    "print(l2)"
   ]
  },
  {
   "cell_type": "markdown",
   "metadata": {},
   "source": [
    "# collections模块\n",
    "- namedtuple\n",
    "    - tuple类型\n",
    "    - 是一个可命名的tuple\n",
    "- deque"
   ]
  },
  {
   "cell_type": "code",
   "execution_count": 143,
   "metadata": {},
   "outputs": [
    {
     "name": "stdout",
     "output_type": "stream",
     "text": [
      "11\n"
     ]
    }
   ],
   "source": [
    "import collections\n",
    "m = collections.namedtuple(\"Point\",[\"x\",\"y\",\"z\"])\n",
    "# n = m(11,22,33)\n",
    "# print(n.x)\n",
    "# print(n.y)\n",
    "n = m(11,22,33)\n",
    "print(n.x)"
   ]
  },
  {
   "cell_type": "code",
   "execution_count": 146,
   "metadata": {},
   "outputs": [
    {
     "name": "stdout",
     "output_type": "stream",
     "text": [
      "Circle(x=100, y=150, r=50)\n",
      "<class '__main__.Circle'>\n"
     ]
    },
    {
     "data": {
      "text/plain": [
       "True"
      ]
     },
     "execution_count": 146,
     "metadata": {},
     "output_type": "execute_result"
    }
   ],
   "source": [
    "Circle = collections.namedtuple(\"Circle\",[\"x\",\"y\",\"r\"])\n",
    "\n",
    "c = Circle(100,150,50)\n",
    "print(c)\n",
    "print(type(c))\n",
    "\n",
    "#想检查一下namedtuple到底属于谁的子类\n",
    "isinstance(c,tuple)"
   ]
  },
  {
   "cell_type": "markdown",
   "metadata": {},
   "source": [
    "# deque:\n",
    "- 比较方便地解决了频繁删除插入带来的效率问题"
   ]
  },
  {
   "cell_type": "code",
   "execution_count": 164,
   "metadata": {},
   "outputs": [
    {
     "name": "stdout",
     "output_type": "stream",
     "text": [
      "deque(['a', 'b', 'c'])\n",
      "deque(['x', 'a', 'b', 'c'])\n",
      "deque(['x', 'a', 'b', 'c', 'y'])\n",
      "y\n",
      "None\n",
      "deque(['x', 'a', 'c'])\n",
      "deque([])\n"
     ]
    }
   ],
   "source": [
    "from collections import deque\n",
    "\n",
    "q = deque([\"a\",\"b\",\"c\"])\n",
    "print(q)\n",
    "\n",
    "q.appendleft(\"x\")\n",
    "print(q)\n",
    "q.append(\"y\")\n",
    "print(q)\n",
    "print(q.pop())\n",
    "print(q.remove(\"b\"))\n",
    "print(q)\n",
    "# del q\n",
    "q.clear()\n",
    "print(q)"
   ]
  },
  {
   "cell_type": "markdown",
   "metadata": {},
   "source": [
    "# defaultdict\n",
    "- 当直接读取dict不存在的属性时，直接返回默认值"
   ]
  },
  {
   "cell_type": "code",
   "execution_count": 168,
   "metadata": {},
   "outputs": [
    {
     "name": "stdout",
     "output_type": "stream",
     "text": [
      "1\n",
      "None\n"
     ]
    }
   ],
   "source": [
    "d1 = {\"one\":1,\"two\":2,\"three\":3}\n",
    "print(d1[\"one\"])\n",
    "# print(d1[\"t\"])\n",
    "print(d1.get(\"t\"))"
   ]
  },
  {
   "cell_type": "code",
   "execution_count": 174,
   "metadata": {},
   "outputs": [
    {
     "name": "stdout",
     "output_type": "stream",
     "text": [
      "2\n",
      "yby\n"
     ]
    }
   ],
   "source": [
    "from collections import defaultdict\n",
    "\n",
    "func = lambda: \"yby\"\n",
    "d2 = defaultdict(func)\n",
    "\n",
    "d2[\"one\"] = 1\n",
    "d2[\"two\"] = 2\n",
    "\n",
    "print(d2[\"two\"])\n",
    "print(d2[\"four\"])"
   ]
  },
  {
   "cell_type": "markdown",
   "metadata": {},
   "source": [
    "# Counter\n",
    "- 统计字符串个数"
   ]
  },
  {
   "cell_type": "code",
   "execution_count": 177,
   "metadata": {},
   "outputs": [
    {
     "name": "stdout",
     "output_type": "stream",
     "text": [
      "Counter({'e': 3, 'f': 3, 's': 3, 'a': 2, 'b': 2, 'c': 2, 'd': 2, 'g': 1, 'D': 1})\n"
     ]
    }
   ],
   "source": [
    "from collections import Counter\n",
    "\n",
    "# 为什么下面结果不把abcdefgabcde...作为键值，而是以其中一个字母作为赋值\n",
    "# 需要括号里内容为可迭代\n",
    "c = Counter(\"abcdefgaDcdesfbsfse\")\n",
    "print(c)"
   ]
  },
  {
   "cell_type": "code",
   "execution_count": 178,
   "metadata": {},
   "outputs": [
    {
     "name": "stdout",
     "output_type": "stream",
     "text": [
      "Counter({'liudana': 2, 'love': 2, 'live': 1})\n"
     ]
    }
   ],
   "source": [
    "s = [\"liudana\",\"love\",\"live\",\"love\",\"liudana\"]\n",
    "c = Counter(s)\n",
    "print(c)"
   ]
  },
  {
   "cell_type": "code",
   "execution_count": null,
   "metadata": {},
   "outputs": [],
   "source": []
  }
 ],
 "metadata": {
  "kernelspec": {
   "display_name": "Python 3",
   "language": "python",
   "name": "python3"
  },
  "language_info": {
   "codemirror_mode": {
    "name": "ipython",
    "version": 3
   },
   "file_extension": ".py",
   "mimetype": "text/x-python",
   "name": "python",
   "nbconvert_exporter": "python",
   "pygments_lexer": "ipython3",
   "version": "3.7.0"
  }
 },
 "nbformat": 4,
 "nbformat_minor": 2
}
