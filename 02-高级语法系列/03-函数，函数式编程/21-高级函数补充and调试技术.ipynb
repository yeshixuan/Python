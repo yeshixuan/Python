{
 "cells": [
  {
   "cell_type": "markdown",
   "metadata": {},
   "source": [
    "# 给大家补充几个高级函数\n",
    "# zip\n",
    "- 把两个可迭代内容生成一个可迭代的tuple元素组成的内容"
   ]
  },
  {
   "cell_type": "code",
   "execution_count": 4,
   "metadata": {},
   "outputs": [
    {
     "name": "stdout",
     "output_type": "stream",
     "text": [
      "<class 'zip'>\n",
      "<zip object at 0x0000027C13BEAA08>\n",
      "(1, 11)\n",
      "(2, 22)\n",
      "(3, 33)\n",
      "(4, 44)\n",
      "(5, 55)\n"
     ]
    }
   ],
   "source": [
    "# zip案例\n",
    "l1=[1,2,3,4,5]\n",
    "l2=[11,22,33,44,55]\n",
    "\n",
    "z=zip(l1,l2)\n",
    "\n",
    "print(type(z))\n",
    "print(z)\n",
    "\n",
    "for i in z:\n",
    "    print(i)"
   ]
  },
  {
   "cell_type": "code",
   "execution_count": 10,
   "metadata": {},
   "outputs": [
    {
     "name": "stdout",
     "output_type": "stream",
     "text": [
      "('wangwang', 89)\n",
      "('mingyue', 23)\n",
      "('yyt', 78)\n",
      "[]\n"
     ]
    }
   ],
   "source": [
    "l1=[\"wangwang\",\"mingyue\",\"yyt\"]\n",
    "l2=[89,23,78]\n",
    "\n",
    "z=zip(l1,l2)\n",
    "for i in z:\n",
    "    print(i)\n",
    "\n",
    "# 考虑下面结果，为什么为空（可迭代的？）\n",
    "l3=[i for i in z]\n",
    "print(l3)"
   ]
  },
  {
   "cell_type": "markdown",
   "metadata": {},
   "source": [
    "# func内部的全局变量需要调用func释放出来 所以上面不行下面行(不知道说的啥)"
   ]
  },
  {
   "cell_type": "markdown",
   "metadata": {},
   "source": [
    "# enumerate\n",
    "- 跟zip功能很想\n",
    "- 对可迭代对象里的每一个元素，配上一个索引，然后索引和内容构成tuple类型"
   ]
  },
  {
   "cell_type": "code",
   "execution_count": 12,
   "metadata": {},
   "outputs": [
    {
     "name": "stdout",
     "output_type": "stream",
     "text": [
      "[(0, 11), (1, 22), (2, 33), (3, 44), (4, 55)]\n"
     ]
    }
   ],
   "source": [
    "# enumerate案例1\n",
    "l1=[11,22,33,44,55]\n",
    "\n",
    "em=enumerate(l1)\n",
    "\n",
    "l2=[i for i in em]\n",
    "print(l2)"
   ]
  },
  {
   "cell_type": "code",
   "execution_count": 14,
   "metadata": {},
   "outputs": [
    {
     "name": "stdout",
     "output_type": "stream",
     "text": [
      "[(100, 11), (101, 22), (102, 33), (103, 44), (104, 55)]\n"
     ]
    }
   ],
   "source": [
    "em=enumerate(l1,start=100)\n",
    "\n",
    "l2=[i for i in em]\n",
    "print(l2)"
   ]
  },
  {
   "cell_type": "markdown",
   "metadata": {},
   "source": [
    "# collections模块\n",
    "- namedtuple\n",
    "- deque"
   ]
  },
  {
   "cell_type": "markdown",
   "metadata": {},
   "source": [
    "### namedtuple\n",
    "- tuple类型\n",
    "- 是一个可命名的tuple\n"
   ]
  },
  {
   "cell_type": "code",
   "execution_count": 22,
   "metadata": {},
   "outputs": [
    {
     "name": "stdout",
     "output_type": "stream",
     "text": [
      "11\n",
      "22\n"
     ]
    }
   ],
   "source": [
    "import collections\n",
    "#help(collections.namedtuple)\n",
    "Point=collections.namedtuple(\"Point\",[\"x\",\"y\"])\n",
    "p=Point(11,22)\n",
    "print(p.x)\n",
    "print(p[1])"
   ]
  },
  {
   "cell_type": "code",
   "execution_count": 26,
   "metadata": {},
   "outputs": [
    {
     "name": "stdout",
     "output_type": "stream",
     "text": [
      "Circle(x=100, y=150, r=50)\n",
      "<class '__main__.Circle'>\n"
     ]
    },
    {
     "data": {
      "text/plain": [
       "True"
      ]
     },
     "execution_count": 26,
     "metadata": {},
     "output_type": "execute_result"
    }
   ],
   "source": [
    "Circle=collections.namedtuple(\"Circle\",[\"x\",\"y\",\"r\"])\n",
    "\n",
    "c=Circle(100,150,50)\n",
    "print(c)\n",
    "print(type(c))\n",
    "\n",
    "#想坚持一下namedtuple到底属于谁的子类\n",
    "isinstance(c,tuple)"
   ]
  },
  {
   "cell_type": "markdown",
   "metadata": {},
   "source": [
    "# deque\n",
    "- 比较方便地解决了频繁删除插入所带来的效率问题"
   ]
  },
  {
   "cell_type": "code",
   "execution_count": 32,
   "metadata": {},
   "outputs": [
    {
     "name": "stdout",
     "output_type": "stream",
     "text": [
      "deque(['a', 'b', 'c'])\n",
      "deque(['a', 'b', 'c', 'd'])\n",
      "deque(['x', 'a', 'b', 'c', 'd'])\n"
     ]
    }
   ],
   "source": [
    "from collections import deque\n",
    "\n",
    "q=deque([\"a\",\"b\",\"c\"])\n",
    "print(q)\n",
    "\n",
    "q.append(\"d\")\n",
    "print(q)\n",
    "\n",
    "q.appendleft(\"x\")\n",
    "print(q)\n"
   ]
  },
  {
   "cell_type": "markdown",
   "metadata": {},
   "source": [
    "# defaultdict\n",
    "- 当直接读取dict不存在的属性时，直接返回默认值"
   ]
  },
  {
   "cell_type": "code",
   "execution_count": 36,
   "metadata": {},
   "outputs": [
    {
     "name": "stdout",
     "output_type": "stream",
     "text": [
      "1\n"
     ]
    }
   ],
   "source": [
    "d1={\"one\":1,\"two\":2,\"three\":3}\n",
    "print(d1[\"one\"])"
   ]
  },
  {
   "cell_type": "code",
   "execution_count": 45,
   "metadata": {},
   "outputs": [
    {
     "name": "stdout",
     "output_type": "stream",
     "text": [
      "1\n",
      "溜达那\n"
     ]
    }
   ],
   "source": [
    "#help(defaultdict)\n",
    "from collections import defaultdict\n",
    "#lambda表达式，直接返回字符串\n",
    "func=lambda:\"溜达那\"\n",
    "d2=defaultdict(func)\n",
    "\n",
    "d2[\"one\"]=1\n",
    "d2[\"two\"]=2\n",
    "print(d2['one'])\n",
    "print(d2[\"four\"])"
   ]
  },
  {
   "cell_type": "markdown",
   "metadata": {},
   "source": [
    "# Counter\n",
    "- 统计字符串格式"
   ]
  },
  {
   "cell_type": "code",
   "execution_count": 50,
   "metadata": {},
   "outputs": [
    {
     "name": "stdout",
     "output_type": "stream",
     "text": [
      "Counter({'l': 8, 's': 5, 'f': 4, 'j': 4, 'k': 3, 'w': 3, 'r': 3, 'e': 2, 'm': 2, 'd': 1, 'z': 1, 'n': 1})\n"
     ]
    }
   ],
   "source": [
    "from collections import Counter\n",
    "\n",
    "# 为什么下面结果不把sfsfssfs...作为键值，而是以其中没一个字母作为键值\n",
    "# 需要括号里内容为可迭代\n",
    "c=Counter(\"kklksflsjfwlrjwlrjlwemldzsfnmlsflesrj\")\n",
    "print(c)"
   ]
  },
  {
   "cell_type": "code",
   "execution_count": 51,
   "metadata": {},
   "outputs": [
    {
     "name": "stdout",
     "output_type": "stream",
     "text": [
      "Counter({'love': 4, 'liudanan': 1, 'wangxiaojming': 1})\n"
     ]
    }
   ],
   "source": [
    "s=[\"liudanan\",\"love\",\"love\",'love','love','wangxiaojming']\n",
    "c=Counter(s)\n",
    "\n",
    "print(c)"
   ]
  },
  {
   "cell_type": "code",
   "execution_count": 49,
   "metadata": {},
   "outputs": [],
   "source": [
    "#help(collections.Counter)"
   ]
  },
  {
   "cell_type": "markdown",
   "metadata": {},
   "source": [
    "# 调试技术\n",
    "- 调试流程：单元测试->集成测试->交测试部\n",
    "- 分类：\n",
    "    - 静态调试：\n",
    "    - 动态调试：\n",
    "# pdb调试\n",
    "- 推荐文章\n",
    "    -【】...\n",
    "- pdb:python 调试库\n",
    "\n",
    "# pycharm调试\n",
    "- run/debug模式\n",
    "- 案例01.py\n",
    "\n",
    "- 断点：程序的某一行，程序在debug模式下，遇到断点就会暂停\n",
    "\n",
    "# 单元测试\n",
    "- 推荐文档\n",
    "   -舒服舒服舒服舒服"
   ]
  }
 ],
 "metadata": {
  "kernelspec": {
   "display_name": "Python 3",
   "language": "python",
   "name": "python3"
  },
  "language_info": {
   "codemirror_mode": {
    "name": "ipython",
    "version": 3
   },
   "file_extension": ".py",
   "mimetype": "text/x-python",
   "name": "python",
   "nbconvert_exporter": "python",
   "pygments_lexer": "ipython3",
   "version": "3.7.0"
  }
 },
 "nbformat": 4,
 "nbformat_minor": 2
}
