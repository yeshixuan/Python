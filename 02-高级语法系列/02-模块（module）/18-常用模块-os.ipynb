{
 "cells": [
  {
   "cell_type": "markdown",
   "metadata": {},
   "source": [
    "# os- 操作系统相关\n",
    "- 跟操作系统相关，主要是文件操作\n",
    "- 与系统相关的操作，主要包括三个模块\n",
    "   - os，操作系统目录相关\n",
    "   - os.path，系统路径相关操作\n",
    "   - shutil，高级文件操作，目录树的操作，文件赋值，删除，移动\n",
    "- 路径：\n",
    "   - 绝对路径：总是从根目录上开始\n",
    "   - 相对路径：基本以当前环境为开始的一个相对的地方"
   ]
  },
  {
   "cell_type": "markdown",
   "metadata": {},
   "source": [
    "# os模块\n"
   ]
  },
  {
   "cell_type": "code",
   "execution_count": 2,
   "metadata": {},
   "outputs": [],
   "source": [
    "import os"
   ]
  },
  {
   "cell_type": "code",
   "execution_count": 3,
   "metadata": {},
   "outputs": [
    {
     "name": "stdout",
     "output_type": "stream",
     "text": [
      "D:\\python 全栈\\第一遍复习\\02-高级语法系列\\02-模块\n"
     ]
    }
   ],
   "source": [
    "# getcwd() 获取当前的工作目录\n",
    "# 格式：os.getcwd()\n",
    "# 返回值：当前工作目录的字符串\n",
    "# 当前工作目录就是程序在进行相关文件相关操作，默认查找的目录\n",
    "\n",
    "mydir=os.getcwd()\n",
    "print(mydir)"
   ]
  },
  {
   "cell_type": "code",
   "execution_count": 8,
   "metadata": {},
   "outputs": [
    {
     "name": "stdout",
     "output_type": "stream",
     "text": [
      "C:\\Users\\yebiyun\n"
     ]
    }
   ],
   "source": [
    "# chdir()改变当前的工作目录\n",
    "# change directory\n",
    "# 格式：os.chdir(路径)\n",
    "# 返回值：无\n",
    "\n",
    "os.chdir(\"C:/Users/yebiyun\")\n",
    "mydir=os.getcwd()\n",
    "print(mydir)"
   ]
  },
  {
   "cell_type": "code",
   "execution_count": 9,
   "metadata": {},
   "outputs": [
    {
     "name": "stdout",
     "output_type": "stream",
     "text": [
      "['.3T', '.anaconda', '.astropy', '.bash_history', '.conda', '.condarc', '.gitconfig', '.idea', '.idlerc', '.ipynb_checkpoints', '.ipython', '.jupyter', '.matplotlib', '.minttyrc', '.npmrc', '.PyCharm2018.3', '.rdm', '.spyder-py3', '.ssh', '.viminfo', '.VirtualBox', '39-25-http协议实战.ipynb', '3D Objects', 'AppData', 'Application Data', 'Contacts', 'Cookies', 'dana', 'Desktop', 'Documents', 'Downloads', 'Downloads.pem', 'e17', 'exec', 'Favorites', 'forstu', 'home', 'IntelGraphicsProfiles', 'Links', 'Local Settings', 'MicrosoftEdgeBackups', 'Music', 'My Documents', 'mygit', 'NetHood', 'node_modules', 'NTUSER.DAT', 'ntuser.dat.LOG1', 'ntuser.dat.LOG2', 'NTUSER.DAT{8ebe95f6-3dcb-11e8-a9d9-7cfe90913f50}.TxR.0.regtrans-ms', 'NTUSER.DAT{8ebe95f6-3dcb-11e8-a9d9-7cfe90913f50}.TxR.1.regtrans-ms', 'NTUSER.DAT{8ebe95f6-3dcb-11e8-a9d9-7cfe90913f50}.TxR.2.regtrans-ms', 'NTUSER.DAT{8ebe95f6-3dcb-11e8-a9d9-7cfe90913f50}.TxR.blf', 'NTUSER.DAT{8ebe95f7-3dcb-11e8-a9d9-7cfe90913f50}.TM.blf', 'NTUSER.DAT{8ebe95f7-3dcb-11e8-a9d9-7cfe90913f50}.TMContainer00000000000000000001.regtrans-ms', 'NTUSER.DAT{8ebe95f7-3dcb-11e8-a9d9-7cfe90913f50}.TMContainer00000000000000000002.regtrans-ms', 'ntuser.ini', 'OneDrive', 'Pictures', 'PrintHood', 'Python全栈', 'Recent', 'Saved Games', 'Searches', 'SendTo', 'Spider', 'Templates', 'Videos', '「开始」菜单', '列表不允许用for循环删除.ipynb']\n"
     ]
    }
   ],
   "source": [
    "# listdir() 获取一个目录中所有子目录和文件的名称列表\n",
    "# 格式：os.listdir（路径）\n",
    "# 返回值：所有子目录和文件名称的列比哦啊\n",
    "\n",
    "ld=os.listdir()\n",
    "print(ld)\n"
   ]
  },
  {
   "cell_type": "code",
   "execution_count": 6,
   "metadata": {},
   "outputs": [
    {
     "name": "stdout",
     "output_type": "stream",
     "text": [
      "None\n"
     ]
    }
   ],
   "source": [
    "# makedirs() 递归创建文件夹\n",
    "# 格式：os.makedirs(递归路径)\n",
    "# 返回值：无\n",
    "#  递归路径：多个文件夹层层包含的路径就是地柜路径 例如a/b/c...\n",
    "\n",
    "tst=os.makedirs(\"dana\")\n",
    "print(tst)"
   ]
  },
  {
   "cell_type": "code",
   "execution_count": 43,
   "metadata": {},
   "outputs": [
    {
     "name": "stdout",
     "output_type": "stream",
     "text": [
      "1\n",
      "1\n"
     ]
    }
   ],
   "source": [
    "# system（） 运行系统shell命令\n",
    "# 格式：os.system(系统命令)\n",
    "# 返回值：打开一个shell或者终端界面\n",
    "# 一般推荐使用subprocess代替\n",
    "\n",
    "# ls是列出当前文件和文件夹的系统命令\n",
    "rst=os.system(\"ls\")\n",
    "print(rst)\n",
    "\n",
    "# 在当前目录下创建一个dana.haha的文件，成功时返回0，但是我返回1，没有陈宫\n",
    "rst=os.system(\"touch dana.haha\")\n",
    "print(rst)\n"
   ]
  },
  {
   "cell_type": "code",
   "execution_count": 45,
   "metadata": {},
   "outputs": [
    {
     "name": "stdout",
     "output_type": "stream",
     "text": [
      "E:\\Anaconoda;E:\\Anaconoda\\Library\\mingw-w64\\bin;E:\\Anaconoda\\Library\\usr\\bin;E:\\Anaconoda\\Library\\bin;E:\\Anaconoda\\Scripts;E:\\Anaconoda\\bin;E:\\Anaconoda;E:\\Anaconoda\\Library\\mingw-w64\\bin;E:\\Anaconoda\\Library\\usr\\bin;E:\\Anaconoda\\Library\\bin;E:\\Anaconoda\\Scripts;E:\\Anaconoda;E:\\Anaconoda\\Library\\mingw-w64\\bin;E:\\Anaconoda\\Library\\usr\\bin;E:\\Anaconoda\\Library\\bin;E:\\Anaconoda\\Scripts;C:\\Program Files (x86)\\Google\\Chrome\\Application;C:\\Users\\yebiyun\\AppData\\Local\\Programs\\Python\\Python36\\Scripts\\;C:\\Users\\yebiyun\\AppData\\Local\\Programs\\Python\\Python36\\;C:\\Users\\yebiyun\\AppData\\Local\\Microsoft\\WindowsApps;\n"
     ]
    }
   ],
   "source": [
    "# getenv() 获取指定的系统环境变量值\n",
    "# 相应的还有putenv\n",
    "#  格式：os.getenv(\"黄精变量名\")\n",
    "# 返回值：指定环境变量名对应值\n",
    "rst=os.getenv(\"PATH\")\n",
    "print(rst)"
   ]
  },
  {
   "cell_type": "code",
   "execution_count": 46,
   "metadata": {},
   "outputs": [],
   "source": [
    "# exit()退出当前程序\n",
    "# 格式：exit()\n",
    "# 返回值：无"
   ]
  },
  {
   "cell_type": "markdown",
   "metadata": {},
   "source": [
    "# 值部分\n",
    "- os.curdir:curretn dir，当前目录\n",
    "- os.pardir:parent dir，父目录\n",
    "- os.sep:当前系统的路径分隔符\n",
    "   - windows:\"\\\"\n",
    "   - linux:\"/\"\n",
    "- os.linesep:当前系统的换行符号\n",
    "   - windows:\\r\\n\n",
    "   - unix,linux,macos:\"\\n\"\n",
    "- os.name:当前系统名称\n",
    "   - windows:nt\n",
    "   - mac,unix,linux:posix\n",
    "\n"
   ]
  },
  {
   "cell_type": "code",
   "execution_count": 48,
   "metadata": {},
   "outputs": [
    {
     "name": "stdout",
     "output_type": "stream",
     "text": [
      "..\n",
      ".\n"
     ]
    }
   ],
   "source": [
    "print(os.pardir)\n",
    "print(os.curdir)"
   ]
  },
  {
   "cell_type": "code",
   "execution_count": 51,
   "metadata": {},
   "outputs": [
    {
     "name": "stdout",
     "output_type": "stream",
     "text": [
      "\\\n",
      "\r\n",
      "\n"
     ]
    }
   ],
   "source": [
    "print(os.sep)\n",
    "print(os.linesep)"
   ]
  },
  {
   "cell_type": "code",
   "execution_count": 53,
   "metadata": {},
   "outputs": [
    {
     "name": "stdout",
     "output_type": "stream",
     "text": [
      "/home/tlxy/dana\n"
     ]
    }
   ],
   "source": [
    "# 在路径相关的操作中，不要手动拼写地址，因为手动拼写的路径可能不具有移植性\n",
    "path=\"/home/tlxy\"+\"/\"+\"dana\"\n",
    "print(path)"
   ]
  },
  {
   "cell_type": "code",
   "execution_count": 55,
   "metadata": {},
   "outputs": [
    {
     "name": "stdout",
     "output_type": "stream",
     "text": [
      "nt\n"
     ]
    }
   ],
   "source": [
    "# linux操作系统的名词是posix\n",
    "# windows是nt\n",
    "print(os.name)"
   ]
  },
  {
   "cell_type": "markdown",
   "metadata": {},
   "source": [
    "# os.path模块，跟路径相关的模块"
   ]
  },
  {
   "cell_type": "code",
   "execution_count": 58,
   "metadata": {},
   "outputs": [],
   "source": [
    "import os.path as op"
   ]
  },
  {
   "cell_type": "code",
   "execution_count": 60,
   "metadata": {},
   "outputs": [
    {
     "name": "stdout",
     "output_type": "stream",
     "text": [
      "C:\\Users\\yebiyun\n"
     ]
    }
   ],
   "source": [
    "# abspath（）将路径转化为绝对路径\n",
    "# abselute 绝对\n",
    "# 格式：os.path.abspath(\"路径\")\n",
    "# 返回值：路径的绝对路径形式\n",
    "\n",
    "#help(os.path.abspath)\n",
    "#linux中\n",
    "# .点号，代表当前目录\n",
    "#..双点，代表父目录\n",
    "absp=op.abspath(\".\")\n",
    "print(absp)"
   ]
  },
  {
   "cell_type": "code",
   "execution_count": 63,
   "metadata": {},
   "outputs": [
    {
     "name": "stdout",
     "output_type": "stream",
     "text": [
      "tlxy\n",
      "dana.haha\n"
     ]
    }
   ],
   "source": [
    "# basename（） 获取路径中的文件名部分\n",
    "# 格式：os.path.basename(路径)\n",
    "# 返回值：文件名字符串\n",
    "\n",
    "bn=op.basename(\"/home/tlxy\")\n",
    "print(bn)\n",
    "bn=op.basename(\"/home/tlxy/dana.haha\")\n",
    "print(bn)"
   ]
  },
  {
   "cell_type": "code",
   "execution_count": 71,
   "metadata": {},
   "outputs": [
    {
     "name": "stdout",
     "output_type": "stream",
     "text": [
      "\\home\\lxy\\dana.haha\n"
     ]
    }
   ],
   "source": [
    "# join() 将多个路径拼合并成一个路径\n",
    "# 格式：os.path.join(路径1，路径2...)\n",
    "# 返回值：组合之后的新路径字符串\n",
    "\n",
    "#help(op.join)\n",
    "bd=\"\\home\\lxy\"\n",
    "fn=\"dana.haha\"\n",
    "p=op.join(bd,fn)\n",
    "print(p)"
   ]
  },
  {
   "cell_type": "code",
   "execution_count": 81,
   "metadata": {},
   "outputs": [
    {
     "name": "stdout",
     "output_type": "stream",
     "text": [
      "('home\\tlxy', 'dana.haha')\n",
      "\\home\tlxy dana.haha\n"
     ]
    }
   ],
   "source": [
    "# split() 将路径切割为文件夹部分和当前文件部分\n",
    "# 格式：os.path.split(路径)\n",
    "# 返回值：路径和文件名组成的远足\n",
    "\n",
    "t=op.split(\"home\\tlxy\\dana.haha\")\n",
    "print(t)\n",
    "\n",
    "d,p=op.split(\"\\home\\tlxy\\dana.haha\")\n",
    "print(d,p)"
   ]
  },
  {
   "cell_type": "code",
   "execution_count": 94,
   "metadata": {},
   "outputs": [
    {
     "data": {
      "text/plain": [
       "True"
      ]
     },
     "execution_count": 94,
     "metadata": {},
     "output_type": "execute_result"
    }
   ],
   "source": [
    "# isdir() 检测是否是目录  只要是is开头，返回值一定是布尔值\n",
    "# 格式：os.path.isdir(路径\n",
    "# 返回值：布尔值\n",
    "\n",
    "rst=op.isdir(\"/Users/yebiyun\")\n",
    "rst"
   ]
  },
  {
   "cell_type": "code",
   "execution_count": 100,
   "metadata": {},
   "outputs": [
    {
     "data": {
      "text/plain": [
       "True"
      ]
     },
     "execution_count": 100,
     "metadata": {},
     "output_type": "execute_result"
    }
   ],
   "source": [
    "#exists()检测文件或者目录是否存在\n",
    "# 格式：os.path.exists(路径)\n",
    "# 返回值：布尔值\n",
    "\n",
    "e=op.exists(\"/Users/yebiyun\")\n",
    "e"
   ]
  },
  {
   "cell_type": "markdown",
   "metadata": {},
   "source": [
    "# shutil 模块\n"
   ]
  },
  {
   "cell_type": "code",
   "execution_count": 102,
   "metadata": {},
   "outputs": [],
   "source": [
    "import shutil"
   ]
  },
  {
   "cell_type": "code",
   "execution_count": 105,
   "metadata": {},
   "outputs": [
    {
     "name": "stdout",
     "output_type": "stream",
     "text": [
      "C:\\Users\\yebiyun\\haha.haha\n"
     ]
    }
   ],
   "source": [
    "# copy()复制文件\n",
    "# 格式：shutil.copy(来源路径，目标路径)\n",
    "# 返回值：返回目标路径\n",
    "# 拷贝的同时可以给文件重命名\n",
    "\n",
    "rst=shutil.copy(\"C:\\\\Users\\yebiyun\\dana.haha\",\"C:\\\\Users\\yebiyun\\haha.haha\")\n",
    "print(rst)"
   ]
  },
  {
   "cell_type": "code",
   "execution_count": 106,
   "metadata": {},
   "outputs": [],
   "source": [
    "# copy2()赋值文件，保留元数据（文件信息）\n",
    "# 格式：shutil.copy2(来源路径，目标路径)\n",
    "# 返回值：返回目标路径\n",
    "# 注意： copy和copy2的唯一区别在于copy2赋值文件是尽量保留刘元数据\n",
    "\n"
   ]
  },
  {
   "cell_type": "code",
   "execution_count": 109,
   "metadata": {},
   "outputs": [
    {
     "name": "stdout",
     "output_type": "stream",
     "text": [
      "C:\\Users\\yebiyun\\haha.haha\n"
     ]
    }
   ],
   "source": [
    "# copyfile()将一个文件中的内容赋值到另外一个文件当中\n",
    "# 格式：shutil.copyfile(\"原路径\"，\"目标路径\")\n",
    "# 返回值：无\n",
    "\n",
    "#help(shutil.copyfile)\n",
    "rst=shutil.copyfile(\"C:\\\\Users\\yebiyun\\dana.haha\",\"C:\\\\Users\\yebiyun\\haha.haha\")\n",
    "print(rst)"
   ]
  },
  {
   "cell_type": "code",
   "execution_count": 122,
   "metadata": {},
   "outputs": [
    {
     "ename": "Error",
     "evalue": "Destination path 'C:\\Users\\yebiyun\\dana\\dana.haha' already exists",
     "output_type": "error",
     "traceback": [
      "\u001b[1;31m---------------------------------------------------------------------------\u001b[0m",
      "\u001b[1;31mError\u001b[0m                                     Traceback (most recent call last)",
      "\u001b[1;32m<ipython-input-122-127062e71fff>\u001b[0m in \u001b[0;36m<module>\u001b[1;34m()\u001b[0m\n\u001b[0;32m      2\u001b[0m \u001b[1;31m# 格式：shutil.omove(原路径，目标路径)\u001b[0m\u001b[1;33m\u001b[0m\u001b[1;33m\u001b[0m\u001b[0m\n\u001b[0;32m      3\u001b[0m \u001b[1;31m# 返回值：目标路径\u001b[0m\u001b[1;33m\u001b[0m\u001b[1;33m\u001b[0m\u001b[0m\n\u001b[1;32m----> 4\u001b[1;33m \u001b[0mrst\u001b[0m\u001b[1;33m=\u001b[0m\u001b[0mshutil\u001b[0m\u001b[1;33m.\u001b[0m\u001b[0mmove\u001b[0m\u001b[1;33m(\u001b[0m\u001b[1;34m\"C:\\\\Users\\yebiyun\\dana.haha\"\u001b[0m\u001b[1;33m,\u001b[0m\u001b[1;34m\"C:\\\\Users\\yebiyun\\dana\"\u001b[0m\u001b[1;33m)\u001b[0m\u001b[1;33m\u001b[0m\u001b[0m\n\u001b[0m\u001b[0;32m      5\u001b[0m \u001b[0mprint\u001b[0m\u001b[1;33m(\u001b[0m\u001b[0mrst\u001b[0m\u001b[1;33m)\u001b[0m\u001b[1;33m\u001b[0m\u001b[0m\n",
      "\u001b[1;32mE:\\Anaconoda\\lib\\shutil.py\u001b[0m in \u001b[0;36mmove\u001b[1;34m(src, dst, copy_function)\u001b[0m\n\u001b[0;32m    553\u001b[0m         \u001b[0mreal_dst\u001b[0m \u001b[1;33m=\u001b[0m \u001b[0mos\u001b[0m\u001b[1;33m.\u001b[0m\u001b[0mpath\u001b[0m\u001b[1;33m.\u001b[0m\u001b[0mjoin\u001b[0m\u001b[1;33m(\u001b[0m\u001b[0mdst\u001b[0m\u001b[1;33m,\u001b[0m \u001b[0m_basename\u001b[0m\u001b[1;33m(\u001b[0m\u001b[0msrc\u001b[0m\u001b[1;33m)\u001b[0m\u001b[1;33m)\u001b[0m\u001b[1;33m\u001b[0m\u001b[0m\n\u001b[0;32m    554\u001b[0m         \u001b[1;32mif\u001b[0m \u001b[0mos\u001b[0m\u001b[1;33m.\u001b[0m\u001b[0mpath\u001b[0m\u001b[1;33m.\u001b[0m\u001b[0mexists\u001b[0m\u001b[1;33m(\u001b[0m\u001b[0mreal_dst\u001b[0m\u001b[1;33m)\u001b[0m\u001b[1;33m:\u001b[0m\u001b[1;33m\u001b[0m\u001b[0m\n\u001b[1;32m--> 555\u001b[1;33m             \u001b[1;32mraise\u001b[0m \u001b[0mError\u001b[0m\u001b[1;33m(\u001b[0m\u001b[1;34m\"Destination path '%s' already exists\"\u001b[0m \u001b[1;33m%\u001b[0m \u001b[0mreal_dst\u001b[0m\u001b[1;33m)\u001b[0m\u001b[1;33m\u001b[0m\u001b[0m\n\u001b[0m\u001b[0;32m    556\u001b[0m     \u001b[1;32mtry\u001b[0m\u001b[1;33m:\u001b[0m\u001b[1;33m\u001b[0m\u001b[0m\n\u001b[0;32m    557\u001b[0m         \u001b[0mos\u001b[0m\u001b[1;33m.\u001b[0m\u001b[0mrename\u001b[0m\u001b[1;33m(\u001b[0m\u001b[0msrc\u001b[0m\u001b[1;33m,\u001b[0m \u001b[0mreal_dst\u001b[0m\u001b[1;33m)\u001b[0m\u001b[1;33m\u001b[0m\u001b[0m\n",
      "\u001b[1;31mError\u001b[0m: Destination path 'C:\\Users\\yebiyun\\dana\\dana.haha' already exists"
     ]
    }
   ],
   "source": [
    "# move()移动文件/文件夹\n",
    "# 格式：shutil.omove(原路径，目标路径)\n",
    "# 返回值：目标路径\n",
    "rst=shutil.move(\"C:\\\\Users\\yebiyun\\dana.haha\",\"C:\\\\Users\\yebiyun\\dana\")\n",
    "print(rst)"
   ]
  },
  {
   "cell_type": "markdown",
   "metadata": {},
   "source": [
    "# 归档和压缩\n",
    "- 归档：把多个文件或者文件夹合并到一个文件当中\n",
    "- 压缩：用算法把多个文件或者文件夹无损或者有损合并到一个文件当中\n"
   ]
  },
  {
   "cell_type": "code",
   "execution_count": 133,
   "metadata": {},
   "outputs": [
    {
     "name": "stdout",
     "output_type": "stream",
     "text": [
      "C:\\Users\\yebiyun\\tuling1.zip\n"
     ]
    }
   ],
   "source": [
    "# make_archive() 归档操作\n",
    "# 格式：shutil.make_archive(\"归档之后的目录和文件名\"，“后缀”，“需要归档的文件夹”)\n",
    "# 返回值：归档之后的地址\n",
    "\n",
    "\n",
    "#help(shutil.make_archive)\n",
    "#是想得到一个叫做tuling.zip的归档文件\n",
    "rst=shutil.make_archive(\"C:\\\\Users\\\\yebiyun\\\\tuling1\",\"zip\",\"C:\\\\Users\\\\yebiyun\\\\dana\")\n",
    "print(rst)"
   ]
  },
  {
   "cell_type": "code",
   "execution_count": 146,
   "metadata": {},
   "outputs": [
    {
     "name": "stdout",
     "output_type": "stream",
     "text": [
      "None\n"
     ]
    }
   ],
   "source": [
    "# unpack_archive 捷豹操作\n",
    "# 格式：shutil.unpack_archive(\"归档文件地址\"，\"解包之后的地址\")\n",
    "# 返回值：None\n",
    "\n",
    "rst=shutil.unpack_archive(\"C:\\\\Users\\\\yebiyun\\\\tuling1.zip\",\"C:\\\\Users\\\\yebiyun\\\\tuling2\")\n",
    "print(rst)"
   ]
  },
  {
   "cell_type": "markdown",
   "metadata": {},
   "source": [
    "# zip-压缩包\n",
    "- 模块名称叫zipfile"
   ]
  },
  {
   "cell_type": "code",
   "execution_count": 147,
   "metadata": {},
   "outputs": [],
   "source": [
    "import zipfile"
   ]
  },
  {
   "cell_type": "code",
   "execution_count": 152,
   "metadata": {},
   "outputs": [],
   "source": [
    "# zipfile.ZipFile(file[,mode[,compression[,allowZip64]]])\n",
    "# 创建一个ZipFile对象，表示一个zip文件，参数file表示文件的路径或类文件对象（file-like object）:参数mode指示打开zip文件的模式，默认值为‘r’,表示读已经存在的zip文件，也可以为‘w’或‘a’,‘w’,表示新建一个zip文档或覆盖一个已经存在的zip文档，‘a’表示将数据附加到一个现存的zip文档中。参数compression表示在写zip文档是使用的压缩方法，它的值可以是zipfile.ZIP_STORED或zipfile.ZIP_DEFLATED.如果要操作的zip文件大小超过2G，应该将allowZip64设置为True.\n",
    "\n",
    "zf=zipfile.ZipFile(\"C:\\\\Users\\\\yebiyun\\\\tuling.zip\")\n"
   ]
  },
  {
   "cell_type": "code",
   "execution_count": 155,
   "metadata": {},
   "outputs": [
    {
     "name": "stdout",
     "output_type": "stream",
     "text": [
      "<ZipInfo filename='dana.haha' compress_type=deflate filemode='-rw-rw-rw-' file_size=52 compress_size=47>\n"
     ]
    }
   ],
   "source": [
    "#ZipFile.getinfo(name):\n",
    "# 获取zip文档内指定文件的信息。返回一个zipfile.ZipInfo对象，它包括文件的详细信息。将在下面 具体介绍该对象\n",
    "\n",
    "rst=zf.getinfo(\"dana.haha\")\n",
    "print(rst)"
   ]
  },
  {
   "cell_type": "code",
   "execution_count": 157,
   "metadata": {},
   "outputs": [
    {
     "name": "stdout",
     "output_type": "stream",
     "text": [
      "['dana.haha', 'haha.haha']\n"
     ]
    }
   ],
   "source": [
    "# ZipFile.namelist()\n",
    "# 获取zip文档内所有文件的名称列表\n",
    "\n",
    "nl=zf.namelist()\n",
    "print(nl)\n"
   ]
  },
  {
   "cell_type": "code",
   "execution_count": 162,
   "metadata": {},
   "outputs": [
    {
     "name": "stdout",
     "output_type": "stream",
     "text": [
      "None\n"
     ]
    }
   ],
   "source": [
    "#ZipFile.extractall([path[,members[,pwd]]])\n",
    "#  解压zip文档中的所有文件到当前目录。参数members的默认值为zip文档内的所有文件名称列表，也可以自己设置，选择要解压的文件名称。\n",
    "# 返回值:None\n",
    "rst=zf.extractall(r\"C:\\Users\\yebiyun\\dana2\")\n",
    "print(rst)"
   ]
  },
  {
   "cell_type": "markdown",
   "metadata": {},
   "source": [
    "# random\n",
    "- 随机数\n",
    "- 所有的随机模块都是伪随机"
   ]
  },
  {
   "cell_type": "code",
   "execution_count": 164,
   "metadata": {},
   "outputs": [],
   "source": [
    "import random"
   ]
  },
  {
   "cell_type": "code",
   "execution_count": 180,
   "metadata": {},
   "outputs": [
    {
     "name": "stdout",
     "output_type": "stream",
     "text": [
      "0.8133704719072058\n",
      "1\n"
     ]
    }
   ],
   "source": [
    "# random()获取0-1之间的随机小数\n",
    "# 格式：random.random()\n",
    "# 返回值：随机0-1之间的小数\n",
    "\n",
    "print(random.random())\n",
    "\n",
    "#作业：利用random函数，注意是函数，生成0-100之间的整数\n",
    "'''\n",
    "num=random.randint(0,100\n",
    "print(num)\n",
    " '''   "
   ]
  },
  {
   "cell_type": "code",
   "execution_count": 184,
   "metadata": {},
   "outputs": [
    {
     "name": "stdout",
     "output_type": "stream",
     "text": [
      "['0haha', '1haha', '2haha', '3haha', '4haha', '5haha', '6haha', '7haha', '8haha', '9haha']\n",
      "2haha\n"
     ]
    }
   ],
   "source": [
    "# choice()随机返回序列中的某个值\n",
    "# 格式：random.choice(序列)\n",
    "# 返回值：序列中的某个值\n",
    "\n",
    "l=[str(i)+\"haha\" for i in range(10)]\n",
    "print(l)\n",
    "rst=random.choice(l)\n",
    "print(rst)"
   ]
  },
  {
   "cell_type": "code",
   "execution_count": 198,
   "metadata": {},
   "outputs": [
    {
     "name": "stdout",
     "output_type": "stream",
     "text": [
      "[0, 1, 2, 3, 4, 5, 6, 7, 8, 9]\n",
      "[8, 3, 0, 5, 2, 4, 9, 1, 7, 6]\n"
     ]
    }
   ],
   "source": [
    "# shuffle()随机打乱列表\n",
    "# 格式：random.shuffle(列表)\n",
    "# 返回值：None\n",
    "\n",
    "l1=[i for i in range(10)]\n",
    "print(l1)\n",
    "\n",
    "random.shuffle(l1)\n",
    "print(l1)\n",
    "\n",
    "#help(random.shuffle)"
   ]
  },
  {
   "cell_type": "code",
   "execution_count": 201,
   "metadata": {},
   "outputs": [
    {
     "name": "stdout",
     "output_type": "stream",
     "text": [
      "16\n"
     ]
    }
   ],
   "source": [
    "# randint(a,b) a,b都包含\n",
    "print(random.randint(0,100))"
   ]
  }
 ],
 "metadata": {
  "kernelspec": {
   "display_name": "Python 3",
   "language": "python",
   "name": "python3"
  },
  "language_info": {
   "codemirror_mode": {
    "name": "ipython",
    "version": 3
   },
   "file_extension": ".py",
   "mimetype": "text/x-python",
   "name": "python",
   "nbconvert_exporter": "python",
   "pygments_lexer": "ipython3",
   "version": "3.7.0"
  }
 },
 "nbformat": 4,
 "nbformat_minor": 2
}
