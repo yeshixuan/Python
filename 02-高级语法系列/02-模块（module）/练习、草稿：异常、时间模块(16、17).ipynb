{
 "cells": [
  {
   "cell_type": "markdown",
   "metadata": {},
   "source": [
    "KeyError\n",
    "TypeError\n",
    "ValueError\n",
    "ZeroDivisionError\n",
    "SyntaxError"
   ]
  },
  {
   "cell_type": "code",
   "execution_count": null,
   "metadata": {},
   "outputs": [],
   "source": [
    "l = [1,2,3,4,5]\n",
    "# 常常犯的除零错误\n",
    "\n",
    "num = int(input(\"Plz input you num:\"))\n",
    "print(100/num)"
   ]
  },
  {
   "cell_type": "code",
   "execution_count": 2,
   "metadata": {},
   "outputs": [],
   "source": [
    "try:\n",
    "    pass\n",
    "except KeyError:\n",
    "    pass\n",
    "except:\n",
    "    pass\n",
    "else:#没有异常时执行\n",
    "    pass\n",
    "finally:#不管是否异常都会执行\n",
    "    pass"
   ]
  },
  {
   "cell_type": "code",
   "execution_count": 1,
   "metadata": {},
   "outputs": [
    {
     "name": "stdout",
     "output_type": "stream",
     "text": [
      "num:3\n",
      "计算结果是33.333333333333336\n"
     ]
    }
   ],
   "source": [
    "# 简单异常案例\n",
    "# 给出提示信息\n",
    "try:\n",
    "    num = int(input(\"num:\"))\n",
    "    rst = 100/num\n",
    "    print(\"计算结果是{}\".format(rst))\n",
    "    # 捕获异常后，把异常实例化，出错信息会在实例中\n",
    "    # 注意一下写法\n",
    "    # 以下语句是捕获ZeroDivisionError异常病实例化实例e\n",
    "except ZeroDivisionError as e:\n",
    "    print(\"你输入的是啥玩意儿\")\n",
    "    print(e)\n",
    "    exit()#退出程序的意思\n"
   ]
  },
  {
   "cell_type": "code",
   "execution_count": 5,
   "metadata": {},
   "outputs": [
    {
     "name": "stdout",
     "output_type": "stream",
     "text": [
      "<class 'ZeroDivisionError'>\n"
     ]
    }
   ],
   "source": [
    "# 在异常类继承关系中，越是子类的异常，越要往前放\n",
    "# 在处理异常的时候，一旦拦截到某一个异常，则不再继续往下查看，直接进行下一个代码\n",
    "# 即有finally则执行finally语句块，否则就执行下一个大的语句"
   ]
  },
  {
   "cell_type": "code",
   "execution_count": 1,
   "metadata": {},
   "outputs": [
    {
     "name": "stdout",
     "output_type": "stream",
     "text": [
      "num:9\n",
      "11.11111111111111\n",
      "我一定会出现的\n"
     ]
    }
   ],
   "source": [
    "try:\n",
    "    num = int(input(\"num:\"))\n",
    "    rst = 100/num\n",
    "    print(rst)\n",
    "except ZeroDivisionError as e:\n",
    "    print(\"你输入的是什么啊\")\n",
    "    print(e)\n",
    "except NameError as e:\n",
    "    print(e)\n",
    "except ValueError as e:\n",
    "    print(\"要输入数字啊\")\n",
    "    print(e)\n",
    "except AttributeError as e:\n",
    "    print(e)\n",
    "    exit()\n",
    "print(\"我一定会出现的\")"
   ]
  },
  {
   "cell_type": "code",
   "execution_count": 4,
   "metadata": {},
   "outputs": [
    {
     "name": "stdout",
     "output_type": "stream",
     "text": [
      "我爱晓雪\n",
      "3.23232323\n",
      "ValueError\n",
      "反正我一定会被执行的\n"
     ]
    }
   ],
   "source": [
    "# raise案例-1\n",
    "try:\n",
    "    print(\"我爱晓雪\")\n",
    "    print(3.23232323)\n",
    "    # 手动引发一个异常\n",
    "    # 注意语法： raise ErrorClassName\n",
    "    raise ValueError\n",
    "    print(\"我没有被执行\")\n",
    "except NameError as e:\n",
    "    print(\"NameError\")\n",
    "except ValueError as e:\n",
    "    print(\"ValueError\")\n",
    "except Exception as e:\n",
    "    print(\"有异常\")\n",
    "finally:\n",
    "    print(\"反正我一定会被执行的\")"
   ]
  },
  {
   "cell_type": "code",
   "execution_count": 6,
   "metadata": {},
   "outputs": [
    {
     "name": "stdout",
     "output_type": "stream",
     "text": [
      "我爱王晓静\n",
      "3.24344545\n",
      "ValueError\n",
      "我肯定会被执行到的\n"
     ]
    }
   ],
   "source": [
    "# raise 案例-2\n",
    "# 自己定义异常\n",
    "# 需要注意：自己定义异常必须是系统异常的子类\n",
    "\n",
    "class YbyError(ValueError):\n",
    "    pass\n",
    "try:\n",
    "    print(\"我爱王晓静\")\n",
    "    print(3.24344545)\n",
    "    # 手动应发一个异常\n",
    "    # 注意语法： raise ErrorClassName\n",
    "    raise YbyError\n",
    "    print(\"还没完呀\")\n",
    "except NameError as e:\n",
    "    print(\"NameError\")\n",
    "except ValueError as e:\n",
    "    print(\"ValueError\")\n",
    "except Exception as e:\n",
    "    print(\"有异常\")\n",
    "finally:\n",
    "    print(\"我肯定会被执行到的\")"
   ]
  },
  {
   "cell_type": "code",
   "execution_count": 12,
   "metadata": {},
   "outputs": [
    {
     "name": "stdout",
     "output_type": "stream",
     "text": [
      "num:3\n",
      "33.333333333333336\n",
      "No Excetion\n",
      "我又来了\n"
     ]
    }
   ],
   "source": [
    "# else 语句案例\n",
    "try:\n",
    "    num = int(input(\"num:\"))\n",
    "    rst = 100/num\n",
    "    print(rst)\n",
    "except Exception as e:\n",
    "    print(e)\n",
    "else:\n",
    "    print(\"No Excetion\")\n",
    "finally:\n",
    "    print(\"我一直都在\")"
   ]
  },
  {
   "cell_type": "code",
   "execution_count": 13,
   "metadata": {},
   "outputs": [
    {
     "ename": "NameError",
     "evalue": "name 'prints' is not defined",
     "output_type": "error",
     "traceback": [
      "\u001b[1;31m---------------------------------------------------------------------------\u001b[0m",
      "\u001b[1;31mNameError\u001b[0m                                 Traceback (most recent call last)",
      "\u001b[1;32m<ipython-input-13-87925c0194ab>\u001b[0m in \u001b[0;36m<module>\u001b[1;34m()\u001b[0m\n\u001b[1;32m----> 1\u001b[1;33m \u001b[0mprints\u001b[0m\u001b[1;33m(\u001b[0m\u001b[1;34m\"hhh\"\u001b[0m\u001b[1;33m)\u001b[0m\u001b[1;33m\u001b[0m\u001b[0m\n\u001b[0m",
      "\u001b[1;31mNameError\u001b[0m: name 'prints' is not defined"
     ]
    }
   ],
   "source": [
    "prints(\"hhh\")"
   ]
  },
  {
   "cell_type": "markdown",
   "metadata": {},
   "source": [
    "calendar\n",
    "time\n",
    "datetime\n",
    "timeit\n",
    "osshutil\n",
    "zip\n",
    "math\n",
    "string\n"
   ]
  },
  {
   "cell_type": "code",
   "execution_count": 14,
   "metadata": {},
   "outputs": [],
   "source": [
    "# calendar和日历相关的模块\n",
    "import calendar"
   ]
  },
  {
   "cell_type": "code",
   "execution_count": 17,
   "metadata": {},
   "outputs": [
    {
     "name": "stdout",
     "output_type": "stream",
     "text": [
      "                                  2017\n",
      "\n",
      "      January                   February                   March\n",
      "Mo Tu We Th Fr Sa Su      Mo Tu We Th Fr Sa Su      Mo Tu We Th Fr Sa Su\n",
      "                   1             1  2  3  4  5             1  2  3  4  5\n",
      " 2  3  4  5  6  7  8       6  7  8  9 10 11 12       6  7  8  9 10 11 12\n",
      " 9 10 11 12 13 14 15      13 14 15 16 17 18 19      13 14 15 16 17 18 19\n",
      "16 17 18 19 20 21 22      20 21 22 23 24 25 26      20 21 22 23 24 25 26\n",
      "23 24 25 26 27 28 29      27 28                     27 28 29 30 31\n",
      "30 31\n",
      "\n",
      "       April                      May                       June\n",
      "Mo Tu We Th Fr Sa Su      Mo Tu We Th Fr Sa Su      Mo Tu We Th Fr Sa Su\n",
      "                1  2       1  2  3  4  5  6  7                1  2  3  4\n",
      " 3  4  5  6  7  8  9       8  9 10 11 12 13 14       5  6  7  8  9 10 11\n",
      "10 11 12 13 14 15 16      15 16 17 18 19 20 21      12 13 14 15 16 17 18\n",
      "17 18 19 20 21 22 23      22 23 24 25 26 27 28      19 20 21 22 23 24 25\n",
      "24 25 26 27 28 29 30      29 30 31                  26 27 28 29 30\n",
      "\n",
      "        July                     August                  September\n",
      "Mo Tu We Th Fr Sa Su      Mo Tu We Th Fr Sa Su      Mo Tu We Th Fr Sa Su\n",
      "                1  2          1  2  3  4  5  6                   1  2  3\n",
      " 3  4  5  6  7  8  9       7  8  9 10 11 12 13       4  5  6  7  8  9 10\n",
      "10 11 12 13 14 15 16      14 15 16 17 18 19 20      11 12 13 14 15 16 17\n",
      "17 18 19 20 21 22 23      21 22 23 24 25 26 27      18 19 20 21 22 23 24\n",
      "24 25 26 27 28 29 30      28 29 30 31               25 26 27 28 29 30\n",
      "31\n",
      "\n",
      "      October                   November                  December\n",
      "Mo Tu We Th Fr Sa Su      Mo Tu We Th Fr Sa Su      Mo Tu We Th Fr Sa Su\n",
      "                   1             1  2  3  4  5                   1  2  3\n",
      " 2  3  4  5  6  7  8       6  7  8  9 10 11 12       4  5  6  7  8  9 10\n",
      " 9 10 11 12 13 14 15      13 14 15 16 17 18 19      11 12 13 14 15 16 17\n",
      "16 17 18 19 20 21 22      20 21 22 23 24 25 26      18 19 20 21 22 23 24\n",
      "23 24 25 26 27 28 29      27 28 29 30               25 26 27 28 29 30 31\n",
      "30 31\n",
      "\n",
      "<class 'str'>\n"
     ]
    }
   ],
   "source": [
    "# calendar:获取一年的日历字符串\n",
    "# 参数\n",
    "# w = 每个日期之间的间隔字符\n",
    "# l = 每周所在用的函数\n",
    "# c = 每个月之间间隔的字符串\n",
    "cal = calendar.calendar(2017)\n",
    "print(cal)\n",
    "print(type(cal))"
   ]
  },
  {
   "cell_type": "code",
   "execution_count": 19,
   "metadata": {},
   "outputs": [
    {
     "name": "stdout",
     "output_type": "stream",
     "text": [
      "Help on method formatyear in module calendar:\n",
      "\n",
      "formatyear(theyear, w=2, l=1, c=6, m=3) method of calendar.TextCalendar instance\n",
      "    Returns a year's calendar as a multi-line string.\n",
      "\n"
     ]
    }
   ],
   "source": [
    "help(calendar.calendar)"
   ]
  },
  {
   "cell_type": "code",
   "execution_count": 25,
   "metadata": {},
   "outputs": [
    {
     "name": "stdout",
     "output_type": "stream",
     "text": [
      "                               2018\n",
      "\n",
      "      January                February                March\n",
      "Mo Tu We Th Fr Sa Su   Mo Tu We Th Fr Sa Su   Mo Tu We Th Fr Sa Su\n",
      " 1  2  3  4  5  6  7             1  2  3  4             1  2  3  4\n",
      " 8  9 10 11 12 13 14    5  6  7  8  9 10 11    5  6  7  8  9 10 11\n",
      "15 16 17 18 19 20 21   12 13 14 15 16 17 18   12 13 14 15 16 17 18\n",
      "22 23 24 25 26 27 28   19 20 21 22 23 24 25   19 20 21 22 23 24 25\n",
      "29 30 31               26 27 28               26 27 28 29 30 31\n",
      "\n",
      "       April                   May                    June\n",
      "Mo Tu We Th Fr Sa Su   Mo Tu We Th Fr Sa Su   Mo Tu We Th Fr Sa Su\n",
      "                   1       1  2  3  4  5  6                1  2  3\n",
      " 2  3  4  5  6  7  8    7  8  9 10 11 12 13    4  5  6  7  8  9 10\n",
      " 9 10 11 12 13 14 15   14 15 16 17 18 19 20   11 12 13 14 15 16 17\n",
      "16 17 18 19 20 21 22   21 22 23 24 25 26 27   18 19 20 21 22 23 24\n",
      "23 24 25 26 27 28 29   28 29 30 31            25 26 27 28 29 30\n",
      "30\n",
      "\n",
      "        July                  August               September\n",
      "Mo Tu We Th Fr Sa Su   Mo Tu We Th Fr Sa Su   Mo Tu We Th Fr Sa Su\n",
      "                   1          1  2  3  4  5                   1  2\n",
      " 2  3  4  5  6  7  8    6  7  8  9 10 11 12    3  4  5  6  7  8  9\n",
      " 9 10 11 12 13 14 15   13 14 15 16 17 18 19   10 11 12 13 14 15 16\n",
      "16 17 18 19 20 21 22   20 21 22 23 24 25 26   17 18 19 20 21 22 23\n",
      "23 24 25 26 27 28 29   27 28 29 30 31         24 25 26 27 28 29 30\n",
      "30 31\n",
      "\n",
      "      October                November               December\n",
      "Mo Tu We Th Fr Sa Su   Mo Tu We Th Fr Sa Su   Mo Tu We Th Fr Sa Su\n",
      " 1  2  3  4  5  6  7             1  2  3  4                   1  2\n",
      " 8  9 10 11 12 13 14    5  6  7  8  9 10 11    3  4  5  6  7  8  9\n",
      "15 16 17 18 19 20 21   12 13 14 15 16 17 18   10 11 12 13 14 15 16\n",
      "22 23 24 25 26 27 28   19 20 21 22 23 24 25   17 18 19 20 21 22 23\n",
      "29 30 31               26 27 28 29 30         24 25 26 27 28 29 30\n",
      "                                              31\n",
      "\n"
     ]
    }
   ],
   "source": [
    "cal = calendar.calendar(2018, w=1, l=0, c=3)\n",
    "print(cal)"
   ]
  },
  {
   "cell_type": "code",
   "execution_count": 26,
   "metadata": {},
   "outputs": [
    {
     "data": {
      "text/plain": [
       "False"
      ]
     },
     "execution_count": 26,
     "metadata": {},
     "output_type": "execute_result"
    }
   ],
   "source": [
    "# isleap:判断莫一年是否是闰年\n",
    "calendar.isleap(2017)"
   ]
  },
  {
   "cell_type": "code",
   "execution_count": 29,
   "metadata": {},
   "outputs": [
    {
     "data": {
      "text/plain": [
       "-2"
      ]
     },
     "execution_count": 29,
     "metadata": {},
     "output_type": "execute_result"
    }
   ],
   "source": [
    "# leapdays:获取指定年份之间闰年的年数\n",
    "calendar.leapdays(1990,2005)\n",
    "calendar.leapdays(2003,1995)"
   ]
  },
  {
   "cell_type": "code",
   "execution_count": 31,
   "metadata": {},
   "outputs": [
    {
     "name": "stdout",
     "output_type": "stream",
     "text": [
      "     April 2019\n",
      "Mo Tu We Th Fr Sa Su\n",
      " 1  2  3  4  5  6  7\n",
      " 8  9 10 11 12 13 14\n",
      "15 16 17 18 19 20 21\n",
      "22 23 24 25 26 27 28\n",
      "29 30\n",
      "\n"
     ]
    }
   ],
   "source": [
    "# month()获取某个月的日历字符串\n",
    "# 格式：calendar.month(年，月)\n",
    "# 返回值：月日历的字符串\n",
    "m3 = calendar.month(2019,4)\n",
    "print(m3)"
   ]
  },
  {
   "cell_type": "code",
   "execution_count": 33,
   "metadata": {},
   "outputs": [
    {
     "name": "stdout",
     "output_type": "stream",
     "text": [
      "5 31\n"
     ]
    }
   ],
   "source": [
    "# monthrange() 获取一个月的周几开始即和天使\n",
    "# 格式：calendar.monthrange(year, month)\n",
    "# 返回值：元组（周几开始，总天数）\n",
    "# 注意：周几默认0-6 表示周一到周天\n",
    "w, t = calendar.monthrange(2018,12)\n",
    "print(w, t)"
   ]
  },
  {
   "cell_type": "code",
   "execution_count": 37,
   "metadata": {},
   "outputs": [
    {
     "name": "stdout",
     "output_type": "stream",
     "text": [
      "Help on method pryear in module calendar:\n",
      "\n",
      "pryear(theyear, w=0, l=0, c=6, m=3) method of calendar.TextCalendar instance\n",
      "    Print a year's calendar.\n",
      "\n"
     ]
    }
   ],
   "source": [
    "# prcal:print calendar 直接打印日历\n",
    "# calendar.prcal(2018)\n",
    "help(calendar.prcal)\n"
   ]
  },
  {
   "cell_type": "code",
   "execution_count": 38,
   "metadata": {},
   "outputs": [
    {
     "name": "stdout",
     "output_type": "stream",
     "text": [
      "      May 2023\n",
      "Mo Tu We Th Fr Sa Su\n",
      " 1  2  3  4  5  6  7\n",
      " 8  9 10 11 12 13 14\n",
      "15 16 17 18 19 20 21\n",
      "22 23 24 25 26 27 28\n",
      "29 30 31\n"
     ]
    }
   ],
   "source": [
    "# prmonth() 直接打印整个月的日历\n",
    "# 格式：calendar.prmonth(2014,5)\n",
    "# 返回值：无\n",
    "calendar.prmonth(2023,5)"
   ]
  },
  {
   "cell_type": "code",
   "execution_count": 39,
   "metadata": {},
   "outputs": [
    {
     "data": {
      "text/plain": [
       "4"
      ]
     },
     "execution_count": 39,
     "metadata": {},
     "output_type": "execute_result"
    }
   ],
   "source": [
    "# weekday() 获取周几\n",
    "# 格式：calendar.weekday(年，月，日）\n",
    "calendar.weekday(2018, 3, 23)"
   ]
  },
  {
   "cell_type": "code",
   "execution_count": 1,
   "metadata": {},
   "outputs": [],
   "source": [
    "import time"
   ]
  },
  {
   "cell_type": "code",
   "execution_count": 4,
   "metadata": {},
   "outputs": [
    {
     "name": "stdout",
     "output_type": "stream",
     "text": [
      "-28800\n",
      "-32400\n",
      "0\n"
     ]
    }
   ],
   "source": [
    "print(time.timezone)\n",
    "print(time.altzone)\n",
    "print(time.daylight)"
   ]
  },
  {
   "cell_type": "code",
   "execution_count": 6,
   "metadata": {},
   "outputs": [
    {
     "data": {
      "text/plain": [
       "1553061882.4258726"
      ]
     },
     "execution_count": 6,
     "metadata": {},
     "output_type": "execute_result"
    }
   ],
   "source": [
    "# 时间戳\n",
    "time.time()"
   ]
  },
  {
   "cell_type": "code",
   "execution_count": 7,
   "metadata": {},
   "outputs": [
    {
     "name": "stdout",
     "output_type": "stream",
     "text": [
      "time.struct_time(tm_year=2019, tm_mon=3, tm_mday=20, tm_hour=14, tm_min=5, tm_sec=29, tm_wday=2, tm_yday=79, tm_isdst=0)\n"
     ]
    }
   ],
   "source": [
    "# localtime，得到当前时间的时间结构\n",
    "# 可以通过点好操作得到相应的属性元素的内容\n",
    "t = time.localtime()\n",
    "print(t)"
   ]
  },
  {
   "cell_type": "code",
   "execution_count": 13,
   "metadata": {},
   "outputs": [
    {
     "name": "stdout",
     "output_type": "stream",
     "text": [
      "time.struct_time(tm_year=2019, tm_mon=3, tm_mday=20, tm_hour=14, tm_min=9, tm_sec=8, tm_wday=2, tm_yday=79, tm_isdst=0)\n",
      "Wed Mar 20 14:09:08 2019\n",
      "<class 'str'>\n"
     ]
    }
   ],
   "source": [
    "# asctime（） 返回元祖的正常字符串话之后的时间格式\n",
    "# 格式：time.asctime(时间元祖)\n",
    "# 返回值：字符串 Tue Jun 6 11:11:00 2017\n",
    "t = time.localtime()\n",
    "tt = time.asctime(t)\n",
    "print(t)\n",
    "print(tt)\n",
    "print(type(tt))"
   ]
  },
  {
   "cell_type": "code",
   "execution_count": 12,
   "metadata": {},
   "outputs": [
    {
     "name": "stdout",
     "output_type": "stream",
     "text": [
      "<class 'str'>\n",
      "Wed Mar 20 14:08:43 2019\n"
     ]
    }
   ],
   "source": [
    "# ctime：获取字符串化的当前时间\n",
    "t = time.ctime()\n",
    "print(type(t))\n",
    "print(t)"
   ]
  },
  {
   "cell_type": "code",
   "execution_count": 14,
   "metadata": {},
   "outputs": [
    {
     "name": "stdout",
     "output_type": "stream",
     "text": [
      "<class 'float'>\n",
      "1553062293.0\n"
     ]
    }
   ],
   "source": [
    "# mktime() 使用时间元组获取对应的时间戳\n",
    "# 格式：time.mktime(时间元组)\n",
    "# 返回值：浮点数时间戳\n",
    "\n",
    "lt = time.localtime()\n",
    "ts = time.mktime(lt)\n",
    "print(type(ts))\n",
    "print(ts)"
   ]
  },
  {
   "cell_type": "code",
   "execution_count": 15,
   "metadata": {},
   "outputs": [
    {
     "name": "stderr",
     "output_type": "stream",
     "text": [
      "E:\\Anaconoda\\lib\\site-packages\\ipykernel_launcher.py:2: DeprecationWarning: time.clock has been deprecated in Python 3.3 and will be removed from Python 3.8: use time.perf_counter or time.process_time instead\n",
      "  \n"
     ]
    }
   ],
   "source": [
    "# clock:获取cpu时间，3.0-3.3版本直接使用，3.6调用又问题\n",
    "c = time.clock()"
   ]
  },
  {
   "cell_type": "code",
   "execution_count": 16,
   "metadata": {},
   "outputs": [
    {
     "name": "stdout",
     "output_type": "stream",
     "text": [
      "0\n",
      "1\n",
      "2\n",
      "3\n"
     ]
    }
   ],
   "source": [
    "# sleep:使程序进入睡眠，n秒后继续\n",
    "\n",
    "for i in range(4):\n",
    "    time.sleep(1)\n",
    "    print(i)"
   ]
  },
  {
   "cell_type": "code",
   "execution_count": 17,
   "metadata": {},
   "outputs": [
    {
     "name": "stderr",
     "output_type": "stream",
     "text": [
      "E:\\Anaconoda\\lib\\site-packages\\ipykernel_launcher.py:3: DeprecationWarning: time.clock has been deprecated in Python 3.3 and will be removed from Python 3.8: use time.perf_counter or time.process_time instead\n",
      "  This is separate from the ipykernel package so we can avoid doing imports until\n"
     ]
    },
    {
     "name": "stdout",
     "output_type": "stream",
     "text": [
      "5.002432804000023\n"
     ]
    },
    {
     "name": "stderr",
     "output_type": "stream",
     "text": [
      "E:\\Anaconoda\\lib\\site-packages\\ipykernel_launcher.py:6: DeprecationWarning: time.clock has been deprecated in Python 3.3 and will be removed from Python 3.8: use time.perf_counter or time.process_time instead\n",
      "  \n"
     ]
    }
   ],
   "source": [
    "def p():\n",
    "    time.sleep(2)\n",
    "t0 = time.clock()\n",
    "p()\n",
    "time.sleep(3)\n",
    "t1 = time.clock()\n",
    "print(t1-t0)"
   ]
  },
  {
   "cell_type": "code",
   "execution_count": 21,
   "metadata": {},
   "outputs": [
    {
     "name": "stdout",
     "output_type": "stream",
     "text": [
      "time.struct_time(tm_year=2019, tm_mon=3, tm_mday=20, tm_hour=14, tm_min=19, tm_sec=54, tm_wday=2, tm_yday=79, tm_isdst=0)\n"
     ]
    },
    {
     "ename": "UnicodeEncodeError",
     "evalue": "'locale' codec can't encode character '\\u5e74' in position 2: encoding error",
     "output_type": "error",
     "traceback": [
      "\u001b[1;31m---------------------------------------------------------------------------\u001b[0m",
      "\u001b[1;31mUnicodeEncodeError\u001b[0m                        Traceback (most recent call last)",
      "\u001b[1;32m<ipython-input-21-c4f078983b38>\u001b[0m in \u001b[0;36m<module>\u001b[1;34m()\u001b[0m\n\u001b[0;32m      2\u001b[0m \u001b[0mt\u001b[0m \u001b[1;33m=\u001b[0m \u001b[0mtime\u001b[0m\u001b[1;33m.\u001b[0m\u001b[0mlocaltime\u001b[0m\u001b[1;33m(\u001b[0m\u001b[1;33m)\u001b[0m\u001b[1;33m\u001b[0m\u001b[0m\n\u001b[0;32m      3\u001b[0m \u001b[0mprint\u001b[0m\u001b[1;33m(\u001b[0m\u001b[0mt\u001b[0m\u001b[1;33m)\u001b[0m\u001b[1;33m\u001b[0m\u001b[0m\n\u001b[1;32m----> 4\u001b[1;33m \u001b[0mft\u001b[0m \u001b[1;33m=\u001b[0m \u001b[0mtime\u001b[0m\u001b[1;33m.\u001b[0m\u001b[0mstrftime\u001b[0m\u001b[1;33m(\u001b[0m\u001b[1;34m\"%Y年%m月%d日 %H:%M\"\u001b[0m\u001b[1;33m,\u001b[0m \u001b[0mt\u001b[0m\u001b[1;33m)\u001b[0m\u001b[1;33m\u001b[0m\u001b[0m\n\u001b[0m\u001b[0;32m      5\u001b[0m \u001b[0mprint\u001b[0m\u001b[1;33m(\u001b[0m\u001b[0mft\u001b[0m\u001b[1;33m)\u001b[0m\u001b[1;33m\u001b[0m\u001b[0m\n",
      "\u001b[1;31mUnicodeEncodeError\u001b[0m: 'locale' codec can't encode character '\\u5e74' in position 2: encoding error"
     ]
    }
   ],
   "source": [
    "# 把时间表示成，2018年3月26日 21:05\n",
    "t = time.localtime()\n",
    "print(t)\n",
    "ft = time.strftime(\"%Y年%m月%d日 %H:%M\", t)\n",
    "print(ft)"
   ]
  },
  {
   "cell_type": "code",
   "execution_count": 22,
   "metadata": {},
   "outputs": [],
   "source": [
    "import datetime"
   ]
  },
  {
   "cell_type": "code",
   "execution_count": 30,
   "metadata": {},
   "outputs": [
    {
     "name": "stdout",
     "output_type": "stream",
     "text": [
      "2018-03-26\n",
      "2018\n"
     ]
    }
   ],
   "source": [
    "# datetime常见属性\n",
    "# datetime.date:一个理想和的日期，提供year, month, day属性\n",
    "dt = datetime.date(2018, 3, 26)\n",
    "print(dt)\n",
    "print(dt.year)\n",
    "\n",
    "# datetime.time：提供一个理想和的时间，具有hour, minute ,sec, microsec等内容\n",
    "# datetime.datetime: 提供日期和时间的组合\n",
    "# datetime.timedelta:天宫一个时间差，时间长度"
   ]
  },
  {
   "cell_type": "code",
   "execution_count": 36,
   "metadata": {},
   "outputs": [
    {
     "name": "stdout",
     "output_type": "stream",
     "text": [
      "2019-03-20 14:28:48.013732\n",
      "2019-03-20 14:28:48.013732\n",
      "2019-03-20 14:28:48.013732\n"
     ]
    }
   ],
   "source": [
    "# datetime.datetime\n",
    "from datetime import datetime\n",
    "# 常用类方法：\n",
    "# today:\n",
    "# now\n",
    "# utcnow\n",
    "# fromtimestamp:从时间戳中返回本地时间\n",
    "dt = datetime(2018, 3, 26)\n",
    "print(dt.today())\n",
    "print(dt.now())\n",
    "\n",
    "print(dt.fromtimestamp(time.time()))\n"
   ]
  },
  {
   "cell_type": "code",
   "execution_count": 45,
   "metadata": {},
   "outputs": [
    {
     "name": "stdout",
     "output_type": "stream",
     "text": [
      "2019-03-20 14:32:20\n",
      "2019-03-20 15:32\n"
     ]
    }
   ],
   "source": [
    "# datetime.timedelta\n",
    "# 表示一个时间间隔\n",
    "from datetime import datetime, timedelta\n",
    "t1 = datetime.now()\n",
    "print(t1.strftime(\"%Y-%m-%d %H:%M:%S\"))\n",
    "t2 = timedelta(hours=1)\n",
    "print((t1 + t2).strftime(\"%Y-%m-%d %H:%M\"))"
   ]
  },
  {
   "cell_type": "code",
   "execution_count": 47,
   "metadata": {},
   "outputs": [
    {
     "name": "stdout",
     "output_type": "stream",
     "text": [
      "3.0000433921813965\n"
     ]
    }
   ],
   "source": [
    "# timeit 时间测量工具\n",
    "# 测量程序运行时间间隔实验\n",
    "\n",
    "def p():\n",
    "    time.sleep(3)\n",
    "\n",
    "t1 = time.time()\n",
    "p()\n",
    "print(time.time() - t1)"
   ]
  },
  {
   "cell_type": "code",
   "execution_count": 2,
   "metadata": {},
   "outputs": [
    {
     "name": "stdout",
     "output_type": "stream",
     "text": [
      "3.4771138659999963\n",
      "7.01855741\n"
     ]
    }
   ],
   "source": [
    "import timeit\n",
    "# 生成列表两种方法的比较\n",
    "# 如果单纯比较生成一个列表的时间，可能很难实现\n",
    "c = \"\"\"\n",
    "sum = []\n",
    "for i in range(1000):\n",
    "    sum.append(i)\n",
    "\"\"\"\n",
    "\n",
    "# 利用timeit调用代码，执行100000此，查看运行时间\n",
    "t1 = timeit.timeit(stmt=\"[i for i in range(1000)]\", number=100000)#它时间少很多\n",
    "# 测量代码c执行100000此运行结果\n",
    "t2 = timeit.timeit(stmt=c,number=100000)\n",
    "\n",
    "print(t1)\n",
    "print(t2)"
   ]
  },
  {
   "cell_type": "code",
   "execution_count": 11,
   "metadata": {},
   "outputs": [
    {
     "name": "stdout",
     "output_type": "stream",
     "text": [
      "Repeat for 0\n",
      "Repeat for 1\n",
      "Repeat for 2\n",
      "Repeat for 0\n",
      "Repeat for 1\n",
      "Repeat for 2\n",
      "Repeat for 0\n",
      "Repeat for 1\n",
      "Repeat for 2\n",
      "Repeat for 0\n",
      "Repeat for 1\n",
      "Repeat for 2\n",
      "Repeat for 0\n",
      "Repeat for 1\n",
      "Repeat for 2\n",
      "Repeat for 0\n",
      "Repeat for 1\n",
      "Repeat for 2\n",
      "Repeat for 0\n",
      "Repeat for 1\n",
      "Repeat for 2\n",
      "Repeat for 0\n",
      "Repeat for 1\n",
      "Repeat for 2\n",
      "Repeat for 0\n",
      "Repeat for 1\n",
      "Repeat for 2\n",
      "Repeat for 0\n",
      "Repeat for 1\n",
      "Repeat for 2\n",
      "0.0007622319999427418\n"
     ]
    }
   ],
   "source": [
    "# timeit可以执行一个函数，来测量一个函数的执行时间\n",
    "def doIt():\n",
    "    num = 3\n",
    "    for i in range(num):\n",
    "        print(\"Repeat for {}\".format(i))\n",
    "# 执行函数，重复10\n",
    "t = timeit.timeit(stmt=doIt, number=10)\n",
    "print(t)"
   ]
  },
  {
   "cell_type": "code",
   "execution_count": 12,
   "metadata": {},
   "outputs": [
    {
     "name": "stdout",
     "output_type": "stream",
     "text": [
      "Repeat for 0\n",
      "Repeat for 1\n",
      "Repeat for 2\n",
      "Repeat for 0\n",
      "Repeat for 1\n",
      "Repeat for 2\n",
      "Repeat for 0\n",
      "Repeat for 1\n",
      "Repeat for 2\n",
      "Repeat for 0\n",
      "Repeat for 1\n",
      "Repeat for 2\n",
      "Repeat for 0\n",
      "Repeat for 1\n",
      "Repeat for 2\n",
      "Repeat for 0\n",
      "Repeat for 1\n",
      "Repeat for 2\n",
      "Repeat for 0\n",
      "Repeat for 1\n",
      "Repeat for 2\n",
      "Repeat for 0\n",
      "Repeat for 1\n",
      "Repeat for 2\n",
      "Repeat for 0\n",
      "Repeat for 1\n",
      "Repeat for 2\n",
      "Repeat for 0\n",
      "Repeat for 1\n",
      "Repeat for 2\n",
      "0.0008002680000345208\n"
     ]
    }
   ],
   "source": [
    "s = \"\"\"\n",
    "def doIt(num):\n",
    "    for i in range(num):\n",
    "        print(\"Repeat for {}\".format(i))\n",
    "\"\"\"\n",
    "\n",
    "\"\"\"\n",
    "# 执行doIt（num)\n",
    "# setup负责把环境变量准备好\n",
    "#  实际相当于给timeit创造了一个小环境\n",
    "# 在创作的小环境中，代码执行的顺序大致是\n",
    "\"\"\"\n",
    "\n",
    "\"\"\"\n",
    "def doIt(num):\n",
    "    .....\n",
    "num = 3\n",
    "doIt(num)\n",
    "\"\"\"\n",
    "t = timeit.timeit(\"doIt(num)\",setup=s+\"num=3\", number=10)\n",
    "print(t)"
   ]
  },
  {
   "cell_type": "code",
   "execution_count": 16,
   "metadata": {},
   "outputs": [
    {
     "name": "stdout",
     "output_type": "stream",
     "text": [
      "2019-03-20 14:54:13.943896\n"
     ]
    }
   ],
   "source": [
    "from datetime import datetime as dt\n",
    "print(dt.now())\n"
   ]
  },
  {
   "cell_type": "code",
   "execution_count": null,
   "metadata": {},
   "outputs": [],
   "source": [
    "#datetime:日期时间\n",
    "#time：时间戳相关\n",
    "#calendar：日历相关\n",
    "#timeit：测量时间相关"
   ]
  }
 ],
 "metadata": {
  "kernelspec": {
   "display_name": "Python 3",
   "language": "python",
   "name": "python3"
  },
  "language_info": {
   "codemirror_mode": {
    "name": "ipython",
    "version": 3
   },
   "file_extension": ".py",
   "mimetype": "text/x-python",
   "name": "python",
   "nbconvert_exporter": "python",
   "pygments_lexer": "ipython3",
   "version": "3.7.0"
  }
 },
 "nbformat": 4,
 "nbformat_minor": 2
}
