{
 "cells": [
  {
   "cell_type": "markdown",
   "metadata": {},
   "source": [
    "## 开始介绍怎么使用pycharm，初级\n",
    "- https://www.cnblogs.com/zhouzhishuai/"
   ]
  },
  {
   "cell_type": "markdown",
   "metadata": {},
   "source": [
    "## 介绍math模块和random模块"
   ]
  },
  {
   "cell_type": "code",
   "execution_count": 6,
   "metadata": {},
   "outputs": [
    {
     "name": "stdout",
     "output_type": "stream",
     "text": [
      "7\n",
      "6\n",
      "7\n",
      "9\n"
     ]
    }
   ],
   "source": [
    "import math\n",
    "\n",
    "#ceil() 向上取整\n",
    "print(math.ceil(6.55))\n",
    "print(math.ceil(5.45))\n",
    "\n",
    "# floor() 向下取整\n",
    "print(math.floor(7.3))\n",
    "print(math.floor(9.1))"
   ]
  },
  {
   "cell_type": "code",
   "execution_count": 9,
   "metadata": {},
   "outputs": [
    {
     "name": "stdout",
     "output_type": "stream",
     "text": [
      "['False', 'None', 'True', 'and', 'as', 'assert', 'async', 'await', 'break', 'class', 'continue', 'def', 'del', 'elif', 'else', 'except', 'finally', 'for', 'from', 'global', 'if', 'import', 'in', 'is', 'lambda', 'nonlocal', 'not', 'or', 'pass', 'raise', 'return', 'try', 'while', 'with', 'yield']\n"
     ]
    }
   ],
   "source": [
    "import keyword\n",
    "# print(keyword.kwlist)\n",
    "print(keyword.kwlist)"
   ]
  },
  {
   "cell_type": "code",
   "execution_count": 12,
   "metadata": {},
   "outputs": [
    {
     "name": "stdout",
     "output_type": "stream",
     "text": [
      "6\n",
      "5\n"
     ]
    }
   ],
   "source": [
    "# round() 四舍五入\n",
    "print(round(5.5))\n",
    "print(round(5.4))"
   ]
  },
  {
   "cell_type": "code",
   "execution_count": 15,
   "metadata": {},
   "outputs": [
    {
     "name": "stdout",
     "output_type": "stream",
     "text": [
      "4.0\n",
      "2.0\n"
     ]
    }
   ],
   "source": [
    "# sqrt() 返回浮点数\n",
    "print(math.sqrt(16))\n",
    "print(math.sqrt(4))"
   ]
  },
  {
   "cell_type": "code",
   "execution_count": 17,
   "metadata": {},
   "outputs": [
    {
     "name": "stdout",
     "output_type": "stream",
     "text": [
      "8\n",
      "8.0\n"
     ]
    }
   ],
   "source": [
    "# pow() 内置 返回本身类型\n",
    "# math.pow() 返回浮点型\n",
    "print(pow(2,3))\n",
    "print(math.pow(2,3))"
   ]
  },
  {
   "cell_type": "code",
   "execution_count": 20,
   "metadata": {},
   "outputs": [
    {
     "name": "stdout",
     "output_type": "stream",
     "text": [
      "3.0\n",
      "3\n"
     ]
    }
   ],
   "source": [
    "# fabs() 对一个数取绝对值，返回的也是浮点型\n",
    "# abs() 返回的是整数 内置的\n",
    "print(math.fabs(-3))\n",
    "print(abs(-3))"
   ]
  },
  {
   "cell_type": "code",
   "execution_count": 27,
   "metadata": {},
   "outputs": [
    {
     "name": "stdout",
     "output_type": "stream",
     "text": [
      "10.0\n",
      "10\n"
     ]
    }
   ],
   "source": [
    "#fsum() 对整个序列求和 浮点型\n",
    "#sum() 求和 内置\n",
    "print(math.fsum([1,2,3,4]))\n",
    "print(sum([1,2,3,4]))"
   ]
  },
  {
   "cell_type": "code",
   "execution_count": 26,
   "metadata": {},
   "outputs": [
    {
     "name": "stdout",
     "output_type": "stream",
     "text": [
      "(0.14000000000000012, 3.0)\n",
      "(0.20000000000000018, 3.0)\n"
     ]
    }
   ],
   "source": [
    "# math.modf() 将一个浮点数拆分为整数部分和小数部分，并且小数部分在前，整数部分是浮点型\n",
    "print(math.modf(3.14))\n",
    "print(math.modf(3.2))#在pycharm中没有这么多位数"
   ]
  },
  {
   "cell_type": "code",
   "execution_count": 32,
   "metadata": {},
   "outputs": [
    {
     "name": "stdout",
     "output_type": "stream",
     "text": [
      "3.0\n",
      "2.0\n",
      "-0.0\n"
     ]
    }
   ],
   "source": [
    "# copysign() 将第二个数的符号传递给第一个数 返回浮点型\n",
    "print(math.copysign(-3,2))\n",
    "print(math.copysign(-2,-0))\n",
    "print(math.copysign(0,-2))"
   ]
  },
  {
   "cell_type": "code",
   "execution_count": 35,
   "metadata": {},
   "outputs": [
    {
     "name": "stdout",
     "output_type": "stream",
     "text": [
      "2.718281828459045\n",
      "3.141592653589793\n"
     ]
    }
   ],
   "source": [
    "# 打印自然数e和π\n",
    "print(math.e)\n",
    "print(math.pi)"
   ]
  },
  {
   "cell_type": "code",
   "execution_count": 36,
   "metadata": {},
   "outputs": [],
   "source": [
    "import random"
   ]
  },
  {
   "cell_type": "code",
   "execution_count": 38,
   "metadata": {},
   "outputs": [
    {
     "name": "stdout",
     "output_type": "stream",
     "text": [
      "0.5150785595159051\n",
      "0.5496857259684903\n",
      "0.3689680773566708\n",
      "0.7710991409931852\n",
      "0.2792496298389755\n",
      "0.055490886902698655\n",
      "0.34765001733070056\n",
      "0.42608185448053193\n",
      "0.4314189913291838\n",
      "0.5769628766998225\n"
     ]
    }
   ],
   "source": [
    "# random() 获取0和1之间的随机小数，包含0，不包含1\n",
    "for i in range(10):\n",
    "    print(random.random())"
   ]
  },
  {
   "cell_type": "code",
   "execution_count": 44,
   "metadata": {},
   "outputs": [
    {
     "name": "stdout",
     "output_type": "stream",
     "text": [
      "4\n",
      "3\n",
      "4\n",
      "1\n",
      "2\n",
      "3\n",
      "2\n",
      "3\n",
      "4\n",
      "1\n"
     ]
    }
   ],
   "source": [
    "# randint() 随机制定开始和结束之间的整数值，前后都包括\n",
    "for i in range(10):\n",
    "    print(random.randint(1,4))"
   ]
  },
  {
   "cell_type": "code",
   "execution_count": 46,
   "metadata": {},
   "outputs": [
    {
     "name": "stdout",
     "output_type": "stream",
     "text": [
      "8\n",
      "8\n",
      "2\n",
      "8\n",
      "2\n",
      "8\n",
      "2\n",
      "5\n",
      "5\n",
      "5\n"
     ]
    }
   ],
   "source": [
    "# randong.randrange() 获取制定开始和结束之间的值，可以指定间隔，但是它不包括右边那个值\n",
    "for i in range(10):\n",
    "    print(random.randrange(2,10,3))"
   ]
  },
  {
   "cell_type": "code",
   "execution_count": 49,
   "metadata": {},
   "outputs": [
    {
     "name": "stdout",
     "output_type": "stream",
     "text": [
      "0\n",
      "2\n",
      "4\n",
      "4\n",
      "3\n",
      "4\n",
      "1\n",
      "1\n",
      "0\n",
      "1\n"
     ]
    }
   ],
   "source": [
    "# choice() 随机获取列表中的值\n",
    "for i in range(10):\n",
    "    #print(random.choice([1,2,3,4,5]))\n",
    "    print(random.choice(range(5)))"
   ]
  },
  {
   "cell_type": "code",
   "execution_count": 54,
   "metadata": {},
   "outputs": [
    {
     "name": "stdout",
     "output_type": "stream",
     "text": [
      "[1, 2, 3, 4, 5]\n",
      "None\n",
      "[5, 1, 3, 2, 4]\n"
     ]
    }
   ],
   "source": [
    "# shuffle() 随机打乱序列 返回值是None\n",
    "list1 = [1,2,3,4,5]\n",
    "print(list1)\n",
    "print(random.shuffle(list1))\n",
    "print(list1)"
   ]
  },
  {
   "cell_type": "code",
   "execution_count": 57,
   "metadata": {},
   "outputs": [
    {
     "name": "stdout",
     "output_type": "stream",
     "text": [
      "3.1670056469432395\n",
      "4.839083138854289\n",
      "5.270562836759604\n",
      "3.076376282233302\n",
      "6.071645263235085\n",
      "5.966748913849504\n",
      "3.868964272253392\n",
      "4.039443316636092\n",
      "4.801722573290146\n",
      "1.1914643517786714\n"
     ]
    }
   ],
   "source": [
    "# uniform() 随机获取指定范围内的值（包括小数）\n",
    "for i in range(10):\n",
    "    print(random.uniform(1,7))"
   ]
  }
 ],
 "metadata": {
  "kernelspec": {
   "display_name": "Python 3",
   "language": "python",
   "name": "python3"
  },
  "language_info": {
   "codemirror_mode": {
    "name": "ipython",
    "version": 3
   },
   "file_extension": ".py",
   "mimetype": "text/x-python",
   "name": "python",
   "nbconvert_exporter": "python",
   "pygments_lexer": "ipython3",
   "version": "3.7.0"
  }
 },
 "nbformat": 4,
 "nbformat_minor": 2
}
