{
 "cells": [
  {
   "cell_type": "code",
   "execution_count": 2,
   "metadata": {},
   "outputs": [
    {
     "name": "stdout",
     "output_type": "stream",
     "text": [
      "4\n",
      "3\n",
      "2\n",
      "1\n",
      "0\n",
      "====================\n",
      "0\n",
      "1\n",
      "2\n",
      "3\n",
      "4\n"
     ]
    }
   ],
   "source": [
    "# 类似于栈的先进后出模式\n",
    "# 1. 要有递推关系\n",
    "# 2. 要有临界值\n",
    "def digui(num):\n",
    "    print(num)\n",
    "    if num > 0:\n",
    "        # 这里调用的是本身的函数\n",
    "        digui(num-1)\n",
    "    else:\n",
    "        print(\"=\"*20)\n",
    "    print(num)\n",
    "    \n",
    "digui(4)"
   ]
  },
  {
   "cell_type": "code",
   "execution_count": 3,
   "metadata": {},
   "outputs": [
    {
     "name": "stdout",
     "output_type": "stream",
     "text": [
      "3\n",
      "2\n",
      "1\n",
      "0\n",
      "====================\n",
      "0\n",
      "1\n",
      "2\n",
      "3\n"
     ]
    }
   ],
   "source": [
    "def digui(num):\n",
    "    print(num)\n",
    "    if num > 0:\n",
    "        digui(num-1)\n",
    "    else:\n",
    "        print(\"=\"*20)\n",
    "    print(num)\n",
    "digui(3)"
   ]
  },
  {
   "cell_type": "code",
   "execution_count": 54,
   "metadata": {},
   "outputs": [
    {
     "name": "stdout",
     "output_type": "stream",
     "text": [
      "第1次移动： A --> C\n",
      "第2次移动： A --> B\n",
      "第3次移动： C --> B\n",
      "第4次移动： A --> C\n",
      "第5次移动： B --> A\n",
      "第6次移动： B --> C\n",
      "第7次移动： A --> C\n"
     ]
    }
   ],
   "source": [
    "# 汉诺塔\n",
    "i = 0\n",
    "def move(n,a,b,c):\n",
    "    global i\n",
    "    if n == 1:\n",
    "        print(\"第%d次移动：\"%(i+1),a,\"-->\",c)\n",
    "        i += 1\n",
    "    else:\n",
    "        move(n-1,a,c,b)\n",
    "        move(1,a,b,c)\n",
    "        move(n-1,b,a,c)\n",
    "\n",
    "move(3,\"A\",\"B\",\"C\")\n",
    "        \n",
    "\n"
   ]
  },
  {
   "cell_type": "markdown",
   "metadata": {},
   "source": [
    "## 介绍math模块和random模块"
   ]
  },
  {
   "cell_type": "code",
   "execution_count": 59,
   "metadata": {},
   "outputs": [
    {
     "name": "stdout",
     "output_type": "stream",
     "text": [
      "7\n",
      "-4\n",
      "7\n",
      "8\n"
     ]
    }
   ],
   "source": [
    "import math\n",
    "\n",
    "# ceil() 向上取整\n",
    "print(math.ceil(6.55))\n",
    "print(math.ceil(-4.55))\n",
    "\n",
    "# floor() 向下取整\n",
    "print(math.floor(7.4))\n",
    "print(math.floor(8.9))"
   ]
  },
  {
   "cell_type": "code",
   "execution_count": 60,
   "metadata": {},
   "outputs": [
    {
     "name": "stdout",
     "output_type": "stream",
     "text": [
      "['False', 'None', 'True', 'and', 'as', 'assert', 'async', 'await', 'break', 'class', 'continue', 'def', 'del', 'elif', 'else', 'except', 'finally', 'for', 'from', 'global', 'if', 'import', 'in', 'is', 'lambda', 'nonlocal', 'not', 'or', 'pass', 'raise', 'return', 'try', 'while', 'with', 'yield']\n"
     ]
    }
   ],
   "source": [
    "import keyword\n",
    "print(keyword.kwlist)"
   ]
  },
  {
   "cell_type": "code",
   "execution_count": 61,
   "metadata": {},
   "outputs": [
    {
     "name": "stdout",
     "output_type": "stream",
     "text": [
      "6\n",
      "5\n"
     ]
    }
   ],
   "source": [
    "# round() 四舍五入\n",
    "print(round(5.5))\n",
    "print(round(5.45))"
   ]
  },
  {
   "cell_type": "code",
   "execution_count": 67,
   "metadata": {},
   "outputs": [
    {
     "name": "stdout",
     "output_type": "stream",
     "text": [
      "4.0\n",
      "7.483314773547883\n"
     ]
    }
   ],
   "source": [
    "# sqrt() 返回浮点数 开根号 正根号\n",
    "print(math.sqrt(16))\n",
    "print(math.sqrt(56))"
   ]
  },
  {
   "cell_type": "code",
   "execution_count": 71,
   "metadata": {},
   "outputs": [
    {
     "name": "stdout",
     "output_type": "stream",
     "text": [
      "8\n",
      "8.0\n"
     ]
    }
   ],
   "source": [
    "# pow() 内置，返回本身类型 几次方\n",
    "# math.pow() 返回浮点型\n",
    "print(pow(2,3))\n",
    "print(math.pow(2,3))"
   ]
  },
  {
   "cell_type": "code",
   "execution_count": 74,
   "metadata": {},
   "outputs": [
    {
     "name": "stdout",
     "output_type": "stream",
     "text": [
      "3.0\n",
      "9\n"
     ]
    }
   ],
   "source": [
    "# fabs() 对一个数取绝对值，返回的也是浮点型\n",
    "# abs(） 返回的是整数 内置的\n",
    "print(math.fabs(-3))\n",
    "print(abs(-9))"
   ]
  },
  {
   "cell_type": "code",
   "execution_count": 76,
   "metadata": {},
   "outputs": [
    {
     "name": "stdout",
     "output_type": "stream",
     "text": [
      "10.0\n",
      "46\n"
     ]
    }
   ],
   "source": [
    "# fsum() 对整个序列求和 浮点型\n",
    "# sum() 求和 内置\n",
    "print(math.fsum([1,2,3,4]))\n",
    "print(sum([1,3,34,4,4]))"
   ]
  },
  {
   "cell_type": "code",
   "execution_count": 78,
   "metadata": {},
   "outputs": [
    {
     "name": "stdout",
     "output_type": "stream",
     "text": [
      "(0.14000000000000012, 3.0)\n",
      "(0.20000000000000018, 3.0)\n"
     ]
    }
   ],
   "source": [
    "# math.modf() 将一个浮点数拆分为整数部分和小数部分，并且小数部分在前，整数部分是浮点型\n",
    "print(math.modf(3.14))\n",
    "print(math.modf(3.2))"
   ]
  },
  {
   "cell_type": "code",
   "execution_count": 82,
   "metadata": {},
   "outputs": [
    {
     "name": "stdout",
     "output_type": "stream",
     "text": [
      "3.0\n",
      "-3.0\n",
      "-0.0\n"
     ]
    }
   ],
   "source": [
    "# copysign() 将第二个数的符号传递给第一个数，返回浮点型\n",
    "print(math.copysign(-3,2))\n",
    "print(math.copysign(-3,-2))\n",
    "print(math.copysign(0,-2))"
   ]
  },
  {
   "cell_type": "code",
   "execution_count": 84,
   "metadata": {},
   "outputs": [
    {
     "name": "stdout",
     "output_type": "stream",
     "text": [
      "2.718281828459045\n",
      "3.141592653589793\n"
     ]
    }
   ],
   "source": [
    "# 打印自然数e和π\n",
    "print(math.e)\n",
    "print(math.pi)"
   ]
  },
  {
   "cell_type": "code",
   "execution_count": 85,
   "metadata": {},
   "outputs": [],
   "source": [
    "import random"
   ]
  },
  {
   "cell_type": "code",
   "execution_count": 89,
   "metadata": {},
   "outputs": [
    {
     "name": "stdout",
     "output_type": "stream",
     "text": [
      "0.8765383338569515\n",
      "0.3873284361177234\n",
      "0.790512546838255\n",
      "0.5122218315365361\n",
      "0.38700608836178596\n",
      "0.22366566804618737\n",
      "0.0523924942729761\n",
      "0.8380286199210716\n",
      "0.2928693491633877\n",
      "0.20417626850555637\n"
     ]
    }
   ],
   "source": [
    "# random() 获取0和1之间的随机小数，包含0，不包含1\n",
    "for i in range(10):\n",
    "    print(random.random())"
   ]
  },
  {
   "cell_type": "code",
   "execution_count": 90,
   "metadata": {},
   "outputs": [
    {
     "name": "stdout",
     "output_type": "stream",
     "text": [
      "5\n",
      "3\n",
      "3\n",
      "1\n",
      "1\n",
      "4\n",
      "5\n",
      "5\n",
      "2\n",
      "5\n"
     ]
    }
   ],
   "source": [
    "# randint() 随机指定开始和结束之间的整数值，前后包括\n",
    "for i in range(10):\n",
    "    print(random.randint(1,5))\n",
    "    "
   ]
  },
  {
   "cell_type": "code",
   "execution_count": 92,
   "metadata": {},
   "outputs": [
    {
     "name": "stdout",
     "output_type": "stream",
     "text": [
      "4\n",
      "7\n",
      "16\n",
      "16\n",
      "1\n",
      "10\n",
      "1\n",
      "1\n",
      "10\n",
      "10\n"
     ]
    }
   ],
   "source": [
    "# random.randrange() 获取指定开始和借宿之间的值，可以指定间隔，不包括右边\n",
    "for i in range(10):\n",
    "    print(random.randrange(1,19,3))"
   ]
  },
  {
   "cell_type": "code",
   "execution_count": 94,
   "metadata": {},
   "outputs": [
    {
     "name": "stdout",
     "output_type": "stream",
     "text": [
      "1\n",
      "2\n",
      "45\n",
      "1\n",
      "3\n",
      "1\n",
      "3\n",
      "3\n",
      "45\n",
      "1\n"
     ]
    }
   ],
   "source": [
    "# choice() 随机获取列表中的值\n",
    "for i in range(10):\n",
    "    print(random.choice([1,2,3,45,]))"
   ]
  },
  {
   "cell_type": "code",
   "execution_count": 95,
   "metadata": {},
   "outputs": [
    {
     "name": "stdout",
     "output_type": "stream",
     "text": [
      "None\n",
      "[2, 1, 5, 3, 4, 6]\n"
     ]
    }
   ],
   "source": [
    "# shuffle() 随机打乱序列，返回值是None\n",
    "lst1 = [1,2,3,4,5,6]\n",
    "print(random.shuffle(lst1))\n",
    "print(lst1)"
   ]
  },
  {
   "cell_type": "code",
   "execution_count": 96,
   "metadata": {},
   "outputs": [
    {
     "name": "stdout",
     "output_type": "stream",
     "text": [
      "1.541021439146389\n",
      "1.952814652533059\n",
      "2.902924676882499\n",
      "2.586692670754766\n",
      "1.2109630952005095\n",
      "2.640920558466751\n",
      "2.326244412465038\n",
      "2.0072174336109585\n",
      "1.271400604595526\n",
      "1.4906134080272622\n"
     ]
    }
   ],
   "source": [
    "# uniform() 随机获取指定范围内的值（包括小数）\n",
    "for i in range(10):\n",
    "    print(random.uniform(1,3))"
   ]
  },
  {
   "cell_type": "code",
   "execution_count": null,
   "metadata": {},
   "outputs": [],
   "source": []
  }
 ],
 "metadata": {
  "kernelspec": {
   "display_name": "Python 3",
   "language": "python",
   "name": "python3"
  },
  "language_info": {
   "codemirror_mode": {
    "name": "ipython",
    "version": 3
   },
   "file_extension": ".py",
   "mimetype": "text/x-python",
   "name": "python",
   "nbconvert_exporter": "python",
   "pygments_lexer": "ipython3",
   "version": "3.7.0"
  }
 },
 "nbformat": 4,
 "nbformat_minor": 2
}
