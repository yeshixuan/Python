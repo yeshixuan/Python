{
 "cells": [
  {
   "cell_type": "code",
   "execution_count": 2,
   "metadata": {},
   "outputs": [],
   "source": [
    "import os"
   ]
  },
  {
   "cell_type": "code",
   "execution_count": 3,
   "metadata": {},
   "outputs": [
    {
     "name": "stdout",
     "output_type": "stream",
     "text": [
      "D:\\python 全栈\\第一遍复习\\02-高级语法系列\\02-模块\n"
     ]
    }
   ],
   "source": [
    "# getcwd() 获取当前的动作目录\n",
    "# 格式：os.getcwd()\n",
    "# 返回值：当前工作目录的字符串\n",
    "# 当前工作目录就是程序在进行相关文件相关操作，默认查找的目录\n",
    "\n",
    "mydir = os.getcwd()\n",
    "print(mydir)"
   ]
  },
  {
   "cell_type": "code",
   "execution_count": 14,
   "metadata": {},
   "outputs": [
    {
     "name": "stdout",
     "output_type": "stream",
     "text": [
      "D:\\python 全栈\\第一遍复习\\02-高级语法系列\\02-模块\n"
     ]
    }
   ],
   "source": [
    "# chdir()改变当前的工作目录\n",
    "# change direcgory\n",
    "# 格式：os.chdir(路径)\n",
    "# 返回值：无\n",
    "\n",
    "# 以下几种都行\n",
    "# os.chdir(\"D:\\\\Python全栈\")\n",
    "# os.chdir(\"D:/python 全栈/第一遍复习/02-高级语法系列/02-模块\")\n",
    "# os.chdir(\"D:\\\\python 全栈\\\\第一遍复习\\\\02-高级语法系列\\\\02-模块\")\n",
    "os.chdir(r\"D:\\python 全栈\\第一遍复习\\02-高级语法系列\\02-模块\")\n",
    "mydir = os.getcwd()\n",
    "print(mydir)"
   ]
  },
  {
   "cell_type": "code",
   "execution_count": 16,
   "metadata": {},
   "outputs": [
    {
     "name": "stdout",
     "output_type": "stream",
     "text": [
      "['.git', '.idea', '01-Python基础', '02-高级语法系列']\n"
     ]
    }
   ],
   "source": [
    "# listdir() 获取一个目录中所有子目录和文件的名称列表\n",
    "# 格式：os.listdir(路径)\n",
    "# 返回值：所有子目录和文件名称的列表\n",
    "\n",
    "# ld = os.listdir()\n",
    "ld = os.listdir(\"D:\\\\Python全栈\")\n",
    "print(ld)"
   ]
  },
  {
   "cell_type": "code",
   "execution_count": 17,
   "metadata": {},
   "outputs": [
    {
     "name": "stdout",
     "output_type": "stream",
     "text": [
      "None\n"
     ]
    }
   ],
   "source": [
    "# makedirs()递归创建文件夹\n",
    "# 格式：os.makedirs(递归路径)\n",
    "# 返回值：无\n",
    "# 递归另：多个文件夹层层包含的路径就是递归路径 例如a/b/c/d。。。\n",
    "\n",
    "tst = os.makedirs(\"yby\")\n",
    "print(tst)"
   ]
  },
  {
   "cell_type": "code",
   "execution_count": 23,
   "metadata": {},
   "outputs": [
    {
     "name": "stdout",
     "output_type": "stream",
     "text": [
      "D:\\python 全栈\\第一遍复习\\02-高级语法系列\\02-模块\n",
      "['.ipynb_checkpoints', '15-模块.ipynb', '16-异常使用.ipynb', '17-常用模块.ipynb', '18-常用模块-os.ipynb', 'Untitled.ipynb', 'yby', '练习、草稿：异常、常用模块（时间）.ipynb']\n"
     ]
    }
   ],
   "source": [
    "d = os.getcwd()\n",
    "print(d)\n",
    "dl = os.listdir()\n",
    "print(dl)"
   ]
  },
  {
   "cell_type": "code",
   "execution_count": 28,
   "metadata": {},
   "outputs": [
    {
     "name": "stdout",
     "output_type": "stream",
     "text": [
      "None\n",
      "D:\\python 全栈\\第一遍复习\\02-高级语法系列\\02-模块\n",
      "None\n"
     ]
    }
   ],
   "source": [
    "# system() 运行系统shell命令\n",
    "# 格式：os.system(系统命令)\n",
    "# 返回值：打开一个shell或者终端界面\n",
    "# 一般推荐使用subprocess代替\n",
    "\n",
    "# ls是列出当前文件和文件夹的系统命令\n",
    "rst = os.system(\"ls\")\n",
    "print(tst)\n",
    "\n",
    "print(os.getcwd())\n",
    "# 在当前目录下创建一个yby.haha的文件\n",
    "rst = os.system(\"touch yby.haha\")\n",
    "print(tst)"
   ]
  },
  {
   "cell_type": "code",
   "execution_count": 29,
   "metadata": {},
   "outputs": [
    {
     "name": "stdout",
     "output_type": "stream",
     "text": [
      "E:\\Anaconoda;E:\\Anaconoda\\Library\\mingw-w64\\bin;E:\\Anaconoda\\Library\\usr\\bin;E:\\Anaconoda\\Library\\bin;E:\\Anaconoda\\Scripts;E:\\Anaconoda\\bin;E:\\Anaconoda;E:\\Anaconoda\\Library\\mingw-w64\\bin;E:\\Anaconoda\\Library\\usr\\bin;E:\\Anaconoda\\Library\\bin;E:\\Anaconoda\\Scripts;E:\\Anaconoda;E:\\Anaconoda\\Library\\mingw-w64\\bin;E:\\Anaconoda\\Library\\usr\\bin;E:\\Anaconoda\\Library\\bin;E:\\Anaconoda\\Scripts;C:\\Program Files (x86)\\Google\\Chrome\\Application;C:\\Users\\yebiyun\\Downloads\\phantomjs-2.1.1-windows\\bin;D:\\chromedriver;E:\\Tesseract-OCR;E:\\Git\\cmd;C:\\Users\\yebiyun;C:\\Windows\\system32;C:\\Windows;C:\\Windows\\System32\\Wbem;D:\\go;D:\\nvm;C:\\Program Files\\nodejs;D:\\nvm;C:\\Users\\yebiyun\\AppData\\Local\\Programs\\Python\\Python36\\Scripts\\;C:\\Users\\yebiyun\\AppData\\Local\\Programs\\Python\\Python36\\;C:\\Users\\yebiyun\\AppData\\Local\\Microsoft\\WindowsApps;C:\\Users\\yebiyun\\Downloads\\phantomjs-2.1.1-windows\\bin;D:\\chromedriver;E:\\Tesseract-OCR;C:\\Users\\yebiyun;C:\\Windows\\system32;C:\\Windows;C:\\Windows\\System32\\Wbem;D:\\go;D:\\nvm;C:\\Program Files\\nodejs;\n"
     ]
    }
   ],
   "source": [
    "# getenv() 获取指定的系统环境变量值\n",
    "# 相应的还有putenv\n",
    "# 格式：os.getenv('环境变量名')\n",
    "# 返回值：指定环境变量名对应的值\n",
    "rst = os.getenv(\"PATH\")\n",
    "print(rst)"
   ]
  },
  {
   "cell_type": "code",
   "execution_count": 30,
   "metadata": {},
   "outputs": [],
   "source": [
    "# exit（）退出当前程序\n",
    "# 格式：exit()\n",
    "# 返回值：无"
   ]
  },
  {
   "cell_type": "code",
   "execution_count": 32,
   "metadata": {},
   "outputs": [
    {
     "name": "stdout",
     "output_type": "stream",
     "text": [
      "..\n",
      ".\n"
     ]
    }
   ],
   "source": [
    "print(os.pardir)\n",
    "print(os.curdir)"
   ]
  },
  {
   "cell_type": "code",
   "execution_count": 39,
   "metadata": {},
   "outputs": [
    {
     "name": "stdout",
     "output_type": "stream",
     "text": [
      "\\\n",
      "\r\n",
      "\n"
     ]
    }
   ],
   "source": [
    "print(os.sep)\n",
    "print(os.linesep)\n"
   ]
  },
  {
   "cell_type": "code",
   "execution_count": 41,
   "metadata": {},
   "outputs": [
    {
     "name": "stdout",
     "output_type": "stream",
     "text": [
      "/home/tlxy/yby\n"
     ]
    }
   ],
   "source": [
    "# 在路径相关的操作中，不要手动拼写地址可因为手动拼写的路径可能不具有移植性\n",
    "path = \"/home/tlxy\" + \"/\" + \"yby\"\n",
    "print(path)"
   ]
  },
  {
   "cell_type": "code",
   "execution_count": 42,
   "metadata": {},
   "outputs": [
    {
     "name": "stdout",
     "output_type": "stream",
     "text": [
      "nt\n"
     ]
    }
   ],
   "source": [
    "# # linux操作系统的名词是posix\n",
    "# windows是nt\n",
    "print(os.name)"
   ]
  },
  {
   "cell_type": "code",
   "execution_count": 44,
   "metadata": {},
   "outputs": [],
   "source": [
    "import os.path as op"
   ]
  },
  {
   "cell_type": "code",
   "execution_count": 49,
   "metadata": {},
   "outputs": [
    {
     "name": "stdout",
     "output_type": "stream",
     "text": [
      "D:\\python 全栈\\第一遍复习\\02-高级语法系列\\02-模块\n",
      "D:\\python 全栈\\第一遍复习\\02-高级语法系列\n"
     ]
    }
   ],
   "source": [
    "# abspath() 将路径转化为绝对路径\n",
    "# abselute 绝对\n",
    "# 格式：os.path.abspath(\"路径\")\n",
    "# 返回值：路径的绝对路径形式\n",
    "\n",
    "# help(os.path.abspath\n",
    "# linux中\n",
    "# .点号，代表当前目录\n",
    "# ..双点，代表父级目录\n",
    "absp = op.abspath(\".\")\n",
    "print(absp)\n",
    "absp = op.abspath(\"..\")\n",
    "print(absp)"
   ]
  },
  {
   "cell_type": "code",
   "execution_count": 51,
   "metadata": {},
   "outputs": [
    {
     "name": "stdout",
     "output_type": "stream",
     "text": [
      "yby\n",
      "yby.hah\n"
     ]
    }
   ],
   "source": [
    "# basename() 获取路径中的文件名部分\n",
    "# 格式：os.path.basename(路径)\n",
    "# 返回值：文件名字符串\n",
    "\n",
    "bn = op.basename(\"/home/yby\")\n",
    "print(bn)\n",
    "bn = op.basename(\"/home/yby/yby.hah\")\n",
    "print(bn)"
   ]
  },
  {
   "cell_type": "code",
   "execution_count": 53,
   "metadata": {},
   "outputs": [
    {
     "name": "stdout",
     "output_type": "stream",
     "text": [
      "\\home\\yby\\yby.ha\n"
     ]
    }
   ],
   "source": [
    "# join() 将多个路径拼合成一个路径\n",
    "# 格式：os.path.join(路径1，路径2...)\n",
    "# 返回值：组合之后的新路径字符串\n",
    "\n",
    "# help(op.join)\n",
    "bd = \"\\home\\yby\"\n",
    "fn = \"yby.ha\"\n",
    "bn = op.join(bd,fn)\n",
    "print(bn)"
   ]
  },
  {
   "cell_type": "code",
   "execution_count": 57,
   "metadata": {},
   "outputs": [
    {
     "name": "stdout",
     "output_type": "stream",
     "text": [
      "('\\\\home\\\\yby', 'yby.txt')\n",
      "\\home\\yby\n",
      "yeb.txt\n"
     ]
    }
   ],
   "source": [
    "# split() 将路径七个为文件夹部分和当前文件部分\n",
    "# 格式：os.path.split(路径)\n",
    "# 返回值：路径和文件名组成的元组\n",
    "\n",
    "t = op.split(\"\\home\\yby\\yby.txt\")\n",
    "print(t)\n",
    "d, p = op.split(\"\\home\\yby\\yeb.txt\")\n",
    "print(d)\n",
    "print(p)"
   ]
  },
  {
   "cell_type": "code",
   "execution_count": 61,
   "metadata": {},
   "outputs": [
    {
     "name": "stdout",
     "output_type": "stream",
     "text": [
      "False\n"
     ]
    }
   ],
   "source": [
    "# isdir() 检测是否是目录 只要是is开头的，返回值都是布尔值\n",
    "# 格式：os.path.isdir(路径)\n",
    "# 返回值：布尔值\n",
    "\n",
    "# rst = op.isdir(r\"D:\\python 全栈\\第一遍复习\\02-高级语法系列\\02-模块\")\n",
    "rst = op.isdir(\"\\home\\yby\\yeb.txt\")\n",
    "print(rst)"
   ]
  },
  {
   "cell_type": "code",
   "execution_count": 63,
   "metadata": {},
   "outputs": [
    {
     "name": "stdout",
     "output_type": "stream",
     "text": [
      "True\n"
     ]
    }
   ],
   "source": [
    "# exists()检测文件或者目录是否存在\n",
    "# 格式：os.path.exists(路径)\n",
    "# 返回值：布尔值\n",
    "\n",
    "# e = op.exists(\"\\home\\yby\\yeb.txt\")\n",
    "e = op.exists(r\"D:\\python 全栈\\第一遍复习\\02-高级语法系列\\02-模块\")\n",
    "print(e)"
   ]
  },
  {
   "cell_type": "code",
   "execution_count": 88,
   "metadata": {},
   "outputs": [],
   "source": [
    "import shutil"
   ]
  },
  {
   "cell_type": "code",
   "execution_count": 71,
   "metadata": {},
   "outputs": [
    {
     "name": "stdout",
     "output_type": "stream",
     "text": [
      "None\n"
     ]
    }
   ],
   "source": [
    "# copy（）赋值文件 如果是文件夹，报错\n",
    "# 格式：shutil.copy（来源路径，目标路径）\n",
    "# 返回值：返回的是None\n",
    "# 拷贝的同时可以给文件重命名\n",
    "\n",
    "rst = shutil.copy(r\"D:\\python 全栈\\第一遍复习\\02-高级语法系列\\02-模块\\yby\\mi.txt\", r\"D:\\python 全栈\\第一遍复习\\02-高级语法系列\\lis.txt\")\n",
    "print(tst)"
   ]
  },
  {
   "cell_type": "code",
   "execution_count": 74,
   "metadata": {},
   "outputs": [
    {
     "name": "stdout",
     "output_type": "stream",
     "text": [
      "D:\\python 全栈\\第一遍复习\\02-高级语法系列\\lis.txt\n"
     ]
    }
   ],
   "source": [
    "# copy2()赋值文件，保留元数据（文件信息）\n",
    "# 格式：shutil.copy2(来源路径，目标路径)\n",
    "# 返回值：返回目标路径\n",
    "# 注意：copy 和copy2的唯一区别在于copy2赋值文件是尽量保留元数据\n",
    "rst = shutil.copy2(r\"D:\\python 全栈\\第一遍复习\\02-高级语法系列\\02-模块\\yby\\mi.txt\",r\"D:\\python 全栈\\第一遍复习\\02-高级语法系列\\lis.txt\")\n",
    "print(rst)"
   ]
  },
  {
   "cell_type": "code",
   "execution_count": 75,
   "metadata": {},
   "outputs": [
    {
     "name": "stdout",
     "output_type": "stream",
     "text": [
      "D:\\python 全栈\\第一遍复习\\02-高级语法系列\\lis.txt\n"
     ]
    }
   ],
   "source": [
    "# copyfile()将一个文件中的内容赋值到另外一个文件当中\n",
    "# 格式：shutil.copyfile(\"原路径\",\"目标路径\")\n",
    "# 返回值：无\n",
    "\n",
    "rst = shutil.copyfile(r\"D:\\python 全栈\\第一遍复习\\02-高级语法系列\\02-模块\\yby\\mi.txt\",r\"D:\\python 全栈\\第一遍复习\\02-高级语法系列\\lis.txt\")\n",
    "print(rst)"
   ]
  },
  {
   "cell_type": "code",
   "execution_count": 76,
   "metadata": {},
   "outputs": [
    {
     "name": "stdout",
     "output_type": "stream",
     "text": [
      "D:\\python 全栈\\第一遍复习\\02-高级语法系列\\mi.txt\n"
     ]
    }
   ],
   "source": [
    "# move() 移动文件/文件夹\n",
    "# 格式：shutil.move(原路径，目标路径)\n",
    "# 返回值：目标路径\n",
    "rst = shutil.move(r\"D:\\python 全栈\\第一遍复习\\02-高级语法系列\\02-模块\\yby\\mi.txt\",r\"D:\\python 全栈\\第一遍复习\\02-高级语法系列\")\n",
    "print(rst)"
   ]
  },
  {
   "cell_type": "code",
   "execution_count": 89,
   "metadata": {},
   "outputs": [
    {
     "name": "stdout",
     "output_type": "stream",
     "text": [
      "D:\\python 全栈\\第一遍复习\\02-高级语法系列\\02-模块\\ysx.zip\n"
     ]
    }
   ],
   "source": [
    "# make_archive()归档操作\n",
    "# 格式：shutil.make_archive(\"归档之后的目录和文件名\", \"后缀\",\"需要归档的文件夹\")\n",
    "# 返回值：归档之后的地址\n",
    "\n",
    "# help(shutil.make_archive)\n",
    "rst = shutil.make_archive(r\"D:\\python 全栈\\第一遍复习\\02-高级语法系列\\02-模块\\ysx\",\"zip\",r\"D:\\python 全栈\\第一遍复习\\02-高级语法系列\\02-模块\\ysx\")\n",
    "print(rst)"
   ]
  },
  {
   "cell_type": "code",
   "execution_count": 83,
   "metadata": {},
   "outputs": [
    {
     "name": "stdout",
     "output_type": "stream",
     "text": [
      "None\n"
     ]
    }
   ],
   "source": [
    "# unpack_archive()解包操作\n",
    "# 格式：shutil.unpack_archive(归档文件地址，解包之后的地址)\n",
    "# 返回值：解包之后的地址\n",
    "# rst = shutil.unpack_archive(r\"D:\\python 全栈\\第一遍复习\\02-高级语法系列\\02-模块\\yby.zip\",r\"D:\\python 全栈\\第一遍复习\\02-高级语法系列\\02-模块\")\n",
    "# print(rst) # 错误"
   ]
  },
  {
   "cell_type": "code",
   "execution_count": 86,
   "metadata": {},
   "outputs": [],
   "source": [
    "import zipfile"
   ]
  },
  {
   "cell_type": "code",
   "execution_count": 90,
   "metadata": {},
   "outputs": [],
   "source": [
    "# zipfile.Zipfile(file[, mode[,comparession[,allowZip64]]])\n",
    "# 创建一个ZipFile对象，表示一个zip文件，参数file表示文件的路径或者类文件对象\n",
    "\n",
    "zf = zipfile.ZipFile(r\"D:\\python 全栈\\第一遍复习\\02-高级语法系列\\02-模块\\ysx.zip\")"
   ]
  },
  {
   "cell_type": "code",
   "execution_count": 92,
   "metadata": {},
   "outputs": [
    {
     "name": "stdout",
     "output_type": "stream",
     "text": [
      "<ZipInfo filename='test1.txt' compress_type=deflate filemode='-rw-rw-rw-' file_size=4 compress_size=6>\n"
     ]
    }
   ],
   "source": [
    "# ZipFile.getinfo(name):\n",
    "# 获取zip文档内指定文件的信息。返回一个zipfile.ZipInfo对象，它包括文件的详细信息。将在下面 具体介绍该对象\n",
    "rst = zf.getinfo(\"test1.txt\")\n",
    "print(rst)"
   ]
  },
  {
   "cell_type": "code",
   "execution_count": 93,
   "metadata": {},
   "outputs": [
    {
     "name": "stdout",
     "output_type": "stream",
     "text": [
      "['test1.txt']\n"
     ]
    }
   ],
   "source": [
    "# ZipFile.namelist()\n",
    "# 获取zip文档内所有文件的名称列表\n",
    "\n",
    "nl = zf.namelist()\n",
    "print(nl)"
   ]
  },
  {
   "cell_type": "code",
   "execution_count": 95,
   "metadata": {},
   "outputs": [
    {
     "name": "stdout",
     "output_type": "stream",
     "text": [
      "None\n"
     ]
    }
   ],
   "source": [
    "# ZipFile.extractall([path[,members[,pwd]]])\n",
    "#  解压zip文档中的所有文件到当前目录。参数members的默认值为zip文档内的所有文件名称列表，也可以自己设置，选择要解压的文件名称。\n",
    "# 返回值：None\n",
    "rst = zf.extractall(r\"D:\\python 全栈\\第一遍复习\\02-高级语法系列\\02-模块\\ysx\")\n",
    "print(rst)\n"
   ]
  },
  {
   "cell_type": "code",
   "execution_count": 96,
   "metadata": {},
   "outputs": [],
   "source": [
    "import random"
   ]
  },
  {
   "cell_type": "code",
   "execution_count": 104,
   "metadata": {},
   "outputs": [
    {
     "name": "stdout",
     "output_type": "stream",
     "text": [
      "0.26584726186517416\n",
      "23\n"
     ]
    }
   ],
   "source": [
    "# random()获取0-1之间的随机小数\n",
    "# 格式：random.random()\n",
    "# 返回值：随机0-1之间的小数\n",
    "\n",
    "m = random.random()\n",
    "print(m)\n",
    "\n",
    "num = int(random.random()*100)\n",
    "print(num)\n",
    "\n",
    "# for i in range(10):\n",
    "#     num = random.randint(0,3)#包含左右\n",
    "#     print(num)"
   ]
  },
  {
   "cell_type": "code",
   "execution_count": 110,
   "metadata": {},
   "outputs": [
    {
     "name": "stdout",
     "output_type": "stream",
     "text": [
      "['0hh', '1hh', '2hh', '3hh', '4hh', '5hh', '6hh', '7hh', '8hh', '9hh']\n",
      "6hh\n"
     ]
    }
   ],
   "source": [
    "# choice() 随机返回序列中的某个值\n",
    "# 格式：random.choice(序列)\n",
    "# 返回值：序列表中的某个值\n",
    "\n",
    "l = [str(i) + \"hh\" for i in range(10)]\n",
    "print(l)\n",
    "rst = random.choice(l)\n",
    "print(rst)"
   ]
  },
  {
   "cell_type": "code",
   "execution_count": 148,
   "metadata": {},
   "outputs": [
    {
     "name": "stdout",
     "output_type": "stream",
     "text": [
      "[0, 7, 4, 1, 2, 5, 6, 3, 8, 9]\n",
      "9\n",
      "[0, 7, 4, 1, 2, 5, 6, 3, 8]\n"
     ]
    }
   ],
   "source": [
    "# shuffle()随机打乱列表\n",
    "# 格式：random.shuffle(列表)\n",
    "# 返回值：None\n",
    "l = [i for i in range(10)]\n",
    "random.shuffle(l)\n",
    "print(l)\n",
    "print(l.pop())\n",
    "print(l)"
   ]
  },
  {
   "cell_type": "code",
   "execution_count": 150,
   "metadata": {},
   "outputs": [
    {
     "name": "stdout",
     "output_type": "stream",
     "text": [
      "38\n"
     ]
    }
   ],
   "source": [
    "# randint(a,b)，ab都包含\n",
    "print(random.randint(0,56))"
   ]
  },
  {
   "cell_type": "code",
   "execution_count": null,
   "metadata": {},
   "outputs": [],
   "source": []
  }
 ],
 "metadata": {
  "kernelspec": {
   "display_name": "Python 3",
   "language": "python",
   "name": "python3"
  },
  "language_info": {
   "codemirror_mode": {
    "name": "ipython",
    "version": 3
   },
   "file_extension": ".py",
   "mimetype": "text/x-python",
   "name": "python",
   "nbconvert_exporter": "python",
   "pygments_lexer": "ipython3",
   "version": "3.7.0"
  }
 },
 "nbformat": 4,
 "nbformat_minor": 2
}
