{
 "cells": [
  {
   "cell_type": "markdown",
   "metadata": {},
   "source": [
    "# os模块\n",
    "# https://www.runoob.com/python3/python3-os-file-methods.html\n",
    "# time模块\n",
    "# https://www.cnblogs.com/tkqasn/p/6001134.html\n",
    "# json模块\n",
    "# https://www.cnblogs.com/tjuyuan/p/6795860.html"
   ]
  },
  {
   "cell_type": "code",
   "execution_count": 2,
   "metadata": {},
   "outputs": [
    {
     "name": "stdout",
     "output_type": "stream",
     "text": [
      "2\n"
     ]
    }
   ],
   "source": [
    "def jianfa(a,b):\n",
    "    if a < b:\n",
    "        raise BaseException(\"被减数不能小于减数\")# 抛出异常\n",
    "    else:\n",
    "        return a - b\n",
    "try:\n",
    "    jianfa(8,7)\n",
    "except BaseException as e:\n",
    "    print(\"好像出错了，出错内容是%s\"%e)\n",
    "else:\n",
    "    print(jianfa(9,7))"
   ]
  },
  {
   "cell_type": "markdown",
   "metadata": {},
   "source": [
    "# 自己定义一个异常类，继承Exception类，捕获下面的过程：判断输入的字符串长度是否小于5 "
   ]
  },
  {
   "cell_type": "code",
   "execution_count": 3,
   "metadata": {},
   "outputs": [
    {
     "name": "stdout",
     "output_type": "stream",
     "text": [
      "sfsfsfs\n"
     ]
    }
   ],
   "source": [
    "import os\n",
    "\n",
    "def func(filename):\n",
    "    try:\n",
    "        file = open(filename, encoding=\"utf-8\")\n",
    "    except Exception as error:\n",
    "        print(\"出错了，出错原因是{0}\".format(error))\n",
    "    else:\n",
    "        text = file.read()\n",
    "        if text == \"\":\n",
    "            print(\"文件内容为空\")\n",
    "        else:\n",
    "            print(text)\n",
    "#         print(file.read())\n",
    "        file.close()\n",
    "func(\"haha.txt\")"
   ]
  },
  {
   "cell_type": "code",
   "execution_count": 13,
   "metadata": {},
   "outputs": [
    {
     "name": "stdout",
     "output_type": "stream",
     "text": [
      "没问题\n"
     ]
    }
   ],
   "source": [
    "class MyError(Exception):\n",
    "    def __init__(self, strs):\n",
    "        self.strs = strs\n",
    "        \n",
    "    def process(self):\n",
    "        if len(self.strs) < 5:\n",
    "            print(\"数字太小啦！\")\n",
    "        else:\n",
    "            print(\"没问题\")\n",
    "try:\n",
    "#     er = MyError(\"122\")\n",
    "    er = MyError(\"12230\")\n",
    "    er.process()\n",
    "except MyError as error:\n",
    "    er.process"
   ]
  },
  {
   "cell_type": "markdown",
   "metadata": {},
   "source": [
    "# 写一个6位数书记验证码程序（使用random模块）要求验证码中至少包含一个数字，一个小写字符，一个大写字母"
   ]
  },
  {
   "cell_type": "code",
   "execution_count": 31,
   "metadata": {},
   "outputs": [
    {
     "name": "stdout",
     "output_type": "stream",
     "text": [
      "rA8pFd\n"
     ]
    }
   ],
   "source": [
    "import random as ra\n",
    "import string \n",
    "\n",
    "# help(string)\n",
    "code = []\n",
    "code.append(ra.choice(string.ascii_lowercase))#保证验证码中有一个小写字母\n",
    "code.append(ra.choice(string.ascii_uppercase))#大写\n",
    "code.append(ra.choice(string.digits))#数字\n",
    "\n",
    "while len(code) < 6:\n",
    "    code.append(ra.choice(string.ascii_lowercase+string.ascii_uppercase+string.digits))\n",
    "    \n",
    "# print(code)\n",
    "s = \"\".join(code)\n",
    "print(s)"
   ]
  },
  {
   "cell_type": "markdown",
   "metadata": {},
   "source": [
    "## 写一个用户登陆验证程序，文件如下1234.json\n",
    "- 1234.json\n",
    "- {\"expire_date\":\"2021-01-01\",\"id\":\"1234\",\"status\":0,\"pay_day\":22,\"password\":\"abc\"}\n",
    "  - 用户名为json的文件名\n",
    "  - 判断是否过期，与expire_date作比较\n",
    "  - 登陆成功厚打印登陆成功，三次登陆失败，status值为1，并且锁定账号"
   ]
  },
  {
   "cell_type": "code",
   "execution_count": null,
   "metadata": {},
   "outputs": [],
   "source": [
    "import time\n",
    "import os\n",
    "import json\n",
    "\n",
    "count = 0\n",
    "status_flag = False\n",
    "while count < 3:\n",
    "    user = input(\"请输入账号：\")\n",
    "    file = user.strip() + \".json\"\n",
    "    if not os.path.exists(file):\n",
    "        print(\"文件名不存在，请重新输入\")\n",
    "    else:\n",
    "        fp = open(file, \"r+\", encoding=\"utf-8\")\n",
    "        j_user = json.load(fp)\n",
    "        expire_dt = j_user[\"expire_date\"]\n",
    "        current_st = time.time()\n",
    "        expire_st = time.mktime(time.strptime(expire_dt,\"%Y-%m-%d\"))\n",
    "        if time.time() > expire_st:\n",
    "            print(\"账号已过期！\")\n",
    "            break\n",
    "        else:\n",
    "            if j_user[\"status\"] == 1:\n",
    "                print(\"账号已被锁定！\")\n",
    "            else:\n",
    "                while count < 3:\n",
    "                    password = input(\"请输入密码:\")\n",
    "                    if password != j_user[\"password\"]:\n",
    "                        count += 1\n",
    "                        if count == 3:\n",
    "                            print(\"密码输错3次，账号被锁定\")\n",
    "                            j_user[\"status\"] = 1\n",
    "                            fp.seek(0)\n",
    "                            fp.truncate()\n",
    "                            json.dump(j_user,fp)\n",
    "                            status_flag = True\n",
    "                            break\n",
    "                        else:\n",
    "                            print(\"密码错误，请重新输入！\")\n",
    "                    else:\n",
    "                        print(\"登陆成功！\")\n",
    "                        status_flag = True\n",
    "                        break\n",
    "    if status_flag:\n",
    "        break\n",
    "    "
   ]
  },
  {
   "cell_type": "code",
   "execution_count": null,
   "metadata": {},
   "outputs": [],
   "source": []
  }
 ],
 "metadata": {
  "kernelspec": {
   "display_name": "Python 3",
   "language": "python",
   "name": "python3"
  },
  "language_info": {
   "codemirror_mode": {
    "name": "ipython",
    "version": 3
   },
   "file_extension": ".py",
   "mimetype": "text/x-python",
   "name": "python",
   "nbconvert_exporter": "python",
   "pygments_lexer": "ipython3",
   "version": "3.7.0"
  }
 },
 "nbformat": 4,
 "nbformat_minor": 2
}
