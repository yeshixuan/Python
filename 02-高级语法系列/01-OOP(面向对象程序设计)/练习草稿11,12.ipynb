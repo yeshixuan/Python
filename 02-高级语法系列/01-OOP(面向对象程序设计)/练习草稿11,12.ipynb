{
 "cells": [
  {
   "cell_type": "code",
   "execution_count": 44,
   "metadata": {},
   "outputs": [
    {
     "name": "stdout",
     "output_type": "stream",
     "text": [
      "这是属于模块的哟\n",
      "你好，留隍\n",
      "{'name': '留隍', 'age': 14}\n",
      "{'__module__': '__main__', '__init__': <function Student.__init__ at 0x0000020660423488>, 'sayHello': <function Student.sayHello at 0x00000206604238C8>, '__dict__': <attribute '__dict__' of 'Student' objects>, '__weakref__': <attribute '__weakref__' of 'Student' objects>, '__doc__': None}\n"
     ]
    }
   ],
   "source": [
    "# 包含一个学生类\n",
    "# -个sayhello函数\n",
    "# 一个打印语句\n",
    "class Student():\n",
    "    def __init__(self, name=\"NoName\", age=18):\n",
    "        self.name = name\n",
    "        self.age = age\n",
    "    def sayHello(self):\n",
    "        print(\"你好，{}\".format(self.name))\n",
    "\n",
    "print(\"这是属于模块的哟\")\n",
    "\n",
    "\n",
    "\n",
    "s = Student(\"留隍\",14)\n",
    "s.sayHello()\n",
    "#对象所有成员的检测\n",
    "print(s.__dict__)\n",
    "#类所有成员\n",
    "print(Student.__dict__)\n"
   ]
  },
  {
   "cell_type": "code",
   "execution_count": 47,
   "metadata": {},
   "outputs": [
    {
     "name": "stdout",
     "output_type": "stream",
     "text": [
      "None\n",
      "0\n",
      "在做作业\n"
     ]
    }
   ],
   "source": [
    "class Student():\n",
    "    pass\n",
    "mingyue = Student()\n",
    "\n",
    "class PythonStudent():\n",
    "    #用None给不确定的值赋值\n",
    "    name = None\n",
    "    age = 0\n",
    "    course = \"Python\"\n",
    "    #系统默认由一个self参数\n",
    "    def doHomework(self):\n",
    "        print(\"在做作业\")\n",
    "        #推荐在函数末尾使用return\n",
    "    def haha():\n",
    "        print(\"实例好像不能打印我哦\")\n",
    "yueyue = PythonStudent()\n",
    "print(yueyue.name)\n",
    "print(yueyue.age)\n",
    "yueyue.doHomework()\n",
    "# yueyue.haha()"
   ]
  },
  {
   "cell_type": "code",
   "execution_count": 43,
   "metadata": {},
   "outputs": [
    {
     "name": "stdout",
     "output_type": "stream",
     "text": [
      "刘洋\n",
      "15\n",
      "40000\n",
      "40000\n"
     ]
    }
   ],
   "source": [
    "class Person():\n",
    "    name = \"刘洋\"\n",
    "    #私有成员\n",
    "    __age = 15\n",
    "    #受保护的\n",
    "    _money = 40000\n",
    "    \n",
    "p = Person()\n",
    "print(p.name)\n",
    "# p.__age\n",
    "print(p._Person__age)\n",
    "print(p._money)\n",
    "print(Person._money)\n",
    "# _money"
   ]
  },
  {
   "cell_type": "code",
   "execution_count": 33,
   "metadata": {},
   "outputs": [],
   "source": [
    "# conda create -n xxx python=3.6\n",
    "# conda list\n",
    "# conda env list"
   ]
  },
  {
   "cell_type": "code",
   "execution_count": 52,
   "metadata": {},
   "outputs": [
    {
     "name": "stdout",
     "output_type": "stream",
     "text": [
      "noName\n",
      "sec\n",
      "Sleeping>>>>>>>>>>>>\n"
     ]
    }
   ],
   "source": [
    "# 继承的语法\n",
    "class Person():\n",
    "    name = \"noName\"\n",
    "    age = 18\n",
    "    __score = 0#私有的\n",
    "    _petname = \"sec\"#受保护的\n",
    "    \n",
    "    def sleep(self):\n",
    "        print(\"Sleeping>>>>>>>>>>>>\")\n",
    "        \n",
    "#继承        \n",
    "class Teacher(Person):\n",
    "    teacher_id = \"3434\"\n",
    "    def make_test(self):\n",
    "        print(\"attention\")\n",
    "t = Teacher()\n",
    "print(t.name)\n",
    "# print(t.__score)\n",
    "print(t._petname)\n",
    "t.sleep()\n"
   ]
  },
  {
   "cell_type": "code",
   "execution_count": 56,
   "metadata": {},
   "outputs": [
    {
     "name": "stdout",
     "output_type": "stream",
     "text": [
      "laoda\n",
      "ssssssssssssssssss\n"
     ]
    }
   ],
   "source": [
    "# 子类和父类定义同一个名称变量，则优先使用子类本身\n",
    "class Person():\n",
    "    name = \"NoName\"\n",
    "    age = 18\n",
    "    __score = 0#私有的\n",
    "    _petname = \"sec\"#受保护的\n",
    "    \n",
    "    def sleep(self):\n",
    "        print(\"Sleeping>>>>>>>>>>>>\")\n",
    "\n",
    "class Teacher(Person):\n",
    "    teacher_id = \"4533\"\n",
    "    name = \"laoda\"\n",
    "    def sleep(self):\n",
    "        print(\"ssssssssssssssssss\")\n",
    "        \n",
    "    def make_test(self):\n",
    "        print(\"attention\")\n",
    "    \n",
    "t = Teacher()\n",
    "print(t.name)\n",
    "t.sleep()"
   ]
  },
  {
   "cell_type": "code",
   "execution_count": 59,
   "metadata": {},
   "outputs": [
    {
     "name": "stdout",
     "output_type": "stream",
     "text": [
      "make some money\n",
      "attention\n"
     ]
    }
   ],
   "source": [
    "# 子类扩充父类功能单利\n",
    "# 人有工作的函数，老师也有，但老师的工作有讲课\n",
    "class Person():\n",
    "    name = \"NoName\"\n",
    "    age = 18\n",
    "    __score = 0#私有的\n",
    "    _petname = \"sec\"#受保护的\n",
    "    \n",
    "    def sleep(self):\n",
    "        print(\"Sleeping>>>>>>>>>>>>\")\n",
    "    \n",
    "    def work(self):\n",
    "        print(\"make some money\")\n",
    "\n",
    "class Teacher(Person):\n",
    "    teacher_id = \"9343\"\n",
    "    name = \"dDAF\"\n",
    "    \n",
    "    def make_test(self):\n",
    "        print(\"attention\")\n",
    "    def work(self):\n",
    "        #调用父类相同的函数\n",
    "#         Person.work(self)\n",
    "        #或者使用super()\n",
    "        super().work()\n",
    "        self.make_test()\n",
    "\n",
    "t = Teacher()\n",
    "t.work()"
   ]
  },
  {
   "cell_type": "code",
   "execution_count": 60,
   "metadata": {},
   "outputs": [
    {
     "name": "stdout",
     "output_type": "stream",
     "text": [
      "I am init in dog\n"
     ]
    }
   ],
   "source": [
    "# 构造函数的概念\n",
    "\n",
    "class Dog():\n",
    "    #__init__ 构造函数\n",
    "    # 每次实例化的时候，第一个被自动调用\n",
    "    # 因为主要工作就是进行初始化，所以得名\n",
    "    def __init__(self):\n",
    "        print(\"I am init in dog\")\n",
    "# 实例化的时候，括号内的参数需要跟构造函数的参数相匹配\n",
    "d = Dog()"
   ]
  },
  {
   "cell_type": "code",
   "execution_count": 61,
   "metadata": {},
   "outputs": [
    {
     "name": "stdout",
     "output_type": "stream",
     "text": [
      "I am init in dog\n"
     ]
    }
   ],
   "source": [
    "# 继承中的构造函数-1\n",
    "class Animal():\n",
    "    pass\n",
    "class PxingAni(Animal):\n",
    "    pass\n",
    "class Dog(PxingAni):\n",
    "    def __init__(self):\n",
    "        print(\"I am init in dog\")\n",
    "kaka = Dog()"
   ]
  },
  {
   "cell_type": "code",
   "execution_count": 68,
   "metadata": {},
   "outputs": [
    {
     "name": "stdout",
     "output_type": "stream",
     "text": [
      "Cat\n"
     ]
    }
   ],
   "source": [
    "# 继承中的构造函数-2\n",
    "class Animal():\n",
    "    def __init__(self):\n",
    "        print(\"Animal\")\n",
    "class PaxingAni(Animal):\n",
    "#     def __init__(self):\n",
    "#         print(\"Paxing\")\n",
    "    pass\n",
    "class Dog(PaxingAni):\n",
    "#     def __Init__(self):\n",
    "#         print(\"Dog\")\n",
    "    pass\n",
    "        \n",
    "kaka = Dog()\n",
    "class Cat(PaxingAni):\n",
    "    def __init__(self):\n",
    "        print('Cat')\n",
    "\n",
    "c = Cat()"
   ]
  },
  {
   "cell_type": "code",
   "execution_count": 72,
   "metadata": {},
   "outputs": [
    {
     "name": "stdout",
     "output_type": "stream",
     "text": [
      "Dog\n"
     ]
    },
    {
     "ename": "TypeError",
     "evalue": "__init__() takes 1 positional argument but 2 were given",
     "output_type": "error",
     "traceback": [
      "\u001b[1;31m---------------------------------------------------------------------------\u001b[0m",
      "\u001b[1;31mTypeError\u001b[0m                                 Traceback (most recent call last)",
      "\u001b[1;32m<ipython-input-72-3bdb0261315a>\u001b[0m in \u001b[0;36m<module>\u001b[1;34m()\u001b[0m\n\u001b[0;32m     16\u001b[0m         \u001b[0mprint\u001b[0m\u001b[1;33m(\u001b[0m\u001b[1;34m\"Cat\"\u001b[0m\u001b[1;33m)\u001b[0m\u001b[1;33m\u001b[0m\u001b[0m\n\u001b[0;32m     17\u001b[0m \u001b[1;31m# c = Cat()\u001b[0m\u001b[1;33m\u001b[0m\u001b[1;33m\u001b[0m\u001b[0m\n\u001b[1;32m---> 18\u001b[1;33m \u001b[0mc\u001b[0m \u001b[1;33m=\u001b[0m \u001b[0mCat\u001b[0m\u001b[1;33m(\u001b[0m\u001b[1;34m\"mi\"\u001b[0m\u001b[1;33m)\u001b[0m\u001b[1;33m\u001b[0m\u001b[0m\n\u001b[0m",
      "\u001b[1;31mTypeError\u001b[0m: __init__() takes 1 positional argument but 2 were given"
     ]
    }
   ],
   "source": [
    "# 继承中的构造函数-3\n",
    "class Animal():\n",
    "    def __init__(self):\n",
    "        print(\"Animal\")\n",
    "class PaxingAni(Animal):\n",
    "    def __init__(self,name):\n",
    "        print(\"Paxing DONGWU {0}\".format(name))\n",
    "class Dog(PaxingAni):\n",
    "    def __init__(self):\n",
    "        print('Dog')\n",
    "d = Dog()\n",
    "\n",
    "class Cat(PaxingAni):\n",
    "    pass\n",
    "#     def __init__(self):\n",
    "#         print(\"Cat\")\n",
    "# c = Cat()\n",
    "c = Cat(\"mi\")"
   ]
  },
  {
   "cell_type": "code",
   "execution_count": 73,
   "metadata": {},
   "outputs": [
    {
     "name": "stdout",
     "output_type": "stream",
     "text": [
      "Animal\n"
     ]
    }
   ],
   "source": [
    "# 继承中的构造函数-4\n",
    "class Animal():\n",
    "    def __init__(self):\n",
    "        print(\"Animal\")\n",
    "\n",
    "class PaxingAni(Animal):\n",
    "    pass\n",
    "\n",
    "class Dog(PaxingAni):\n",
    "     pass\n",
    "    \n",
    "# 实例化Dog时，查找到Dog的够着函数，参数匹配，不报错\n",
    "d=Dog()\n"
   ]
  },
  {
   "cell_type": "code",
   "execution_count": 78,
   "metadata": {},
   "outputs": [
    {
     "name": "stdout",
     "output_type": "stream",
     "text": [
      "<class 'type'>\n",
      "Help on method_descriptor:\n",
      "\n",
      "update(...)\n",
      "    Update a set with the union of itself and others.\n",
      "\n"
     ]
    }
   ],
   "source": [
    "print(type(super))\n",
    "# help(super)\n",
    "help(set.update)"
   ]
  },
  {
   "cell_type": "code",
   "execution_count": 3,
   "metadata": {},
   "outputs": [
    {
     "name": "stdout",
     "output_type": "stream",
     "text": [
      "yao\n",
      "19\n",
      "dana\n",
      "19\n",
      "Hello\n"
     ]
    }
   ],
   "source": [
    "class Teacher():\n",
    "    name=\"dana\"\n",
    "    age=19\n",
    "    \n",
    "    def say(self):\n",
    "        self.name=\"yao\"\n",
    "        self.age=17\n",
    "        print(\"{0}\".format(self.name))\n",
    "        # 调用类的成员变量需要__class__\n",
    "        print(\"{0}\".format(__class__.age))\n",
    "    def sayAgain():\n",
    "        print(__class__.name)\n",
    "        print(__class__.age)\n",
    "        print(\"Hello\")\n",
    "t=Teacher()\n",
    "t.say()\n",
    "# 调用绑定类函数使用类名\n",
    "Teacher.sayAgain()"
   ]
  },
  {
   "cell_type": "code",
   "execution_count": 12,
   "metadata": {},
   "outputs": [
    {
     "name": "stdout",
     "output_type": "stream",
     "text": [
      "aaaa\n",
      "200\n",
      "aaaa\n",
      "200\n",
      "liuying\n",
      "18\n",
      "bbbb\n",
      "90\n"
     ]
    }
   ],
   "source": [
    "# 关于self的案例\n",
    "\n",
    "class A():\n",
    "    name=\"liuying\"\n",
    "    age=18\n",
    "    \n",
    "    def __init__(self):\n",
    "        self.name=\"aaaa\"\n",
    "        self.age=200\n",
    "        \n",
    "    def say(self):\n",
    "        print(self.name)\n",
    "        print(self.age)\n",
    "class B():\n",
    "    name=\"bbbb\"\n",
    "    age=90\n",
    "    \n",
    "a=A()\n",
    "\n",
    "# 此时，系统会默认吧a作为第一个参数传入函数\n",
    "a.say()\n",
    "\n",
    "# 此时，self被a替换\n",
    "A.say(a)\n",
    "\n",
    "# 同样可以把A作为参数传入\n",
    "A.say(A)\n",
    "\n",
    "# 此时，传入的是类实例B，因为B具有name和age属性，所以不会报错\n",
    "A.say(B)\n",
    "\n",
    "# 以上代码，利用了鸭子模型"
   ]
  },
  {
   "cell_type": "code",
   "execution_count": 16,
   "metadata": {},
   "outputs": [
    {
     "name": "stdout",
     "output_type": "stream",
     "text": [
      "liuying\n"
     ]
    },
    {
     "ename": "AttributeError",
     "evalue": "'Person' object has no attribute '__age'",
     "output_type": "error",
     "traceback": [
      "\u001b[1;31m---------------------------------------------------------------------------\u001b[0m",
      "\u001b[1;31mAttributeError\u001b[0m                            Traceback (most recent call last)",
      "\u001b[1;32m<ipython-input-16-73481ef110eb>\u001b[0m in \u001b[0;36m<module>\u001b[1;34m()\u001b[0m\n\u001b[0;32m     11\u001b[0m \u001b[1;31m# __age是私有变量\u001b[0m\u001b[1;33m\u001b[0m\u001b[1;33m\u001b[0m\u001b[0m\n\u001b[0;32m     12\u001b[0m \u001b[1;31m# 注意报错信息\u001b[0m\u001b[1;33m\u001b[0m\u001b[1;33m\u001b[0m\u001b[0m\n\u001b[1;32m---> 13\u001b[1;33m \u001b[0mprint\u001b[0m\u001b[1;33m(\u001b[0m\u001b[0mp\u001b[0m\u001b[1;33m.\u001b[0m\u001b[0m__age\u001b[0m\u001b[1;33m)\u001b[0m\u001b[1;33m\u001b[0m\u001b[0m\n\u001b[0m\u001b[0;32m     14\u001b[0m \u001b[0mp\u001b[0m\u001b[1;33m.\u001b[0m\u001b[0m_Person__age\u001b[0m\u001b[1;33m=\u001b[0m\u001b[1;36m10\u001b[0m\u001b[1;33m\u001b[0m\u001b[0m\n\u001b[0;32m     15\u001b[0m \u001b[0mprint\u001b[0m\u001b[1;33m(\u001b[0m\u001b[0mp\u001b[0m\u001b[1;33m.\u001b[0m\u001b[0m_Person__age\u001b[0m\u001b[1;33m)\u001b[0m\u001b[1;33m\u001b[0m\u001b[0m\n",
      "\u001b[1;31mAttributeError\u001b[0m: 'Person' object has no attribute '__age'"
     ]
    }
   ],
   "source": [
    "# 私有变量案例\n",
    "\n",
    "class Person():\n",
    "    # name 是共有的成员\n",
    "    name=\"liuying\"\n",
    "    # _age就是私有成员\n",
    "    __age=18\n",
    "p=Person()\n",
    "# name是共有变脸\n",
    "print(p.name)\n",
    "# __age是私有变量\n",
    "# 注意报错信息\n",
    "print(p.__age)\n"
   ]
  },
  {
   "cell_type": "code",
   "execution_count": 79,
   "metadata": {},
   "outputs": [
    {
     "name": "stdout",
     "output_type": "stream",
     "text": [
      "{'__module__': '__main__', 'name': 'NoName', 'age': 18, '_Person__score': 0, '_petname': 'sec', 'sleep': <function Person.sleep at 0x000002066046B0D0>, 'work': <function Person.work at 0x000002066046B510>, '__dict__': <attribute '__dict__' of 'Person' objects>, '__weakref__': <attribute '__weakref__' of 'Person' objects>, '__doc__': None}\n",
      "19\n"
     ]
    }
   ],
   "source": [
    "# name mangling技术\n",
    "print(Person.__dict__)\n",
    "\n",
    "p._Person__age=19\n",
    "print(p._Person__age)"
   ]
  },
  {
   "cell_type": "code",
   "execution_count": 85,
   "metadata": {},
   "outputs": [
    {
     "name": "stdout",
     "output_type": "stream",
     "text": [
      "A\n",
      "B\n",
      "<__main__.C object at 0x000002066049E5F8>\n"
     ]
    }
   ],
   "source": [
    "class A():\n",
    "    print('A')\n",
    "class B():\n",
    "    print('B')\n",
    "class C(A,B):\n",
    "    pass\n",
    "c = C()\n",
    "print(c)\n",
    "    "
   ]
  },
  {
   "cell_type": "code",
   "execution_count": 2,
   "metadata": {},
   "outputs": [
    {
     "name": "stdout",
     "output_type": "stream",
     "text": [
      "人在行走\n",
      "pig is walking\n",
      "dog is running\n"
     ]
    }
   ],
   "source": [
    "# 多态是指一类事物有多重形态\n",
    "class Animal():\n",
    "    def run(self):\n",
    "        raise AttributeError(\"子类必须实现这个方法\")\n",
    "        \n",
    "class People(Animal):\n",
    "    def run(self):\n",
    "        print(\"人在行走\")\n",
    "class Pig(Animal):\n",
    "    def run(self):\n",
    "        print(\"pig is walking\")\n",
    "class Dog(Animal):\n",
    "    def run(self):\n",
    "        print('dog is running')\n",
    "\n",
    "p1 = People()\n",
    "pig1 = Pig()\n",
    "d1 = Dog()\n",
    "p1.run()\n",
    "pig1.run()\n",
    "d1.run()"
   ]
  },
  {
   "cell_type": "code",
   "execution_count": 3,
   "metadata": {},
   "outputs": [
    {
     "name": "stdout",
     "output_type": "stream",
     "text": [
      "人在行走\n",
      "pig is walking\n"
     ]
    }
   ],
   "source": [
    "# 多态性：具有不同功能的函数可以使用相同的函数名，\n",
    "# 多态性是一个接口（函数func），多种实现（比如f.click()））\n",
    "\n",
    "# 为什么要用多态性：\n",
    "# 1. 正价程序的灵活性\n",
    "# 1. 正价程序的可扩展性\n",
    "def func(obj):\n",
    "    obj.run()\n",
    "    \n",
    "func(p1)\n",
    "func(pig1)"
   ]
  },
  {
   "cell_type": "code",
   "execution_count": 9,
   "metadata": {},
   "outputs": [
    {
     "name": "stdout",
     "output_type": "stream",
     "text": [
      "woking\n",
      "woking\n",
      "swimming\n",
      "flying\n"
     ]
    }
   ],
   "source": [
    "# 多继承的例子\n",
    "# 子类可以直接拥有父类的属性和方法，私有属性和方法除外\n",
    "class Fish():\n",
    "    def __init__(self, name):\n",
    "        self.name = name \n",
    "    def swim(self):\n",
    "        print('swimming')\n",
    "\n",
    "class Bird():\n",
    "    def __init__(self, name):\n",
    "        self.name = name \n",
    "    def fly(self):\n",
    "        print('flying')\n",
    "\n",
    "class Person():\n",
    "    def __init__(self, name):\n",
    "        self.name = name\n",
    "    def worked(self):\n",
    "        print(\"woking\")\n",
    "\n",
    "        \n",
    "# 单继承的例子\n",
    "class Student(Person):\n",
    "    def __init__(self, name):\n",
    "        self.name = name\n",
    "\n",
    "#多继承\n",
    "class SuperMan(Person, Fish, Bird):\n",
    "    def __init__(self, name):\n",
    "        self.name = name\n",
    "        \n",
    "#单继承的例子\n",
    "stu = Student(\"yueyue\")\n",
    "stu.worked()\n",
    "# stu.swim()\n",
    "\n",
    "s = SuperMan(\"yueyue\")\n",
    "s.worked()\n",
    "s.swim()\n",
    "s.fly()"
   ]
  },
  {
   "cell_type": "code",
   "execution_count": 11,
   "metadata": {},
   "outputs": [
    {
     "name": "stdout",
     "output_type": "stream",
     "text": [
      "A\n",
      "B\n",
      "C\n",
      "D\n"
     ]
    },
    {
     "data": {
      "text/plain": [
       "<__main__.D at 0x29403d1f320>"
      ]
     },
     "execution_count": 11,
     "metadata": {},
     "output_type": "execute_result"
    }
   ],
   "source": [
    "# 菱形继承的问题\n",
    "class A():\n",
    "    print(\"A\")\n",
    "class B(A):\n",
    "    print(\"B\")\n",
    "class C(A):\n",
    "    print(\"C\")\n",
    "class D(B,C):\n",
    "    print('D')\n",
    "\n",
    "d = D()\n",
    "d\n",
    "    "
   ]
  },
  {
   "cell_type": "code",
   "execution_count": 13,
   "metadata": {},
   "outputs": [
    {
     "name": "stdout",
     "output_type": "stream",
     "text": [
      "In init func\n"
     ]
    }
   ],
   "source": [
    "# 构造函数例子\n",
    "class Person():\n",
    "    # 对Person类惊醒实例化的时候\n",
    "    # 姓名，年龄，地址都要有\n",
    "    def __init__(self):\n",
    "        self.name = \"NoName\"\n",
    "        self.age = 15\n",
    "        self.address = \"Studenthome\"\n",
    "        print(\"In init func\")\n",
    "        \n",
    "p = Person()"
   ]
  },
  {
   "cell_type": "code",
   "execution_count": 15,
   "metadata": {},
   "outputs": [
    {
     "name": "stdout",
     "output_type": "stream",
     "text": [
      "a\n"
     ]
    }
   ],
   "source": [
    "# 构造函数的调用顺序-1\n",
    "# 如果子类没有写构造行数，则自动向上查找，直到查到为止\n",
    "class A():\n",
    "    def __init__(self):\n",
    "        print(\"a\")\n",
    "class B(A):\n",
    "#     def __init__(self):\n",
    "#         print(\"B\")\n",
    "    pass\n",
    "class C(B):\n",
    "    pass\n",
    "\n",
    "#此时，首先查找C的构造函数，如果没有就找B\n",
    "# B没有就找A\n",
    "c = C()\n"
   ]
  },
  {
   "cell_type": "code",
   "execution_count": 19,
   "metadata": {},
   "outputs": [
    {
     "name": "stdout",
     "output_type": "stream",
     "text": [
      "B\n"
     ]
    },
    {
     "ename": "TypeError",
     "evalue": "__init__() takes 1 positional argument but 2 were given",
     "output_type": "error",
     "traceback": [
      "\u001b[1;31m---------------------------------------------------------------------------\u001b[0m",
      "\u001b[1;31mTypeError\u001b[0m                                 Traceback (most recent call last)",
      "\u001b[1;32m<ipython-input-19-1df2565cb9eb>\u001b[0m in \u001b[0;36m<module>\u001b[1;34m()\u001b[0m\n\u001b[0;32m     14\u001b[0m \u001b[1;31m# c = C()\u001b[0m\u001b[1;33m\u001b[0m\u001b[1;33m\u001b[0m\u001b[0m\n\u001b[0;32m     15\u001b[0m \u001b[1;31m# 找不到就找到B上去了，但是B需要参数\u001b[0m\u001b[1;33m\u001b[0m\u001b[1;33m\u001b[0m\u001b[0m\n\u001b[1;32m---> 16\u001b[1;33m \u001b[0mc\u001b[0m \u001b[1;33m=\u001b[0m \u001b[0mC\u001b[0m\u001b[1;33m(\u001b[0m\u001b[1;34m'mimi'\u001b[0m\u001b[1;33m)\u001b[0m\u001b[1;33m\u001b[0m\u001b[0m\n\u001b[0m",
      "\u001b[1;31mTypeError\u001b[0m: __init__() takes 1 positional argument but 2 were given"
     ]
    }
   ],
   "source": [
    "# 构造函数的调用顺序-2\n",
    "# 如果子类没有写构造函数，则自动向上查找在，回到找到为止\n",
    "class A():\n",
    "    def __init__(self):\n",
    "        print(\"a\")\n",
    "class B(A):\n",
    "#     def __init__(self,name):\n",
    "#     print(name)\n",
    "    print(\"B\")\n",
    "class C(B):\n",
    "    pass\n",
    "\n",
    "#先找C\n",
    "# c = C()\n",
    "# 找不到就找到B上去了，但是B需要参数\n",
    "c = C('mimi')\n"
   ]
  },
  {
   "cell_type": "code",
   "execution_count": 20,
   "metadata": {},
   "outputs": [
    {
     "name": "stdout",
     "output_type": "stream",
     "text": [
      "我是C\n",
      "B\n",
      "这是c的第二种方法\n"
     ]
    }
   ],
   "source": [
    "# 构造函数的调用顺序 -3 \n",
    "class A():\n",
    "    def __init__(self):\n",
    "        print(\"a\")\n",
    "class B(A):\n",
    "    def __init__(self, name):\n",
    "        print(name)\n",
    "        print(\"B\")\n",
    "class C(B):\n",
    "    #c中想扩展B中的构造函数\n",
    "    # 两种方法实现\n",
    "#     # 1.\n",
    "#     def __init__(self, name):\n",
    "#         B.__init__(self, name)\n",
    "#         print(\"这是C自己添加的功能\")\n",
    "\n",
    "    # 2. \n",
    "    def __init__(self, name):\n",
    "        #下面两个都行\n",
    "        super().__init__(name)\n",
    "#         super(C, self).__init__(name)\n",
    "        print(\"这是c的第二种方法\")\n",
    "c = C(\"我是C\")"
   ]
  },
  {
   "cell_type": "code",
   "execution_count": 31,
   "metadata": {},
   "outputs": [
    {
     "name": "stdout",
     "output_type": "stream",
     "text": [
      "(<class '__main__.Tuthor'>, <class '__main__.Teacher'>, <class '__main__.Student'>, <class '__main__.Person'>, <class 'object'>)\n",
      "{}\n",
      "{'__module__': '__main__', '__doc__': None}\n",
      "********************\n",
      "(<class '__main__.TuthorM'>, <class '__main__.Person'>, <class '__main__.TeacherMixin'>, <class '__main__.StudentMixin'>, <class 'object'>)\n",
      "{}\n",
      "{'__module__': '__main__', '__doc__': None}\n"
     ]
    }
   ],
   "source": [
    "# Mixin案例\n",
    "class Person():\n",
    "    name = \"liuying\"\n",
    "    age = 18\n",
    "    def eat(self):\n",
    "        print(\"eating\")\n",
    "    def drink(self):\n",
    "        print(\"drink\")\n",
    "    def sleep(self):\n",
    "        print(\"sleeping\")\n",
    "class Teacher(Person):\n",
    "    def work(self):\n",
    "        print(\"work\")\n",
    "class Student(Person):\n",
    "    def study(self):\n",
    "        print(\"studing\")\n",
    "class Tuthor(Teacher, Student):\n",
    "    pass\n",
    "\n",
    "t = Tuthor()\n",
    "print(Tuthor.__mro__)\n",
    "print(t.__dict__)#空的\n",
    "print(Tuthor.__dict__)\n",
    "\n",
    "print(\"*\"*20)\n",
    "class TeacherMixin():\n",
    "    def work(self):\n",
    "        print(\"Work\")\n",
    "class StudentMixin():\n",
    "    def study(self):\n",
    "        print(\"Study\")\n",
    "class TuthorM(Person, TeacherMixin, StudentMixin):\n",
    "    pass\n",
    "\n",
    "tt = TuthorM()\n",
    "print(TuthorM.__mro__)\n",
    "print(tt.__dict__)\n",
    "print(TuthorM.__dict__)\n",
    "        "
   ]
  },
  {
   "cell_type": "code",
   "execution_count": 35,
   "metadata": {},
   "outputs": [
    {
     "name": "stdout",
     "output_type": "stream",
     "text": [
      "True\n",
      "True\n",
      "False\n"
     ]
    }
   ],
   "source": [
    "# issubclass B是不是A的子类\n",
    "class A():\n",
    "    pass\n",
    "class B(A):\n",
    "    pass\n",
    "class C(C):\n",
    "    pass\n",
    "print(issubclass(B,A))\n",
    "print(issubclass(C,C))\n",
    "print(issubclass(A,B))"
   ]
  },
  {
   "cell_type": "code",
   "execution_count": 38,
   "metadata": {},
   "outputs": [
    {
     "name": "stdout",
     "output_type": "stream",
     "text": [
      "True\n",
      "False\n"
     ]
    }
   ],
   "source": [
    "# isinstance 是不是对象\n",
    "class A():\n",
    "    pass\n",
    "a = A()\n",
    "print(isinstance(a, A))\n",
    "print(isinstance(A, A))"
   ]
  },
  {
   "cell_type": "code",
   "execution_count": 43,
   "metadata": {},
   "outputs": [
    {
     "name": "stdout",
     "output_type": "stream",
     "text": [
      "True\n",
      "True\n",
      "False\n"
     ]
    }
   ],
   "source": [
    "# hasattr\n",
    "class A():\n",
    "    name = \"NoName\"\n",
    "a = A()\n",
    "print(hasattr(a, \"name\"))\n",
    "print(hasattr(A, \"name\"))\n",
    "print(hasattr(a, \"age\"))"
   ]
  },
  {
   "cell_type": "code",
   "execution_count": 56,
   "metadata": {},
   "outputs": [
    {
     "name": "stdout",
     "output_type": "stream",
     "text": [
      "Help on built-in function setattr in module builtins:\n",
      "\n",
      "setattr(obj, name, value, /)\n",
      "    Sets the named attribute on the given object to the specified value.\n",
      "    \n",
      "    setattr(x, 'y', v) is equivalent to ``x.y = v''\n",
      "\n",
      "mama\n",
      "mimi\n"
     ]
    }
   ],
   "source": [
    "# help案例\n",
    "# 我想知道setattr的具体用法\n",
    "help(setattr)\n",
    "class A():\n",
    "    name = \"lila\"\n",
    "a = A()\n",
    "setattr(a, \"name\", \"mama\")\n",
    "setattr(A, \"name\", \"mimi\")\n",
    "print(a.name)\n",
    "b = A()\n",
    "print(b.name)"
   ]
  },
  {
   "cell_type": "code",
   "execution_count": 64,
   "metadata": {},
   "outputs": [
    {
     "name": "stdout",
     "output_type": "stream",
     "text": [
      "['__class__', '__delattr__', '__dict__', '__dir__', '__doc__', '__eq__', '__format__', '__ge__', '__getattribute__', '__gt__', '__hash__', '__init__', '__init_subclass__', '__le__', '__lt__', '__module__', '__ne__', '__new__', '__reduce__', '__reduce_ex__', '__repr__', '__setattr__', '__sizeof__', '__str__', '__subclasshook__', '__weakref__', 'name', 'work']\n",
      "{'__module__': '__main__', 'name': 'sdsdds', 'work': <function A.work at 0x0000022E43DEC048>, '__dict__': <attribute '__dict__' of 'A' objects>, '__weakref__': <attribute '__weakref__' of 'A' objects>, '__doc__': None}\n"
     ]
    }
   ],
   "source": [
    "# dir案例 获取对象的成员列表\n",
    "class A():\n",
    "    name = \"sdsdds\"\n",
    "    def work():\n",
    "        print(\"work\")\n",
    "print(dir(A))\n",
    "print(A.__dict__)#检查所有成员"
   ]
  },
  {
   "cell_type": "code",
   "execution_count": 66,
   "metadata": {},
   "outputs": [
    {
     "name": "stdout",
     "output_type": "stream",
     "text": [
      "Help on mappingproxy object:\n",
      "\n",
      "class mappingproxy(object)\n",
      " |  Methods defined here:\n",
      " |  \n",
      " |  __contains__(self, key, /)\n",
      " |      Return key in self.\n",
      " |  \n",
      " |  __eq__(self, value, /)\n",
      " |      Return self==value.\n",
      " |  \n",
      " |  __ge__(self, value, /)\n",
      " |      Return self>=value.\n",
      " |  \n",
      " |  __getattribute__(self, name, /)\n",
      " |      Return getattr(self, name).\n",
      " |  \n",
      " |  __getitem__(self, key, /)\n",
      " |      Return self[key].\n",
      " |  \n",
      " |  __gt__(self, value, /)\n",
      " |      Return self>value.\n",
      " |  \n",
      " |  __iter__(self, /)\n",
      " |      Implement iter(self).\n",
      " |  \n",
      " |  __le__(self, value, /)\n",
      " |      Return self<=value.\n",
      " |  \n",
      " |  __len__(self, /)\n",
      " |      Return len(self).\n",
      " |  \n",
      " |  __lt__(self, value, /)\n",
      " |      Return self<value.\n",
      " |  \n",
      " |  __ne__(self, value, /)\n",
      " |      Return self!=value.\n",
      " |  \n",
      " |  __repr__(self, /)\n",
      " |      Return repr(self).\n",
      " |  \n",
      " |  __str__(self, /)\n",
      " |      Return str(self).\n",
      " |  \n",
      " |  copy(...)\n",
      " |      D.copy() -> a shallow copy of D\n",
      " |  \n",
      " |  get(...)\n",
      " |      D.get(k[,d]) -> D[k] if k in D, else d.  d defaults to None.\n",
      " |  \n",
      " |  items(...)\n",
      " |      D.items() -> list of D's (key, value) pairs, as 2-tuples\n",
      " |  \n",
      " |  keys(...)\n",
      " |      D.keys() -> list of D's keys\n",
      " |  \n",
      " |  values(...)\n",
      " |      D.values() -> list of D's values\n",
      " |  \n",
      " |  ----------------------------------------------------------------------\n",
      " |  Static methods defined here:\n",
      " |  \n",
      " |  __new__(*args, **kwargs) from builtins.type\n",
      " |      Create and return a new object.  See help(type) for accurate signature.\n",
      " |  \n",
      " |  ----------------------------------------------------------------------\n",
      " |  Data and other attributes defined here:\n",
      " |  \n",
      " |  __hash__ = None\n",
      "\n"
     ]
    }
   ],
   "source": [
    "help(A.__dict__)"
   ]
  }
 ],
 "metadata": {
  "kernelspec": {
   "display_name": "Python 3",
   "language": "python",
   "name": "python3"
  },
  "language_info": {
   "codemirror_mode": {
    "name": "ipython",
    "version": 3
   },
   "file_extension": ".py",
   "mimetype": "text/x-python",
   "name": "python",
   "nbconvert_exporter": "python",
   "pygments_lexer": "ipython3",
   "version": "3.7.0"
  }
 },
 "nbformat": 4,
 "nbformat_minor": 2
}
