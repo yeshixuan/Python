{
 "cells": [
  {
   "cell_type": "code",
   "execution_count": 43,
   "metadata": {},
   "outputs": [
    {
     "name": "stdout",
     "output_type": "stream",
     "text": [
      "{'d': 3, 'c': 2}\n",
      "{'d': 3, 'c': 2}\n"
     ]
    }
   ],
   "source": [
    "d1 = {\"d\":3}\n",
    "d2 = {\"c\":2}\n",
    "d1= dict(d1, **d2)# 合并字典的一种方法\n",
    "print(d1)\n",
    "d1.update(d2)\n",
    "print(d1)"
   ]
  },
  {
   "cell_type": "markdown",
   "metadata": {},
   "source": [
    "# 定义一个学生类，有下面的属性\n",
    "- 1. 姓名\n",
    "- 2. 年龄\n",
    "- 3. 成绩（语文，数学，英语）每科成绩类型为整数 类方法：\n",
    "- 4. 获取学生的姓名：get_name() 返回类型：str\n",
    "- 5. 获取学生的年纪：get_age()返回类型：int\n",
    "- 6. 返回3门科目中最高的分数，get_course() 返回类型：int"
   ]
  },
  {
   "cell_type": "code",
   "execution_count": 9,
   "metadata": {},
   "outputs": [
    {
     "name": "stdout",
     "output_type": "stream",
     "text": [
      "朗信 15 79\n"
     ]
    }
   ],
   "source": [
    "class Student(object):\n",
    "    def __init__(self, name, age, courses):\n",
    "        self.name = name\n",
    "        self.age = age\n",
    "        self.courses = courses\n",
    "    \n",
    "    def get_name(self):\n",
    "        return self.name\n",
    "    \n",
    "    def get_age(self):\n",
    "        return self.age\n",
    "    \n",
    "    def get_course(self):\n",
    "        return max(self.courses)\n",
    "\n",
    "s1 = Student(\"朗信\",15,[56,79,34])\n",
    "name = s1.get_name()\n",
    "age = s1.get_age()\n",
    "max_course = s1.get_course()\n",
    "print(name, age, max_course)"
   ]
  },
  {
   "cell_type": "code",
   "execution_count": 6,
   "metadata": {},
   "outputs": [
    {
     "data": {
      "text/plain": [
       "3"
      ]
     },
     "execution_count": 6,
     "metadata": {},
     "output_type": "execute_result"
    }
   ],
   "source": [
    "l =[1,2,3]\n",
    "max(l)"
   ]
  },
  {
   "cell_type": "markdown",
   "metadata": {},
   "source": [
    "# 定义一个字典类：DictClass,完成如下功能\n",
    "- 1.删除某个key del_dict(key)\n",
    "- 2.判断某个键是否在字典里，如果在，返回建对应的值，不再则返回not found get_dict()\n",
    "- 3 返回键组成的列表 返回类型：list get_key()\n",
    "- 4.合并字典，并且返回合并后字典的values组成的列表，返回类型list update_dict()"
   ]
  },
  {
   "cell_type": "code",
   "execution_count": 37,
   "metadata": {},
   "outputs": [
    {
     "name": "stdout",
     "output_type": "stream",
     "text": [
      "not found\n",
      "1\n",
      "not found\n",
      "['b', 'c']\n",
      "[2, 7]\n"
     ]
    }
   ],
   "source": [
    "class DictClass(object):\n",
    "    def __init__(self, mydict):\n",
    "        self.mydict = mydict\n",
    "        \n",
    "    def del_dict(self, key):\n",
    "        d = self.mydict\n",
    "        if key in d.keys():\n",
    "            d.pop(key)\n",
    "            return \"删除成功\"\n",
    "        else:\n",
    "            return \"要删除的键{}不存在\".format(key)\n",
    "        \n",
    "    def get_dict(self, key):\n",
    "        return self.mydict.get(key,\"not found\")\n",
    "    \n",
    "    def get_key(self):\n",
    "        return [i for i in self.mydict.keys()]\n",
    "    \n",
    "    def update_dict(self, dict2):\n",
    "#         dict1.update(dict2)\n",
    "#         return [v for v in dict1.values()]\n",
    "#         self.mydict = dict(self.mydict, **dict2)\n",
    "        self.mydict.update(dict2)\n",
    "        return [v for v in self.mydict.values()]\n",
    "    \n",
    "d = DictClass({\"a\":1,\"b\":2,\"c\":3})\n",
    "print(d.get_dict(\"d\"))\n",
    "v = d.get_dict(\"a\")\n",
    "print(v)\n",
    "d.del_dict(\"a\")\n",
    "print(d.get_dict(\"a\"))\n",
    "l = d.get_key()\n",
    "print(l)\n",
    "\n",
    "d1 = {\"a\":1,\"b\":2}\n",
    "d2 = {\"c\":3,\"d\":4}\n",
    "# print(d.update_dict(d1,d2))\n",
    "print(d.update_dict({\"c\":7}))"
   ]
  },
  {
   "cell_type": "code",
   "execution_count": 32,
   "metadata": {},
   "outputs": [
    {
     "name": "stdout",
     "output_type": "stream",
     "text": [
      "{'1': 1, '2': 2}\n"
     ]
    }
   ],
   "source": [
    "d1 = {\"1\":1}\n",
    "d2 = {\"2\":2}\n",
    "d1.update(d2)\n",
    "print(d1)"
   ]
  },
  {
   "cell_type": "code",
   "execution_count": 41,
   "metadata": {},
   "outputs": [
    {
     "name": "stdout",
     "output_type": "stream",
     "text": [
      "{'d': 3, 'c': 2}\n"
     ]
    }
   ],
   "source": [
    "d1 = {\"d\":3}\n",
    "d2 = {\"c\":2}\n",
    "d1= dict(d1, **d2)\n",
    "print(d1)\n"
   ]
  },
  {
   "cell_type": "markdown",
   "metadata": {},
   "source": [
    "# 定义一个列表的操作类 Listinfo\n",
    "- 包括的方法\n",
    "   - 1.列表元素添加：add_key() 添加的必须是字符串或者数字\n",
    "   - 2 列表元素取值：get_key()\n",
    "   - 3.列表合并：update_list(liast)\n",
    "   - 4 删除并且返回最有一个元素：del_key()"
   ]
  },
  {
   "cell_type": "code",
   "execution_count": 81,
   "metadata": {},
   "outputs": [
    {
     "name": "stdout",
     "output_type": "stream",
     "text": [
      "[]\n"
     ]
    }
   ],
   "source": [
    "class Listinfo(object):\n",
    "    def __init__(self, list1):\n",
    "        self.list1 = list1\n",
    "    \n",
    "    def add_key(self, str_int):\n",
    "        if isinstance(str_int,(str,int)):# 判断它的类型\n",
    "            self.list1.append(str_int)\n",
    "            return self.list1\n",
    "        else:\n",
    "            return \"请输入字符串或者数字\"\n",
    "\n",
    "    def get_key(self,index):\n",
    "        if not isinstance(index,int):\n",
    "            return \"请输入整数\"\n",
    "        elif index >= len(self.list1):\n",
    "            return \"下标超出索引范围，请重新输入\"\n",
    "        elif index < 0:\n",
    "            return \"请输入正确的下标\"\n",
    "        else:\n",
    "            return self.list1[index]\n",
    "    \n",
    "    def update_list(self, l1):\n",
    "        self.list1 = self.list1 + l1\n",
    "        return self.list1\n",
    "    \n",
    "    def del_key(self):\n",
    "        l = len(self.list1)\n",
    "        if l:\n",
    "#             lp = self.list1[l-1]\n",
    "#             self.list1.remove(lp)\n",
    "            \n",
    "#             return lp\n",
    "            return self.list1.pop(-1)\n",
    "        else:\n",
    "            return \"这是空列表\"\n",
    "  \n",
    "\n",
    "# l = [1,2,3,\"dsfsf\"]\n",
    "l = [9]\n",
    "lf = Listinfo(l)\n",
    "# lf.add_key(\"d\")\n",
    "# print(lf.list1)\n",
    "# lf.get_key(0)\n",
    "# lf.update_list([9,3])\n",
    "lf.del_key()\n",
    "print(l)"
   ]
  },
  {
   "cell_type": "markdown",
   "metadata": {},
   "source": [
    "# 定义一个集合的操作类\n",
    "- 包括的方法\n",
    "  - 1.集合元素添加：add_setinfo()\n",
    "  - 2.集合的交际：get_intersection()\n",
    "  - 3.集合的并集：get_union()\n",
    "  - 4.集合的差集：del_difference()"
   ]
  },
  {
   "cell_type": "code",
   "execution_count": 100,
   "metadata": {},
   "outputs": [
    {
     "data": {
      "text/plain": [
       "{1, 2, 3, 56, 'sf'}"
      ]
     },
     "execution_count": 100,
     "metadata": {},
     "output_type": "execute_result"
    }
   ],
   "source": [
    "class SetInfo(object):\n",
    "    def __init__(self,set_v):\n",
    "        self.set_v = set_v\n",
    "    \n",
    "    def add_setinfo(self, strs):\n",
    "        self.set_v.add(strs)\n",
    "        return self.set_v\n",
    "    \n",
    "    def get_intersection(self, set1):\n",
    "#         set_new = self.set_v.intersection(set1) \n",
    "        set_new = self.set_v & set1\n",
    "        return set_new\n",
    "    \n",
    "    def get_union(self, set1):\n",
    "#         set_new = self.set_v.union(set1)\n",
    "        set_new = self.set_v | set1\n",
    "        return set_new\n",
    "    \n",
    "    def get_difference(self,set1):\n",
    "#         set_new = self.set_v.difference(set1)\n",
    "        set_new = self.set_v - set1\n",
    "        return set_new\n",
    "\n",
    "s = SetInfo({1,2,3})\n",
    "s.add_setinfo(\"sf\")\n",
    "s1 = {2,3,56}\n",
    "# s.get_intersection(s1)\n",
    "s.get_union(s1)\n",
    "# s.get_difference(s1)"
   ]
  },
  {
   "cell_type": "markdown",
   "metadata": {},
   "source": [
    "# 创建北京和成都两个校区\n",
    "- 创建Linux\\Python两个课程\n",
    "- 创建北京校区的Python 3期课程和成都校区的Linux 1期课程\n",
    "- 管理员创建了北京校区的学员小张，并分配在了Python 3期  def\n",
    "- 管理员创建了讲师小周，并将其分配给了Python3期  def \n",
    "- 讲师小周创建了一条Python3期的上课记录Day02 def \n",
    "- 讲师小周创建了Day02 这节课所有的学员批改了作业，小张得了A，小王的了B \n",
    "- 学员小张查看了自己所有报的课程\n",
    "- 学员小张在查看了自己的Python3 的成绩后退出了\n",
    "- 学员小张给了讲师小周好评"
   ]
  },
  {
   "cell_type": "code",
   "execution_count": 46,
   "metadata": {},
   "outputs": [
    {
     "name": "stdout",
     "output_type": "stream",
     "text": [
      "现在我们又了BJ的3的Python\n",
      "现在我们又了CD的1的Linux\n",
      "我叫刘下，我是一个学员。\n",
      "我们又有了一个新同学刘下\n",
      "我叫大拿，我是一个讲师。\n",
      "我们现在聘请了一个新老师大拿\n",
      "我来这里学些Python课，我的学号是BJS301\n",
      "我交了1000元给Python课\n",
      "刘下觉得大拿真棒\n",
      "我离开了\n",
      "我来这里讲Python这门课，我的id是BJT301\n",
      "('Day1', 'A')\n",
      "课程大纲Python是，day01,day02,day03\n",
      "mimi\n"
     ]
    }
   ],
   "source": [
    "class School(object):\n",
    "    def __init__(self, school_name):\n",
    "        self.school_name = school_name\n",
    "        self.students_list = []\n",
    "        self.teachers_list = []\n",
    "        global Course_list # 课程列表\n",
    "        Course_list = []\n",
    "        \n",
    "    def add_student(self, obj):\n",
    "        self.students_list.append(obj.name)\n",
    "        print(\"我们又有了一个新同学%s\"%(obj.name))\n",
    "\n",
    "    def add_teacher(self,obj):# 访问对象成员 obj.属性\n",
    "        self.teachers_list.append(obj.name)\n",
    "        print(\"我们现在聘请了一个新老师%s\"%(obj.name))\n",
    "   \n",
    "              \n",
    "class Grade(School):\n",
    "    def __init__(self, school_name, grade_code, grade_course):\n",
    "        super(Grade, self).__init__(school_name)\n",
    "        self.code = grade_code\n",
    "        self.course = grade_course\n",
    "        self.members = []\n",
    "        Course_list.append(self.course)\n",
    "        \n",
    "        print(\"现在我们又了{}的{}的{}\".format(self.school_name, self.code, self.course))\n",
    "        \n",
    "    def course_info(self):\n",
    "        print(\"课程大纲%s是，day01,day02,day03\"%(self.course))\n",
    "            \n",
    "Python = Grade(\"BJ\",3,\"Python\")\n",
    "Linux = Grade(\"CD\",1,\"Linux\")\n",
    "\n",
    "\n",
    "s = School(Python.school_name)\n",
    "# s.add_student()\n",
    "class School_member(object):\n",
    "    def __init__(self, name, age, sex, role):\n",
    "        self.name = name \n",
    "        self.age = age\n",
    "        self.gender = sex\n",
    "        self.role = role\n",
    "        self.course_list = []\n",
    "        \n",
    "        print(\"我叫%s，我是一个%s。\"%(self.name, self.role))\n",
    "\n",
    "tea_num_id = 00\n",
    "class Teacher(School_member):\n",
    "    def __init__(self, name, age, sex, role, course):\n",
    "        super(Teacher, self).__init__(name, age, sex, role)\n",
    "        global tea_num_id\n",
    "        tea_num_id += 1\n",
    "        tea_id = course.school_name + \"T\" +str(course.code) + str(tea_num_id).zfill(2)\n",
    "        self.id = tea_id\n",
    "        \n",
    "    def teach(self, course):\n",
    "        print(\"我来这里讲%s这门课，我的id是%s\"%(course.course, self.id))\n",
    "    \n",
    "    def record_mark(self, obj, Date,level):\n",
    "        obj.mark_list[\"Day\" + Date] = level\n",
    "        \n",
    "stu_num_id = 00\n",
    "class Student(School_member):\n",
    "    def __init__(self, name ,age, sex, role,course):\n",
    "        super(Student,self).__init__(name, age, sex, role)\n",
    "        global stu_num_id \n",
    "        stu_num_id += 1\n",
    "        stu_id = course.school_name + \"S\" + str(course.code) + str(stu_num_id).zfill(2)\n",
    "        \n",
    "        self.id = stu_id\n",
    "        self.mark_list = {}\n",
    "        \n",
    "    def study(self, course):\n",
    "        print(\"我来这里学些%s课，我的学号是%s\"%(course.course, self.id))\n",
    "    \n",
    "    def pay(self, course):\n",
    "        print(\"我交了1000元给%s课\"%(course.course))\n",
    "        self.course_list.append(course.course)\n",
    "        \n",
    "    def praise(self, obj):\n",
    "        print(\"%s觉得%s真棒\"%(self.name,obj.name))\n",
    "        \n",
    "    def mark_check(self):\n",
    "        if self.mark_list:\n",
    "            for i in self.mark_list.items():\n",
    "                print(i)\n",
    "        else:\n",
    "            print(\"你还没有完成任何课程\")\n",
    "            \n",
    "    def out(self):\n",
    "        print(\"我离开了\")\n",
    "    \n",
    "    def mile():\n",
    "        print(\"mimi\")\n",
    "        \n",
    "sa = Student(\"刘下\",15,\"女\",\"学员\",Python)\n",
    "Python.add_student(sa)\n",
    "ta = Teacher(\"大拿\",28,\"女\",\"讲师\",Python)\n",
    "Python.add_teacher(ta)\n",
    "sa.study(Python)\n",
    "sa.pay(Python)\n",
    "sa.praise(ta)\n",
    "\n",
    "sa.out()\n",
    "ta.teach(Python)\n",
    "ta.record_mark(sa,\"1\",\"A\")\n",
    "sa.mark_check()\n",
    "# sa.mark_list\n",
    "Python.course_info()\n",
    "# sa.mile()\n",
    "# Student.mile()"
   ]
  },
  {
   "cell_type": "markdown",
   "metadata": {},
   "source": [
    "# 创建北京和成都两个校区\n",
    "- 创建Linux\\Python两个课程\n",
    "- 创建北京校区的Python 3期课程和成都校区的Linux 1期课程\n",
    "- 管理员创建了北京校区的学员小张，并分配在了Python 3期  def\n",
    "- 管理员创建了讲师小周，并将其分配给了Python3期  def \n",
    "- 讲师小周创建了一条Python3期的上课记录Day02 def \n",
    "- 讲师小周创建了Day02 这节课所有的学员批改了作业，小张得了A，小王的了B \n",
    "- 学员小张查看了自己所有报的课程\n",
    "- 学员小张在查看了自己的Python3 的成绩后退出了\n",
    "- 学员小张给了讲师小周好评"
   ]
  },
  {
   "cell_type": "code",
   "execution_count": 85,
   "metadata": {},
   "outputs": [
    {
     "name": "stdout",
     "output_type": "stream",
     "text": [
      "今天上Python3期Day02天的课\n",
      "['Day2']\n",
      "('Day2', 'A')\n",
      "['Day2']\n",
      "('Day2', 'B')\n",
      "我离开了\n",
      "Python课的小周老师真棒\n"
     ]
    }
   ],
   "source": [
    "class School(object):\n",
    "    def __init__(self,school_name, grade_code, grade_course):\n",
    "        self.school_name = school_name \n",
    "        self.code = grade_code\n",
    "        self.course = grade_course\n",
    "        Course_list = []\n",
    "        \n",
    "\n",
    "    def add_student(self, obj):\n",
    "        print(\"我们招收了学员%s\"%(obj.name))\n",
    "    \n",
    "    def add_teacher(self, obj):\n",
    "        print(\"我们新增了讲师%s\"%(obj.name))\n",
    "        \n",
    "\n",
    "    \n",
    "class School_member(object):\n",
    "    def __init__(self, name, age, gender, role):\n",
    "        self.name = name \n",
    "        self.age = age\n",
    "        self.gender = gender\n",
    "        self.role = role\n",
    "    \n",
    "class Student(School_member):\n",
    "    def __init__(self, name, age, gender, role, course):\n",
    "        super(Student, self).__init__(name, age, gender, role)\n",
    "        self.course = course\n",
    "        global course_list          \n",
    "        self.course_list = {}\n",
    "    def sele_course(self):\n",
    "        course = [k for k in self.course_list.keys()]\n",
    "        print(course)\n",
    "            \n",
    "    def sele_score(self):\n",
    "        for item in self.course_list.items():\n",
    "            print(item)\n",
    "    def appraise(self,obj):\n",
    "        print(\"%s课的%s老师真棒\"%(self.course.course, obj.name))\n",
    "    def out(self):\n",
    "        print(\"我离开了\")\n",
    "    \n",
    "class Teacher(School_member):\n",
    "    def __init__(self, name, age, gender, role, course):\n",
    "        super(Teacher, self).__init__(name, age, gender, role)\n",
    "        self.course = course\n",
    "        global course_day\n",
    "        course_day = []# 课程内容\n",
    "\n",
    "    def teach(self,day):\n",
    "        day = \"Day\" + str(day).zfill(2)\n",
    "        print(\"今天上{}{}期{}天的课\".format(self.course.course,self.course.code,day))\n",
    "        course_day.append(day)\n",
    "    \n",
    "    def mark_work(self,obj, day, level):\n",
    "        obj.course_list[\"Day\" + str(day)] = level\n",
    "        \n",
    "Python = School(\"BJ\", 3, \"Python\")\n",
    "Linux = School(\"CD\", 1, \"Linux\")\n",
    "\n",
    "sa = Student(\"小张\",15,\"女\",\"学员\",Python)\n",
    "sb = Student(\"小王\",16,\"女\",\"学员\",Python)\n",
    "\n",
    "ta = Teacher(\"小周\",28,\"女\",\"讲师\",Python)\n",
    "ta.teach(2)\n",
    "ta.mark_work(sa, 2, \"A\")\n",
    "ta.mark_work(sb, 2, \"B\")\n",
    "\n",
    "sa.sele_course()\n",
    "sa.sele_score()\n",
    "sb.sele_course()\n",
    "sb.sele_score()\n",
    "sa.out()\n",
    "sa.appraise(ta)"
   ]
  },
  {
   "cell_type": "code",
   "execution_count": 109,
   "metadata": {},
   "outputs": [
    {
     "name": "stdout",
     "output_type": "stream",
     "text": [
      "name\n",
      "money\n",
      "test\n"
     ]
    }
   ],
   "source": [
    "class Person(object):\n",
    "    def __init__(self):\n",
    "        name = \"Noname\"\n",
    "        age = 18\n",
    "        __score = ()\n",
    "        _petname = \"sec\"\n",
    "        \n",
    "    def sleep(self):\n",
    "        print(\"sleeping\")\n",
    "\n",
    "    def work(self):\n",
    "        print(\"money\")\n",
    "\n",
    "class Teacher(Person):\n",
    "    teacher_id = 00\n",
    "    name = \"name\"\n",
    "    def make_test(self):\n",
    "        print(\"test\")\n",
    "    def work(self):\n",
    "#         super().work()\n",
    "        Person.work(self)\n",
    "        self.make_test()\n",
    "t = Teacher()\n",
    "print(t.name)\n",
    "# print(t.age)\n",
    "t.work()"
   ]
  },
  {
   "cell_type": "code",
   "execution_count": 111,
   "metadata": {},
   "outputs": [
    {
     "name": "stdout",
     "output_type": "stream",
     "text": [
      "dog\n"
     ]
    }
   ],
   "source": [
    "class Dog():\n",
    "    def __init__(self):\n",
    "        print(\"dog\")\n",
    "        \n",
    "kak = Dog()"
   ]
  },
  {
   "cell_type": "code",
   "execution_count": 114,
   "metadata": {},
   "outputs": [
    {
     "name": "stdout",
     "output_type": "stream",
     "text": [
      "Paxing lila\n"
     ]
    }
   ],
   "source": [
    "class Animal(object):\n",
    "    def __iniit__(self):\n",
    "        print(\"Animal\")\n",
    "class PaxingAni(Animal):\n",
    "    def __init__(self,name):\n",
    "        print(\"Paxing %s\"%name)\n",
    "class Dog(PaxingAni):\n",
    "    pass\n",
    "kaka = Dog(\"lila\")"
   ]
  },
  {
   "cell_type": "code",
   "execution_count": 117,
   "metadata": {},
   "outputs": [
    {
     "name": "stdout",
     "output_type": "stream",
     "text": [
      "<class 'type'>\n"
     ]
    }
   ],
   "source": [
    "print(type(list))"
   ]
  },
  {
   "cell_type": "markdown",
   "metadata": {},
   "source": [
    "# 定义一个门票系统\n",
    "- 1.门票的原价是100\n",
    "- 2.当周末的时候门票涨价20%\n",
    "- 3.小孩子半价\n",
    "- 4.计算2个成人和一个小孩的平日票价"
   ]
  },
  {
   "cell_type": "code",
   "execution_count": 120,
   "metadata": {},
   "outputs": [
    {
     "name": "stdout",
     "output_type": "stream",
     "text": [
      "300.0\n"
     ]
    }
   ],
   "source": [
    "class Ticker(object):\n",
    "    def __init__(self, weekend=False, child=False ):\n",
    "        self.extp = 100\n",
    "        if weekend:\n",
    "            self.w = 1 + 0.2\n",
    "        else:\n",
    "            self.w = 1\n",
    "        \n",
    "        if child:\n",
    "            self.c = 0.5\n",
    "        else:\n",
    "            self.c = 1\n",
    "            \n",
    "    def pay(self, num):\n",
    "        return self.extp * self.w * self.c *num\n",
    "\n",
    "b = Ticker(weekend=True)\n",
    "c = Ticker(weekend=True,child=True)\n",
    "print(b.pay(2) + c.pay(1))"
   ]
  },
  {
   "cell_type": "markdown",
   "metadata": {},
   "source": [
    "# 游戏编程：按照以下要求定义一个乌龟类和鱼类并尝试编程\n",
    "- 假设游戏场景为范围（x,y）为0<=x<=10，0<=y<=10\n",
    "- 游戏生成1只乌龟和10条鱼\n",
    "- 他们的移动方向随机\n",
    "- 乌龟的最大移动能力是2（乌龟可以随机选择移动是1还是2），鱼的最大移动能力是1\n",
    "- 当移动到场景边缘时，自动反方向移动\n",
    "- 乌龟初始化立体为100（上线）\n",
    "- 乌龟每次移动，消耗体力1\n",
    "- 当乌龟和鱼重叠，乌龟吃掉鱼，乌龟的体力增加20\n",
    "- 鱼不计算体力\n",
    "- 当乌龟体力值为0或者与的鱼的数量为0是，游戏结束"
   ]
  },
  {
   "cell_type": "code",
   "execution_count": 6,
   "metadata": {},
   "outputs": [
    {
     "name": "stdout",
     "output_type": "stream",
     "text": [
      "一条鱼被乌龟吃掉了！\n",
      "一条鱼被乌龟吃掉了！\n",
      "一条鱼被乌龟吃掉了！\n",
      "一条鱼被乌龟吃掉了！\n",
      "一条鱼被乌龟吃掉了！\n",
      "一条鱼被乌龟吃掉了！\n",
      "一条鱼被乌龟吃掉了！\n",
      "一条鱼被乌龟吃掉了！\n",
      "乌龟体力耗尽，游戏结束！\n"
     ]
    }
   ],
   "source": [
    "class Gui(object):\n",
    "    def __init__(self):\n",
    "        self.pow = 100\n",
    "        self.x = r.randint(0,10)\n",
    "        self.y = r.randint(0,10)\n",
    "\n",
    "    def move(self):\n",
    "        new_x = self.x + r.choice([-1,-2,1,2])\n",
    "        new_y = self.y + r.choice([-1,-2,1,2])\n",
    "        if new_x > 10:\n",
    "            self.x = 10 - (new_x- 10)\n",
    "        elif new_x < 0:\n",
    "            self.x = 0 - (new_x)\n",
    "        else:\n",
    "            self.x = new_x\n",
    "\n",
    "        if new_y > 10:\n",
    "            self.y = 10 - (new_y - 10)\n",
    "        elif new_y < 0:\n",
    "            self.y = 0 - new_y\n",
    "        else:\n",
    "            self.y = new_y\n",
    "        self.pow -= 1\n",
    "        return self.x,self.y\n",
    "\n",
    "    def eat(self):\n",
    "        new_pow = self.pow + 20\n",
    "        if new_pow > 100:\n",
    "            self.pow = 100\n",
    "        else:\n",
    "            self.pow = new_pow\n",
    "\n",
    "\n",
    "class Fish(object):\n",
    "    def __init__(self):\n",
    "        self.x = r.randint(0,10)\n",
    "        self.y = r.randint(0,10)\n",
    "\n",
    "    def move(self):\n",
    "        new_x = self.x + r.choice([-1, 1])\n",
    "        new_y = self.y + r.choice([-1, 1])\n",
    "        if new_x > 10:\n",
    "            self.x = 10 - (new_x - 10)\n",
    "        elif new_x < 0:\n",
    "            self.x = 0 - (new_x)\n",
    "        else:\n",
    "            self.x = new_x\n",
    "\n",
    "        if new_y > 10:\n",
    "            self.y = 10 - (new_y - 10)\n",
    "        elif new_y < 0:\n",
    "            self.y = 0 - new_y\n",
    "        else:\n",
    "            self.y = new_y\n",
    "        return self.x, self.y\n",
    "\n",
    "g = Gui()\n",
    "fish = []\n",
    "\n",
    "for i in range(10):\n",
    "    f = Fish()\n",
    "    fish.append(f)\n",
    "\n",
    "while True:\n",
    "    if not len (fish):\n",
    "        print(\"鱼被吃光了，游戏结束！\")\n",
    "        break\n",
    "    if not g.pow:\n",
    "        print(\"乌龟体力耗尽，游戏结束！\")\n",
    "        break\n",
    "    pos = g.move()\n",
    "    for each_fish in fish[:]:\n",
    "        if each_fish.move() == pos:\n",
    "            print(\"一条鱼被乌龟吃掉了！\")\n",
    "            g.eat()\n",
    "            fish.remove(each_fish)\n",
    "\n",
    "    \n",
    "    "
   ]
  },
  {
   "cell_type": "code",
   "execution_count": 12,
   "metadata": {},
   "outputs": [
    {
     "data": {
      "text/plain": [
       "90"
      ]
     },
     "execution_count": 12,
     "metadata": {},
     "output_type": "execute_result"
    }
   ],
   "source": [
    "class Student(object):\n",
    "    def __init__(self, name, age, score):\n",
    "        self.name = name \n",
    "        self.age = age\n",
    "        self.score = score\n",
    "        \n",
    "    def get_name(self):\n",
    "        if isinstance(self.name, str):\n",
    "            return self.name\n",
    "        else:\n",
    "            return \"请输入字符串\"\n",
    "        \n",
    "    def get_max(self):\n",
    "        m = max(self.score)\n",
    "        if isinstance(m, int):\n",
    "            return m\n",
    "        else:\n",
    "            return \"分数必须是整数哦！\"\n",
    "\n",
    "s = Student(\"123\",12,[90,89])\n",
    "s.get_name()\n",
    "s.get_max()"
   ]
  },
  {
   "cell_type": "code",
   "execution_count": 22,
   "metadata": {},
   "outputs": [
    {
     "name": "stdout",
     "output_type": "stream",
     "text": [
      "mili 说：我 33 岁，体重99。\n",
      "mili 说：我 33 岁，我在读2年级。\n",
      "Tim 说：我 16 岁，体重80。\n",
      "Tim 说：我 16 岁，我在读4年级。\n"
     ]
    }
   ],
   "source": [
    "class People(object):\n",
    "    name = \"\"\n",
    "    age = 0\n",
    "    #私有属性在类外部无法直接进行访问\n",
    "    __weight = 0\n",
    "    def __init__(self,n,a,w):\n",
    "        self.name = n\n",
    "        self.age = a\n",
    "        self.__weight = w\n",
    "    def speak(self):\n",
    "        print(\"%s 说：我 %d 岁，体重%d。\"%(self.name,self.age, self.__weight))\n",
    "        \n",
    "# p = People(\"li\",12,89)\n",
    "# p.speak()\n",
    "\n",
    "class Student(People):\n",
    "    grade = \"\"\n",
    "    def __init__(self,n,a,w,g):\n",
    "        People.__init__(self,n,a,w)\n",
    "        self.grade = g\n",
    "        \n",
    "    # 重写父类的方法\n",
    "    def speak(self):\n",
    "#         People.speak(self)\n",
    "        super().speak()\n",
    "        #以下是不行的，私有属性不能被子类调用\n",
    "#         print(\"%s 说：我 %d 岁，我%d斤，我在读%d年级。\"%(self.name,self.age, self.__weight,self.grade))\n",
    "        print(\"%s 说：我 %d 岁，我在读%d年级。\"%(self.name,self.age,self.grade))\n",
    "\n",
    "s = Student(\"mili\",33,99,2)\n",
    "s.speak()\n",
    "\n",
    "class Speaker():\n",
    "    topic = \"\"\n",
    "    name = \"\"\n",
    "    def __init__(self, n, t):\n",
    "        self.name = n\n",
    "        self.topic = t\n",
    "    def speak(self):\n",
    "        print(\"我叫 %s，我是一个演说家，我演讲的主题是 %s\"%(self.name,self.topic))\n",
    "        \n",
    "# class Sample(Speaker,Student):\n",
    "class Sample(Student,Speaker):# 谁排在前面就先继承那个\n",
    "    a = \"\"\n",
    "    def __init__(self, n, a, w, g, t):\n",
    "        Student.__init__(self,n,a,w,g)\n",
    "        Speaker.__init__(self,n,t)\n",
    "\n",
    "t = Sample(\"Tim\",16,80,4,\"Python\")\n",
    "t.speak()"
   ]
  },
  {
   "cell_type": "code",
   "execution_count": 29,
   "metadata": {},
   "outputs": [
    {
     "name": "stdout",
     "output_type": "stream",
     "text": [
      "5.0\n"
     ]
    }
   ],
   "source": [
    "import math\n",
    "class Point(object):\n",
    "    def __init__(self, a, b):\n",
    "        self.a = a\n",
    "        self.b = b\n",
    "        \n",
    "    def Line(self):\n",
    "        a_x, a_y = self.a\n",
    "        b_x, b_y = self.b\n",
    "        l = math.sqrt((a_x-b_x)**2 + (a_y-b_y)**2)\n",
    "        \n",
    "        return l\n",
    "a = (0,0)\n",
    "b = (3,4)\n",
    "p = Point(a,b)\n",
    "print(p.Line())\n",
    "        "
   ]
  }
 ],
 "metadata": {
  "kernelspec": {
   "display_name": "Python 3",
   "language": "python",
   "name": "python3"
  },
  "language_info": {
   "codemirror_mode": {
    "name": "ipython",
    "version": 3
   },
   "file_extension": ".py",
   "mimetype": "text/x-python",
   "name": "python",
   "nbconvert_exporter": "python",
   "pygments_lexer": "ipython3",
   "version": "3.7.0"
  }
 },
 "nbformat": 4,
 "nbformat_minor": 2
}
