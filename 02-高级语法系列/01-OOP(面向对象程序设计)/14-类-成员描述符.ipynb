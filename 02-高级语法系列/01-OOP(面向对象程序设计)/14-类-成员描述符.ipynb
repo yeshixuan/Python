{
 "cells": [
  {
   "cell_type": "code",
   "execution_count": 3,
   "metadata": {},
   "outputs": [
    {
     "name": "stdout",
     "output_type": "stream",
     "text": [
      "溜达那\n"
     ]
    }
   ],
   "source": [
    "# 变量的三种用法\n",
    "\n",
    "class A():\n",
    "    def __init__(self):\n",
    "        self.name=\"haha\"\n",
    "        self.age=18\n",
    "\n",
    "a=A()\n",
    "# 属性的三种用法\n",
    "# 1.赋值\n",
    "# 2.读取\n",
    "# 3.删除\n",
    "a.name=\"溜达那\"\n",
    "print(a.name)\n",
    "del a.name\n",
    "#print(a.name)\n"
   ]
  },
  {
   "cell_type": "code",
   "execution_count": 6,
   "metadata": {},
   "outputs": [
    {
     "name": "stdout",
     "output_type": "stream",
     "text": [
      "我被写入了，但是还可以修改东西\n",
      "我被读取了\n",
      "player_dddd\n",
      "我被写入了，但是还可以修改东西\n",
      "我被读取了\n",
      "player_mishu\n"
     ]
    }
   ],
   "source": [
    "# property\n",
    "# 应用场景：\n",
    "# 对变量除了普通的三种操作，还想增加一些附加的操作，那么可以通过property完成\n",
    "class A():\n",
    "    def __init__(self):\n",
    "        self.age = 18\n",
    "        self.name = \"dddd\"\n",
    "        \n",
    "    # 此功能，是对类变量直接进行图区操作的时候应该执行的函数功能\n",
    "    def fget(self):\n",
    "        print(\"我被读取了\")\n",
    "        return self._name\n",
    "\n",
    "    #模拟的是对变量惊醒写操作的时候执行的功能\n",
    "    def fset(self, name):\n",
    "        print(\"我被写入了，但是还可以修改东西\")\n",
    "        self._name = \"player_\" + name\n",
    "\n",
    "    # fdel模拟的是删除变量的时候继续的操作\n",
    "    def fdel(self):\n",
    "        pass\n",
    "\n",
    "    name = property(fget, fset, fdel, \"修饰了一下name\")\n",
    "\n",
    "a = A()\n",
    "print(a.name)\n",
    "a.name = \"mishu\"\n",
    "print(a.name)"
   ]
  },
  {
   "cell_type": "markdown",
   "metadata": {},
   "source": [
    "# 9.所用软件\n",
    "- 画图软件是Faststone capture\n",
    "- 有问题加群 158184562\n",
    "- 官网地址 www.tulingxueyuan.com\n",
    "\n",
    "# 10 抽象类\n",
    "- 抽象方法： 没有具体实现内容的方法称为抽象方法\n",
    "- 抽象方法的主要意义是规范了子类的行为和接口\n",
    "- 抽象类的使用需要借助abc模块\n",
    "  \n",
    "       import abc\n",
    "- 抽象类：包含抽象类方法的类叫抽象类，通常称为ABC类\n",
    "- 抽象类的使用\n",
    "  - 抽象类可以包含抽象方法，也可以包含具体方法\n",
    "  - 抽象类中可以有方法也可以有属性\n",
    "  - 抽象类不允许直接实例化\n",
    "  - 必须继承才可以使用，且继承的子类必须实现所有继承类的抽象方法\n",
    "  - 假定子类没有实现所有继承的抽象方法，则子类也不能实例化\n",
    "  - 抽象类的主要作用是设定类的标准，以便于开发时具有统一的规范\n",
    "  \n",
    "# 11. 自定义类\n",
    "- 类其实是一个类定义和各种方法的自由组合\n",
    "- 可以定义类和函数，然后自己通过类直接赋值\n",
    "- 可以借助于MethodType实现\n",
    "- 利用元类实现-MetaClass\n",
    "  - 元类是类\n",
    "  - 被用来创造别的类\n",
    "\n",
    "  \n"
   ]
  },
  {
   "cell_type": "code",
   "execution_count": 10,
   "metadata": {},
   "outputs": [
    {
     "name": "stdout",
     "output_type": "stream",
     "text": [
      "问下对方的问道\n",
      "Kiss me\n"
     ]
    }
   ],
   "source": [
    "# 抽象\n",
    "\n",
    "class Animal():\n",
    "\n",
    "    def sayHello(self):\n",
    "        pass\n",
    "        \n",
    "class Dog(Animal):\n",
    "    def sayHello(self):\n",
    "        print(\"问下对方的问道\")\n",
    "\n",
    "class Person(Animal):\n",
    "    def sayHello(self):\n",
    "        print(\"Kiss me\")\n",
    "\n",
    "d=Dog()\n",
    "d.sayHello()\n",
    "\n",
    "p=Person()\n",
    "p.sayHello()\n",
    "    "
   ]
  },
  {
   "cell_type": "code",
   "execution_count": 16,
   "metadata": {},
   "outputs": [],
   "source": [
    "# 抽象类的实现\n",
    "\n",
    "import  abc\n",
    "\n",
    "# 声明一个类并且指定当前类的元类\n",
    "class Human(metaclass=abc.ABCMeta):\n",
    "    \n",
    "    # 定义一个抽象的方法\n",
    "    @abc.abstractmethod\n",
    "    def smoking(self):\n",
    "        pass\n",
    "    \n",
    "    # 定义类抽象方法\n",
    "    @abc.abstractclassmethod\n",
    "    def drink():\n",
    "        pass\n",
    "    \n",
    "    # 定义静态抽象犯法\n",
    "    @abc.abstractstaticmethod\n",
    "    def play():\n",
    "        pass\n",
    "    \n",
    "    def sleep(self):\n",
    "        print(\"Sleeping ......\")\n",
    "        "
   ]
  },
  {
   "cell_type": "code",
   "execution_count": 18,
   "metadata": {},
   "outputs": [
    {
     "name": "stdout",
     "output_type": "stream",
     "text": [
      "yueyue你好\n",
      "yueyue你好\n"
     ]
    }
   ],
   "source": [
    "# 函数名可以当变量使用\n",
    "\n",
    "def sayHello(name):\n",
    "    print(\"{0}你好\".format(name))\n",
    "    \n",
    "sayHello(\"yueyue\")\n",
    "\n",
    "liumang=sayHello\n",
    "\n",
    "liumang(\"yueyue\")"
   ]
  },
  {
   "cell_type": "code",
   "execution_count": 21,
   "metadata": {},
   "outputs": [
    {
     "name": "stdout",
     "output_type": "stream",
     "text": [
      "Saying>..\n",
      "Saying>..\n",
      "Saying。。。。。\n"
     ]
    }
   ],
   "source": [
    "# 自己组装一个类\n",
    "\n",
    "class A():\n",
    "    pass\n",
    "\n",
    "def say(self):\n",
    "    print(\"Saying>..\")\n",
    "\n",
    "class B():\n",
    "    def say(self):\n",
    "        print(\"Saying。。。。。\")\n",
    "\n",
    "say(9)\n",
    "A.say=say\n",
    "\n",
    "a=A()\n",
    "a.say()\n",
    "\n",
    "b=B()\n",
    "b.say()"
   ]
  },
  {
   "cell_type": "code",
   "execution_count": 26,
   "metadata": {},
   "outputs": [
    {
     "name": "stdout",
     "output_type": "stream",
     "text": [
      "Saying>..\n"
     ]
    }
   ],
   "source": [
    "# 组装类例子2\n",
    "# 自己组装一个类\n",
    "from types import MethodType\n",
    "\n",
    "class A():\n",
    "    pass\n",
    "\n",
    "def say(self):\n",
    "    print(\"Saying>..\")\n",
    "\n",
    "a=A()\n",
    "a.say=MethodType(say,A)\n",
    "a.say()"
   ]
  },
  {
   "cell_type": "code",
   "execution_count": 28,
   "metadata": {},
   "outputs": [
    {
     "name": "stdout",
     "output_type": "stream",
     "text": [
      "Help on class method in module builtins:\n",
      "\n",
      "class method(object)\n",
      " |  method(function, instance)\n",
      " |  \n",
      " |  Create a bound instance method object.\n",
      " |  \n",
      " |  Methods defined here:\n",
      " |  \n",
      " |  __call__(self, /, *args, **kwargs)\n",
      " |      Call self as a function.\n",
      " |  \n",
      " |  __delattr__(self, name, /)\n",
      " |      Implement delattr(self, name).\n",
      " |  \n",
      " |  __eq__(self, value, /)\n",
      " |      Return self==value.\n",
      " |  \n",
      " |  __ge__(self, value, /)\n",
      " |      Return self>=value.\n",
      " |  \n",
      " |  __get__(self, instance, owner, /)\n",
      " |      Return an attribute of instance, which is of type owner.\n",
      " |  \n",
      " |  __getattribute__(self, name, /)\n",
      " |      Return getattr(self, name).\n",
      " |  \n",
      " |  __gt__(self, value, /)\n",
      " |      Return self>value.\n",
      " |  \n",
      " |  __hash__(self, /)\n",
      " |      Return hash(self).\n",
      " |  \n",
      " |  __le__(self, value, /)\n",
      " |      Return self<=value.\n",
      " |  \n",
      " |  __lt__(self, value, /)\n",
      " |      Return self<value.\n",
      " |  \n",
      " |  __ne__(self, value, /)\n",
      " |      Return self!=value.\n",
      " |  \n",
      " |  __reduce__(...)\n",
      " |      Helper for pickle.\n",
      " |  \n",
      " |  __repr__(self, /)\n",
      " |      Return repr(self).\n",
      " |  \n",
      " |  __setattr__(self, name, value, /)\n",
      " |      Implement setattr(self, name, value).\n",
      " |  \n",
      " |  ----------------------------------------------------------------------\n",
      " |  Static methods defined here:\n",
      " |  \n",
      " |  __new__(*args, **kwargs) from builtins.type\n",
      " |      Create and return a new object.  See help(type) for accurate signature.\n",
      " |  \n",
      " |  ----------------------------------------------------------------------\n",
      " |  Data descriptors defined here:\n",
      " |  \n",
      " |  __func__\n",
      " |      the function (or other callable) implementing a method\n",
      " |  \n",
      " |  __self__\n",
      " |      the instance to which a method is bound\n",
      "\n"
     ]
    }
   ],
   "source": [
    "help(MethodType)"
   ]
  },
  {
   "cell_type": "code",
   "execution_count": 30,
   "metadata": {},
   "outputs": [
    {
     "data": {
      "text/plain": [
       "int"
      ]
     },
     "execution_count": 30,
     "metadata": {},
     "output_type": "execute_result"
    }
   ],
   "source": [
    "type(9)"
   ]
  },
  {
   "cell_type": "code",
   "execution_count": 7,
   "metadata": {},
   "outputs": [
    {
     "name": "stdout",
     "output_type": "stream",
     "text": [
      "Talking\n",
      "Saying.....\n"
     ]
    }
   ],
   "source": [
    "# 利用type造一个类\n",
    "def say(self):\n",
    "    print(\"Saying.....\")\n",
    "\n",
    "def talk(self):\n",
    "    print(\"Talking\")\n",
    "    \n",
    "# 用type来创建一个类\n",
    "A=type(\"AName\",(object,),{\"class_say\":say,\"class_talk\":talk})\n",
    "\n",
    "# 然后可以像正常访问一样使用类\n",
    "a=A()\n",
    "a.class_talk()\n",
    "a.class_say()"
   ]
  },
  {
   "cell_type": "code",
   "execution_count": 40,
   "metadata": {},
   "outputs": [
    {
     "name": "stdout",
     "output_type": "stream",
     "text": [
      "哈哈，我是元类啊\n"
     ]
    },
    {
     "data": {
      "text/plain": [
       "'0000000'"
      ]
     },
     "execution_count": 40,
     "metadata": {},
     "output_type": "execute_result"
    }
   ],
   "source": [
    "# 元类演示\n",
    "\n",
    "# 元类写法是固定的，它必须继承自type\n",
    "# 元类一般命名以MetaClass结尾\n",
    "class TulingMetaClass(type):\n",
    "    # 注意一下写法\n",
    "    def __new__(cls,name,bases,attrs):\n",
    "        #自己的业务处理\n",
    "        print(\"哈哈，我是元类啊\")\n",
    "        attrs[\"id\"]=\"0000000\"\n",
    "        attrs[\"addr\"]=\"北京海定区公主坟西垂路12号\"\n",
    "        return type.__new__(cls,name,bases,attrs)\n",
    "    \n",
    "# 元类定义玩就可以使用，使用注意写法\n",
    "class Teacher(object,metaclass=TulingMetaClass):\n",
    "    pass\n",
    "\n",
    "t=Teacher()\n",
    "t.id"
   ]
  },
  {
   "cell_type": "code",
   "execution_count": null,
   "metadata": {},
   "outputs": [],
   "source": []
  }
 ],
 "metadata": {
  "kernelspec": {
   "display_name": "Python 3",
   "language": "python",
   "name": "python3"
  },
  "language_info": {
   "codemirror_mode": {
    "name": "ipython",
    "version": 3
   },
   "file_extension": ".py",
   "mimetype": "text/x-python",
   "name": "python",
   "nbconvert_exporter": "python",
   "pygments_lexer": "ipython3",
   "version": "3.7.0"
  }
 },
 "nbformat": 4,
 "nbformat_minor": 2
}
