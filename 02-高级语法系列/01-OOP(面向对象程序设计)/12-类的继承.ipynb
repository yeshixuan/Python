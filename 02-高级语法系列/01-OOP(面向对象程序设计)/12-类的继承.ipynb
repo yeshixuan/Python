{
 "cells": [
  {
   "cell_type": "code",
   "execution_count": 6,
   "metadata": {},
   "outputs": [
    {
     "name": "stdout",
     "output_type": "stream",
     "text": [
      "(<class '__main__.A'>, <class 'object'>)\n",
      "(<class '__main__.B'>, <class '__main__.A'>, <class 'object'>)\n"
     ]
    }
   ],
   "source": [
    "class A():\n",
    "    pass\n",
    "class B(A):\n",
    "    pass\n",
    "print(A.__mro__)\n",
    "print(B.__mro__)"
   ]
  },
  {
   "cell_type": "markdown",
   "metadata": {},
   "source": [
    "-  单继承和多继承\n",
    "  - 单继承：每个类只能继承一个类\n",
    "  - 多继承：每个类允许继承多个类\n",
    "- 单继承和多继承的优缺点\n",
    "  - 单继承：\n",
    "     - 传承有序、逻辑清晰、语法简单、隐患少\n",
    "     - 功能不能无限扩展，只能在当前唯一的继承链中扩展\n",
    "  - 多继承：\n",
    "     - 优点：类的功能扩展方便\n",
    "     - 缺点：继承关系混乱\n",
    "- 菱形继承/钻石继承的问题\n",
    "  - 多个子类继承自同一个父类，这些子类又被同一个类继承，于是继承关系图形成了一个菱形图谱\n",
    "  - [MRO](https://www.cnblogs.com/whatisfantasy/p/6046991.html)\n",
    "  - 关于多继承的MRO\n",
    "     - MRO就是多继承中，用于保存继承顺序的一个列表\n",
    "     - python本身采用C3算法来对多继承的菱形继承进行计算的结果\n",
    "     - MRO列表的计算原则；\n",
    "        - 子类永远在父类前面\n",
    "        - 如果多个父类，则根据继承语法括号内的书写顺序存放\n",
    "        - 如果多个类继承同一个父类，孙子类中会只选取继承语法括号中第一个父类的父类\n",
    "        - 在继承问题中不推荐多继承\n",
    "- 构造函数\n",
    "  - 在对象进行实例化的时候，系统自动调用的一个函数叫做构造函数，通常此函数用来对实例队形进行初始化，顾名\n",
    "  - 构造函数一定要有，如果没有，则自动向上查找，按照MRO顺序，直到找到为止\n",
    "## 3.3 多态\n",
    "- 多态就是同一个对象在不同情况下有不同的状态出现\n",
    "- 多态不是语法，是一种设计思想\n",
    "- 多态性：一种调用方式，不同的执行效果\n",
    "- 多态：同一事物的多种形态，动物分为人类，狗类，猫类\n",
    "- [多态和多态性]（https://www.cnblogs.com/luchuangao/p/6739557.html\n",
    "\n",
    "- Mixin设计模式\n",
    "   - 主要采用多继承方式对类的功能进行扩展\n",
    "   - [Mixin概念](https://www.liaoxuefeng.com/wiki/001374738125095c955c1e6d8bb493182103fac9270762a000/0013868200511568dd94e77b21d4b8597ede8bf65c36bcd000)\n",
    "   - [MRO and Mixin](http://blog.csdn.net/robinjwong/article/details/48375833)\n",
    "   - [Mixin模式](https://www.cnblogs.com/xybaby/p/6484262.html)\n",
    "   - [Mixin MRO](https://runforever.github.io/2014-07-19/2014-07-19-python-mixin学习笔记/)\n",
    "   \n",
    "- 我们使用多继承语法来实现Mixin\n",
    "- 使用Mixin实现多继承的时候非常小心\n",
    "   - 首先它必须表示某一单一功能，而不是某个物品\n",
    "   - 职责必须单一，如果有多个功能，则写多个Mixin\n",
    "   - Mixin不能依赖于子类的实现\n",
    "   - 子类即使没有继承这个Mixin类，也能照样工作，只是缺少了某个功能\n",
    "- 优点\n",
    "   - 使用Mixin可以在不对类进行任何修改的情况下，扩充功能\n",
    "   - 可以方便地组织和维护不同功能组件的划分\n",
    "   - 可以根据需要任意调整功能类的组合\n",
    "   - 可以避免创建很多新的类，导致类的继承混乱\n",
    "\n",
    "# 4 类相关函数\n",
    "- issubclass:检测一个类是否是另一个类的子类\n",
    "- isinstance:检测一个对象是否是一个类的实例\n",
    "- hasattr:检测一个对象是否有成员xxx\n",
    "- getattr: get attribute\n",
    "- setattr: set attribute\n",
    "- delattr:delete attribute\n",
    "- dir:获取对象的成员列表"
   ]
  },
  {
   "cell_type": "code",
   "execution_count": 13,
   "metadata": {},
   "outputs": [
    {
     "name": "stdout",
     "output_type": "stream",
     "text": [
      "Working......\n",
      "i am flying.....\n",
      "i am swimming...\n",
      "Working......\n"
     ]
    }
   ],
   "source": [
    "# 多继承的例子\n",
    "# 子类可以直接拥有父类的属性和方法，私有属性和方法除外\n",
    "class Fish():\n",
    "    def __init__(self,name):\n",
    "        self.name=name\n",
    "    def swim(self):\n",
    "        print(\"i am swimming...\")\n",
    "        \n",
    "class Bird():\n",
    "    def __init__(self,name):\n",
    "        self.name=name\n",
    "    def fly(self):\n",
    "        print(\"i am flying.....\")\n",
    "        \n",
    "class Person():\n",
    "    def __init__(self,name):\n",
    "        self.name=name\n",
    "    def workd(self):\n",
    "        print(\"Working......\")\n",
    "        \n",
    "#单继承的例子        \n",
    "class Student(Person):\n",
    "     def __init__(self,name):\n",
    "        self.name=name\n",
    "\n",
    "# 多继承\n",
    "class SuperMan(Person,Fish,Bird):\n",
    "    def __init__(self,name):\n",
    "        self.name=name\n",
    "    \n",
    "#单继承的例子\n",
    "stu=Student(\"yueyue\")\n",
    "stu.workd()\n",
    "# 多继承\n",
    "s=SuperMan(\"yueyue\")\n",
    "s.fly()\n",
    "s.swim()\n",
    "s.workd()\n",
    "\n",
    "\n"
   ]
  },
  {
   "cell_type": "code",
   "execution_count": 14,
   "metadata": {},
   "outputs": [],
   "source": [
    "# 菱形继承问题\n",
    "class A():\n",
    "    pass\n",
    "class B(A):\n",
    "    pass\n",
    "class C(A):\n",
    "    pass\n",
    "class D(B,C):\n",
    "    pass\n"
   ]
  },
  {
   "cell_type": "code",
   "execution_count": 1,
   "metadata": {},
   "outputs": [
    {
     "name": "stdout",
     "output_type": "stream",
     "text": [
      "In init func\n"
     ]
    }
   ],
   "source": [
    "# 构造函数例子\n",
    "\n",
    "class Person():\n",
    "    # 对Person类进行实例化的时候\n",
    "    # 姓名要确定\n",
    "    # 年龄要确定\n",
    "    # 地址肯定有\n",
    "    def __init__(self):\n",
    "        self.name=\"NoName\"\n",
    "        self.age=19\n",
    "        self.address=\"Studenthome\"\n",
    "        print(\"In init func\")\n",
    "        \n",
    "# 实例化一个人\n",
    "p=Person()"
   ]
  },
  {
   "cell_type": "code",
   "execution_count": 20,
   "metadata": {},
   "outputs": [
    {
     "name": "stdout",
     "output_type": "stream",
     "text": [
      "B\n"
     ]
    }
   ],
   "source": [
    "# 构造函数的调用顺序-1\n",
    "# 如果子类没有写构造函数，则自动向上查找，直到找到为止\n",
    "class A():\n",
    "    def __init__(self):\n",
    "        print(\"a\")\n",
    "class B(A):\n",
    "    def __init__(self):\n",
    "        print(\"B\")\n",
    "class C(B):\n",
    "    pass\n",
    "\n",
    "# 此时，首先朝赵C的构造函数\n",
    "# 如果没有，则向上按照MRO顺序朝赵父类的构造函数，直到找到为止\n",
    "c=C()\n"
   ]
  },
  {
   "cell_type": "code",
   "execution_count": 23,
   "metadata": {},
   "outputs": [
    {
     "ename": "TypeError",
     "evalue": "__init__() missing 1 required positional argument: 'name'",
     "traceback": [
      "\u001b[1;31m---------------------------------------------------------------------------\u001b[0m",
      "\u001b[1;31mTypeError\u001b[0m                                 Traceback (most recent call last)",
      "\u001b[1;32m<ipython-input-23-be8059846c37>\u001b[0m in \u001b[0;36m<module>\u001b[1;34m()\u001b[0m\n\u001b[0;32m     14\u001b[0m \u001b[1;31m# 如果没有，则向上按照MRO顺序朝赵父类的构造函数，直到找到为止\u001b[0m\u001b[1;33m\u001b[0m\u001b[1;33m\u001b[0m\u001b[0m\n\u001b[0;32m     15\u001b[0m \u001b[1;31m# 此时，会出现参数结构不对应错误\u001b[0m\u001b[1;33m\u001b[0m\u001b[1;33m\u001b[0m\u001b[0m\n\u001b[1;32m---> 16\u001b[1;33m \u001b[0mb\u001b[0m\u001b[1;33m=\u001b[0m\u001b[0mC\u001b[0m\u001b[1;33m(\u001b[0m\u001b[1;33m)\u001b[0m\u001b[1;33m\u001b[0m\u001b[0m\n\u001b[0m\u001b[0;32m     17\u001b[0m \u001b[0mc\u001b[0m\u001b[1;33m=\u001b[0m\u001b[0mC\u001b[0m\u001b[1;33m(\u001b[0m\u001b[1;34m\"mo\"\u001b[0m\u001b[1;33m)\u001b[0m\u001b[1;33m\u001b[0m\u001b[0m\n",
      "\u001b[1;31mTypeError\u001b[0m: __init__() missing 1 required positional argument: 'name'"
     ],
     "output_type": "error"
    }
   ],
   "source": [
    "# 构造函数的调用顺序-2\n",
    "# 如果子类没有写构造函数，则自动向上查找，直到找到为止\n",
    "class A():\n",
    "    def __init__(self):\n",
    "        print(\"a\")\n",
    "class B(A):\n",
    "    def __init__(self,name):\n",
    "        print(name)\n",
    "        print(\"B\")\n",
    "class C(B):\n",
    "    pass\n",
    "\n",
    "# 此时，首先朝赵C的构造函数\n",
    "# 如果没有，则向上按照MRO顺序朝赵父类的构造函数，直到找到为止\n",
    "# 此时，会出现参数结构不对应错误\n",
    "b=C()\n",
    "c=C(\"mo\")"
   ]
  },
  {
   "cell_type": "code",
   "execution_count": 28,
   "metadata": {},
   "outputs": [
    {
     "name": "stdout",
     "output_type": "stream",
     "text": [
      "我是C\n",
      "B\n",
      "这是C种附加的功能\n"
     ]
    }
   ],
   "source": [
    "# 构造函数的调用顺序 - 3\n",
    "class A():\n",
    "    def __init__(self):\n",
    "        print(\"a\")\n",
    "class B(A):\n",
    "    def __init__(self,name):\n",
    "        print(name)\n",
    "        print(\"B\")\n",
    "class C(B):\n",
    "    # c中想扩展B的构造函数\n",
    "    # 即调用B的构造函数后在添加一些功能\n",
    "    #  有两种方法实现\n",
    "    # 第一种是通过父类名调用\n",
    "    '''\n",
    "    def __init__(self,name):\n",
    "        # 首先调用父类构造函数\n",
    "        B.__init__(self,name)\n",
    "        # 其实，再增加自己的功能\n",
    "        print(\"这是C种附加的功能\")\n",
    "    '''    \n",
    "    \n",
    "    # 第二种，使用super调用\n",
    "    def __init__(self,name):\n",
    "         # 首先调用父类构造函数\n",
    "        super(C,self).__init__(name)\n",
    "        # 其实，再增加自己的功能\n",
    "        print(\"这是C种附加的功能\")\n",
    "\n",
    "# 此时，首先朝赵C的构造函数\n",
    "# 如果没有，则向上按照MRO顺序朝赵父类的构造函数，直到找到为止\n",
    "# 此时，会出现参数结构不对应错误\n",
    "\n",
    "c=C(\"我是C\")"
   ]
  },
  {
   "cell_type": "code",
   "execution_count": 35,
   "metadata": {},
   "outputs": [
    {
     "name": "stdout",
     "output_type": "stream",
     "text": [
      "(<class '__main__.Tutor'>, <class '__main__.Teacher'>, <class '__main__.Student'>, <class '__main__.Person'>, <class 'object'>)\n",
      "{}\n",
      "{'__module__': '__main__', '__doc__': None}\n",
      "********************\n",
      "(<class '__main__.Tutor'>, <class '__main__.Teacher'>, <class '__main__.Student'>, <class '__main__.Person'>, <class 'object'>)\n",
      "{}\n",
      "{'__module__': '__main__', '__doc__': None}\n"
     ]
    }
   ],
   "source": [
    "# Mixin案例\n",
    "class Person():\n",
    "    name=\"liuing\"\n",
    "    age=18\n",
    "    def eat(self):\n",
    "        print(\"EATING...\")\n",
    "    def drink(self):\n",
    "        print(\"DRINK...\")\n",
    "    def sleep(self):\n",
    "        print(\"SLEEPG...\")\n",
    "class Teacher(Person):\n",
    "    def work(self):\n",
    "        print(\"work\")\n",
    "class Student(Person):\n",
    "    def study(self):\n",
    "        print(\"Studuy\")\n",
    "class Tutor(Teacher,Student):\n",
    "    pass\n",
    "\n",
    "t=Tutor()\n",
    "\n",
    "print(Tutor.__mro__)\n",
    "print(t.__dict__)\n",
    "print(Tutor.__dict__)\n",
    "\n",
    "print(\"*\"*20)\n",
    "class TeacherMixin():\n",
    "    def work(self):\n",
    "        print(\"Work\")\n",
    "class StudentMixin():\n",
    "    def study(self):\n",
    "        print(\"Study\")\n",
    "class TutorM(Person,TeacherMixin,StudentMixin):\n",
    "    pass\n",
    "tt=TutorM()\n",
    "print(Tutor.__mro__)\n",
    "print(tt.__dict__)\n",
    "print(Tutor.__dict__)"
   ]
  },
  {
   "cell_type": "code",
   "execution_count": 39,
   "metadata": {},
   "outputs": [
    {
     "name": "stdout",
     "output_type": "stream",
     "text": [
      "True\n",
      "False\n"
     ]
    }
   ],
   "source": [
    "# issubclass\n",
    "class A():\n",
    "    pass\n",
    "class B(A):\n",
    "    pass\n",
    "class C(C):\n",
    "    pass\n",
    "print(issubclass(B,A))\n",
    "print(issubclass(C,A))\n",
    "      "
   ]
  },
  {
   "cell_type": "code",
   "execution_count": 42,
   "metadata": {},
   "outputs": [
    {
     "name": "stdout",
     "output_type": "stream",
     "text": [
      "True\n",
      "False\n"
     ]
    }
   ],
   "source": [
    "# isinstance\n",
    "class A():\n",
    "    pass\n",
    "\n",
    "a=A()\n",
    "\n",
    "print(isinstance(a,A))\n",
    "print(isinstance(A,A))\n"
   ]
  },
  {
   "cell_type": "code",
   "execution_count": 46,
   "metadata": {},
   "outputs": [
    {
     "name": "stdout",
     "output_type": "stream",
     "text": [
      "True\n",
      "False\n"
     ]
    }
   ],
   "source": [
    "# hasattr\n",
    "class A():\n",
    "    name=\"NoName\"\n",
    "a=A()    \n",
    "print(hasattr(a,\"name\"))\n",
    "print(hasattr(a,\"age\"))\n"
   ]
  },
  {
   "cell_type": "code",
   "execution_count": 48,
   "metadata": {},
   "outputs": [
    {
     "name": "stdout",
     "output_type": "stream",
     "text": [
      "Help on built-in function setattr in module builtins:\n",
      "\n",
      "setattr(obj, name, value, /)\n",
      "    Sets the named attribute on the given object to the specified value.\n",
      "    \n",
      "    setattr(x, 'y', v) is equivalent to ``x.y = v''\n",
      "\n"
     ]
    }
   ],
   "source": [
    "# help案例\n",
    "# 我想知道setattr的具体用法\n",
    "help(setattr)"
   ]
  },
  {
   "cell_type": "code",
   "execution_count": 52,
   "metadata": {},
   "outputs": [
    {
     "data": {
      "text/plain": [
       "['__class__',\n",
       " '__delattr__',\n",
       " '__dict__',\n",
       " '__dir__',\n",
       " '__doc__',\n",
       " '__eq__',\n",
       " '__format__',\n",
       " '__ge__',\n",
       " '__getattribute__',\n",
       " '__gt__',\n",
       " '__hash__',\n",
       " '__init__',\n",
       " '__init_subclass__',\n",
       " '__le__',\n",
       " '__lt__',\n",
       " '__module__',\n",
       " '__ne__',\n",
       " '__new__',\n",
       " '__reduce__',\n",
       " '__reduce_ex__',\n",
       " '__repr__',\n",
       " '__setattr__',\n",
       " '__sizeof__',\n",
       " '__str__',\n",
       " '__subclasshook__',\n",
       " '__weakref__']"
      ]
     },
     "execution_count": 52,
     "metadata": {},
     "output_type": "execute_result"
    }
   ],
   "source": [
    "# dir 案例\n",
    "class A():\n",
    "    pass\n",
    "#dir(A)\n",
    "a=A()\n",
    "dir(a)"
   ]
  },
  {
   "cell_type": "code",
   "execution_count": null,
   "metadata": {},
   "outputs": [],
   "source": []
  }
 ],
 "metadata": {
  "kernelspec": {
   "display_name": "Python 3",
   "language": "python",
   "name": "python3"
  },
  "language_info": {
   "codemirror_mode": {
    "name": "ipython",
    "version": 3
   },
   "file_extension": ".py",
   "mimetype": "text/x-python",
   "name": "python",
   "nbconvert_exporter": "python",
   "pygments_lexer": "ipython3",
   "version": "3.7.0"
  }
 },
 "nbformat": 4,
 "nbformat_minor": 2
}
