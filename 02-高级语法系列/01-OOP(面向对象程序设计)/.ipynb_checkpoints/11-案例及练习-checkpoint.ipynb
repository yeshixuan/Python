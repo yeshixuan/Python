{
 "cells": [
  {
   "cell_type": "code",
   "execution_count": 44,
   "metadata": {},
   "outputs": [
    {
     "name": "stdout",
     "output_type": "stream",
     "text": [
      "这是属于模块的哟\n",
      "你好，留隍\n",
      "{'name': '留隍', 'age': 14}\n",
      "{'__module__': '__main__', '__init__': <function Student.__init__ at 0x0000020660423488>, 'sayHello': <function Student.sayHello at 0x00000206604238C8>, '__dict__': <attribute '__dict__' of 'Student' objects>, '__weakref__': <attribute '__weakref__' of 'Student' objects>, '__doc__': None}\n"
     ]
    }
   ],
   "source": [
    "# 包含一个学生类\n",
    "# -个sayhello函数\n",
    "# 一个打印语句\n",
    "class Student():\n",
    "    def __init__(self, name=\"NoName\", age=18):\n",
    "        self.name = name\n",
    "        self.age = age\n",
    "    def sayHello(self):\n",
    "        print(\"你好，{}\".format(self.name))\n",
    "\n",
    "print(\"这是属于模块的哟\")\n",
    "\n",
    "\n",
    "\n",
    "s = Student(\"留隍\",14)\n",
    "s.sayHello()\n",
    "#对象所有成员的检测\n",
    "print(s.__dict__)\n",
    "#类所有成员\n",
    "print(Student.__dict__)\n"
   ]
  },
  {
   "cell_type": "code",
   "execution_count": 47,
   "metadata": {},
   "outputs": [
    {
     "name": "stdout",
     "output_type": "stream",
     "text": [
      "None\n",
      "0\n",
      "在做作业\n"
     ]
    }
   ],
   "source": [
    "class Student():\n",
    "    pass\n",
    "mingyue = Student()\n",
    "\n",
    "class PythonStudent():\n",
    "    #用None给不确定的值赋值\n",
    "    name = None\n",
    "    age = 0\n",
    "    course = \"Python\"\n",
    "    #系统默认由一个self参数\n",
    "    def doHomework(self):\n",
    "        print(\"在做作业\")\n",
    "        #推荐在函数末尾使用return\n",
    "    def haha():\n",
    "        print(\"实例好像不能打印我哦\")\n",
    "yueyue = PythonStudent()\n",
    "print(yueyue.name)\n",
    "print(yueyue.age)\n",
    "yueyue.doHomework()\n",
    "# yueyue.haha()"
   ]
  },
  {
   "cell_type": "code",
   "execution_count": 43,
   "metadata": {},
   "outputs": [
    {
     "name": "stdout",
     "output_type": "stream",
     "text": [
      "刘洋\n",
      "15\n",
      "40000\n",
      "40000\n"
     ]
    }
   ],
   "source": [
    "class Person():\n",
    "    name = \"刘洋\"\n",
    "    #私有成员\n",
    "    __age = 15\n",
    "    #受保护的\n",
    "    _money = 40000\n",
    "    \n",
    "p = Person()\n",
    "print(p.name)\n",
    "# p.__age\n",
    "print(p._Person__age)\n",
    "print(p._money)\n",
    "print(Person._money)\n",
    "# _money"
   ]
  },
  {
   "cell_type": "code",
   "execution_count": 33,
   "metadata": {},
   "outputs": [],
   "source": [
    "# conda create -n xxx python=3.6\n",
    "# conda list\n",
    "# conda env list"
   ]
  },
  {
   "cell_type": "code",
   "execution_count": 52,
   "metadata": {},
   "outputs": [
    {
     "name": "stdout",
     "output_type": "stream",
     "text": [
      "noName\n",
      "sec\n",
      "Sleeping>>>>>>>>>>>>\n"
     ]
    }
   ],
   "source": [
    "# 继承的语法\n",
    "class Person():\n",
    "    name = \"noName\"\n",
    "    age = 18\n",
    "    __score = 0#私有的\n",
    "    _petname = \"sec\"#受保护的\n",
    "    \n",
    "    def sleep(self):\n",
    "        print(\"Sleeping>>>>>>>>>>>>\")\n",
    "        \n",
    "#继承        \n",
    "class Teacher(Person):\n",
    "    teacher_id = \"3434\"\n",
    "    def make_test(self):\n",
    "        print(\"attention\")\n",
    "t = Teacher()\n",
    "print(t.name)\n",
    "# print(t.__score)\n",
    "print(t._petname)\n",
    "t.sleep()\n"
   ]
  },
  {
   "cell_type": "code",
   "execution_count": 56,
   "metadata": {},
   "outputs": [
    {
     "name": "stdout",
     "output_type": "stream",
     "text": [
      "laoda\n",
      "ssssssssssssssssss\n"
     ]
    }
   ],
   "source": [
    "# 子类和父类定义同一个名称变量，则优先使用子类本身\n",
    "class Person():\n",
    "    name = \"NoName\"\n",
    "    age = 18\n",
    "    __score = 0#私有的\n",
    "    _petname = \"sec\"#受保护的\n",
    "    \n",
    "    def sleep(self):\n",
    "        print(\"Sleeping>>>>>>>>>>>>\")\n",
    "\n",
    "class Teacher(Person):\n",
    "    teacher_id = \"4533\"\n",
    "    name = \"laoda\"\n",
    "    def sleep(self):\n",
    "        print(\"ssssssssssssssssss\")\n",
    "        \n",
    "    def make_test(self):\n",
    "        print(\"attention\")\n",
    "    \n",
    "t = Teacher()\n",
    "print(t.name)\n",
    "t.sleep()"
   ]
  },
  {
   "cell_type": "code",
   "execution_count": 59,
   "metadata": {},
   "outputs": [
    {
     "name": "stdout",
     "output_type": "stream",
     "text": [
      "make some money\n",
      "attention\n"
     ]
    }
   ],
   "source": [
    "# 子类扩充父类功能单利\n",
    "# 人有工作的函数，老师也有，但老师的工作有讲课\n",
    "class Person():\n",
    "    name = \"NoName\"\n",
    "    age = 18\n",
    "    __score = 0#私有的\n",
    "    _petname = \"sec\"#受保护的\n",
    "    \n",
    "    def sleep(self):\n",
    "        print(\"Sleeping>>>>>>>>>>>>\")\n",
    "    \n",
    "    def work(self):\n",
    "        print(\"make some money\")\n",
    "\n",
    "class Teacher(Person):\n",
    "    teacher_id = \"9343\"\n",
    "    name = \"dDAF\"\n",
    "    \n",
    "    def make_test(self):\n",
    "        print(\"attention\")\n",
    "    def work(self):\n",
    "        #调用父类相同的函数\n",
    "#         Person.work(self)\n",
    "        #或者使用super()\n",
    "        super().work()\n",
    "        self.make_test()\n",
    "\n",
    "t = Teacher()\n",
    "t.work()"
   ]
  },
  {
   "cell_type": "code",
   "execution_count": 60,
   "metadata": {},
   "outputs": [
    {
     "name": "stdout",
     "output_type": "stream",
     "text": [
      "I am init in dog\n"
     ]
    }
   ],
   "source": [
    "# 构造函数的概念\n",
    "\n",
    "class Dog():\n",
    "    #__init__ 构造函数\n",
    "    # 每次实例化的时候，第一个被自动调用\n",
    "    # 因为主要工作就是进行初始化，所以得名\n",
    "    def __init__(self):\n",
    "        print(\"I am init in dog\")\n",
    "# 实例化的时候，括号内的参数需要跟构造函数的参数相匹配\n",
    "d = Dog()"
   ]
  },
  {
   "cell_type": "code",
   "execution_count": 61,
   "metadata": {},
   "outputs": [
    {
     "name": "stdout",
     "output_type": "stream",
     "text": [
      "I am init in dog\n"
     ]
    }
   ],
   "source": [
    "# 继承中的构造函数-1\n",
    "class Animal():\n",
    "    pass\n",
    "class PxingAni(Animal):\n",
    "    pass\n",
    "class Dog(PxingAni):\n",
    "    def __init__(self):\n",
    "        print(\"I am init in dog\")\n",
    "kaka = Dog()"
   ]
  },
  {
   "cell_type": "code",
   "execution_count": 68,
   "metadata": {},
   "outputs": [
    {
     "name": "stdout",
     "output_type": "stream",
     "text": [
      "Cat\n"
     ]
    }
   ],
   "source": [
    "# 继承中的构造函数-2\n",
    "class Animal():\n",
    "    def __init__(self):\n",
    "        print(\"Animal\")\n",
    "class PaxingAni(Animal):\n",
    "#     def __init__(self):\n",
    "#         print(\"Paxing\")\n",
    "    pass\n",
    "class Dog(PaxingAni):\n",
    "#     def __Init__(self):\n",
    "#         print(\"Dog\")\n",
    "    pass\n",
    "        \n",
    "kaka = Dog()\n",
    "class Cat(PaxingAni):\n",
    "    def __init__(self):\n",
    "        print('Cat')\n",
    "\n",
    "c = Cat()"
   ]
  },
  {
   "cell_type": "code",
   "execution_count": 72,
   "metadata": {},
   "outputs": [
    {
     "name": "stdout",
     "output_type": "stream",
     "text": [
      "Dog\n"
     ]
    },
    {
     "ename": "TypeError",
     "evalue": "__init__() takes 1 positional argument but 2 were given",
     "output_type": "error",
     "traceback": [
      "\u001b[1;31m---------------------------------------------------------------------------\u001b[0m",
      "\u001b[1;31mTypeError\u001b[0m                                 Traceback (most recent call last)",
      "\u001b[1;32m<ipython-input-72-3bdb0261315a>\u001b[0m in \u001b[0;36m<module>\u001b[1;34m()\u001b[0m\n\u001b[0;32m     16\u001b[0m         \u001b[0mprint\u001b[0m\u001b[1;33m(\u001b[0m\u001b[1;34m\"Cat\"\u001b[0m\u001b[1;33m)\u001b[0m\u001b[1;33m\u001b[0m\u001b[0m\n\u001b[0;32m     17\u001b[0m \u001b[1;31m# c = Cat()\u001b[0m\u001b[1;33m\u001b[0m\u001b[1;33m\u001b[0m\u001b[0m\n\u001b[1;32m---> 18\u001b[1;33m \u001b[0mc\u001b[0m \u001b[1;33m=\u001b[0m \u001b[0mCat\u001b[0m\u001b[1;33m(\u001b[0m\u001b[1;34m\"mi\"\u001b[0m\u001b[1;33m)\u001b[0m\u001b[1;33m\u001b[0m\u001b[0m\n\u001b[0m",
      "\u001b[1;31mTypeError\u001b[0m: __init__() takes 1 positional argument but 2 were given"
     ]
    }
   ],
   "source": [
    "# 继承中的构造函数-3\n",
    "class Animal():\n",
    "    def __init__(self):\n",
    "        print(\"Animal\")\n",
    "class PaxingAni(Animal):\n",
    "    def __init__(self,name):\n",
    "        print(\"Paxing DONGWU {0}\".format(name))\n",
    "class Dog(PaxingAni):\n",
    "    def __init__(self):\n",
    "        print('Dog')\n",
    "d = Dog()\n",
    "\n",
    "class Cat(PaxingAni):\n",
    "    pass\n",
    "#     def __init__(self):\n",
    "#         print(\"Cat\")\n",
    "# c = Cat()\n",
    "c = Cat(\"mi\")"
   ]
  },
  {
   "cell_type": "code",
   "execution_count": 73,
   "metadata": {},
   "outputs": [
    {
     "name": "stdout",
     "output_type": "stream",
     "text": [
      "Animal\n"
     ]
    }
   ],
   "source": [
    "# 继承中的构造函数-4\n",
    "class Animal():\n",
    "    def __init__(self):\n",
    "        print(\"Animal\")\n",
    "\n",
    "class PaxingAni(Animal):\n",
    "    pass\n",
    "\n",
    "class Dog(PaxingAni):\n",
    "     pass\n",
    "    \n",
    "# 实例化Dog时，查找到Dog的够着函数，参数匹配，不报错\n",
    "d=Dog()\n"
   ]
  },
  {
   "cell_type": "code",
   "execution_count": 78,
   "metadata": {},
   "outputs": [
    {
     "name": "stdout",
     "output_type": "stream",
     "text": [
      "<class 'type'>\n",
      "Help on method_descriptor:\n",
      "\n",
      "update(...)\n",
      "    Update a set with the union of itself and others.\n",
      "\n"
     ]
    }
   ],
   "source": [
    "print(type(super))\n",
    "# help(super)\n",
    "help(set.update)"
   ]
  },
  {
   "cell_type": "code",
   "execution_count": 3,
   "metadata": {},
   "outputs": [
    {
     "name": "stdout",
     "output_type": "stream",
     "text": [
      "yao\n",
      "19\n",
      "dana\n",
      "19\n",
      "Hello\n"
     ]
    }
   ],
   "source": [
    "class Teacher():\n",
    "    name=\"dana\"\n",
    "    age=19\n",
    "    \n",
    "    def say(self):\n",
    "        self.name=\"yao\"\n",
    "        self.age=17\n",
    "        print(\"{0}\".format(self.name))\n",
    "        # 调用类的成员变量需要__class__\n",
    "        print(\"{0}\".format(__class__.age))\n",
    "    def sayAgain():\n",
    "        print(__class__.name)\n",
    "        print(__class__.age)\n",
    "        print(\"Hello\")\n",
    "t=Teacher()\n",
    "t.say()\n",
    "# 调用绑定类函数使用类名\n",
    "Teacher.sayAgain()"
   ]
  },
  {
   "cell_type": "code",
   "execution_count": 12,
   "metadata": {},
   "outputs": [
    {
     "name": "stdout",
     "output_type": "stream",
     "text": [
      "aaaa\n",
      "200\n",
      "aaaa\n",
      "200\n",
      "liuying\n",
      "18\n",
      "bbbb\n",
      "90\n"
     ]
    }
   ],
   "source": [
    "# 关于self的案例\n",
    "\n",
    "class A():\n",
    "    name=\"liuying\"\n",
    "    age=18\n",
    "    \n",
    "    def __init__(self):\n",
    "        self.name=\"aaaa\"\n",
    "        self.age=200\n",
    "        \n",
    "    def say(self):\n",
    "        print(self.name)\n",
    "        print(self.age)\n",
    "class B():\n",
    "    name=\"bbbb\"\n",
    "    age=90\n",
    "    \n",
    "a=A()\n",
    "\n",
    "# 此时，系统会默认吧a作为第一个参数传入函数\n",
    "a.say()\n",
    "\n",
    "# 此时，self被a替换\n",
    "A.say(a)\n",
    "\n",
    "# 同样可以把A作为参数传入\n",
    "A.say(A)\n",
    "\n",
    "# 此时，传入的是类实例B，因为B具有name和age属性，所以不会报错\n",
    "A.say(B)\n",
    "\n",
    "# 以上代码，利用了鸭子模型"
   ]
  },
  {
   "cell_type": "code",
   "execution_count": 16,
   "metadata": {},
   "outputs": [
    {
     "name": "stdout",
     "output_type": "stream",
     "text": [
      "liuying\n"
     ]
    },
    {
     "ename": "AttributeError",
     "evalue": "'Person' object has no attribute '__age'",
     "output_type": "error",
     "traceback": [
      "\u001b[1;31m---------------------------------------------------------------------------\u001b[0m",
      "\u001b[1;31mAttributeError\u001b[0m                            Traceback (most recent call last)",
      "\u001b[1;32m<ipython-input-16-73481ef110eb>\u001b[0m in \u001b[0;36m<module>\u001b[1;34m()\u001b[0m\n\u001b[0;32m     11\u001b[0m \u001b[1;31m# __age是私有变量\u001b[0m\u001b[1;33m\u001b[0m\u001b[1;33m\u001b[0m\u001b[0m\n\u001b[0;32m     12\u001b[0m \u001b[1;31m# 注意报错信息\u001b[0m\u001b[1;33m\u001b[0m\u001b[1;33m\u001b[0m\u001b[0m\n\u001b[1;32m---> 13\u001b[1;33m \u001b[0mprint\u001b[0m\u001b[1;33m(\u001b[0m\u001b[0mp\u001b[0m\u001b[1;33m.\u001b[0m\u001b[0m__age\u001b[0m\u001b[1;33m)\u001b[0m\u001b[1;33m\u001b[0m\u001b[0m\n\u001b[0m\u001b[0;32m     14\u001b[0m \u001b[0mp\u001b[0m\u001b[1;33m.\u001b[0m\u001b[0m_Person__age\u001b[0m\u001b[1;33m=\u001b[0m\u001b[1;36m10\u001b[0m\u001b[1;33m\u001b[0m\u001b[0m\n\u001b[0;32m     15\u001b[0m \u001b[0mprint\u001b[0m\u001b[1;33m(\u001b[0m\u001b[0mp\u001b[0m\u001b[1;33m.\u001b[0m\u001b[0m_Person__age\u001b[0m\u001b[1;33m)\u001b[0m\u001b[1;33m\u001b[0m\u001b[0m\n",
      "\u001b[1;31mAttributeError\u001b[0m: 'Person' object has no attribute '__age'"
     ]
    }
   ],
   "source": [
    "# 私有变量案例\n",
    "\n",
    "class Person():\n",
    "    # name 是共有的成员\n",
    "    name=\"liuying\"\n",
    "    # _age就是私有成员\n",
    "    __age=18\n",
    "p=Person()\n",
    "# name是共有变脸\n",
    "print(p.name)\n",
    "# __age是私有变量\n",
    "# 注意报错信息\n",
    "print(p.__age)\n"
   ]
  },
  {
   "cell_type": "code",
   "execution_count": 17,
   "metadata": {},
   "outputs": [
    {
     "name": "stdout",
     "output_type": "stream",
     "text": [
      "{'__module__': '__main__', 'name': 'liuying', '_Person__age': 18, '__dict__': <attribute '__dict__' of 'Person' objects>, '__weakref__': <attribute '__weakref__' of 'Person' objects>, '__doc__': None}\n",
      "19\n"
     ]
    }
   ],
   "source": [
    "# name mangling技术\n",
    "print(Person.__dict__)\n",
    "\n",
    "p._Person__age=19\n",
    "print(p._Person__age)"
   ]
  }
 ],
 "metadata": {
  "kernelspec": {
   "display_name": "Python 3",
   "language": "python",
   "name": "python3"
  },
  "language_info": {
   "codemirror_mode": {
    "name": "ipython",
    "version": 3
   },
   "file_extension": ".py",
   "mimetype": "text/x-python",
   "name": "python",
   "nbconvert_exporter": "python",
   "pygments_lexer": "ipython3",
   "version": "3.7.0"
  }
 },
 "nbformat": 4,
 "nbformat_minor": 2
}
