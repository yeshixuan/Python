{
 "cells": [
  {
   "cell_type": "code",
   "execution_count": 4,
   "metadata": {},
   "outputs": [
    {
     "name": "stdout",
     "output_type": "stream",
     "text": [
      "2019-03-19 15:12:52.049819\n",
      "datetime.datetime(2019, 3, 19, 15, 12, 52, 49819)\n"
     ]
    }
   ],
   "source": [
    "import datetime\n",
    "today = datetime.datetime.now()\n",
    "print(str(today))\n",
    "print(repr(today))"
   ]
  },
  {
   "cell_type": "code",
   "execution_count": 10,
   "metadata": {},
   "outputs": [
    {
     "name": "stdout",
     "output_type": "stream",
     "text": [
      "Hai, my name is LIUYING\n",
      "Hai, my name is MICHI STANGLE\n"
     ]
    }
   ],
   "source": [
    "#属性案例\n",
    "# 创建Student类，描述学生类\n",
    "# 学生具有Student,name属性\n",
    "# 但name格式并不同意\n",
    "# 可以用增加一个函数，然后自动调用的方式，但很蠢\n",
    "\n",
    "class Student():\n",
    "    def __init__(self, name, age):\n",
    "        self.name = name \n",
    "        self.age = age\n",
    "        #如果不想修改代码\n",
    "        self.setName(name)\n",
    "        \n",
    "    # 介绍下自己\n",
    "    def intro(self):\n",
    "        print(\"Hai, my name is {0}\".format(self.name))\n",
    "    def setName(self, name):\n",
    "        self.name = name.upper()# 全部大写\n",
    "\n",
    "s1 = Student(\"liuying\", 19)\n",
    "s2 = Student(\"michi stangle\", 24)\n",
    "# s1.setName(s1.name)\n",
    "# s1.intro()\n",
    "s1.intro()\n",
    "s2.intro()"
   ]
  },
  {
   "cell_type": "code",
   "execution_count": 22,
   "metadata": {},
   "outputs": [
    {
     "name": "stdout",
     "output_type": "stream",
     "text": [
      "DALIUDALIU 45\n"
     ]
    }
   ],
   "source": [
    "# property案例\n",
    "# 定义一个Person类，具有name， age属性\n",
    "# 对于任意输入的姓名，我们希望都用大写方式保存\n",
    "# 年龄，我们希望内部统一整数保存\n",
    "# x = property(fget, fset,fdel,doc)\n",
    "\n",
    "class Person():\n",
    "    \"\"\"\n",
    "    这是一个人\n",
    "    它还有属性\n",
    "    \"\"\"\n",
    "    \n",
    "    # 函数的名词可以任意\n",
    "    def fget(self):\n",
    "        return self._name *2# 请注意：_name的形式\n",
    "    def fset(self, name):\n",
    "        # 所有输入的姓名以大写的形式保存\n",
    "        self._name = name.upper()\n",
    "      \n",
    "    def fdel(self):\n",
    "        self._name = \"NoName\"\n",
    "        \n",
    "    name = property(fget,fset,fdel,\"对name,age进行清理操作\")\n",
    "    \n",
    "    def getage(self):\n",
    "        return self._age\n",
    "    def setage(self, age):\n",
    "        self._age = int(age)\n",
    "    def delage(self):\n",
    "        self._age = \"12\"\n",
    "        \n",
    "    age = property(getage,setage,delage,\"清理年龄\")\n",
    "\n",
    "    \n",
    "p1 = Person()\n",
    "p1.name = \"daliu\"\n",
    "p1.age = 45.45\n",
    "print(p1.name, p1.age)"
   ]
  },
  {
   "cell_type": "code",
   "execution_count": 26,
   "metadata": {},
   "outputs": [
    {
     "name": "stdout",
     "output_type": "stream",
     "text": [
      "{'__module__': '__main__', '__doc__': '\\n    这是一个人\\n    它还有属性\\n    ', 'fget': <function Person.fget at 0x000001B2374E9BF8>, 'fset': <function Person.fset at 0x000001B2374E97B8>, 'fdel': <function Person.fdel at 0x000001B2374E9598>, 'name': <property object at 0x000001B2374ED9A8>, 'getage': <function Person.getage at 0x000001B2374E9730>, 'setage': <function Person.setage at 0x000001B2374E96A8>, 'delage': <function Person.delage at 0x000001B2374E9620>, 'age': <property object at 0x000001B2374ED9F8>, '__dict__': <attribute '__dict__' of 'Person' objects>, '__weakref__': <attribute '__weakref__' of 'Person' objects>}\n",
      "\n",
      "    这是一个人\n",
      "    它还有属性\n",
      "    \n",
      "Person\n",
      "(<class 'object'>,)\n"
     ]
    }
   ],
   "source": [
    "# 类的内置属性举例\n",
    "print(Person.__dict__)\n",
    "print(Person.__doc__)\n",
    "print(Person.__name__)\n",
    "print(Person.__bases__)"
   ]
  },
  {
   "cell_type": "code",
   "execution_count": 27,
   "metadata": {},
   "outputs": [
    {
     "name": "stdout",
     "output_type": "stream",
     "text": [
      "我被调用了\n"
     ]
    }
   ],
   "source": [
    "# init举例\n",
    "class A():\n",
    "    def __init__(self):\n",
    "        print(\"我被调用了\")\n",
    "a = A()"
   ]
  },
  {
   "cell_type": "code",
   "execution_count": 31,
   "metadata": {},
   "outputs": [
    {
     "name": "stdout",
     "output_type": "stream",
     "text": [
      "我被调用了\n",
      "你是不是把我当函数了，所以我call也被调用了\n"
     ]
    }
   ],
   "source": [
    "# __call__举例\n",
    "class A():\n",
    "    def __init__(self):\n",
    "        print(\"我被调用了\")\n",
    "    def __call__(self):\n",
    "        print(\"你是不是把我当函数了，所以我call也被调用了\")\n",
    "a = A()\n",
    "a()"
   ]
  },
  {
   "cell_type": "code",
   "execution_count": 35,
   "metadata": {},
   "outputs": [
    {
     "name": "stdout",
     "output_type": "stream",
     "text": [
      "init被调用了\n",
      "我好看不\n",
      "你是不是把我当函数了，所以我call也被调用了\n"
     ]
    }
   ],
   "source": [
    "# __str__举例\n",
    "class A():\n",
    "    def __init__(self):\n",
    "        print(\"init被调用了\")\n",
    "    def __call__(self):# 被当函数就出现了\n",
    "        print(\"你是不是把我当函数了，所以我call也被调用了\")\n",
    "    def __str__(self): #打印就出现了\n",
    "        return \"我好看不\"\n",
    "a = A()\n",
    "print(a)\n",
    "a()"
   ]
  },
  {
   "cell_type": "code",
   "execution_count": 41,
   "metadata": {},
   "outputs": [
    {
     "name": "stdout",
     "output_type": "stream",
     "text": [
      "NoName\n",
      "看见我了吗\n",
      "addr\n",
      "\n",
      "xxxxxxxxxxxxxxxxx\n",
      "看见我了吗\n",
      "mimi\n",
      "\n"
     ]
    }
   ],
   "source": [
    "# __getarttr__:访问一个不存在的属性时触发\n",
    "class A():\n",
    "    name = \"NoName\"\n",
    "    age = 18\n",
    "    \n",
    "    def __getattr__(self, name):\n",
    "        print(\"看见我了吗\")\n",
    "        print(name)\n",
    "        return \"\"\n",
    "        \n",
    "a = A()\n",
    "print(a.name)\n",
    "print(a.addr)\n",
    "print(\"xxxxxxxxxxxxxxxxx\")\n",
    "print(a.mimi)"
   ]
  },
  {
   "cell_type": "code",
   "execution_count": 7,
   "metadata": {},
   "outputs": [
    {
     "name": "stdout",
     "output_type": "stream",
     "text": [
      "{}\n",
      "设置属性：age\n",
      "{'age': 18}\n",
      "18\n"
     ]
    }
   ],
   "source": [
    "# __setattr__案例\n",
    "class Person():\n",
    "    def __init__(self):\n",
    "        pass\n",
    "    def __setattr__(self, name, value):\n",
    "        print(\"设置属性：{}\".format(name))\n",
    "        \n",
    "        # self.name = value # 这么用会陷入死循环\n",
    "        super().__setattr__(name,value)\n",
    "#         Person.__setattr__(self,name,value) #这么用也不行\n",
    "p = Person()\n",
    "print(p.__dict__)\n",
    "p.age = 18\n",
    "print(p.__dict__)\n",
    "print(p.age)"
   ]
  },
  {
   "cell_type": "code",
   "execution_count": 16,
   "metadata": {},
   "outputs": [
    {
     "name": "stdout",
     "output_type": "stream",
     "text": [
      "哈哈，one会比ao大吗？\n",
      "True\n"
     ]
    }
   ],
   "source": [
    "# __ge__\n",
    "class Student():\n",
    "    def __init__(self, name):\n",
    "        self.name = name\n",
    "    def __gt__(self, obj):\n",
    "#         print(\"哈哈，{}会比{}大吗？\".format(self,obj))\n",
    "        print(\"哈哈，{}会比{}大吗？\".format(self.name,obj.name))      \n",
    "\n",
    "        return self.name > obj.name\n",
    "    \n",
    "stu1 = Student(\"one\")\n",
    "stu2 = Student(\"ao\")\n",
    "print(stu1>stu2)"
   ]
  },
  {
   "cell_type": "code",
   "execution_count": 26,
   "metadata": {},
   "outputs": [
    {
     "name": "stdout",
     "output_type": "stream",
     "text": [
      "<__main__.Person object at 0x00000204C2CC6358>\n",
      "Eating\n",
      "xxxxxxxxxxxxxxx\n",
      "<class '__main__.Person'>\n",
      "Playing\n",
      "<class '__main__.Person'>\n",
      "Playing\n",
      "Saying\n",
      "Saying\n"
     ]
    }
   ],
   "source": [
    "# 三种方法的案例\n",
    "class Person():\n",
    "    \n",
    "    # 实例方法\n",
    "    def eat(self):\n",
    "        print(self)\n",
    "        print(\"Eating\")\n",
    "    \n",
    "    # 类方法\n",
    "    # 类方法的第一个参数，一般命名为cls，区别于self\n",
    "    @classmethod\n",
    "    def play(cls):\n",
    "        print(cls)\n",
    "        print(\"Playing\")\n",
    "    \n",
    "    # 静态方法\n",
    "    # 不需要用第一个参数表示吱声或者类\n",
    "    @staticmethod\n",
    "    def say():\n",
    "        print(\"Saying\")\n",
    "\n",
    "yueyue = Person()\n",
    "\n",
    "# 实例方法\n",
    "yueyue.eat()\n",
    "# Person.eat()#不\n",
    "print(\"xxxxxxxxxxxxxxx\")\n",
    "\n",
    "# 类方法\n",
    "Person.play()\n",
    "yueyue.play()\n",
    "\n",
    "#静态方法\n",
    "Person.say()\n",
    "yueyue.say()"
   ]
  },
  {
   "cell_type": "code",
   "execution_count": 35,
   "metadata": {},
   "outputs": [
    {
     "name": "stdout",
     "output_type": "stream",
     "text": [
      "year: 4\n",
      "month: 4\n",
      "day: 3\n"
     ]
    }
   ],
   "source": [
    "class Data_test2():\n",
    "    day = 0\n",
    "    month = 0\n",
    "    year = 0\n",
    "    \n",
    "    def __init__(self, year=0, month=0, day=0):\n",
    "        self.day = day\n",
    "        self.month = month\n",
    "        self.year = month\n",
    "    \n",
    "    @classmethod\n",
    "    def get_date(cls, string_date):\n",
    "        #这里第一个参数是cls，表示调用当前的类名\n",
    "        year, month, day = map(int, string_date.split('-'))\n",
    "        date1 = cls(year, month, day)\n",
    "        # 返回的是一个初始化后的类\n",
    "        return date1\n",
    "    \n",
    "    def out_date(self):\n",
    "        print(\"year:\",self.year)\n",
    "        print(\"month:\",self.month)\n",
    "        print(\"day:\", self.day)\n",
    "        \n",
    "r = Data_test2.get_date(\"2018-4-3\")\n",
    "r.out_date()"
   ]
  },
  {
   "cell_type": "code",
   "execution_count": 42,
   "metadata": {},
   "outputs": [
    {
     "name": "stdout",
     "output_type": "stream",
     "text": [
      "闻下对方的味道\n",
      "Kisss me\n"
     ]
    }
   ],
   "source": [
    "# 抽象\n",
    "class Animal():\n",
    "    def sayHello(self):\n",
    "        pass\n",
    "    \n",
    "class Dog(Animal):\n",
    "    def sayHello(self):\n",
    "        print(\"闻下对方的味道\")\n",
    "        \n",
    "class Person(Animal):\n",
    "    def sayHello(self):\n",
    "        print(\"Kisss me\")\n",
    "        \n",
    "class Mile(Animal):\n",
    "    def sayHello(self):\n",
    "        pass\n",
    "    \n",
    "d = Dog()\n",
    "d.sayHello()\n",
    "p = Person()\n",
    "p.sayHello()\n",
    "m = Mile()\n",
    "m.sayHello()"
   ]
  },
  {
   "cell_type": "code",
   "execution_count": 52,
   "metadata": {},
   "outputs": [
    {
     "name": "stdout",
     "output_type": "stream",
     "text": [
      "smoking\n",
      "playing\n",
      "drink\n",
      "sleeping\n"
     ]
    }
   ],
   "source": [
    "# 抽象类的实现\n",
    "\n",
    "import abc\n",
    "\n",
    "# 声明一个类并且指定当前类的元类\n",
    "class Human(metaclass=abc.ABCMeta):\n",
    "    \n",
    "    # 定义一个抽象的方法\n",
    "    @abc.abstractmethod\n",
    "    def smoking(self):\n",
    "        pass\n",
    "    \n",
    "    # 定义类抽象方法\n",
    "    @abc.abstractclassmethod\n",
    "    def drink():\n",
    "        pass\n",
    "    \n",
    "    # 定义静态抽象方法\n",
    "    @abc.abstractstaticmethod\n",
    "    def play():\n",
    "        pass\n",
    "    \n",
    "    def sleep(self):\n",
    "        print(\"sleeping\")\n",
    "        \n",
    "# h = Human()\n",
    "class A(Human):\n",
    "    def smoking(self):\n",
    "        print(\"smoking\")\n",
    "    def play(self):\n",
    "        print(\"playing\")\n",
    "    def drink(self):\n",
    "        print(\"drink\")\n",
    "        \n",
    "a = A()\n",
    "a.smoking()\n",
    "a.play()\n",
    "a.drink()\n",
    "a.sleep()"
   ]
  },
  {
   "cell_type": "code",
   "execution_count": 56,
   "metadata": {},
   "outputs": [
    {
     "name": "stdout",
     "output_type": "stream",
     "text": [
      "yueyue你好\n",
      "yueyue你好\n"
     ]
    }
   ],
   "source": [
    "# 函数名可以当变量使用\n",
    "def sayHello(name):\n",
    "    print(\"{}你好\".format(name))\n",
    "sayHello(\"yueyue\")\n",
    "\n",
    "liumang = sayHello\n",
    "liumang(\"yueyue\")"
   ]
  },
  {
   "cell_type": "code",
   "execution_count": 68,
   "metadata": {},
   "outputs": [
    {
     "name": "stdout",
     "output_type": "stream",
     "text": [
      "Saying\n",
      "Saying\n",
      "Saying\n"
     ]
    }
   ],
   "source": [
    "# 自己组装一个类\n",
    "class A():\n",
    "    pass\n",
    "\n",
    "def say(self):\n",
    "    print(\"Saying\")\n",
    "    \n",
    "class B():\n",
    "    def say(self):\n",
    "        print(\"Saying\")\n",
    "        \n",
    "# say(9)\n",
    "A.say = say#组装\n",
    "a = A()\n",
    "a.say()\n",
    "\n",
    "b = B()\n",
    "b.say()\n",
    "\n",
    "c = A()\n",
    "c.say()"
   ]
  },
  {
   "cell_type": "code",
   "execution_count": 69,
   "metadata": {},
   "outputs": [
    {
     "name": "stdout",
     "output_type": "stream",
     "text": [
      "Saying\n"
     ]
    },
    {
     "ename": "AttributeError",
     "evalue": "'A' object has no attribute 'say'",
     "output_type": "error",
     "traceback": [
      "\u001b[1;31m---------------------------------------------------------------------------\u001b[0m",
      "\u001b[1;31mAttributeError\u001b[0m                            Traceback (most recent call last)",
      "\u001b[1;32m<ipython-input-69-ffa101fc921a>\u001b[0m in \u001b[0;36m<module>\u001b[1;34m()\u001b[0m\n\u001b[0;32m     14\u001b[0m \u001b[1;33m\u001b[0m\u001b[0m\n\u001b[0;32m     15\u001b[0m \u001b[0mb\u001b[0m \u001b[1;33m=\u001b[0m \u001b[0mA\u001b[0m\u001b[1;33m(\u001b[0m\u001b[1;33m)\u001b[0m\u001b[1;33m\u001b[0m\u001b[0m\n\u001b[1;32m---> 16\u001b[1;33m \u001b[0mb\u001b[0m\u001b[1;33m.\u001b[0m\u001b[0msay\u001b[0m\u001b[1;33m(\u001b[0m\u001b[1;33m)\u001b[0m\u001b[1;33m\u001b[0m\u001b[0m\n\u001b[0m",
      "\u001b[1;31mAttributeError\u001b[0m: 'A' object has no attribute 'say'"
     ]
    }
   ],
   "source": [
    "# 组装类例子2\n",
    "# 自己组装一个类\n",
    "from types import MethodType\n",
    "\n",
    "class A():\n",
    "    pass\n",
    "\n",
    "def say(self):\n",
    "    print(\"Saying\")\n",
    "    \n",
    "a = A()\n",
    "a.say = MethodType(say, A)\n",
    "a.say()\n",
    "\n",
    "b = A()\n",
    "# b.say()# A中并没有增加say函数"
   ]
  },
  {
   "cell_type": "code",
   "execution_count": 71,
   "metadata": {},
   "outputs": [
    {
     "name": "stdout",
     "output_type": "stream",
     "text": [
      "Help on class method in module builtins:\n",
      "\n",
      "class method(object)\n",
      " |  method(function, instance)\n",
      " |  \n",
      " |  Create a bound instance method object.\n",
      " |  \n",
      " |  Methods defined here:\n",
      " |  \n",
      " |  __call__(self, /, *args, **kwargs)\n",
      " |      Call self as a function.\n",
      " |  \n",
      " |  __delattr__(self, name, /)\n",
      " |      Implement delattr(self, name).\n",
      " |  \n",
      " |  __eq__(self, value, /)\n",
      " |      Return self==value.\n",
      " |  \n",
      " |  __ge__(self, value, /)\n",
      " |      Return self>=value.\n",
      " |  \n",
      " |  __get__(self, instance, owner, /)\n",
      " |      Return an attribute of instance, which is of type owner.\n",
      " |  \n",
      " |  __getattribute__(self, name, /)\n",
      " |      Return getattr(self, name).\n",
      " |  \n",
      " |  __gt__(self, value, /)\n",
      " |      Return self>value.\n",
      " |  \n",
      " |  __hash__(self, /)\n",
      " |      Return hash(self).\n",
      " |  \n",
      " |  __le__(self, value, /)\n",
      " |      Return self<=value.\n",
      " |  \n",
      " |  __lt__(self, value, /)\n",
      " |      Return self<value.\n",
      " |  \n",
      " |  __ne__(self, value, /)\n",
      " |      Return self!=value.\n",
      " |  \n",
      " |  __reduce__(...)\n",
      " |      Helper for pickle.\n",
      " |  \n",
      " |  __repr__(self, /)\n",
      " |      Return repr(self).\n",
      " |  \n",
      " |  __setattr__(self, name, value, /)\n",
      " |      Implement setattr(self, name, value).\n",
      " |  \n",
      " |  ----------------------------------------------------------------------\n",
      " |  Static methods defined here:\n",
      " |  \n",
      " |  __new__(*args, **kwargs) from builtins.type\n",
      " |      Create and return a new object.  See help(type) for accurate signature.\n",
      " |  \n",
      " |  ----------------------------------------------------------------------\n",
      " |  Data descriptors defined here:\n",
      " |  \n",
      " |  __func__\n",
      " |      the function (or other callable) implementing a method\n",
      " |  \n",
      " |  __self__\n",
      " |      the instance to which a method is bound\n",
      "\n"
     ]
    }
   ],
   "source": [
    "help(MethodType)"
   ]
  },
  {
   "cell_type": "code",
   "execution_count": 78,
   "metadata": {},
   "outputs": [
    {
     "name": "stdout",
     "output_type": "stream",
     "text": [
      "talking\n",
      "saying\n"
     ]
    }
   ],
   "source": [
    "# 利用type造一个类\n",
    "def say(self):\n",
    "    print(\"saying\")\n",
    "    \n",
    "def talk(self):\n",
    "    print(\"talking\")\n",
    "\n",
    "# 用type来创建一个类\n",
    "A = type(\"AName\", (object,), {\"class_say\":say, \"class_talk\":talk})\n",
    "\n",
    "#然后可以向正常范文一样使用类\n",
    "a = A()\n",
    "a.class_talk()\n",
    "a.class_say()"
   ]
  },
  {
   "cell_type": "code",
   "execution_count": null,
   "metadata": {},
   "outputs": [],
   "source": [
    "# 元类演示\n",
    "\n",
    "# 元类写法是固定的，它必须继承自type\n",
    "# 元类一般命名以MetaClass结尾\n",
    "class TulingMetaClass(type):\n",
    "    # 注意一下写法\n",
    "    def __new__(cls, name, bases, attrs):\n",
    "        #自己的业务处理\n",
    "        print(\"哈哈，我是元类啊\")\n",
    "        attrs[\"id\"] = \"000000\"\n",
    "        attr[\"addr\"] = \"背景\"\n",
    "        return type.__new__(cls, name, bases, attrs)\n",
    "\n",
    "# 元类定义完就可以使用，使用注意写法"
   ]
  }
 ],
 "metadata": {
  "kernelspec": {
   "display_name": "Python 3",
   "language": "python",
   "name": "python3"
  },
  "language_info": {
   "codemirror_mode": {
    "name": "ipython",
    "version": 3
   },
   "file_extension": ".py",
   "mimetype": "text/x-python",
   "name": "python",
   "nbconvert_exporter": "python",
   "pygments_lexer": "ipython3",
   "version": "3.7.0"
  }
 },
 "nbformat": 4,
 "nbformat_minor": 2
}
