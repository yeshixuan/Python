{
 "cells": [
  {
   "cell_type": "markdown",
   "metadata": {},
   "source": [
    "# 5. 类的成员描述符（属性）\n",
    "\n",
    "- 类的成员描述符是为了在类中对类的成员属性进行相关操作而创建的一种方法\n",
    "  - get：获取属性的操作\n",
    "  - set：修改或添加属性操作\n",
    "  - delete：删除属性的操作\n",
    "- 如果想使用类的成员描述符，大概有三种方法\n",
    "  - 使用类的实现描述器\n",
    "  - 使用属性修饰符\n",
    "  - 使用property函数\n",
    "     - property函数很简单\n",
    "     - property(fget,fset,fdel,doc)\n",
    "  - 案例：01\n",
    "- 无论哪种修饰符都是为了对成员属性进行相应的控制\n",
    "  - 类的方式：适合多个类中的多个属性共用一个描述符\n",
    "  - property: 适合当前类中使用，可以控制一个类中多个属性\n",
    "  - 属性修饰符：适用于当前类中使用，控制一个类中的一个属性\n",
    "  \n",
    "# 6.类的内置属性\n",
    "        \n",
    "        __dict__:以字典的方式显示类的成员组成\n",
    "        __doc__:获取类的文档信息\n",
    "        __name__:获取类的名称，如果在模块中使用，获取模块的名称\n",
    "        __bases__:获取某个类的所有父类，以元组的方式显示\n",
    "        \n",
    "# 7.类的常用魔术方法\n",
    "-  魔术方法就是不需要人为调用的方法，基本是在特定的时刻自动触发\n",
    "-  魔术方法的统一的特征，方法名被前后各两个下划线包裹\n",
    "- 操作类\n",
    "   - __init__:构造函数\n",
    "   - __new__:对象实例化方法，此函数较特殊，一般不需要使用\n",
    "   - __call__:对象当函数来使用的时候触发\n",
    "   - __str__:当对象被当做字符串使用的时候调用，更推荐这个\n",
    "   - __repr__:返回字符串，跟__str__具体区别(https://blog.csdn.net/sinat_41104353/article/details/79254149)\n",
    "- 描述符相关\n",
    "   - __set__\n",
    "   - __get__\n",
    "   - __delete__\n",
    "- 属性操作相关\n",
    "   - __getattr__:访问一个不存在的属性时触发\n",
    "   - __setattr__:对成员属性进行设置的时候触发\n",
    "      - 参数：\n",
    "        - self用来获取当前对象\n",
    "        - 被设置的属性名称，以字符串形式出现\n",
    "        - 需要对属性名称设置的值\n",
    "      - 作用: 进行属性设置的时候进行验证或者修改\n",
    "      - 注意：在该方法中不能对属性直接进行赋值操作，否则死循环\n",
    "      - 参看以下案例02\n",
    "- 运算分类相关魔术方法\n",
    "   - __gt__:进行大于判断的时候触发的函数\n",
    "   - 参数：\n",
    "      - self\n",
    "      - 第二个参数是第二个对象\n",
    "      - 返回值可以是任意值，推荐返回布尔值\n",
    "      - 案例03\n",
    "      \n",
    "# 8. 类和对象的三种方法\n",
    "- 实例方法\n",
    "    - 需要实例化对象才能使用的方法，使用过程中可能需要截止对象的其他的方法\n",
    "- 静态方法\n",
    "    - 不需要实例化，通过类直接访问\n",
    "- 类方法\n",
    "    - 不需要实例化\n",
    "- 参看案例04\n",
    "- [三个方法具体区别](https://blog.csdn.net/weixin_37923128/article/details/80970850)"
   ]
  },
  {
   "cell_type": "code",
   "execution_count": 6,
   "metadata": {},
   "outputs": [
    {
     "name": "stdout",
     "output_type": "stream",
     "text": [
      "Hai,my name is LIU YING\n",
      "Hai,my name is MICHI STANGLE\n"
     ]
    }
   ],
   "source": [
    "# 属性案例\n",
    "# 创建Student类，描述学生类\n",
    "# 学生具有Student.name属性\n",
    "# 但name格式并不统一\n",
    "# 可以用增加一个函数，然后自动调用的方式，但很蠢\n",
    "\n",
    "class Student():\n",
    "    def __init__(self,name,age):\n",
    "        self.name=name\n",
    "        self.age=age\n",
    "        # 如果不想修改代码\n",
    "        self.setName(name)\n",
    "        \n",
    "    # 介绍下自己\n",
    "    def intro(self):\n",
    "        print(\"Hai,my name is {0}\".format(self.name))\n",
    "    def setName(self,name):\n",
    "        self.name=name.upper()\n",
    "\n",
    "s1=Student(\"liu ying\",19)\n",
    "s2=Student(\"michi stangle\",24)\n",
    "s1.intro()\n",
    "s2.intro()"
   ]
  },
  {
   "cell_type": "code",
   "execution_count": 15,
   "metadata": {},
   "outputs": [],
   "source": [
    "# 案例01\n",
    "# property案例\n",
    "# 定义一个Person类，具有name，age属性\n",
    "# 对于任意输入的姓名，我们希望都用大写方式保存\n",
    "# 年龄，我们希望内部统一用整数保存\n",
    "# x=property(fget,fset,fdel,doc)\n",
    "class Person():\n",
    "    \"\"\"\n",
    "    这是一个人\n",
    "    他还他妈的有属性\n",
    "    \"\"\"\n",
    "    \n",
    "    # 函数的名词可以任意\n",
    "    def fget(self):\n",
    "        return self._name *2\n",
    "    def fset(self,name):\n",
    "        # 所有输入的姓名以大写形式保存\n",
    "        self._name=name.upper()\n",
    "    def fdel(self):\n",
    "        self._name=\"NoName\"\n",
    "    \n",
    "    name=property(fget,fset,fdel,\"对name进行下下操作\")\n",
    "\n",
    "\n",
    "# 作业：\n",
    "# 1.在用户输入年龄的时候，可以输入整数，小数，浮点数\n",
    "# 2.但内部为了数据清洁，我们统一需要保存整数，直接舍去小数点\n",
    "        \n",
    "    "
   ]
  },
  {
   "cell_type": "code",
   "execution_count": 16,
   "metadata": {},
   "outputs": [
    {
     "name": "stdout",
     "output_type": "stream",
     "text": [
      "TULINGTULING\n"
     ]
    }
   ],
   "source": [
    "p1=Person()\n",
    "p1.name=\"TuLing\"\n",
    "print(p1.name)"
   ]
  },
  {
   "cell_type": "code",
   "execution_count": 19,
   "metadata": {},
   "outputs": [
    {
     "name": "stdout",
     "output_type": "stream",
     "text": [
      "{'__module__': '__main__', '__doc__': '\\n    这是一个人\\n    他还他妈的有属性\\n    ', 'fget': <function Person.fget at 0x000001B864572C80>, 'fset': <function Person.fset at 0x000001B864572BF8>, 'fdel': <function Person.fdel at 0x000001B8645726A8>, 'name': <property object at 0x000001B864592598>, '__dict__': <attribute '__dict__' of 'Person' objects>, '__weakref__': <attribute '__weakref__' of 'Person' objects>}\n",
      "\n",
      "    这是一个人\n",
      "    他还他妈的有属性\n",
      "    \n",
      "Person\n",
      "(<class 'object'>,)\n"
     ]
    }
   ],
   "source": [
    "# 类的内置属性举例\n",
    "print(Person.__dict__)\n",
    "print(Person.__doc__)\n",
    "print(Person.__name__)\n",
    "print(Person.__bases__)"
   ]
  },
  {
   "cell_type": "code",
   "execution_count": 21,
   "metadata": {},
   "outputs": [
    {
     "name": "stdout",
     "output_type": "stream",
     "text": [
      "哈哈，我被嗲用了\n"
     ]
    }
   ],
   "source": [
    "# init 举例\n",
    "class A():\n",
    "    def __init__(self,name=0):\n",
    "        print(\"哈哈，我被嗲用了\")\n",
    "a=A()"
   ]
  },
  {
   "cell_type": "code",
   "execution_count": 25,
   "metadata": {},
   "outputs": [
    {
     "name": "stdout",
     "output_type": "stream",
     "text": [
      "哈哈，我被嗲用了\n",
      "我被调用了again\n"
     ]
    }
   ],
   "source": [
    "# __call__举例\n",
    "class A():\n",
    "    def __init__(self,name=0):\n",
    "        print(\"哈哈，我被调用了\")\n",
    "    def __call__(self):\n",
    "        print(\"我被调用了again\")\n",
    "a=A()\n",
    "a()"
   ]
  },
  {
   "cell_type": "code",
   "execution_count": 29,
   "metadata": {},
   "outputs": [
    {
     "name": "stdout",
     "output_type": "stream",
     "text": [
      "哈哈，我被调用了\n",
      "图灵学院的例子\n"
     ]
    }
   ],
   "source": [
    "# __str__举例\n",
    "class A():\n",
    "    def __init__(self,name=0):\n",
    "        print(\"哈哈，我被调用了\")\n",
    "    def __call__(self):\n",
    "        print(\"我被调用了again\")\n",
    "    def __str__(self):\n",
    "        return \"图灵学院的例子\"\n",
    "a=A()\n",
    "print(a)"
   ]
  },
  {
   "cell_type": "code",
   "execution_count": 39,
   "metadata": {},
   "outputs": [
    {
     "name": "stdout",
     "output_type": "stream",
     "text": [
      "NoName\n",
      "没赵傲哎呀是否深V\n",
      "addr\n",
      "None\n"
     ]
    }
   ],
   "source": [
    "# __getattr__\n",
    "\n",
    "class A():\n",
    "    name=\"NoName\"\n",
    "    age=18\n",
    "    \n",
    "    def __getattr__(self,name):\n",
    "        print(\"没赵傲哎呀是否深V\")\n",
    "        print(name)\n",
    "a=A()\n",
    "print(a.name)\n",
    "print(a.addr)\n",
    "\n",
    "# 作业：\n",
    "# 为什么会打印第四句话，而且第四句话是打印的None"
   ]
  },
  {
   "cell_type": "code",
   "execution_count": 4,
   "metadata": {},
   "outputs": [
    {
     "name": "stdout",
     "output_type": "stream",
     "text": [
      "{}\n",
      "设置属性：age\n"
     ]
    }
   ],
   "source": [
    "# 案例02\n",
    "# __setattr__案例 对成员属性进行设置的时候触发\n",
    "class Person():\n",
    "    def __init__(self):\n",
    "        pass\n",
    "    def __setattr__(self,name,value):\n",
    "        print(\"设置属性：{0}\".format(name))\n",
    "        # 下面语句会导致问0题，死循环\n",
    "        #self.name=value\n",
    "        # 此种情况，为了死循环，规定统一调用父类魔法函数\n",
    "        super().__setattr__(name,value)\n",
    "p= Person()\n",
    "print(p.__dict__)\n",
    "p.age=18"
   ]
  },
  {
   "cell_type": "code",
   "execution_count": 16,
   "metadata": {},
   "outputs": [
    {
     "name": "stdout",
     "output_type": "stream",
     "text": [
      "哈哈，<__main__.Student object at 0x000001826DE99F28> 会比<__main__.Student object at 0x000001826DE99EF0>大吗？\n",
      "False\n"
     ]
    }
   ],
   "source": [
    "# 案例03\n",
    "# __gt__ 进行大于判断的时候触发的函数\n",
    "class Student():\n",
    "    def __init__(self,name):\n",
    "        self._name=name\n",
    "     \n",
    "    def __gt__(self,obj):\n",
    "        print(\"哈哈，{0} 会比{1}大吗？\".format(self,obj))\n",
    "        return self._name>obj._name\n",
    "       \n",
    "# 作业：\n",
    "# 字符串的比较是按什么规则\n",
    "stu1=Student(\"one\")\n",
    "stu2=Student(\"two\")\n",
    "print(stu1>stu2)\n",
    "\n",
    "# 作业：\n",
    "# 下面显示的结果不太美观，能否改成形如 “哈哈 one会比 two大吗”"
   ]
  },
  {
   "cell_type": "code",
   "execution_count": 24,
   "metadata": {},
   "outputs": [
    {
     "name": "stdout",
     "output_type": "stream",
     "text": [
      "<__main__.Person object at 0x000001826DEA97F0>\n",
      "Eating......\n",
      "<class '__main__.Person'>\n",
      "Playing。。。。。\n",
      "<class '__main__.Person'>\n",
      "Playing。。。。。\n",
      "Saying\n",
      "Saying\n"
     ]
    }
   ],
   "source": [
    "# 案例04\n",
    "# 三种方法的案例\n",
    "class Person():\n",
    "    # 实例方法\n",
    "    def eat(self):\n",
    "        print(self)\n",
    "        print(\"Eating......\")\n",
    "    #类方法\n",
    "    # 类方法的第一个参数，一般命名为cls，区别于self\n",
    "    @classmethod\n",
    "    def play(cls):\n",
    "        print(cls)\n",
    "        print(\"Playing。。。。。\")\n",
    "    # 静态方法\n",
    "    # 不需要用第一个参数表示自身或者类\n",
    "    @staticmethod\n",
    "    def say():\n",
    "        print(\"Saying\")\n",
    "yueyue=Person()\n",
    "\n",
    "# 实例方法\n",
    "yueyue.eat()\n",
    "\n",
    "# 类方法\n",
    "Person.play()\n",
    "yueyue.play()\n",
    "\n",
    "# 静态方法\n",
    "Person.say()\n",
    "yueyue.say()\n",
    "\n",
    "# 作业：\n",
    "# 自行查找三种方法内存使用方面的区别"
   ]
  },
  {
   "cell_type": "code",
   "execution_count": 8,
   "metadata": {},
   "outputs": [
    {
     "name": "stdout",
     "output_type": "stream",
     "text": [
      "year:2019\n",
      "month:3\n",
      "day:2019\n"
     ]
    }
   ],
   "source": [
    "class GetDate():\n",
    "    def __init__(self, year=0, month=0, day=0):\n",
    "        self.year = year\n",
    "        self.month = month\n",
    "        self.day = day\n",
    "        \n",
    "    @classmethod\n",
    "    def get_date(cls, date_str):\n",
    "        year, month, day = map(int, date_str.split('-'))\n",
    "        date1 = cls(year, month, year)\n",
    "        return date1\n",
    "    \n",
    "    def out_date(self):\n",
    "        print(\"year:{}\".format(self.year))\n",
    "        print(\"month:{}\".format(self.month))\n",
    "        print(\"day:{}\".format(self.day))\n",
    "              \n",
    "d = GetDate.get_date(\"2019-3-19\")\n",
    "d.out_date()"
   ]
  },
  {
   "cell_type": "code",
   "execution_count": 12,
   "metadata": {},
   "outputs": [
    {
     "name": "stdout",
     "output_type": "stream",
     "text": [
      "Liudana\n",
      "{'age': 18}\n"
     ]
    }
   ],
   "source": [
    "# 案例05\n",
    "# 变量的三种用法\n",
    "\n",
    "class A():\n",
    "    def __init__(self):\n",
    "        self.name = \"haha\"\n",
    "        self.age = 18\n",
    "        \n",
    "a = A()\n",
    "# 属性的三种用法\n",
    "# 1.赋值\n",
    "# 2.读取\n",
    "# 3.删除\n",
    "a.name = \"Liudana\"\n",
    "print(a.name)\n",
    "del a.name\n",
    "# print(a.name)\n",
    "print(a.__dict__)"
   ]
  },
  {
   "cell_type": "code",
   "execution_count": 10,
   "metadata": {},
   "outputs": [
    {
     "name": "stdout",
     "output_type": "stream",
     "text": [
      "我被写入了，但是还可以修改东西\n",
      "我被读取了\n",
      "player_dddd\n"
     ]
    }
   ],
   "source": [
    "# property\n",
    "# 应用场景：\n",
    "# 对变量除了普通的三种操作，还想增加一些附加的操作，那么可以通过property完成\n",
    "class A():\n",
    "    def __init__(self):\n",
    "        self.age = 18\n",
    "        self.name = \"dddd\"\n",
    "        \n",
    "    # 此功能，是对类变量直接进行图区操作的时候应该执行的函数功能\n",
    "    def fget(self):\n",
    "        print(\"我被读取了\")\n",
    "        return self._name\n",
    "\n",
    "    #模拟的是对变量惊醒写操作的时候执行的功能\n",
    "    def fset(self, name):\n",
    "        print(\"我被写入了，但是还可以修改东西\")\n",
    "        self._name = \"player_\" + name\n",
    "\n",
    "    # fdel模拟的是删除变量的时候继续的操作\n",
    "    def fdel(self):\n",
    "        pass\n",
    "\n",
    "    name = property(fget, fset, fdel, \"修饰了一下name\")\n",
    "\n",
    "a = A()\n",
    "print(a.name)\n",
    "\n",
    "    "
   ]
  }
 ],
 "metadata": {
  "kernelspec": {
   "display_name": "Python 3",
   "language": "python",
   "name": "python3"
  },
  "language_info": {
   "codemirror_mode": {
    "name": "ipython",
    "version": 3
   },
   "file_extension": ".py",
   "mimetype": "text/x-python",
   "name": "python",
   "nbconvert_exporter": "python",
   "pygments_lexer": "ipython3",
   "version": "3.7.0"
  }
 },
 "nbformat": 4,
 "nbformat_minor": 2
}
