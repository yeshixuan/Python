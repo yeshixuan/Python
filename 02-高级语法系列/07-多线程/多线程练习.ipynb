{
 "cells": [
  {
   "cell_type": "markdown",
   "metadata": {},
   "source": [
    "#### 使用多线程去播放两个播放列表，一个是movie,一个是music\n",
    "- _thread\n",
    "- threading\n",
    "### 如何选择多线程还是多进程\n",
    "- 多线程究竟是适合计算密集型还是I/O密集型\n",
    "- 多进程究竟是适合计算密集型还是I/O密集型"
   ]
  },
  {
   "cell_type": "code",
   "execution_count": null,
   "metadata": {},
   "outputs": [
    {
     "name": "stdout",
     "output_type": "stream",
     "text": [
      "您现在收看的是：斗破苍穹.mp4\n",
      "您现在收看的是：复仇者联盟.avi\n",
      "没有能播放的格式\n",
      "您现在收看的是：xxx.mp4\n",
      "您现在收听的是：周杰伦.mp3\n",
      "您现在收听的是：五月天.mp3\n"
     ]
    }
   ],
   "source": [
    "import _thread as thread\n",
    "import time\n",
    "\n",
    "movie_list = [\"斗破苍穹.mp4\",\"复仇者联盟.avi\",\"钢铁侠.rmvb\",\"xxx.mp4\"]\n",
    "music_list = [\"周杰伦.mp3\",\"五月天.mp3\"]\n",
    "\n",
    "movie_format = [\"mp4\", \"avi\"]\n",
    "music_format = [\"mp3\"]\n",
    "\n",
    "def play(playlist):\n",
    "    for i in playlist:\n",
    "        if i.split(\".\")[1] in movie_format:\n",
    "            print(\"您现在收看的是：{}\".format(i))\n",
    "        elif i.split(\".\")[1] in music_format:\n",
    "            print(\"您现在收听的是：{}\".format(i))\n",
    "        else:\n",
    "            print(\"没有能播放的格式\")\n",
    "            \n",
    "            \n",
    "def thread_run():\n",
    "    thread.start_new_thread(play, (movie_list,))\n",
    "    thread.start_new_thread(play, (music_list,))\n",
    "    while True:\n",
    "        time.sleep(5)\n",
    "        \n",
    "if __name__ == \"__main__\":\n",
    "    thread_run()"
   ]
  },
  {
   "cell_type": "code",
   "execution_count": 3,
   "metadata": {},
   "outputs": [],
   "source": [
    "# 不要在多线程中随便更改文件\n",
    "import threading\n",
    "import time\n",
    "import multiprocessing\n",
    "\n",
    "movie_list = [\"斗破苍穹.mp4\",\"复仇者联盟.avi\",\"钢铁与.rmvb\",\"xxx.mp4\"]\n",
    "music_list = [\"周杰伦.mp3\",\"五月天.mp3\"]\n",
    "movie_format = [\"mp4\",\"avi\"]\n",
    "music_format = [\"mp3\"]\n",
    "\n",
    "def play(playlist):\n",
    "    for item in playlist:\n",
    "        if item.split(\".\")[1] in movie_format:\n",
    "            print(\"您现在收看的是：{}\".format(item))\n",
    "        elif item.split(\".\")[1] in music_format:\n",
    "            print(\"您现在收听的是：{}\".format(item))\n",
    "        else:\n",
    "            print(\"没有能播放的格式\")\n",
    "            \n",
    "def thread_run():\n",
    "    t1 = threading.Thread(target = play, args = (movie_list,))\n",
    "    t2 = threading.Thread(target = play, args = (music_list,))\n",
    "    \n",
    "    t1.start()\n",
    "    t2.start()\n",
    "    \n",
    "    t1.join()\n",
    "    t1.join()\n",
    "\n",
    "# def thread_run():\n",
    "#     p1 = multiprocessing.Process(target = play, args = (movie_list,))\n",
    "#     p2 = multiprocessing.Process(target = play, args = (music_list,))\n",
    "    \n",
    "#     p1.start()\n",
    "#     p2.start()\n",
    "    \n",
    "#     p1.join()\n",
    "#     p2.join()\n",
    "    \n",
    "    \n",
    "thread_run()"
   ]
  },
  {
   "cell_type": "markdown",
   "metadata": {},
   "source": [
    "# 类的方式去完成\n",
    "# 多线程 multiprocessing 去完成"
   ]
  },
  {
   "cell_type": "code",
   "execution_count": 12,
   "metadata": {},
   "outputs": [
    {
     "name": "stdout",
     "output_type": "stream",
     "text": [
      "您现在收看的是：斗破苍穹.mp4\n",
      "您现在收听的是：周杰伦.mp3您现在收看的是：复仇者联盟.avi\n",
      "您现在收听的是：五月天.mp3\n",
      "\n",
      "没有能播放的格式\n",
      "您现在收看的是：xxx.mp4\n"
     ]
    }
   ],
   "source": [
    "import threading\n",
    "import time\n",
    "\n",
    "movie_list = [\"斗破苍穹.mp4\",\"复仇者联盟.avi\",\"钢铁与.rmvb\",\"xxx.mp4\"]\n",
    "music_list = [\"周杰伦.mp3\",\"五月天.mp3\"]\n",
    "movie_format = [\"mp4\",\"avi\"]\n",
    "music_format = [\"mp3\"]\n",
    "\n",
    "def play(playlist):\n",
    "    for item in playlist:\n",
    "        if item.split(\".\")[1] in movie_format:\n",
    "            print(\"您现在收看的是：{}\".format(item))\n",
    "        elif item.split(\".\")[1] in music_format:\n",
    "            print(\"您现在收听的是：{}\".format(item))\n",
    "        else:\n",
    "            print(\"没有能播放的格式\")\n",
    "            \n",
    "class MyThread(threading.Thread):\n",
    "    def __init__(self, playlist):\n",
    "        super(MyThread, self).__init__()\n",
    "        self.playlist = playlist\n",
    "        \n",
    "    def run(self):\n",
    "        play(self.playlist)\n",
    "        \n",
    "t1 = MyThread(movie_list)\n",
    "t2 = MyThread(music_list)\n",
    "\n",
    "t1.start()\n",
    "t2.start()\n",
    "\n",
    "t1.join()\n",
    "t2.join()"
   ]
  },
  {
   "cell_type": "code",
   "execution_count": 13,
   "metadata": {},
   "outputs": [],
   "source": [
    "import threading\n",
    "import time\n",
    "import multiprocessing\n",
    "\n",
    "movie_list = [\"斗破苍穹.mp4\",\"复仇者联盟.avi\",\"钢铁与.rmvb\",\"xxx.mp4\"]\n",
    "music_list = [\"周杰伦.mp3\",\"五月天.mp3\"]\n",
    "movie_format = [\"mp4\",\"avi\"]\n",
    "music_format = [\"mp3\"]\n",
    "\n",
    "def play(playlist):\n",
    "    for i in playlist:\n",
    "        if i.split(\".\")[1] in movie_format:\n",
    "            print(\"你现在收看的是：{}\".format(i))\n",
    "            time.sleep(3)\n",
    "        elif i.split(\".\")[1] in music_format:\n",
    "            print(\"你现在收听的是：{}\".format(i))\n",
    "        else:\n",
    "            print(\"没有能播放的格式\")\n",
    "            \n",
    "if __name__ == \"__main__\":\n",
    "    p = multiprocessing.Process(target = play, args = (movie_list,))\n",
    "    p2 = multiprocessing.Process(target = play, args = (music_list,))\n",
    "    p.start()\n",
    "    p2.start()\n",
    "    \n",
    "    p.join()\n",
    "    p2.join()"
   ]
  }
 ],
 "metadata": {
  "kernelspec": {
   "display_name": "Python 3",
   "language": "python",
   "name": "python3"
  },
  "language_info": {
   "codemirror_mode": {
    "name": "ipython",
    "version": 3
   },
   "file_extension": ".py",
   "mimetype": "text/x-python",
   "name": "python",
   "nbconvert_exporter": "python",
   "pygments_lexer": "ipython3",
   "version": "3.7.0"
  }
 },
 "nbformat": 4,
 "nbformat_minor": 2
}
