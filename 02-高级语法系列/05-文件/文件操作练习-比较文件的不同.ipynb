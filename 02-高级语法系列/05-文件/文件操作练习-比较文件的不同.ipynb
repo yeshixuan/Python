{
 "cells": [
  {
   "cell_type": "markdown",
   "metadata": {},
   "source": [
    "编写一个程序，接受用户输入的内容，并且保存为新的文件\n",
    "\n",
    "如果用单独输入：w\n",
    "\n",
    "表示文件保存退出"
   ]
  },
  {
   "cell_type": "code",
   "execution_count": 3,
   "metadata": {},
   "outputs": [
    {
     "name": "stdout",
     "output_type": "stream",
     "text": [
      "请输入文件名称:haha\n",
      "请输入文件内容,单独输入(q:)表示退出！新添加一行q:\n",
      "请输入文件内容,单独输入(q:)表示退出！q:\n"
     ]
    }
   ],
   "source": [
    "def new_file():\n",
    "    name = input(\"请输入文件名称:\")\n",
    "    filename = name.strip() + \".txt\"\n",
    "\n",
    "    with open(filename, \"a\", encoding=\"utf-8\") as f:\n",
    "        while True:\n",
    "            content = input(\"请输入文件内容,单独输入(q:)表示退出！\")\n",
    "            if content.strip() == \"q:\":\n",
    "                break\n",
    "            else:\n",
    "                f.write(content + \"\\n\")\n",
    "                \n",
    "                \n",
    "new_file()\n",
    "            \n",
    "            "
   ]
  },
  {
   "cell_type": "markdown",
   "metadata": {},
   "source": [
    "### 编写一个程序，比较用户输入的文件是否相同，如果不同，显示出所有不同处的行号\n",
    "\n",
    "- f.readline()\n",
    "- open()\n",
    "- differ"
   ]
  },
  {
   "cell_type": "code",
   "execution_count": null,
   "metadata": {},
   "outputs": [],
   "source": [
    "file1 = input(\"请输入需要比较的第一个文件名：\")\n",
    "file2 = input(\"请输入需要比较的第二个文件名：\")\n",
    "\n",
    "def file_compare(file1,file2):\n",
    "    f1=open(file1)\n",
    "    f2=open(file2)\n",
    "    \n",
    "    count = 0 #统计的行数\n",
    "    differ = []#统计不一样的数量\n",
    "    \n",
    "    for line1 in f1:\n",
    "        line2=f2.readline()\n",
    "        \n",
    "        count += 1\n",
    "        if line1 != line2:\n",
    "            differ.append(count)\n",
    "    f2.close()\n",
    "    f1.close()\n",
    "    \n",
    "    return differ\n",
    "\n",
    "differ=file_compare(file2,file1)\n",
    "\n",
    "if len(differ) == 0:\n",
    "    print(\"两个文件文件相同\")\n",
    "else:\n",
    "    print(\"两个文件有%d的不同\"%len(differ))\n",
    "    for each in differ:\n",
    "        print(\"第%d行不一样\"%each)"
   ]
  },
  {
   "cell_type": "code",
   "execution_count": 43,
   "metadata": {},
   "outputs": [
    {
     "name": "stdout",
     "output_type": "stream",
     "text": [
      "请输入需要比较的第一个文件名：test01.txt\n",
      "请输入需要比较的第二个文件名：test02.txt\n",
      "['只有我', '我也是哦', '我来啦', '哈哈', '生活不仅有眼前的苟且，', '还有远方的苟且', '生活不仅有眼前的苟且，', '还有远方的苟且', '生活不仅有眼前的苟且，', '还有远方的苟且', '生活啊！好难哦！', '生活啊！', '好难哦！', '我写了好多', '有记得换行哦ilovewangxiaojingilovewangxiaojing', 'i', 'love', 'wangxiaojing', 'i', 'love', 'wangxiaojing']\n",
      "['只有我', '还有我']\n",
      "1\n",
      "两个文件有21行不同\n",
      "第1行不同\n",
      "第2行不同\n",
      "第3行不同\n",
      "第4行不同\n",
      "第5行不同\n",
      "第6行不同\n",
      "第7行不同\n",
      "第8行不同\n",
      "第9行不同\n",
      "第10行不同\n",
      "第11行不同\n",
      "第12行不同\n",
      "第13行不同\n",
      "第14行不同\n",
      "第15行不同\n",
      "第16行不同\n",
      "第17行不同\n",
      "第18行不同\n",
      "第19行不同\n",
      "第20行不同\n",
      "第21行不同\n"
     ]
    }
   ],
   "source": [
    "# 更完整版\n",
    "def file_company(f1, f2):\n",
    "    count = 0\n",
    "    differ = []\n",
    "    f1 = f1.split(\"\\n\")\n",
    "    f2 = f2.split(\"\\n\")\n",
    "    print(f1)\n",
    "    print(f2)\n",
    "    for i in f1: \n",
    "        count += 1\n",
    "        try:\n",
    "            if f1[i] != f2[i]:\n",
    "                differ.append(count)\n",
    "        except:\n",
    "            differ.append(count)\n",
    "\n",
    "    \n",
    "    return differ\n",
    "\n",
    "def f_isexists(name):\n",
    "    while True:\n",
    "        file = input(\"请输入需要比较的第{}个文件名：\".format(name))\n",
    "        try:\n",
    "            f = open(file, encoding=\"utf-8\")\n",
    "        except:\n",
    "            print(\"该文件不存在，请重新输入！\")\n",
    "        else:\n",
    "            f = open(file, encoding=\"utf-8\")\n",
    "            break\n",
    "    \n",
    "    return f\n",
    "\n",
    "f1 = f_isexists(\"一\")\n",
    "f2 = f_isexists(\"二\")\n",
    "fr1 = f1.read()\n",
    "fr2 = f2.read()\n",
    "if fr1.count(\"\\n\") < fr2.count(\"\\n\"):\n",
    "    differ = file_company(fr2, fr1)\n",
    "    print(\"1\")\n",
    "else:\n",
    "    differ = file_company(fr1, fr2)\n",
    "    print(\"2\")\n",
    "f1.close()\n",
    "f2.close()\n",
    "\n",
    "if len(differ) == 0:\n",
    "    print(\"两个文件完全相同\")\n",
    "else:\n",
    "    print(\"两个文件有{}行不同\".format(len(differ)))\n",
    "    for s in differ:\n",
    "        print(\"第{}行不同\".format(s))\n",
    "    "
   ]
  }
 ],
 "metadata": {
  "kernelspec": {
   "display_name": "Python 3",
   "language": "python",
   "name": "python3"
  },
  "language_info": {
   "codemirror_mode": {
    "name": "ipython",
    "version": 3
   },
   "file_extension": ".py",
   "mimetype": "text/x-python",
   "name": "python",
   "nbconvert_exporter": "python",
   "pygments_lexer": "ipython3",
   "version": "3.7.0"
  }
 },
 "nbformat": 4,
 "nbformat_minor": 2
}
