{
 "cells": [
  {
   "cell_type": "markdown",
   "metadata": {},
   "source": [
    "# 文件\n",
    "- 长久保存信息的一种数据信息的集合\n",
    "- 常用操作\n",
    "   - 打开关闭（文件一旦打开，需要关闭操作）\n",
    "   - 读写内容\n",
    "   - 查找\n",
    "# open函数\n",
    "- open函数负责打开文件，带有很多参数\n",
    "- 第一个参数：必须有，文件的路径和名称\n",
    "- mode：表明文件用什么方式打开\n",
    "   - r:以只读方式打开\n",
    "   - w:写方式打开，会覆盖以前的内容\n",
    "   - x:创建方式打开，如文件已经存在，报错\n",
    "   - a:append方式，以追加的方式对文件内容进行写入\n",
    "   - b:binary方式，而二进制方式写入\n",
    "   - t:文件方式打开\n",
    "   - +：可读写\n",
    "   "
   ]
  },
  {
   "cell_type": "code",
   "execution_count": 17,
   "metadata": {},
   "outputs": [],
   "source": [
    "# 打开文件，用写的方式\n",
    "# r表示后面字符串内容不需要转义\n",
    "# f称之为文件句柄\n",
    "f=open(r\"test02.txt\",'w')\n",
    "# 文件打开后必须关闭\n",
    "f.close()\n",
    "\n",
    "# 此案例说明，以写方式打开文件，默认是如果没有文件，则创建\n"
   ]
  },
  {
   "cell_type": "markdown",
   "metadata": {},
   "source": [
    "# with语句\n",
    "- with语句使用的技术是一种称为上下文管理协议的技术（ContextManagementProtocal）\n",
    "- 自动判断文件的作用域，自动关闭不再使用的打开的文件句柄\n"
   ]
  },
  {
   "cell_type": "code",
   "execution_count": 18,
   "metadata": {},
   "outputs": [],
   "source": [
    "# with语句案例\n",
    "\n",
    "with open(r\"test02.txt\",'r') as f:\n",
    "    pass\n",
    "    # 下面语句块开始对文件f进行操作\n",
    "    # 在本模块中不需要使用close文件f"
   ]
  },
  {
   "cell_type": "code",
   "execution_count": 56,
   "metadata": {},
   "outputs": [
    {
     "name": "stdout",
     "output_type": "stream",
     "text": [
      "反嘎嘎\n",
      "\n",
      "是否傻瓜\n",
      "\n",
      "是佛山东莞给\n",
      "\n",
      "方式更好的固定\n",
      "\n"
     ]
    }
   ],
   "source": [
    "# with案例\n",
    "\n",
    "with open(r\"test02.txt\",'r',encoding='UTF-8') as f:\n",
    "    # 按行读取内容\n",
    "    strline=f.readline()\n",
    "    # 次结构保证能够完整读取文件直到结束\n",
    "    while strline:\n",
    "        print(strline)\n",
    "        strline=f.readline()\n",
    "        "
   ]
  },
  {
   "cell_type": "code",
   "execution_count": 57,
   "metadata": {},
   "outputs": [
    {
     "name": "stdout",
     "output_type": "stream",
     "text": [
      "反嘎嘎\n",
      "\n",
      "是否傻瓜\n",
      "\n",
      "是佛山东莞给\n",
      "\n",
      "方式更好的固定\n",
      "\n"
     ]
    }
   ],
   "source": [
    "# list能用打开的文件作为参数，把文件内每一行内容作为一个元素\n",
    "\n",
    "with open(r\"test02.txt\",'r',encoding='UTF-8') as f:\n",
    "    # 以打开的文件f作为参数，创建列表\n",
    "    l=list(f)\n",
    "    for line in l:\n",
    "        print(line)"
   ]
  },
  {
   "cell_type": "code",
   "execution_count": 58,
   "metadata": {},
   "outputs": [
    {
     "name": "stdout",
     "output_type": "stream",
     "text": [
      "1\n",
      "反\n"
     ]
    }
   ],
   "source": [
    "# read是按字符读取文件内容\n",
    "# 允许输入参数决定读取几个字符，如果没有指定，从当前位置读取到结尾\n",
    "# 否则，从当前位置读取指定个数字符\n",
    "\n",
    "with open(r\"test02.txt\", \"r\",encoding='UTF-8') as f:\n",
    "    strChar = f.read(1)\n",
    "    print(len(strChar))\n",
    "    print(strChar)\n",
    "    \n",
    "# 作业：\n",
    "# 使用read读取文件，每次读取一个，使用循环读完\n",
    "# 尽量保持格式"
   ]
  },
  {
   "cell_type": "markdown",
   "metadata": {},
   "source": [
    "# seek(offset,from)\n",
    "- 移动文件的读取位置，也叫读取指针\n",
    "- from的取值范围：\n",
    "   - 0：从文件头开始偏移\n",
    "   - 1：从文件当前位置开始偏移\n",
    "   - 2：从文件末尾开始偏移\n",
    "- 移动的单位是字节（byte）\n",
    "- 一个汉字由若干个字节构成\n",
    "- 返回文件指针对 当前文职"
   ]
  },
  {
   "cell_type": "code",
   "execution_count": 62,
   "metadata": {},
   "outputs": [
    {
     "name": "stdout",
     "output_type": "stream",
     "text": [
      "嘎嘎\n",
      "是否傻瓜\n",
      "是佛山东莞给\n",
      "方式更好的固定\n",
      "\n"
     ]
    }
   ],
   "source": [
    "# seek案例\n",
    "# 打开文件后，从第五个字节处开始读取\n",
    "\n",
    "#打开读写指针在0处，即文件的开头\n",
    "with open(r\"test02.txt\",\"r\",encoding='UTF-8') as f:\n",
    "    # seek移动单位是字节\n",
    "    f.seek(3,0)\n",
    "    strChar=f.read()\n",
    "    print(strChar)"
   ]
  },
  {
   "cell_type": "code",
   "execution_count": 115,
   "metadata": {},
   "outputs": [
    {
     "ename": "UnicodeDecodeError",
     "evalue": "'utf-8' codec can't decode byte 0xc9 in position 64: invalid continuation byte",
     "traceback": [
      "\u001b[1;31m---------------------------------------------------------------------------\u001b[0m",
      "\u001b[1;31mUnicodeDecodeError\u001b[0m                        Traceback (most recent call last)",
      "\u001b[1;32m<ipython-input-115-10864dfaccd9>\u001b[0m in \u001b[0;36m<module>\u001b[1;34m()\u001b[0m\n\u001b[0;32m      8\u001b[0m \u001b[1;32mwith\u001b[0m \u001b[0mopen\u001b[0m\u001b[1;33m(\u001b[0m\u001b[1;34mr'test02.txt'\u001b[0m\u001b[1;33m,\u001b[0m \u001b[1;34m'r'\u001b[0m\u001b[1;33m,\u001b[0m\u001b[0mencoding\u001b[0m\u001b[1;33m=\u001b[0m\u001b[1;34m'UTF-8'\u001b[0m\u001b[1;33m)\u001b[0m \u001b[1;32mas\u001b[0m \u001b[0mf\u001b[0m\u001b[1;33m:\u001b[0m\u001b[1;33m\u001b[0m\u001b[0m\n\u001b[0;32m      9\u001b[0m     \u001b[1;31m# read参数的单位是字符，可以理解成一个汉字就是一个字符\u001b[0m\u001b[1;33m\u001b[0m\u001b[1;33m\u001b[0m\u001b[0m\n\u001b[1;32m---> 10\u001b[1;33m     \u001b[0mstrChar\u001b[0m \u001b[1;33m=\u001b[0m \u001b[0mf\u001b[0m\u001b[1;33m.\u001b[0m\u001b[0mread\u001b[0m\u001b[1;33m(\u001b[0m\u001b[1;36m3\u001b[0m\u001b[1;33m)\u001b[0m\u001b[1;33m\u001b[0m\u001b[0m\n\u001b[0m\u001b[0;32m     11\u001b[0m     \u001b[1;32mwhile\u001b[0m \u001b[0mstrChar\u001b[0m\u001b[1;33m:\u001b[0m\u001b[1;33m\u001b[0m\u001b[0m\n\u001b[0;32m     12\u001b[0m         \u001b[0mprint\u001b[0m\u001b[1;33m(\u001b[0m\u001b[0mstrChar\u001b[0m\u001b[1;33m)\u001b[0m\u001b[1;33m\u001b[0m\u001b[0m\n",
      "\u001b[1;32mE:\\Anaconoda\\lib\\codecs.py\u001b[0m in \u001b[0;36mdecode\u001b[1;34m(self, input, final)\u001b[0m\n\u001b[0;32m    320\u001b[0m         \u001b[1;31m# decode input (taking the buffer into account)\u001b[0m\u001b[1;33m\u001b[0m\u001b[1;33m\u001b[0m\u001b[0m\n\u001b[0;32m    321\u001b[0m         \u001b[0mdata\u001b[0m \u001b[1;33m=\u001b[0m \u001b[0mself\u001b[0m\u001b[1;33m.\u001b[0m\u001b[0mbuffer\u001b[0m \u001b[1;33m+\u001b[0m \u001b[0minput\u001b[0m\u001b[1;33m\u001b[0m\u001b[0m\n\u001b[1;32m--> 322\u001b[1;33m         \u001b[1;33m(\u001b[0m\u001b[0mresult\u001b[0m\u001b[1;33m,\u001b[0m \u001b[0mconsumed\u001b[0m\u001b[1;33m)\u001b[0m \u001b[1;33m=\u001b[0m \u001b[0mself\u001b[0m\u001b[1;33m.\u001b[0m\u001b[0m_buffer_decode\u001b[0m\u001b[1;33m(\u001b[0m\u001b[0mdata\u001b[0m\u001b[1;33m,\u001b[0m \u001b[0mself\u001b[0m\u001b[1;33m.\u001b[0m\u001b[0merrors\u001b[0m\u001b[1;33m,\u001b[0m \u001b[0mfinal\u001b[0m\u001b[1;33m)\u001b[0m\u001b[1;33m\u001b[0m\u001b[0m\n\u001b[0m\u001b[0;32m    323\u001b[0m         \u001b[1;31m# keep undecoded input until the next call\u001b[0m\u001b[1;33m\u001b[0m\u001b[1;33m\u001b[0m\u001b[0m\n\u001b[0;32m    324\u001b[0m         \u001b[0mself\u001b[0m\u001b[1;33m.\u001b[0m\u001b[0mbuffer\u001b[0m \u001b[1;33m=\u001b[0m \u001b[0mdata\u001b[0m\u001b[1;33m[\u001b[0m\u001b[0mconsumed\u001b[0m\u001b[1;33m:\u001b[0m\u001b[1;33m]\u001b[0m\u001b[1;33m\u001b[0m\u001b[0m\n",
      "\u001b[1;31mUnicodeDecodeError\u001b[0m: 'utf-8' codec can't decode byte 0xc9 in position 64: invalid continuation byte"
     ],
     "output_type": "error"
    }
   ],
   "source": [
    "# 关于读取文件的联系\n",
    "# 打开文件，三个字符一组独处内容，然后显示在屏幕上\n",
    "# 没读一次，休息一秒钟\n",
    "\n",
    "# 让程序暂停，可以使用time下的sleep函数\n",
    "import time\n",
    "\n",
    "with open(r'test02.txt', 'r',encoding='UTF-8') as f:\n",
    "    # read参数的单位是字符，可以理解成一个汉字就是一个字符\n",
    "    strChar = f.read(3)\n",
    "    while strChar:\n",
    "        print(strChar)\n",
    "        # sleep参数单位是秒\n",
    "        time.sleep(1)\n",
    "        strChar=f.read(3)\n",
    "# 作业；\n",
    "# 解释一下运行结果，为什么不是每行三个字符"
   ]
  },
  {
   "cell_type": "code",
   "execution_count": 116,
   "metadata": {},
   "outputs": [
    {
     "ename": "UnicodeDecodeError",
     "evalue": "'utf-8' codec can't decode byte 0x80 in position 0: invalid start byte",
     "traceback": [
      "\u001b[1;31m---------------------------------------------------------------------------\u001b[0m",
      "\u001b[1;31mUnicodeDecodeError\u001b[0m                        Traceback (most recent call last)",
      "\u001b[1;32m<ipython-input-116-6378f97e1e3d>\u001b[0m in \u001b[0;36m<module>\u001b[1;34m()\u001b[0m\n\u001b[0;32m      1\u001b[0m \u001b[1;31m# tell函数：用来显示文件读写指针的当前位置\u001b[0m\u001b[1;33m\u001b[0m\u001b[1;33m\u001b[0m\u001b[0m\n\u001b[0;32m      2\u001b[0m \u001b[1;32mwith\u001b[0m \u001b[0mopen\u001b[0m\u001b[1;33m(\u001b[0m\u001b[1;34mr'test07.txt'\u001b[0m\u001b[1;33m,\u001b[0m \u001b[1;34m'r'\u001b[0m\u001b[1;33m,\u001b[0m\u001b[0mencoding\u001b[0m\u001b[1;33m=\u001b[0m\u001b[1;34m'UTF-8'\u001b[0m\u001b[1;33m)\u001b[0m \u001b[1;32mas\u001b[0m \u001b[0mf\u001b[0m\u001b[1;33m:\u001b[0m\u001b[1;33m\u001b[0m\u001b[0m\n\u001b[1;32m----> 3\u001b[1;33m     \u001b[0mstrChar\u001b[0m \u001b[1;33m=\u001b[0m \u001b[0mf\u001b[0m\u001b[1;33m.\u001b[0m\u001b[0mread\u001b[0m\u001b[1;33m(\u001b[0m\u001b[1;36m3\u001b[0m\u001b[1;33m)\u001b[0m\u001b[1;33m\u001b[0m\u001b[0m\n\u001b[0m\u001b[0;32m      4\u001b[0m     \u001b[0mpos\u001b[0m\u001b[1;33m=\u001b[0m\u001b[0mf\u001b[0m\u001b[1;33m.\u001b[0m\u001b[0mtell\u001b[0m\u001b[1;33m(\u001b[0m\u001b[1;33m)\u001b[0m\u001b[1;33m\u001b[0m\u001b[0m\n\u001b[0;32m      5\u001b[0m \u001b[1;33m\u001b[0m\u001b[0m\n",
      "\u001b[1;32mE:\\Anaconoda\\lib\\codecs.py\u001b[0m in \u001b[0;36mdecode\u001b[1;34m(self, input, final)\u001b[0m\n\u001b[0;32m    320\u001b[0m         \u001b[1;31m# decode input (taking the buffer into account)\u001b[0m\u001b[1;33m\u001b[0m\u001b[1;33m\u001b[0m\u001b[0m\n\u001b[0;32m    321\u001b[0m         \u001b[0mdata\u001b[0m \u001b[1;33m=\u001b[0m \u001b[0mself\u001b[0m\u001b[1;33m.\u001b[0m\u001b[0mbuffer\u001b[0m \u001b[1;33m+\u001b[0m \u001b[0minput\u001b[0m\u001b[1;33m\u001b[0m\u001b[0m\n\u001b[1;32m--> 322\u001b[1;33m         \u001b[1;33m(\u001b[0m\u001b[0mresult\u001b[0m\u001b[1;33m,\u001b[0m \u001b[0mconsumed\u001b[0m\u001b[1;33m)\u001b[0m \u001b[1;33m=\u001b[0m \u001b[0mself\u001b[0m\u001b[1;33m.\u001b[0m\u001b[0m_buffer_decode\u001b[0m\u001b[1;33m(\u001b[0m\u001b[0mdata\u001b[0m\u001b[1;33m,\u001b[0m \u001b[0mself\u001b[0m\u001b[1;33m.\u001b[0m\u001b[0merrors\u001b[0m\u001b[1;33m,\u001b[0m \u001b[0mfinal\u001b[0m\u001b[1;33m)\u001b[0m\u001b[1;33m\u001b[0m\u001b[0m\n\u001b[0m\u001b[0;32m    323\u001b[0m         \u001b[1;31m# keep undecoded input until the next call\u001b[0m\u001b[1;33m\u001b[0m\u001b[1;33m\u001b[0m\u001b[0m\n\u001b[0;32m    324\u001b[0m         \u001b[0mself\u001b[0m\u001b[1;33m.\u001b[0m\u001b[0mbuffer\u001b[0m \u001b[1;33m=\u001b[0m \u001b[0mdata\u001b[0m\u001b[1;33m[\u001b[0m\u001b[0mconsumed\u001b[0m\u001b[1;33m:\u001b[0m\u001b[1;33m]\u001b[0m\u001b[1;33m\u001b[0m\u001b[0m\n",
      "\u001b[1;31mUnicodeDecodeError\u001b[0m: 'utf-8' codec can't decode byte 0x80 in position 0: invalid start byte"
     ],
     "output_type": "error"
    }
   ],
   "source": [
    "# tell函数：用来显示文件读写指针的当前位置\n",
    "with open(r'test07.txt', 'r',encoding='UTF-8') as f:\n",
    "    strChar = f.read(3)\n",
    "    pos=f.tell()\n",
    "    \n",
    "    while strChar:\n",
    "        print(pos)\n",
    "        print(strChar)\n",
    "        \n",
    "        strChar=f.read(3)\n",
    "        pos= f.tell()\n",
    "# 以下结果说明：\n",
    "# tell的返回数字的单位是byte\n",
    "# read是以字符为单位"
   ]
  },
  {
   "cell_type": "markdown",
   "metadata": {},
   "source": [
    "# 文件的写操作-writex\n",
    "- write(str):把字符串写入文件\n",
    "- writeline(str):把字符串按行写入文件\n",
    "- 区别：\n",
    "   - write函数的参数只能是字符串\n",
    "   - writeline参数可以是字符串，也可以是字符序列\n",
    "   "
   ]
  },
  {
   "cell_type": "code",
   "execution_count": 131,
   "metadata": {},
   "outputs": [],
   "source": [
    "# write 案例\n",
    "# 1. 想文件追加以句诗\n",
    "with open(r\"test07.txt\",'a',encoding='UTF-8') as f:\n",
    "    # 注意字符串内容又含换行符\n",
    "    f.write(\"\\n生活不仅有眼前的苟且，\\n 还有远方的苟且\")\n",
    "    "
   ]
  },
  {
   "cell_type": "code",
   "execution_count": 130,
   "metadata": {},
   "outputs": [],
   "source": [
    "# 可以直接写入行，用writelines\n",
    "# writelines表示写入很多行，参数可以是list格式\n",
    "# a代表追加方式打开\n",
    "with open(r\"test07.txt\",'a',encoding='UTF-8') as f:\n",
    "    # 注意字符串内容又含换行符\n",
    "    f.writelines(\"\\n生活不仅有眼前的苟且\")\n",
    "    f.writelines(\"\\n还有远方的枸杞\")"
   ]
  },
  {
   "cell_type": "code",
   "execution_count": 91,
   "metadata": {},
   "outputs": [
    {
     "name": "stdout",
     "output_type": "stream",
     "text": [
      "Help on built-in function writelines:\n",
      "\n",
      "writelines(lines, /) method of _io.TextIOWrapper instance\n",
      "\n"
     ]
    }
   ],
   "source": [
    "#help(f.writelines)"
   ]
  },
  {
   "cell_type": "code",
   "execution_count": 129,
   "metadata": {},
   "outputs": [],
   "source": [
    "l=[\"i\",\"love\",\"wangxiaojing\"]\n",
    "with open(r\"test07.txt\",'w',encoding='UTF-8') as f:\n",
    "    # 注意字符串内容又含换行符\n",
    "    f.writelines(l)"
   ]
  },
  {
   "cell_type": "code",
   "execution_count": null,
   "metadata": {},
   "outputs": [],
   "source": []
  },
  {
   "cell_type": "markdown",
   "metadata": {},
   "source": [
    "# 持久化-pickle\n",
    "- 序列化（持久化，落地）：把程序运行中的信息保存在磁盘上\n",
    "- 反序列化：序列号的逆过程\n",
    "- pickle：python提供的序列化模块\n",
    "- pickle.dump:序列化\n",
    "- pickle.load:反序列化"
   ]
  },
  {
   "cell_type": "code",
   "execution_count": 135,
   "metadata": {},
   "outputs": [],
   "source": [
    "# 序列化的案例\n",
    "import pickle\n",
    "\n",
    "age = 19\n",
    "with open(r\"test07.txt\",'wb') as f:\n",
    "    pickle.dump(age,f)"
   ]
  },
  {
   "cell_type": "code",
   "execution_count": 137,
   "metadata": {},
   "outputs": [
    {
     "name": "stdout",
     "output_type": "stream",
     "text": [
      "19\n"
     ]
    }
   ],
   "source": [
    "# 序列化的案例\n",
    "import pickle\n",
    "\n",
    "age = 19\n",
    "with open(r\"test07.txt\",'rb') as f:\n",
    "    age=pickle.load(f)\n",
    "    print(age)"
   ]
  },
  {
   "cell_type": "code",
   "execution_count": 139,
   "metadata": {},
   "outputs": [],
   "source": [
    "# 序列化的案例\n",
    "import pickle\n",
    "\n",
    "a = [19,'liudana','i love wangxiaon',[185,76]]\n",
    "with open(r\"test07.txt\",'wb') as f:\n",
    "    pickle.dump(a,f)"
   ]
  },
  {
   "cell_type": "code",
   "execution_count": 141,
   "metadata": {},
   "outputs": [
    {
     "name": "stdout",
     "output_type": "stream",
     "text": [
      "[19, 'liudana', 'i love wangxiaon', [185, 76]]\n"
     ]
    }
   ],
   "source": [
    "with open(r\"test07.txt\",'rb') as f:\n",
    "    a=pickle.load(f)\n",
    "    print(a)"
   ]
  },
  {
   "cell_type": "markdown",
   "metadata": {},
   "source": [
    "# 持久化-shelve\n",
    "- 持久化工具\n",
    "- 类似字典，用kv对保存数据，存取方式跟字典也类似\n",
    "- open,close(必须成对）"
   ]
  },
  {
   "cell_type": "code",
   "execution_count": 143,
   "metadata": {},
   "outputs": [],
   "source": [
    "# 使用shelve创建文件并使用\n",
    "import shelve\n",
    "\n",
    "# 打开文件\n",
    "# shv相当于一个字典\n",
    "shv = shelve.open(r'shv.db')\n",
    "\n",
    "shv['one']=1\n",
    "shv['two']=2\n",
    "shv['three']=3\n",
    "\n",
    "shv.close()\n",
    "\n",
    "# 通过以上案例发现，shelve自动创建的不仅仅是一个shv.db文件，还包括其他格式文件\n"
   ]
  },
  {
   "cell_type": "code",
   "execution_count": 147,
   "metadata": {},
   "outputs": [
    {
     "name": "stdout",
     "output_type": "stream",
     "text": [
      "1\n",
      "2\n",
      "放肆了\n"
     ]
    }
   ],
   "source": [
    "# shelve读取案例\n",
    "shv = shelve.open(r'shv.db')\n",
    "\n",
    "try:\n",
    "    print(shv['one'])\n",
    "    print(shv['two'])\n",
    "    print(shv['sfsf'])\n",
    "except Exception as e:\n",
    "    print(\"放肆了\")\n",
    "finally:\n",
    "    shv.close()\n"
   ]
  },
  {
   "cell_type": "markdown",
   "metadata": {},
   "source": [
    "# shelve特性\n",
    "- 不支持多个应用并行写入\n",
    "   - 为了解决这个问题，open的时候开业使用flag=r\n",
    "- 写回问题\n",
    "   - shelv默认情况下不会等待持久化队形惊醒任何修改\n",
    "   - 解决方法：强制写回：writeback=True"
   ]
  },
  {
   "cell_type": "code",
   "execution_count": 150,
   "metadata": {},
   "outputs": [
    {
     "name": "stdout",
     "output_type": "stream",
     "text": [
      "1\n"
     ]
    }
   ],
   "source": [
    "# shelv 之只读打开\n",
    "import shelve\n",
    "\n",
    "shv=shelve.open(r\"shv.db\",flag='r')\n",
    "\n",
    "try:\n",
    "    k1=shv['one']\n",
    "    print(k1)\n",
    "finally:\n",
    "    shv.close()"
   ]
  },
  {
   "cell_type": "code",
   "execution_count": 152,
   "metadata": {},
   "outputs": [
    {
     "name": "stdout",
     "output_type": "stream",
     "text": [
      "{'eins': 1, 'zwei': 2, 'drei': 3}\n"
     ]
    }
   ],
   "source": [
    "import shelve\n",
    "\n",
    "shv=shelve.open(r\"shv.db\",flag='r')\n",
    "\n",
    "try:\n",
    "    shv['one']={\"eins\":1,\"zwei\":2,\"drei\":3}\n",
    "finally:\n",
    "    shv.close()\n",
    "    \n",
    "shv=shelve.open(r\"shv.db\",flag='r')\n",
    "try:\n",
    "    one=shv['one']\n",
    "    print(one)\n",
    "finally:\n",
    "    shv.close()"
   ]
  },
  {
   "cell_type": "code",
   "execution_count": 155,
   "metadata": {},
   "outputs": [
    {
     "name": "stdout",
     "output_type": "stream",
     "text": [
      "{'eins': 1, 'zwei': 2, 'drei': 3}\n",
      "{'eins': 1, 'zwei': 2, 'drei': 3}\n"
     ]
    }
   ],
   "source": [
    "# shelve忘记写回，需要使用强制写回\n",
    "shv = shelve.open(r'shv.db')\n",
    "try:\n",
    "    k1=shv['one']\n",
    "    print(k1)\n",
    "    # 此时，一旦shelve关闭，则内容还在内存中，没有写回数据库\n",
    "    k1['eins']=100\n",
    "finally:\n",
    "    shv.close()\n",
    "shv = shelve.open(r'shv.db')\n",
    "try:\n",
    "    k1=shv['one']\n",
    "    print(k1)\n",
    "finally:\n",
    "    shv.close()"
   ]
  },
  {
   "cell_type": "code",
   "execution_count": 158,
   "metadata": {},
   "outputs": [
    {
     "name": "stdout",
     "output_type": "stream",
     "text": [
      "{'eins': 100, 'zwei': 2, 'drei': 3}\n",
      "{'eins': 100, 'zwei': 2, 'drei': 3}\n"
     ]
    }
   ],
   "source": [
    "# shelve忘记写回，需要使用强制写回\n",
    "shv = shelve.open(r'shv.db',writeback=True)\n",
    "try:\n",
    "    k1=shv['one']\n",
    "    print(k1)\n",
    "    # 此时，一旦shelve关闭，则内容还在内存中，没有写回数据库\n",
    "    k1['eins']=100\n",
    "finally:\n",
    "    shv.close()\n",
    "shv = shelve.open(r'shv.db')\n",
    "try:\n",
    "    k1=shv['one']\n",
    "    print(k1)\n",
    "finally:\n",
    "    shv.close()"
   ]
  },
  {
   "cell_type": "code",
   "execution_count": 159,
   "metadata": {},
   "outputs": [
    {
     "name": "stdout",
     "output_type": "stream",
     "text": [
      "{'eins': 100, 'zwei': 2, 'drei': 3}\n",
      "{'eins': 1000, 'zwei': 2, 'drei': 3}\n"
     ]
    }
   ],
   "source": [
    "# shelve 使用with管理上下文环境\n",
    "\n",
    "with shelve.open(r'shv.db',writeback=True) as shv:\n",
    "    k1=shv['one']\n",
    "    print(k1)\n",
    "    # 此时，一旦shelve关闭，则内容还在内存中，没有写回数据库\n",
    "    k1['eins']=1000\n",
    "with shelve.open(r'shv.db') as shv:\n",
    "    print(shv['one'])\n"
   ]
  }
 ],
 "metadata": {
  "kernelspec": {
   "display_name": "Python 3",
   "language": "python",
   "name": "python3"
  },
  "language_info": {
   "codemirror_mode": {
    "name": "ipython",
    "version": 3
   },
   "file_extension": ".py",
   "mimetype": "text/x-python",
   "name": "python",
   "nbconvert_exporter": "python",
   "pygments_lexer": "ipython3",
   "version": "3.7.0"
  }
 },
 "nbformat": 4,
 "nbformat_minor": 2
}
