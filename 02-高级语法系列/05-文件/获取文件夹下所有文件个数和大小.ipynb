{
 "cells": [
  {
   "cell_type": "markdown",
   "metadata": {},
   "source": [
    "### 编写一个程序，统计当前目录下每个文件类型的文件数\n",
    "\n",
    "#### 思路\n",
    "- 打开当前的文件夹\n",
    "- 获取到当前文件夹下面所有的文件\n",
    "- 处理我们当前的的文件夹下面可能有晚间家的情况（也要打印出来）\n",
    "- 做出统计"
   ]
  },
  {
   "cell_type": "code",
   "execution_count": 33,
   "metadata": {},
   "outputs": [
    {
     "name": "stdout",
     "output_type": "stream",
     "text": [
      "该文件夹下面有类型为文件夹的文件1个\n",
      "该文件夹下面有类型为.py的文件1个\n",
      "该文件夹下面有类型为.ipynb的文件6个\n",
      "该文件夹下面有类型为.txt的文件5个\n",
      "该文件夹下面有类型为.bak的文件1个\n",
      "该文件夹下面有类型为.dat的文件1个\n",
      "该文件夹下面有类型为.dir的文件1个\n"
     ]
    }
   ],
   "source": [
    "import os\n",
    "\n",
    "# 获取到当前文件夹下面的所有文件\n",
    "all_files = os.listdir(os.curdir) # os。curdir表示当前目录 curdir:currentdirectory\n",
    "\n",
    "type_dict = dict()\n",
    "\n",
    "for each_file in all_files:\n",
    "    # 如果说我们的each_file是文件夹\n",
    "    if os.path.isdir(each_file): #os.path获取当前路径\n",
    "        type_dict.setdefault(\"文件夹\", 0) # 如果键不存在，则创建一个将，后者为值，如果存在，不管\n",
    "        type_dict[\"文件夹\"] += 1\n",
    "    else:\n",
    "        # 如果不是文件夹，而是文件，统计文件\n",
    "        ext = os.path.splitext(each_file)[1] #获取文件的后缀\n",
    "        type_dict.setdefault(ext, 0)\n",
    "        type_dict[ext] += 1\n",
    "for each_type in type_dict:\n",
    "    print(\"该文件夹下面有类型为{}的文件{}个\".format(each_type, type_dict[each_type]))\n",
    "        "
   ]
  },
  {
   "cell_type": "markdown",
   "metadata": {},
   "source": [
    "#### 编写一个程序，计算当前文件夹下面所有文件的大小\n",
    "- 打开当前文件夹\n",
    "- 获取到所有的文件和文件大小\n",
    "- 保存获取到的数据，然后打印出来"
   ]
  },
  {
   "cell_type": "code",
   "execution_count": 34,
   "metadata": {},
   "outputs": [
    {
     "name": "stdout",
     "output_type": "stream",
     "text": [
      "('1.py', 1175)\n",
      "('22-持久化-文件.ipynb', 22282)\n",
      "('haha.txt', 90)\n",
      "('save.txt', 112)\n",
      "('shv.db.bak', 53)\n",
      "('shv.db.dat', 1029)\n",
      "('shv.db.dir', 53)\n",
      "('test01.txt', 20)\n",
      "('test02.txt', 387)\n",
      "('test03.txt', 48)\n",
      "('搜索文件、保存搜索结果.ipynb', 11959)\n",
      "('文件操作练习-比较文件的不同.ipynb', 6061)\n",
      "('文件草稿.ipynb', 18165)\n",
      "('练习-按照需要打印文件内容.ipynb', 7065)\n",
      "('获取文件夹下所有文件个数和大小.ipynb', 6691)\n"
     ]
    }
   ],
   "source": [
    "import os\n",
    "\n",
    "all_files = os.listdir(os.curdir)\n",
    "\n",
    "file_dict = dict()\n",
    "for each_file in all_files:\n",
    "    if os.path.isfile(each_file): #是否是文件\n",
    "        file_size = os.path.getsize(each_file) # os.path.getsize获取文件大小\n",
    "        file_dict[each_file] = file_size\n",
    "# for each in file_dict:\n",
    "#     print(\"{}的大小是{}\".format(each, file_dict[each]))\n",
    "\n",
    "for each in file_dict.items():\n",
    "    print((each[0], each[1]))\n",
    "    "
   ]
  },
  {
   "cell_type": "markdown",
   "metadata": {},
   "source": [
    "### 编写一个程序，统计当前目录下每个文件类型的文件数\n",
    "- 并且计算是否有文件名、以及是否是文件夹的个数"
   ]
  },
  {
   "cell_type": "code",
   "execution_count": 35,
   "metadata": {},
   "outputs": [
    {
     "name": "stdout",
     "output_type": "stream",
     "text": [
      "该文件夹下面有类型为文件夹的文件1个\n",
      "该文件夹下面有类型为.py的文件1个\n",
      "该文件夹下面有类型为.ipynb的文件6个\n",
      "该文件夹下面有类型为.txt的文件5个\n",
      "该文件夹下面有类型为.bak的文件1个\n",
      "该文件夹下面有类型为.dat的文件1个\n",
      "该文件夹下面有类型为.dir的文件1个\n"
     ]
    }
   ],
   "source": [
    "import os\n",
    "\n",
    "# 获取到当前文件夹下面的所有文件\n",
    "all_files = os.listdir(os.curdir) # os。curdir表示当前目录 curdir:currentdirectory\n",
    "\n",
    "type_dict = dict()\n",
    "\n",
    "for each_file in all_files:\n",
    "    # 如果说我们的each_file是文件夹\n",
    "    if os.path.isdir(each_file): #os.path获取当前路径\n",
    "        type_dict.setdefault(\"文件夹\", 0) # 如果键不存在，则创建一个将，后者为值，如果存在，不管\n",
    "        type_dict[\"文件夹\"] += 1\n",
    "    else:\n",
    "        # 如果不是文件夹，而是文件，统计文件\n",
    "        ext = os.path.splitext(each_file)[1] #获取文件的后缀\n",
    "        type_dict.setdefault(ext, 0)\n",
    "        type_dict[ext] += 1\n",
    "for each_type in type_dict:\n",
    "    if each_type[0] == \"\":\n",
    "        print(\"当前目录下有无后最的文件{}个\").format(each_type[1])\n",
    "    else:\n",
    "        print(\"该文件夹下面有类型为{}的文件{}个\".format(each_type, type_dict[each_type]))\n",
    "        "
   ]
  },
  {
   "cell_type": "code",
   "execution_count": 36,
   "metadata": {},
   "outputs": [
    {
     "name": "stdout",
     "output_type": "stream",
     "text": [
      "('text', '.txt')\n",
      "('fsfsfs', '')\n",
      "{'': 3}\n"
     ]
    }
   ],
   "source": [
    "import os\n",
    "l = os.path.splitext(\"text.txt\")\n",
    "l1 = os.path.splitext(\"fsfsfs\")\n",
    "print(l)\n",
    "print(l1)\n",
    "d = {l1[1]:3}\n",
    "print(d)"
   ]
  },
  {
   "cell_type": "code",
   "execution_count": null,
   "metadata": {},
   "outputs": [],
   "source": []
  }
 ],
 "metadata": {
  "kernelspec": {
   "display_name": "Python 3",
   "language": "python",
   "name": "python3"
  },
  "language_info": {
   "codemirror_mode": {
    "name": "ipython",
    "version": 3
   },
   "file_extension": ".py",
   "mimetype": "text/x-python",
   "name": "python",
   "nbconvert_exporter": "python",
   "pygments_lexer": "ipython3",
   "version": "3.7.0"
  }
 },
 "nbformat": 4,
 "nbformat_minor": 2
}
