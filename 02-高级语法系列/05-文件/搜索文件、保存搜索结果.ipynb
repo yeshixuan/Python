{
 "cells": [
  {
   "cell_type": "markdown",
   "metadata": {},
   "source": [
    "#### 编写一个程序，用户输入文件名和开始搜索的路径，搜索该文件是否存在，如果遇到文件夹，则进入该文件夹继续搜索\n",
    "\n",
    "- input去接收用户输入的文件名和开始搜索的路径\n",
    "- os.path.isdir去判断是不是文件夹 如果是的话，就需要进入文件夹继续搜索，循环调用一下我们的函数来实现"
   ]
  },
  {
   "cell_type": "code",
   "execution_count": 5,
   "metadata": {},
   "outputs": [
    {
     "name": "stdout",
     "output_type": "stream",
     "text": [
      "请输入目录：D:\\python 全栈\n",
      "请输入文件名：haha.txt\n",
      "D:\\python 全栈\\第一遍复习\\02-高级语法系列\\02-模块\\haha.txt\n",
      "D:\\python 全栈\\第一遍复习\\02-高级语法系列\\05-文件\\haha.txt\n"
     ]
    }
   ],
   "source": [
    "import os\n",
    "\n",
    "os.chdir(r\"D:\\python 全栈\\第一遍复习\\02-高级语法系列\")\n",
    "\n",
    "start_dir = input(\"请输入目录：\")\n",
    "target = input(\"请输入文件名：\")\n",
    "flag = False\n",
    "def search_file(start_dir, target):\n",
    "    os.chdir(start_dir) # 切换到用户输入的路径\n",
    "    global flag\n",
    "    for each_file in os.listdir(os.curdir):\n",
    "        if each_file == target:\n",
    "            print(os.getcwd() + \"\\\\\" + each_file)#os.getcwd()当前路径名\n",
    "            flag = True\n",
    "        if os.path.isdir(each_file):\n",
    "            search_file(each_file, target)\n",
    "            os.chdir(os.pardir)#搜索完更改到父目录\n",
    "search_file(start_dir, target)\n",
    "if flag == False:\n",
    "    print(\"您要搜索的目录下没有该文件！\")"
   ]
  },
  {
   "cell_type": "markdown",
   "metadata": {},
   "source": [
    "#### 对上述题目加一些需求，模糊匹配，判断我们的target是否包含在某一个文件中\n",
    "- in 去判断target这个字符串是否在文件的名字中"
   ]
  },
  {
   "cell_type": "code",
   "execution_count": 8,
   "metadata": {},
   "outputs": [
    {
     "name": "stdout",
     "output_type": "stream",
     "text": [
      "请输入目录：D:\\python 全栈\n",
      "请输入文件名：全\n",
      "D:\\python 全栈\\.idea\\Python全栈.iml\n",
      "D:\\python 全栈\\spider\\spider2\\music\\全世界都在说东北话.mp3\n"
     ]
    }
   ],
   "source": [
    "import os\n",
    "\n",
    "os.chdir(r\"D:\\python 全栈\\第一遍复习\\02-高级语法系列\")\n",
    "\n",
    "start_dir = input(\"请输入目录：\")\n",
    "target = input(\"请输入文件名：\")\n",
    "flag = False\n",
    "def search_file(start_dir, target):\n",
    "    os.chdir(start_dir) # 切换到用户输入的路径\n",
    "    global flag\n",
    "    for each_file in os.listdir(os.curdir):\n",
    "        if target in each_file:\n",
    "            print(os.getcwd() + \"\\\\\" + each_file)#os.getcwd()当前路径名\n",
    "            flag = True\n",
    "        if os.path.isdir(each_file):\n",
    "            search_file(each_file, target)\n",
    "            os.chdir(os.pardir)#搜索完更改到父目录\n",
    "search_file(start_dir, target)\n",
    "if flag == False:\n",
    "    print(\"您要搜索的目录下没有该文件！\")"
   ]
  },
  {
   "cell_type": "markdown",
   "metadata": {},
   "source": [
    "#### 再加一个需求，上述题目，我们需要保存我们的文件存在的地方，到我们制定的路径\n",
    "- file I/O 写文件"
   ]
  },
  {
   "cell_type": "code",
   "execution_count": 14,
   "metadata": {},
   "outputs": [
    {
     "name": "stdout",
     "output_type": "stream",
     "text": [
      "请输入目录：sdf\n",
      "请输入文件名：sf\n"
     ]
    },
    {
     "ename": "FileNotFoundError",
     "evalue": "[WinError 2] 系统找不到指定的文件。: 'sdf'",
     "output_type": "error",
     "traceback": [
      "\u001b[1;31m---------------------------------------------------------------------------\u001b[0m",
      "\u001b[1;31mFileNotFoundError\u001b[0m                         Traceback (most recent call last)",
      "\u001b[1;32m<ipython-input-14-343c8c206c3d>\u001b[0m in \u001b[0;36m<module>\u001b[1;34m()\u001b[0m\n\u001b[0;32m     18\u001b[0m             \u001b[0msearch_file\u001b[0m\u001b[1;33m(\u001b[0m\u001b[0meach_file\u001b[0m\u001b[1;33m,\u001b[0m \u001b[0mtarget\u001b[0m\u001b[1;33m)\u001b[0m\u001b[1;33m\u001b[0m\u001b[0m\n\u001b[0;32m     19\u001b[0m             \u001b[0mos\u001b[0m\u001b[1;33m.\u001b[0m\u001b[0mchdir\u001b[0m\u001b[1;33m(\u001b[0m\u001b[0mos\u001b[0m\u001b[1;33m.\u001b[0m\u001b[0mpardir\u001b[0m\u001b[1;33m)\u001b[0m\u001b[1;31m#搜索完更改到父目录\u001b[0m\u001b[1;33m\u001b[0m\u001b[0m\n\u001b[1;32m---> 20\u001b[1;33m \u001b[0msearch_file\u001b[0m\u001b[1;33m(\u001b[0m\u001b[0mstart_dir\u001b[0m\u001b[1;33m,\u001b[0m \u001b[0mtarget\u001b[0m\u001b[1;33m)\u001b[0m\u001b[1;33m\u001b[0m\u001b[0m\n\u001b[0m\u001b[0;32m     21\u001b[0m \u001b[1;32mif\u001b[0m \u001b[0mcontent\u001b[0m \u001b[1;33m==\u001b[0m \u001b[1;34m\"\"\u001b[0m\u001b[1;33m:\u001b[0m\u001b[1;33m\u001b[0m\u001b[0m\n\u001b[0;32m     22\u001b[0m     \u001b[0mprint\u001b[0m\u001b[1;33m(\u001b[0m\u001b[1;34m\"您要搜索的目录下没有该文件！\"\u001b[0m\u001b[1;33m)\u001b[0m\u001b[1;33m\u001b[0m\u001b[0m\n",
      "\u001b[1;32m<ipython-input-14-343c8c206c3d>\u001b[0m in \u001b[0;36msearch_file\u001b[1;34m(start_dir, target)\u001b[0m\n\u001b[0;32m      8\u001b[0m \u001b[0mcontent\u001b[0m \u001b[1;33m=\u001b[0m \u001b[1;34m\"\"\u001b[0m\u001b[1;33m\u001b[0m\u001b[0m\n\u001b[0;32m      9\u001b[0m \u001b[1;32mdef\u001b[0m \u001b[0msearch_file\u001b[0m\u001b[1;33m(\u001b[0m\u001b[0mstart_dir\u001b[0m\u001b[1;33m,\u001b[0m \u001b[0mtarget\u001b[0m\u001b[1;33m)\u001b[0m\u001b[1;33m:\u001b[0m\u001b[1;33m\u001b[0m\u001b[0m\n\u001b[1;32m---> 10\u001b[1;33m     \u001b[0mos\u001b[0m\u001b[1;33m.\u001b[0m\u001b[0mchdir\u001b[0m\u001b[1;33m(\u001b[0m\u001b[0mstart_dir\u001b[0m\u001b[1;33m)\u001b[0m \u001b[1;31m# 切换到用户输入的路径\u001b[0m\u001b[1;33m\u001b[0m\u001b[0m\n\u001b[0m\u001b[0;32m     11\u001b[0m     \u001b[1;32mglobal\u001b[0m \u001b[0mcontent\u001b[0m\u001b[1;33m\u001b[0m\u001b[0m\n\u001b[0;32m     12\u001b[0m     \u001b[1;32mfor\u001b[0m \u001b[0meach_file\u001b[0m \u001b[1;32min\u001b[0m \u001b[0mos\u001b[0m\u001b[1;33m.\u001b[0m\u001b[0mlistdir\u001b[0m\u001b[1;33m(\u001b[0m\u001b[0mos\u001b[0m\u001b[1;33m.\u001b[0m\u001b[0mcurdir\u001b[0m\u001b[1;33m)\u001b[0m\u001b[1;33m:\u001b[0m\u001b[1;33m\u001b[0m\u001b[0m\n",
      "\u001b[1;31mFileNotFoundError\u001b[0m: [WinError 2] 系统找不到指定的文件。: 'sdf'"
     ]
    }
   ],
   "source": [
    "import os\n",
    "\n",
    "os.chdir(r\"D:\\python 全栈\\第一遍复习\\02-高级语法系列\")\n",
    "\n",
    "start_dir = input(\"请输入目录：\")\n",
    "target = input(\"请输入文件名：\")\n",
    "\n",
    "content = \"\"\n",
    "def search_file(start_dir, target):\n",
    "    os.chdir(start_dir) # 切换到用户输入的路径\n",
    "    global content\n",
    "    for each_file in os.listdir(os.curdir):\n",
    "        if target in each_file:\n",
    "            file = os.getcwd() + \"\\\\\" + each_file\n",
    "            print(file)\n",
    "            content += file + \"\\n\"\n",
    "        if os.path.isdir(each_file):\n",
    "            search_file(each_file, target)\n",
    "            os.chdir(os.pardir)#搜索完更改到父目录\n",
    "search_file(start_dir, target)\n",
    "if content == \"\":\n",
    "    print(\"您要搜索的目录下没有该文件！\")\n",
    "else:\n",
    "    while True:\n",
    "        save_dir = input(\"请指定文件路径内容保存的位置，如不保存，请输（e）:\")\n",
    "        if os.path.exists(save_dir):\n",
    "            os.chdir(save_dir)\n",
    "            with open(\"save.txt\", \"w\", encoding=\"utf-8\") as f:\n",
    "                f.write(content)\n",
    "                print(\"保存成功！\")\n",
    "                break\n",
    "        elif save_dir == \"e\":\n",
    "            print(\"退出\")\n",
    "            break\n",
    "        else:\n",
    "            print(\"找不到该目录，请重新输入\")\n",
    "            \n"
   ]
  },
  {
   "cell_type": "code",
   "execution_count": 4,
   "metadata": {},
   "outputs": [
    {
     "name": "stdout",
     "output_type": "stream",
     "text": [
      "请输入要搜索的文件夹：D:\n",
      "请输入要查找的文件名：全\n",
      "D:\\python 全栈\\.idea\\Python全栈.iml\n",
      "D:\\python 全栈\\spider\\spider2\\music\\全世界都在说东北话.mp3\n",
      "请输入保存文件目录的位置，输入（e）将不会保存内容：D:\\python 全栈\\第一遍复习\\02-高级语法系列\\05-文件\n",
      "保存成功\n"
     ]
    }
   ],
   "source": [
    "import os\n",
    "content = \"\"\n",
    "def search_file(start_dir, target):\n",
    "    global content\n",
    "    os.chdir(start_dir)\n",
    "    for each_file in os.listdir(os.curdir):\n",
    "        if target in each_file:\n",
    "            file_base = os.getcwd() + \"\\\\\" + each_file\n",
    "            print(file_base)\n",
    "            content += file_base + \"\\n\"\n",
    "        if os.path.isdir(each_file):\n",
    "            search_file(each_file, target)\n",
    "            os.chdir(os.pardir)\n",
    "\n",
    "def save_file():\n",
    "\n",
    "    flag = False\n",
    "    while True:\n",
    "        os.chdir(r\"D:\\python 全栈\")\n",
    "        while True:\n",
    "            start_dir = input(\"请输入要搜索的文件夹：\")\n",
    "            if not os.path.exists(start_dir):\n",
    "                print(\"该目录不存在，请重新输入\")\n",
    "                continue\n",
    "            else:\n",
    "                break\n",
    "        target = input(\"请输入要查找的文件名：\")\n",
    "\n",
    "        search_file(start_dir, target)\n",
    "#         print(content)\n",
    "        if content == \"\":\n",
    "            print(\"该目录下找不到相关的文件！\")\n",
    "        else:\n",
    "            while True:\n",
    "                save_dir = input(\"请输入保存文件目录的位置，输入（e）将不会保存内容：\")\n",
    "                if save_dir == \"e\":\n",
    "                    flag = True\n",
    "                    break\n",
    "                if not os.path.exists(save_dir):\n",
    "                    print(\"该目录不存在，请重新输入！\")\n",
    "                    continue\n",
    "                os.chdir(save_dir)\n",
    "                with open(\"save.txt\", \"w\", encoding=\"utf-8\") as f:\n",
    "                    f.write(content)\n",
    "                    flag = True\n",
    "                    print(\"保存成功\")\n",
    "                    break\n",
    "        if flag == True:\n",
    "            break\n",
    "            \n",
    "save_file()"
   ]
  },
  {
   "cell_type": "code",
   "execution_count": null,
   "metadata": {},
   "outputs": [],
   "source": []
  },
  {
   "cell_type": "code",
   "execution_count": null,
   "metadata": {},
   "outputs": [],
   "source": []
  }
 ],
 "metadata": {
  "kernelspec": {
   "display_name": "Python 3",
   "language": "python",
   "name": "python3"
  },
  "language_info": {
   "codemirror_mode": {
    "name": "ipython",
    "version": 3
   },
   "file_extension": ".py",
   "mimetype": "text/x-python",
   "name": "python",
   "nbconvert_exporter": "python",
   "pygments_lexer": "ipython3",
   "version": "3.7.0"
  }
 },
 "nbformat": 4,
 "nbformat_minor": 2
}
