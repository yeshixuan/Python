{
 "cells": [
  {
   "cell_type": "markdown",
   "metadata": {},
   "source": [
    "#### 编写一个程序，当用户输入文件名和行数的时候，将该文件的前N行内容打印到屏幕上\n",
    " input 去接收一个文件名\n",
    " input 却接一个行数"
   ]
  },
  {
   "cell_type": "code",
   "execution_count": 4,
   "metadata": {},
   "outputs": [
    {
     "name": "stdout",
     "output_type": "stream",
     "text": [
      "请输入文件名：test01.txt\n",
      "请输入要打印的行数：10\n",
      "只有我\n",
      "还有我\n",
      "该文件只有2行\n"
     ]
    }
   ],
   "source": [
    "def print_file():\n",
    "    filename = input(\"请输入文件名：\")\n",
    "    count = int(input(\"请输入要打印的行数：\"))\n",
    "    c = 0\n",
    "    with open(filename, \"r\", encoding=\"utf-8\") as f:\n",
    "        strline = f.readline()\n",
    "        while strline:\n",
    "            c += 1\n",
    "            if c < 10:\n",
    "                print(strline, end=\"\")\n",
    "                strline = f.readline()\n",
    "            else:\n",
    "                break\n",
    "    if c < 10:\n",
    "        print(\"\\n该文件只有{}行\".format(c))\n",
    "print_file()"
   ]
  },
  {
   "cell_type": "markdown",
   "metadata": {},
   "source": [
    "### 我们在上一题的基础上，增加一点功能，使用户可以随意输入需要的行数"
   ]
  },
  {
   "cell_type": "code",
   "execution_count": 13,
   "metadata": {},
   "outputs": [
    {
     "name": "stdout",
     "output_type": "stream",
     "text": [
      "请输入文件名：test01.txt\n",
      "请输入要打印的起始行：3\n",
      "请输入要打印的结束行：5\n",
      "\n",
      "该文件只有2行\n"
     ]
    }
   ],
   "source": [
    "def print_file():\n",
    "    filename = input(\"请输入文件名：\")\n",
    "    start = int(input(\"请输入要打印的起始行：\"))\n",
    "    end = int(input(\"请输入要打印的结束行：\"))\n",
    "    c = 0\n",
    "    with open(filename, \"r\", encoding=\"utf-8\") as f:\n",
    "        strline = f.readline()\n",
    "        while strline:\n",
    "            c += 1\n",
    "\n",
    "            if start <= c <= end:\n",
    "                print(strline, end=\"\")\n",
    "            strline = f.readline()\n",
    "            \n",
    "    if c < end:\n",
    "        print(\"\\n该文件只有{}行\".format(c))\n",
    "\n",
    "print_file()"
   ]
  },
  {
   "cell_type": "code",
   "execution_count": 31,
   "metadata": {},
   "outputs": [
    {
     "name": "stdout",
     "output_type": "stream",
     "text": [
      "请输入文件名：test01.txt\n",
      "请输入要打印的函数，以（{2:3}或{:}的形式）:\n",
      "只有我\n",
      "还有我"
     ]
    }
   ],
   "source": [
    "def print_file():\n",
    "    filename = input(\"请输入文件名：\")\n",
    "    nums = input(\"请输入要打印的函数，以（{2:3}或{:}的形式）\")\n",
    "    start, end = nums.split(\":\")\n",
    "    if start == \"\":\n",
    "        start = \"1\"\n",
    "    if end == \"\":\n",
    "        end = \"0\"\n",
    "        \n",
    "    start = int(start) - 1\n",
    "    end = int(end) - 1\n",
    "    \n",
    "\n",
    "    c = 0\n",
    "    with open(filename, \"r\", encoding=\"utf-8\") as f:\n",
    "        strline = f.readline()\n",
    "        while strline:\n",
    "            if end == -1:\n",
    "                if start <= c:\n",
    "                    print(strline, end=\"\")\n",
    "            else:\n",
    "                if start <= c <= end:\n",
    "                    print(strline, end=\"\")\n",
    "            c += 1\n",
    "            strline = f.readline()\n",
    "    if c <= start or c <= end:\n",
    "        print(\"\\n该文件只有{}行\".format(c))\n",
    "        \n",
    "\n",
    "print_file()"
   ]
  },
  {
   "cell_type": "markdown",
   "metadata": {},
   "source": [
    "### 编写一个程序，实现“全部替换”的功能\n",
    "- 打开一个文件\n",
    "- 把文件中的XXX这样的字符串，替换成sss\n",
    "- open 打开文件\n",
    "- readline 读取文件内容\n",
    "- replace 替换"
   ]
  },
  {
   "cell_type": "code",
   "execution_count": 58,
   "metadata": {},
   "outputs": [
    {
     "name": "stdout",
     "output_type": "stream",
     "text": [
      "请输入文件名：test01.txt\n",
      "请输入需要被替换的内容：我\n",
      "请输入要替换的内容：你\n",
      "只有你\n",
      "还是你\n",
      "替换成功\n"
     ]
    }
   ],
   "source": [
    "def sub():\n",
    "    filename = input(\"请输入文件名：\")\n",
    "    strs = input(\"请输入需要被替换的内容：\")\n",
    "    stre = input(\"请输入要替换的内容：\")\n",
    "    \n",
    "    with open(filename, \"r+\", encoding=\"utf-8\") as f:\n",
    "        content = f.read()\n",
    "        content = content.replace(strs, stre)\n",
    "        f.seek(0)\n",
    "        f.truncate()\n",
    "        print(content)\n",
    "        f.write(content)\n",
    "        print(\"替换成功\")\n",
    "sub()\n"
   ]
  },
  {
   "cell_type": "code",
   "execution_count": 69,
   "metadata": {},
   "outputs": [
    {
     "name": "stdout",
     "output_type": "stream",
     "text": [
      "请输入文件名：test01.txt\n",
      "请输入需要被替换的内容：你\n",
      "请输入要替换的内容：我\n",
      "您确认要替换吗（Y/N）?y\n",
      "替换成功\n"
     ]
    }
   ],
   "source": [
    "def sub():\n",
    "    filename = input(\"请输入文件名：\")\n",
    "    strs = input(\"请输入需要被替换的内容：\")\n",
    "    stre = input(\"请输入要替换的内容：\")\n",
    "    decide = input(\"您确认要替换吗（Y/N）?\")\n",
    "    \n",
    "    f_c = open(filename,encoding=\"utf-8\")\n",
    "    contents = []\n",
    "    for each in f_c:\n",
    "        contents.append(each)\n",
    "    if decide in [\"Yes\",\"YES\",\"yes\",\"y\",\"Y\"]:\n",
    "        with open(filename, \"w\", encoding=\"utf-8\") as f:\n",
    "            contents = \"\".join(contents).replace(strs,stre)\n",
    "    #         print(contents)\n",
    "            f.write(contents)\n",
    "            print(\"替换成功\")\n",
    "    else:\n",
    "        f_c.close()\n",
    "sub()"
   ]
  },
  {
   "cell_type": "code",
   "execution_count": null,
   "metadata": {},
   "outputs": [],
   "source": []
  }
 ],
 "metadata": {
  "kernelspec": {
   "display_name": "Python 3",
   "language": "python",
   "name": "python3"
  },
  "language_info": {
   "codemirror_mode": {
    "name": "ipython",
    "version": 3
   },
   "file_extension": ".py",
   "mimetype": "text/x-python",
   "name": "python",
   "nbconvert_exporter": "python",
   "pygments_lexer": "ipython3",
   "version": "3.7.0"
  }
 },
 "nbformat": 4,
 "nbformat_minor": 2
}
