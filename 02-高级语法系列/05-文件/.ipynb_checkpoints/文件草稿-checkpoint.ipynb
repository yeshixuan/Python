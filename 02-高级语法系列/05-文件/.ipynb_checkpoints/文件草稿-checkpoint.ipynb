{
 "cells": [
  {
   "cell_type": "markdown",
   "metadata": {},
   "source": [
    "# 文件\n",
    "- 常用操作\n",
    "    - 打开关闭（文件一旦打开，需要关闭操作）\n",
    "    - 读写内容\n",
    "    - 查找\n",
    "    \n",
    "## open函数\n",
    "- 负责打开文件，带有很多参数\n",
    "- 第一个参数：文件的路径和名称（必须有）\n",
    "- mode:表明文件用什么方式打开\n",
    "    - r：只读（不存在就会报错）\n",
    "    - w：写，会覆盖之前的内容（如不存在则创建）\n",
    "    - x：创建方式打开，如已存在，则报错\n",
    "    - a：append方式，追加内容\n",
    "    - b: binary方式，二进制方式写入\n",
    "    - t：文件打开方式\n",
    "    - +：可读写（不存在会报错）"
   ]
  },
  {
   "cell_type": "code",
   "execution_count": 11,
   "metadata": {},
   "outputs": [],
   "source": [
    "# 打开方式，用写的方式\n",
    "# f称之为文件句柄\n",
    "f = open(r\"test02.txt\", \"w\", encoding=\"utf-8\")\n",
    "# 文件打开后必须关闭\n",
    "f.write(\"只有我\\n我也是哦\\n我来啦\\n哈哈\")\n",
    "f.close()\n",
    "\n",
    "# 以写的方式打开文件，如果不存在则创建，如存在，则覆盖原来内容"
   ]
  },
  {
   "cell_type": "markdown",
   "metadata": {},
   "source": [
    "# with语句\n",
    "- with语句使用的技术是一种称为上下文管理协议的技术（ContextManagementProtocal）\n",
    "- 自动判断文件的作用域，自动关闭不再使用的打开的文件句柄"
   ]
  },
  {
   "cell_type": "code",
   "execution_count": 15,
   "metadata": {},
   "outputs": [
    {
     "name": "stdout",
     "output_type": "stream",
     "text": [
      "只有我\n",
      "\n",
      "我也是哦\n",
      "\n",
      "我来啦\n",
      "\n",
      "哈哈\n"
     ]
    }
   ],
   "source": [
    "# with语句案例\n",
    "# 'r'的方式打开，不存在就报错\n",
    "with open(r\"test02.txt\", 'r', encoding=\"utf-8\") as f:\n",
    "    # 按行读取内容\n",
    "    strline = f.readline()\n",
    "    # 此结构保证能够完整读取文件直到借宿\n",
    "    while strline:\n",
    "        print(strline)\n",
    "        strline = f.readline()\n",
    "    \n",
    "#     strline = f.read()\n",
    "#     print(strline)"
   ]
  },
  {
   "cell_type": "code",
   "execution_count": 17,
   "metadata": {},
   "outputs": [
    {
     "name": "stdout",
     "output_type": "stream",
     "text": [
      "只有我\n",
      "\n",
      "我也是哦\n",
      "\n",
      "我来啦\n",
      "\n",
      "哈哈\n"
     ]
    }
   ],
   "source": [
    "# list能用打开的文件作为参数，把文件内每一行内容作为一个元素\n",
    "\n",
    "with open(r\"test02.txt\", \"r\", encoding=\"utf-8\") as f:\n",
    "    # 以打开的文件f作为参数，创建列表\n",
    "    l = list(f)\n",
    "    for line in l:\n",
    "        print(line)"
   ]
  },
  {
   "cell_type": "code",
   "execution_count": 23,
   "metadata": {},
   "outputs": [
    {
     "name": "stdout",
     "output_type": "stream",
     "text": [
      "5\n",
      "只有我\n",
      "我\n"
     ]
    }
   ],
   "source": [
    "# read是按字符读取文件内容\n",
    "# 允许输入参数决定读取几个字符，如果没有指定，从当前位置读取到结尾\n",
    "# 否则，从当前位置读取指定个数字符\n",
    "\n",
    "with open(r\"test02.txt\", \"r\", encoding=\"utf-8\") as f:\n",
    "    strChar = f.read(5)\n",
    "    print(len(strChar))\n",
    "    print(strChar)\n",
    "    \n",
    "# 作业：\n",
    "# 使用哦read读取文件，每次只读取一个，使用循环读完\n",
    "# 尽量保持个是"
   ]
  },
  {
   "cell_type": "code",
   "execution_count": 1,
   "metadata": {},
   "outputs": [
    {
     "name": "stdout",
     "output_type": "stream",
     "text": [
      "只有我\n",
      "我也是哦\n",
      "我来啦\n",
      "哈哈"
     ]
    }
   ],
   "source": [
    "# 作业\n",
    "with open(r\"test02.txt\", \"r\", encoding=\"utf-8\") as f:\n",
    "    strChar = f.read(1)\n",
    "    while strChar:\n",
    "        print(strChar, end=\"\")\n",
    "        strChar = f.read(1)"
   ]
  },
  {
   "cell_type": "markdown",
   "metadata": {},
   "source": [
    "# seek(offset,from)\n",
    "- 移动文件到读去位置，也叫读取指针\n",
    "- from的取值范围：\n",
    "    - 0：从文件头开始偏移\n",
    "    - 1：从文件当前位置开始偏移\n",
    "    - 2：从文件末尾开始偏移\n",
    "- 移动的单位是字节（byte)\n",
    "- 一个汉字由若干个字节构成\n",
    "- 返回文件指针对 当前位置"
   ]
  },
  {
   "cell_type": "code",
   "execution_count": null,
   "metadata": {},
   "outputs": [],
   "source": [
    "# seekanli\n",
    "# 打开文件后，从第五个字节开始读取\n",
    "\n",
    "# 打开读写指针在0出，即文件的开头\n",
    "with open(r\"test02.txt\", \"r\", encoding=\"utf-8\") as f:\n",
    "    # seek移动单位是字节\n",
    "    f.seek(3,0)\n",
    "    strChar = f.read()\n",
    "    print(strChar)"
   ]
  },
  {
   "cell_type": "code",
   "execution_count": 2,
   "metadata": {},
   "outputs": [
    {
     "name": "stdout",
     "output_type": "stream",
     "text": [
      "只有我\n",
      "我也是哦\n",
      "我来啦\n",
      "哈哈"
     ]
    }
   ],
   "source": [
    "# 关于读取文件的练习\n",
    "#打开文件，三个字符一组读出内容，然后显示在屏幕上\n",
    "# 每读一次，休息一秒钟\n",
    "\n",
    "import time\n",
    "\n",
    "with open(r\"test02.txt\", \"r\", encoding=\"utf-8\") as f:\n",
    "    s = f.read(3)\n",
    "    while s:\n",
    "        print(s, end=\"\")\n",
    "        time.sleep(0.5)\n",
    "        s = f.read(3)"
   ]
  },
  {
   "cell_type": "code",
   "execution_count": 9,
   "metadata": {},
   "outputs": [
    {
     "name": "stdout",
     "output_type": "stream",
     "text": [
      "9\n",
      "只有我\n",
      "17\n",
      "\n",
      "我也\n",
      "25\n",
      "是哦\n",
      "\n",
      "34\n",
      "我来啦\n",
      "42\n",
      "\n",
      "哈哈\n"
     ]
    }
   ],
   "source": [
    "# tell函数：用来显示文件读写指针的当前位置\n",
    "with open(\"test02.txt\", \"r\", encoding=\"utf-8\") as f:\n",
    "    strChar = f.read(3)\n",
    "    pos = f.tell()\n",
    "#     print(strChar)\n",
    "#     print(pos)\n",
    "    while strChar:\n",
    "        print(pos)\n",
    "        print(strChar)\n",
    "        \n",
    "        strChar = f.read(3)\n",
    "        pos = f.tell()\n",
    "# 以下结果说明tell返回数字的单位是byte\n",
    "# 而read是以字符为单位的"
   ]
  },
  {
   "cell_type": "markdown",
   "metadata": {},
   "source": [
    "# 文件的写操作= write\n",
    "- write(str): 把字符串写入文件\n",
    "- writelines(str)：把字符创按行写入文件\n",
    "- 区别：\n",
    "    - write函数的参数只能是字符串\n",
    "    - writeline函数的参数可以是字符串，也可以是字符序列"
   ]
  },
  {
   "cell_type": "code",
   "execution_count": 12,
   "metadata": {},
   "outputs": [
    {
     "name": "stdout",
     "output_type": "stream",
     "text": [
      "只有我\n",
      "我也是哦\n",
      "我来啦\n",
      "哈哈\n",
      "生活不仅有眼前的苟且，\n",
      "还有远方的苟且\n",
      "生活不仅有眼前的苟且，\n",
      "还有远方的苟且\n",
      "生活不仅有眼前的苟且，\n",
      "还有远方的苟且\n"
     ]
    }
   ],
   "source": [
    "# write案例\n",
    "# 1. 向文件追击句诗\n",
    "with open(\"test02.txt\", \"a\", encoding=\"utf-8\") as f:\n",
    "    f.write(\"\\n生活不仅有眼前的苟且，\\n还有远方的苟且\")\n",
    "    \n",
    "with open(\"test02.txt\", \"r\", encoding=\"utf-8\") as f:\n",
    "    print(f.read())"
   ]
  },
  {
   "cell_type": "code",
   "execution_count": 16,
   "metadata": {},
   "outputs": [
    {
     "name": "stdout",
     "output_type": "stream",
     "text": [
      "只有我\n",
      "我也是哦\n",
      "我来啦\n",
      "哈哈\n",
      "生活不仅有眼前的苟且，\n",
      "还有远方的苟且\n",
      "生活不仅有眼前的苟且，\n",
      "还有远方的苟且\n",
      "生活不仅有眼前的苟且，\n",
      "还有远方的苟且\n",
      "生活啊！好难哦！\n",
      "生活啊！\n",
      "好难哦！\n",
      "我写了好多\n",
      "有记得换行哦\n"
     ]
    }
   ],
   "source": [
    "# 可以直接写入行，用writelines\n",
    "# writelines表示写入很多行，参数可以是list格式\n",
    "\n",
    "with open(\"test02.txt\", \"a\", encoding=\"utf-8\") as f:\n",
    "#     f.writelines(\"\\n生活啊！\")\n",
    "#     f.writelines(\"\\n好难哦！\")\n",
    "    list = [\"\\n我写了好多\",\"\\n有记得换行哦\"]\n",
    "    for s in list:\n",
    "        f.writelines(s)\n",
    "with open(\"test02.txt\", \"r\", encoding=\"utf-8\") as f:\n",
    "    print(f.read())"
   ]
  },
  {
   "cell_type": "code",
   "execution_count": 17,
   "metadata": {},
   "outputs": [
    {
     "name": "stdout",
     "output_type": "stream",
     "text": [
      "Help on built-in function writelines:\n",
      "\n",
      "writelines(lines, /) method of _io.TextIOWrapper instance\n",
      "\n"
     ]
    }
   ],
   "source": [
    "help(f.writelines)"
   ]
  },
  {
   "cell_type": "code",
   "execution_count": 23,
   "metadata": {},
   "outputs": [
    {
     "name": "stdout",
     "output_type": "stream",
     "text": [
      "只有我\n",
      "我也是哦\n",
      "我来啦\n",
      "哈哈\n",
      "生活不仅有眼前的苟且，\n",
      "还有远方的苟且\n",
      "生活不仅有眼前的苟且，\n",
      "还有远方的苟且\n",
      "生活不仅有眼前的苟且，\n",
      "还有远方的苟且\n",
      "生活啊！好难哦！\n",
      "生活啊！\n",
      "好难哦！\n",
      "我写了好多\n",
      "有记得换行哦ilovewangxiaojingilovewangxiaojing\n",
      "i\n",
      "love\n",
      "wangxiaojing\n",
      "i\n",
      "love\n",
      "wangxiaojing\n"
     ]
    }
   ],
   "source": [
    "l=[\"\\ni\",\"\\nlove\",\"\\nwangxiaojing\"]\n",
    "with open(\"test02.txt\", \"a\", encoding=\"utf-8\") as f:\n",
    "    f.writelines(l)# 直接这么写也可以\n",
    "#     f.write(l)#必须是str，不能是list\n",
    "    \n",
    "with open(\"test02.txt\", \"r\", encoding=\"utf-8\") as f:\n",
    "    print(f.read())        "
   ]
  },
  {
   "cell_type": "markdown",
   "metadata": {},
   "source": [
    "# 持久化-pickle\n",
    "- 序列化（持久化，落地）：把程序运行中的信息保存在磁盘上\n",
    "- 反序列化：序列化的逆过程\n",
    "- pickle: Python提供的序列化模块\n",
    "- pickel.dump：序列化\n",
    "- pickle.load:反序列化"
   ]
  },
  {
   "cell_type": "code",
   "execution_count": 55,
   "metadata": {},
   "outputs": [
    {
     "name": "stdout",
     "output_type": "stream",
     "text": [
      "[19, 'i', 'love', 'wangxiaojing']\n"
     ]
    }
   ],
   "source": [
    "# 序列化案例\n",
    "import pickle\n",
    "\n",
    "# age = 19\n",
    "l=[\"i\",\"love\",\"wangxiaojing\"]\n",
    "l = [19,\"i\",\"love\",\"wangxiaojing\"]\n",
    "with open(r\"test03.txt\", 'wb') as f:\n",
    "    pickle.dump(l, f)\n",
    "\n",
    "with open(r\"test03.txt\", \"rb\") as f:\n",
    "    print(pickle.load(f))\n",
    "    "
   ]
  },
  {
   "cell_type": "code",
   "execution_count": 56,
   "metadata": {},
   "outputs": [
    {
     "name": "stdout",
     "output_type": "stream",
     "text": [
      "[19, 'i', 'love', 'wangxiaojing']\n"
     ]
    }
   ],
   "source": [
    "with open(r\"test03.txt\", \"rb\") as f:\n",
    "    a = pickle.load(f)\n",
    "    print(a)\n",
    "#     s = f.read()\n",
    "#     print(s)"
   ]
  },
  {
   "cell_type": "markdown",
   "metadata": {},
   "source": [
    "# 持久化-shelve\n",
    "- 持久化工具\n",
    "- 类似字典，用kv对保存数据，存取方式跟字典也类似\n",
    "- open,close(必须成对）"
   ]
  },
  {
   "cell_type": "code",
   "execution_count": 58,
   "metadata": {},
   "outputs": [],
   "source": [
    "# 使用shelve创建文件并使用\n",
    "import shelve\n",
    "\n",
    "# 打开文件\n",
    "# shv相当于一个字典\n",
    "shv = shelve.open(r\"shv.db\")\n",
    "\n",
    "shv[\"one\"] = 1\n",
    "shv[\"two\"] = 2\n",
    "shv[\"three\"] = 3\n",
    "\n",
    "shv.close()\n",
    "\n",
    "# 通过以上案例返现，shelve自动创建的不仅仅是一个shv.db文件，还包含其他格式文件"
   ]
  },
  {
   "cell_type": "code",
   "execution_count": 61,
   "metadata": {},
   "outputs": [
    {
     "name": "stdout",
     "output_type": "stream",
     "text": [
      "1\n",
      "3\n",
      "嘿嘿嘿\n"
     ]
    }
   ],
   "source": [
    "# shelve读取案例\n",
    "shv = shelve.open(r\"shv.db\")\n",
    "\n",
    "try:\n",
    "    print(shv[\"one\"])\n",
    "    print(shv[\"three\"])\n",
    "    print(shv[\"sfsf\"])\n",
    "except Exception as e:\n",
    "    print(\"嘿嘿嘿\")\n",
    "finally:\n",
    "    shv.close()"
   ]
  },
  {
   "cell_type": "markdown",
   "metadata": {},
   "source": [
    "# shelve特性\n",
    "- 不支持多个应用并行写入\n",
    "    - 为了解决这个问题，open的时候可以使用flag = r\n",
    "- 写回问题\n",
    "    - shelve默认情况下不会等待持久化队形进行任何修改\n",
    "    - 解决方法：强制写回：writeback = True"
   ]
  },
  {
   "cell_type": "code",
   "execution_count": 63,
   "metadata": {},
   "outputs": [
    {
     "name": "stdout",
     "output_type": "stream",
     "text": [
      "1\n"
     ]
    }
   ],
   "source": [
    "# shelv 之只读打开\n",
    "import shelve\n",
    "\n",
    "shv = shelve.open(r\"shv.db\", flag=\"r\")\n",
    "\n",
    "try:\n",
    "    k1 = shv[\"one\"]\n",
    "    print(k1)\n",
    "finally:\n",
    "    shv.close()"
   ]
  },
  {
   "cell_type": "code",
   "execution_count": 64,
   "metadata": {},
   "outputs": [],
   "source": [
    "import shelve\n",
    "\n",
    "shv = shelve.open(r\"shv.db\", flag=\"r\")\n",
    "\n",
    "try:\n",
    "    shv[\"one\"] ={\"eins\":1,\"zwei\":2,\"drei\":3}\n",
    "finally:\n",
    "    shv.close()"
   ]
  },
  {
   "cell_type": "code",
   "execution_count": 66,
   "metadata": {},
   "outputs": [
    {
     "name": "stdout",
     "output_type": "stream",
     "text": [
      "{'eins': 1, 'zwei': 2, 'drei': 3}\n"
     ]
    }
   ],
   "source": [
    "shv = shelve.open(r\"shv.db\",flag=\"r\")\n",
    "\n",
    "try:\n",
    "    one = shv[\"one\"]\n",
    "    print(one)\n",
    "finally:\n",
    "    shv.close()"
   ]
  },
  {
   "cell_type": "code",
   "execution_count": 70,
   "metadata": {},
   "outputs": [
    {
     "name": "stdout",
     "output_type": "stream",
     "text": [
      "{'eins': 1, 'zwei': 2, 'drei': 3}\n",
      "{'eins': 1, 'zwei': 2, 'drei': 3}\n"
     ]
    }
   ],
   "source": [
    "# shelve忘记写回，需要使用强制写回\n",
    "shv = shelve.open(\"shv.db\")\n",
    "try:\n",
    "    k1 = shv[\"one\"]\n",
    "    print(k1)\n",
    "    # 此时，一旦shelve关闭，则内容还在内存中，没有写回数据库\n",
    "    k1[\"eins\"] = 100\n",
    "finally:\n",
    "    shv.close()\n",
    "    \n",
    "shv = shelve.open(\"shv.db\")\n",
    "try:\n",
    "    k1 = shv[\"one\"]\n",
    "    print(k1)\n",
    "    # 此时，一旦shelve关闭，则内容还在内存中，没有写回数据库\n",
    "    k1[\"eins\"] = 100\n",
    "finally:\n",
    "    shv.close()\n"
   ]
  },
  {
   "cell_type": "code",
   "execution_count": 75,
   "metadata": {},
   "outputs": [
    {
     "name": "stdout",
     "output_type": "stream",
     "text": [
      "{'eins': 80, 'zwei': 2, 'drei': 3}\n",
      "{'eins': 100, 'zwei': 2, 'drei': 3}\n"
     ]
    }
   ],
   "source": [
    "# shelve忘记写回，需要使用强制写回\n",
    "shv = shelve.open(\"shv.db\",writeback=True)\n",
    "try:\n",
    "    k1 = shv[\"one\"]\n",
    "    print(k1)\n",
    "    # 此时，一旦shelve关闭，则内容还在内存中，没有写回数据库\n",
    "    k1[\"eins\"] = 100\n",
    "finally:\n",
    "    shv.close()\n",
    "    \n",
    "shv = shelve.open(\"shv.db\",writeback=True)\n",
    "try:\n",
    "    k1 = shv[\"one\"]\n",
    "    print(k1)\n",
    "    # 此时，一旦shelve关闭，则内容还在内存中，没有写回数据库\n",
    "    k1[\"eins\"] = 80\n",
    "finally:\n",
    "    shv.close()"
   ]
  },
  {
   "cell_type": "code",
   "execution_count": 78,
   "metadata": {},
   "outputs": [
    {
     "name": "stdout",
     "output_type": "stream",
     "text": [
      "{'eins': 1000, 'zwei': 2, 'drei': 3}\n",
      "{'eins': 800, 'zwei': 2, 'drei': 3}\n"
     ]
    }
   ],
   "source": [
    "# shelve 使用with管理上下文环境\n",
    "\n",
    "with shelve.open(r\"shv.db\", writeback=True) as shv:\n",
    "    k1 = shv[\"one\"]\n",
    "    print(k1)\n",
    "    # 此时，一旦shelve关闭， 则内容还在内存中，没有写回数据库\n",
    "    k1[\"eins\"] = 800\n",
    "with shelve.open(r\"shv.db\") as shv:\n",
    "    print(shv[\"one\"])"
   ]
  }
 ],
 "metadata": {
  "kernelspec": {
   "display_name": "Python 3",
   "language": "python",
   "name": "python3"
  },
  "language_info": {
   "codemirror_mode": {
    "name": "ipython",
    "version": 3
   },
   "file_extension": ".py",
   "mimetype": "text/x-python",
   "name": "python",
   "nbconvert_exporter": "python",
   "pygments_lexer": "ipython3",
   "version": "3.7.0"
  }
 },
 "nbformat": 4,
 "nbformat_minor": 2
}
