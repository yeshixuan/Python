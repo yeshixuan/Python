{
 "cells": [
  {
   "cell_type": "markdown",
   "metadata": {},
   "source": [
    "# list"
   ]
  },
  {
   "cell_type": "code",
   "execution_count": 62,
   "metadata": {},
   "outputs": [
    {
     "name": "stdout",
     "output_type": "stream",
     "text": [
      "\n",
      "[1, 2, 3, 4, 5, 6]\n",
      "1634575815560\n",
      "None\n",
      "[1, 2, 3, 4, 5, 6, '8']\n",
      "1634575815560\n",
      "xxxxxxxxxxxxxxxxxxxxxxxxxxxxxxxxxx\n",
      "[1, 2, 3, 4, 5, 6, '8', [5, 6, 7, 7]]\n",
      "...............................\n",
      "\n",
      "1634575815688\n",
      "1634575568328\n",
      "1634575815560\n",
      "None\n",
      "[6, 7, 8, 9, 1, 2, 3, 4, 5]\n",
      "1634575815560\n",
      "xxxxxxxxxxxxxxxxxxxxxxxxxx\n",
      "[1, 2, 3, 4, 5, 6, 7, 8]\n",
      "...............................\n",
      "\n",
      "[1, 2, 4, 5, 8, 6, 7]\n"
     ]
    }
   ],
   "source": [
    "# append() 向列表末尾添加新元素，返回值None\n",
    "print()\n",
    "l1 = [1,2,3,4,5,6]\n",
    "print(l1)\n",
    "print(id(l1))\n",
    "print(l1.append(\"8\"))\n",
    "print(l1)\n",
    "print(id(l1))\n",
    "print(\"xxxxxxxxxxxxxxxxxxxxxxxxxxxxxxxxxx\")\n",
    "# 只能添加一个，如果多个会出错，多个放列表里，整个列表算一个\n",
    "l1.append([5,6,7,7])\n",
    "print(l1)\n",
    "print(\"...............................\")\n",
    "# extend() 将一个列表继承另一个列表 ,返回None\n",
    "print()\n",
    "l1 = [1,2,3,4,5]\n",
    "print(id(l1))\n",
    "l2 = [6,7,8,9]\n",
    "l3 = l1 + l2\n",
    "print(id(l3))\n",
    "print(id(l2))\n",
    "print(l2.extend(l1))\n",
    "print(l2)\n",
    "print(id(l2)) # l2id不变\n",
    "print(\"xxxxxxxxxxxxxxxxxxxxxxxxxx\")\n",
    "l1.extend([6,7,8]) # 追加多个，放列表里\n",
    "print(l1)\n",
    "\n",
    "print(\"...............................\")\n",
    "# insert() 在列表中插入值，2个参数\n",
    "print()\n",
    "l1 = [1,2,4,5,6,7]\n",
    "l1.insert(4,8)#4是索引值，8是要插入的值\n",
    "print(l1)"
   ]
  },
  {
   "cell_type": "code",
   "execution_count": 9,
   "metadata": {},
   "outputs": [
    {
     "name": "stdout",
     "output_type": "stream",
     "text": [
      "[1, 2, 3, 4, 5]\n",
      "1634575357448\n",
      "1634575357384\n"
     ]
    }
   ],
   "source": [
    "# copy赋值列表 浅拷贝 但id不一样\n",
    "l1 = [1,2,3,4,5]\n",
    "l2 = l1.copy()\n",
    "print(l2)\n",
    "print(id(l1))\n",
    "print(id(l2))"
   ]
  },
  {
   "cell_type": "code",
   "execution_count": 12,
   "metadata": {},
   "outputs": [
    {
     "name": "stdout",
     "output_type": "stream",
     "text": [
      "1\n"
     ]
    }
   ],
   "source": [
    "# count() 计算某个元素在列表中出现的次数\n",
    "l1 = [1,2,3,4,2,2,3,4,5,4]\n",
    "print(l1.count(1))"
   ]
  },
  {
   "cell_type": "code",
   "execution_count": 18,
   "metadata": {},
   "outputs": [
    {
     "name": "stdout",
     "output_type": "stream",
     "text": [
      "Help on method_descriptor:\n",
      "\n",
      "extend(self, iterable, /)\n",
      "    Extend list by appending elements from the iterable.\n",
      "\n"
     ]
    }
   ],
   "source": [
    "help(list.extend)"
   ]
  },
  {
   "cell_type": "code",
   "execution_count": 24,
   "metadata": {},
   "outputs": [
    {
     "name": "stdout",
     "output_type": "stream",
     "text": [
      "2\n",
      "5\n"
     ]
    }
   ],
   "source": [
    "# index() 获取值在列表中的索引 l1.index(value),值不在列表中会报错\n",
    "l1 = [1,2,3,4,6,3,3,54,32,8]\n",
    "print(l1.index(3))\n",
    "# print(l1.index(89))\n",
    "print(l1.index(3,4,15))# stop的下标可以超出索引值"
   ]
  },
  {
   "cell_type": "code",
   "execution_count": 23,
   "metadata": {},
   "outputs": [
    {
     "name": "stdout",
     "output_type": "stream",
     "text": [
      "Help on method_descriptor:\n",
      "\n",
      "index(self, value, start=0, stop=9223372036854775807, /)\n",
      "    Return first index of value.\n",
      "    \n",
      "    Raises ValueError if the value is not present.\n",
      "\n"
     ]
    }
   ],
   "source": [
    "help(list.index)"
   ]
  },
  {
   "cell_type": "code",
   "execution_count": 38,
   "metadata": {},
   "outputs": [
    {
     "name": "stdout",
     "output_type": "stream",
     "text": [
      "[1, 2, 34, 7, 4, 3]\n"
     ]
    },
    {
     "ename": "IndexError",
     "evalue": "pop index out of range",
     "output_type": "error",
     "traceback": [
      "\u001b[1;31m---------------------------------------------------------------------------\u001b[0m",
      "\u001b[1;31mIndexError\u001b[0m                                Traceback (most recent call last)",
      "\u001b[1;32m<ipython-input-38-b6071acca58c>\u001b[0m in \u001b[0;36m<module>\u001b[1;34m()\u001b[0m\n\u001b[0;32m      4\u001b[0m \u001b[0ml1\u001b[0m\u001b[1;33m.\u001b[0m\u001b[0mpop\u001b[0m\u001b[1;33m(\u001b[0m\u001b[1;33m)\u001b[0m\u001b[1;33m\u001b[0m\u001b[0m\n\u001b[0;32m      5\u001b[0m \u001b[0mprint\u001b[0m\u001b[1;33m(\u001b[0m\u001b[0ml1\u001b[0m\u001b[1;33m)\u001b[0m\u001b[1;33m\u001b[0m\u001b[0m\n\u001b[1;32m----> 6\u001b[1;33m \u001b[0ml1\u001b[0m\u001b[1;33m.\u001b[0m\u001b[0mpop\u001b[0m\u001b[1;33m(\u001b[0m\u001b[1;36m10\u001b[0m\u001b[1;33m)\u001b[0m\u001b[1;31m# 3是索引值\u001b[0m\u001b[1;33m\u001b[0m\u001b[0m\n\u001b[0m\u001b[0;32m      7\u001b[0m \u001b[0mprint\u001b[0m\u001b[1;33m(\u001b[0m\u001b[0ml1\u001b[0m\u001b[1;33m)\u001b[0m\u001b[1;33m\u001b[0m\u001b[0m\n\u001b[0;32m      8\u001b[0m \u001b[1;31m# for i in range(8):\u001b[0m\u001b[1;33m\u001b[0m\u001b[1;33m\u001b[0m\u001b[0m\n",
      "\u001b[1;31mIndexError\u001b[0m: pop index out of range"
     ]
    }
   ],
   "source": [
    "# pop（）根据索引移除列表中的一个元素，不给索引值默认移除最后一个，返回移除的那个值\n",
    "# 超出下标会报错\n",
    "l1 = [1,2,34,7,4,3,3]\n",
    "l1.pop()\n",
    "print(l1)\n",
    "l1.pop(3)# 3是索引值\n",
    "print(l1)\n",
    "# for i in range(8):\n",
    "#     print(l1.pop())"
   ]
  },
  {
   "cell_type": "code",
   "execution_count": 42,
   "metadata": {},
   "outputs": [
    {
     "name": "stdout",
     "output_type": "stream",
     "text": [
      "[1, 2, 3, 4, 5, 6, 67, 8, 7, 7]\n"
     ]
    }
   ],
   "source": [
    "# remove() 移除列表中指定的值 返回None 删除第一个\n",
    "# 删除不存在的值会报错\n",
    "l1 = [1,2,3,4,5,6,67,7,8,7,7]\n",
    "l1.remove(7)\n",
    "print(l1)\n",
    "# l1.remove(19)"
   ]
  },
  {
   "cell_type": "code",
   "execution_count": 44,
   "metadata": {},
   "outputs": [
    {
     "name": "stdout",
     "output_type": "stream",
     "text": [
      "[4, 3, 2, 1]\n"
     ]
    }
   ],
   "source": [
    "# reverse() 列表反转\n",
    "l1 = [1,2,3,4]\n",
    "l1.reverse()\n",
    "print(l1)"
   ]
  },
  {
   "cell_type": "code",
   "execution_count": 47,
   "metadata": {},
   "outputs": [
    {
     "name": "stdout",
     "output_type": "stream",
     "text": [
      "[3, 4, 5, 6, 7, 82]\n",
      "[82, 7, 6, 5, 4, 3]\n"
     ]
    }
   ],
   "source": [
    "# srot() 排序 默认从小到大\n",
    "l1 = [5,3,4,6,7,82]\n",
    "l1.sort()\n",
    "print(l1)\n",
    "l1.sort(reverse=True)\n",
    "print(l1)"
   ]
  },
  {
   "cell_type": "code",
   "execution_count": 48,
   "metadata": {},
   "outputs": [
    {
     "name": "stdout",
     "output_type": "stream",
     "text": [
      "Help on method_descriptor:\n",
      "\n",
      "sort(self, /, *, key=None, reverse=False)\n",
      "    Stable sort *IN PLACE*.\n",
      "\n"
     ]
    }
   ],
   "source": [
    "help(list.sort)"
   ]
  },
  {
   "cell_type": "code",
   "execution_count": 67,
   "metadata": {},
   "outputs": [
    {
     "name": "stdout",
     "output_type": "stream",
     "text": [
      "['你好', 99, '他似水', 88, '什么啊', 77, '45', '67', 'osf']\n"
     ]
    }
   ],
   "source": [
    "member = [\"你好\",\"他似水\",\"什么啊\"]\n",
    "member.insert(1,99)\n",
    "member.insert(3,88)\n",
    "member.insert(5,77)\n",
    "member.extend([\"45\",\"67\"])\n",
    "member.append(\"osf\")\n",
    "print(member)"
   ]
  },
  {
   "cell_type": "code",
   "execution_count": 68,
   "metadata": {},
   "outputs": [
    {
     "name": "stdout",
     "output_type": "stream",
     "text": [
      "hah\n"
     ]
    }
   ],
   "source": [
    "ls = [1,[2,3,[\"学校\",\"hah\"],34],3,6]\n",
    "print(ls[1][2][1])"
   ]
  },
  {
   "cell_type": "markdown",
   "metadata": {},
   "source": [
    "- 将列表推导式还原出来"
   ]
  },
  {
   "cell_type": "code",
   "execution_count": 71,
   "metadata": {},
   "outputs": [
    {
     "name": "stdout",
     "output_type": "stream",
     "text": [
      "[(0, 1), (0, 3), (0, 5), (0, 7), (0, 9), (2, 1), (2, 3), (2, 5), (2, 7), (2, 9), (4, 1), (4, 3), (4, 5), (4, 7), (4, 9), (6, 1), (6, 3), (6, 5), (6, 7), (6, 9), (8, 1), (8, 3), (8, 5), (8, 7), (8, 9)]\n"
     ]
    }
   ],
   "source": [
    "ls = [(x, y) for x in range(10) for y in range(10) if x%2==0 if y%2!=0]\n",
    "print(ls)"
   ]
  },
  {
   "cell_type": "code",
   "execution_count": null,
   "metadata": {},
   "outputs": [],
   "source": []
  }
 ],
 "metadata": {
  "kernelspec": {
   "display_name": "Python 3",
   "language": "python",
   "name": "python3"
  },
  "language_info": {
   "codemirror_mode": {
    "name": "ipython",
    "version": 3
   },
   "file_extension": ".py",
   "mimetype": "text/x-python",
   "name": "python",
   "nbconvert_exporter": "python",
   "pygments_lexer": "ipython3",
   "version": "3.7.0"
  }
 },
 "nbformat": 4,
 "nbformat_minor": 2
}
