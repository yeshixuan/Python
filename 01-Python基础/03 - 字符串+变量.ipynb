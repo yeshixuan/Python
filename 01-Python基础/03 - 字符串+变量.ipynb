{
 "cells": [
  {
   "cell_type": "markdown",
   "metadata": {},
   "source": [
    "# 字符串\n",
    "- 转义字符\n",
    "- 格式化\n",
    "- 内建函数（后延）\n",
    "\n",
    "## 转义字符\n",
    "- 用一个特殊的方法表示出一些列不方便写出的内容，比如回车键，换行键，退格键\n",
    "- 借助反斜杠字符，一旦字符串中出现放斜杠，则放斜杠后面一个或几个字符表示已经不是原来的意思了\n",
    "- 在字符串中，一旦出现反斜杠就要加倍小心，可能有转义字符出现\n",
    "- 不同系统对缓和操作有不同的表示\n",
    "  - windows:\\n\n",
    "  - Linux:\\r\\n\n",
    "  "
   ]
  },
  {
   "cell_type": "code",
   "execution_count": 1,
   "metadata": {},
   "outputs": [
    {
     "name": "stdout",
     "output_type": "stream",
     "text": [
      "i love liuxiaojing\n"
     ]
    }
   ],
   "source": [
    "s=\"i love liuxiaojing\"\n",
    "print(s)"
   ]
  },
  {
   "cell_type": "code",
   "execution_count": 21,
   "metadata": {},
   "outputs": [
    {
     "name": "stdout",
     "output_type": "stream",
     "text": [
      "Let's go\n",
      "Let's go \n",
      "c:\\user\n",
      "I love \n",
      " swangxiaojing\n"
     ]
    }
   ],
   "source": [
    "\n",
    "#如何表示出let's go来\n",
    "# 1.可以使用嵌套引号，即外层使用双引号\n",
    "# 2.转义字符\n",
    "s=\"Let's go\"\n",
    "print(s)\n",
    "\n",
    "#\\'=='\n",
    "ss='Let\\'s go '\n",
    "print(ss)\n",
    "#\\\\=\\\n",
    "sss=\"c:\\\\user\"\n",
    "print(sss)\n",
    "\n",
    "#回车换行符\n",
    "s1=\"I love \\n swangxiaojing\"\n",
    "print(s1)"
   ]
  },
  {
   "cell_type": "markdown",
   "metadata": {},
   "source": [
    "## 字符串的格式化\n",
    "- 把字符串按照一定格式打印或者填充\n",
    "- 格式化有两种方法\n",
    "   - 利用百分号（%）\n",
    "   - 利用format函数\n"
   ]
  },
  {
   "cell_type": "code",
   "execution_count": 25,
   "metadata": {},
   "outputs": [
    {
     "name": "stdout",
     "output_type": "stream",
     "text": [
      "xxx 您好，我们图灵学院开课了，免费的python呀，不学白不学，学了也白雪\n"
     ]
    }
   ],
   "source": [
    "s=\"xxx 您好，我们图灵学院开课了，免费的python呀，不学白不学，学了也白雪\"\n",
    "print(s)"
   ]
  },
  {
   "cell_type": "markdown",
   "metadata": {},
   "source": [
    "### 利用百分号格式化\n",
    "- 在字符串中，利用%表示一个特殊的含义，表示对字符串进行格式化\n",
    "- %d:此处应该放入一个整数\n",
    "- %s:此次应该放入一个字符串"
   ]
  },
  {
   "cell_type": "code",
   "execution_count": 35,
   "metadata": {},
   "outputs": [
    {
     "name": "stdout",
     "output_type": "stream",
     "text": [
      "I love 谬六\n"
     ]
    }
   ],
   "source": [
    "s=\"I love %s\"%'谬六'\n",
    "print(s)"
   ]
  },
  {
   "cell_type": "code",
   "execution_count": 34,
   "metadata": {},
   "outputs": [
    {
     "name": "stdout",
     "output_type": "stream",
     "text": [
      "I love liuxiaojing\n"
     ]
    }
   ],
   "source": [
    "print(\"I love %s\"%\"liuxiaojing\")"
   ]
  },
  {
   "cell_type": "code",
   "execution_count": 38,
   "metadata": {},
   "outputs": [
    {
     "name": "stdout",
     "output_type": "stream",
     "text": [
      "I am %d yeras old\n",
      "I am 18 yeras old\n"
     ]
    }
   ],
   "source": [
    "s=\"I am %d yeras old\"\n",
    "#留意下面两句画的区别和结果\n",
    "print(s)\n",
    "print(s%18)"
   ]
  },
  {
   "cell_type": "code",
   "execution_count": 46,
   "metadata": {},
   "outputs": [
    {
     "name": "stdout",
     "output_type": "stream",
     "text": [
      " I am %s,i am %d yeras old\n",
      " I am sflsiulfs,i am 18 yeras old\n"
     ]
    }
   ],
   "source": [
    "s=\" I am %s,i am %d yeras old\"\n",
    "print(s)\n",
    "#注意一下表达的出错原因\n",
    "#如果字符串中有占位符，则由几个占位符必须用几个实际内容代替，或者一个也不要\n",
    "#print(s%\"miliu\"）\n",
    "\n",
    "#如果出现多个占位符，则相应内容用括号括起来\n",
    "print(s%(\"sflsiulfs\",18))"
   ]
  },
  {
   "cell_type": "markdown",
   "metadata": {},
   "source": [
    "### format函数格式化字符串\n",
    "- 直接用format函数进行格式化\n",
    "- 推荐使用这种方法\n",
    "- 在使用上，以{}和：代替%号，后面用format带参数完成"
   ]
  },
  {
   "cell_type": "code",
   "execution_count": 50,
   "metadata": {},
   "outputs": [
    {
     "name": "stdout",
     "output_type": "stream",
     "text": [
      "I love lixiaojing\n",
      "Yes,i am 18 year old,I LOVE tulingxueyuan and i am 18 years old\n"
     ]
    }
   ],
   "source": [
    "s=\"I love {}\".format(\"lixiaojing\")\n",
    "print(s)\n",
    "\n",
    "s=\"Yes,i am {1} year old,I LOVE {0} and i am {1} years old\".format(\"tulingxueyuan\",18)\n",
    "print(s)"
   ]
  },
  {
   "cell_type": "markdown",
   "metadata": {},
   "source": [
    "## None\n",
    "- 表示什么都没有\n",
    "- 如果函数没有返回值，可以返回None\n",
    "- 用来占位置\n",
    "- 用来解除变量的绑定"
   ]
  },
  {
   "cell_type": "markdown",
   "metadata": {},
   "source": [
    "# 表达式\n",
    "- 由一个或几个数字或者变量和运算符组合成的一行代码\n",
    "- 通常会返回一个结果\n",
    "# 运算符\n",
    "- 由一个以上的值经过变化得到新值的过程就叫运算\n",
    "- 用于运算的符号叫运算符\n",
    "- 运算符分类：\n",
    "   - 算术运算符\n",
    "   - 比较或者关系运算符\n",
    "   - 赋值运算符\n",
    "   - 逻辑运算符\n",
    "   - 位运算\n",
    "       - 二进制等\n",
    "   - 成员运算符\n",
    "   - 身份运算符"
   ]
  },
  {
   "cell_type": "markdown",
   "metadata": {},
   "source": [
    "## 算术运算符\n",
    "- 用来进行算术运算符号\n",
    "- 通常用来表示加减乘除\n",
    "- python没有自增自减运算符"
   ]
  },
  {
   "cell_type": "code",
   "execution_count": 3,
   "metadata": {},
   "outputs": [
    {
     "name": "stdout",
     "output_type": "stream",
     "text": [
      "10\n",
      "27\n",
      "2.25\n",
      "1\n",
      "-3\n",
      "2\n",
      "6561\n",
      "27\n"
     ]
    }
   ],
   "source": [
    "# + -跟正常运算符一模一样\n",
    "a = 9 +  3- 2\n",
    "print(a)\n",
    "\n",
    "#乘号用型号（*）代替\n",
    "a = 9 * 3\n",
    "print(a)\n",
    "\n",
    "#除号用斜杠（/）daiti :\n",
    "#在Python2和Python3中，除号（/）结果可能不一样，此次以3系列为准\n",
    "a = 9 / 4\n",
    "print(a)\n",
    "\n",
    "#%取余运算\n",
    "#两个数字相除应该由商数和余数\n",
    "#%只会得到余数\n",
    "a= 9 % 4\n",
    "print(a)\n",
    "\n",
    "#除以负数的结果\n",
    "\n",
    "a = 9 // -4\n",
    "print(a)\n",
    "\n",
    "#//表示取商运算，也叫地板除\n",
    "a = 9 // 4\n",
    "print(a)\n",
    "\n",
    "#**表示幂运算\n",
    "a = 9 ** 4\n",
    "print(a)\n",
    "\n",
    "a = 3 ** 3\n",
    "print(a)"
   ]
  },
  {
   "cell_type": "markdown",
   "metadata": {},
   "source": [
    "## 比较运算符\n",
    "- 对两个变量或者值进行比较的运算符\n",
    "- 比较的结果是布尔值，即True/False"
   ]
  },
  {
   "cell_type": "code",
   "execution_count": 61,
   "metadata": {},
   "outputs": [
    {
     "name": "stdout",
     "output_type": "stream",
     "text": [
      "False\n",
      "True\n"
     ]
    }
   ],
   "source": [
    "# == ，等于号\n",
    "a=3**4\n",
    "#下面语句执行顺序是\n",
    "#1.计算a==80\n",
    "#2.把结果放入b中\n",
    "b=a==80\n",
    "print(b)\n",
    "\n",
    "#！= 不等于\n",
    "print(9!=8)\n",
    "\n",
    "#>大于\n",
    "#<小于\n",
    "#>=\n",
    "#<=\n"
   ]
  },
  {
   "cell_type": "markdown",
   "metadata": {},
   "source": [
    "## 赋值运算符\n"
   ]
  },
  {
   "cell_type": "code",
   "execution_count": 64,
   "metadata": {},
   "outputs": [
    {
     "name": "stdout",
     "output_type": "stream",
     "text": [
      "7\n"
     ]
    }
   ],
   "source": [
    "# = ，赋值\n",
    "a=0\n",
    "c=a=4\n",
    "\n",
    "#+= 是缩写，\n",
    "a=0\n",
    "a+=7#a=a+7的缩写\n",
    "print(a)\n",
    "\n",
    "#所有运算符都有缩写形式\n",
    "#-=，*=，/=，//=，**=，都是缩写形式"
   ]
  },
  {
   "cell_type": "markdown",
   "metadata": {},
   "source": [
    "# 逻辑运算符\n",
    "- 对布尔值进行计算的符号\n",
    "- and 逻辑与\n",
    "- or 逻辑或\n",
    "- not 逻辑非\n",
    "- python中逻辑运算符没有异或运算符\n",
    "- 运算规则：\n",
    "  - and看作乘法，or看作加法\n",
    "  - True看作1，False看作0\n",
    "  - 则逻辑运算就能转换称整数数学运算\n",
    "  - 最后结果是0则为False,否则为True\n",
    "- 逻辑运算的短路问题\n",
    "  - 逻辑运算式，按照逻辑顺序计算，一旦能够确定这个式子未来的值，则不再进行计算，直接返回\n",
    "  "
   ]
  },
  {
   "cell_type": "code",
   "execution_count": 66,
   "metadata": {},
   "outputs": [
    {
     "name": "stdout",
     "output_type": "stream",
     "text": [
      "True\n",
      "True\n"
     ]
    }
   ],
   "source": [
    "# 逻辑运算符案例\n",
    "a=True\n",
    "b=False\n",
    "c=True\n",
    "\n",
    "#以下式子等价于d=1*0+1\n",
    "d= a and b or c\n",
    "print(d)\n",
    "\n",
    "d=a or b and a\n",
    "print(d)\n",
    "\n"
   ]
  },
  {
   "cell_type": "code",
   "execution_count": 69,
   "metadata": {},
   "outputs": [
    {
     "ename": "SyntaxError",
     "evalue": "can't assign to operator (<ipython-input-69-6c9e312abc46>, line 9)",
     "output_type": "error",
     "traceback": [
      "\u001b[1;36m  File \u001b[1;32m\"<ipython-input-69-6c9e312abc46>\"\u001b[1;36m, line \u001b[1;32m9\u001b[0m\n\u001b[1;33m    a=a or b=9 and 6\u001b[0m\n\u001b[1;37m     ^\u001b[0m\n\u001b[1;31mSyntaxError\u001b[0m\u001b[1;31m:\u001b[0m can't assign to operator\n"
     ]
    }
   ],
   "source": [
    "# 逻辑运算的短路案例\n",
    "\n",
    "#下面的逻辑表达式，a的值一定是True,则运算到or的时候，整个表达式不再向下计算\n",
    "a=True or XXXXXXXX\n",
    "\n",
    "#下面表达式，如果XX中包含赋值表达式，则结果很难预期\n",
    "#代码示例（伪代码）\n",
    "b=0\n",
    "a=a or b=9 and 6\n",
    "#嘉定上面表达式如果没有出现语法错误\n",
    "#则b最终的值应该是0而不是9\n",
    "print(a)\n",
    "print(b)"
   ]
  },
  {
   "cell_type": "markdown",
   "metadata": {},
   "source": [
    "# 成员预算符\n",
    "- 用来检测某一个变量是否是另一个变量的成员\n",
    "- in\n",
    "- not in"
   ]
  },
  {
   "cell_type": "code",
   "execution_count": 72,
   "metadata": {},
   "outputs": [
    {
     "name": "stdout",
     "output_type": "stream",
     "text": [
      "False\n",
      "True\n"
     ]
    }
   ],
   "source": [
    "# 案例\n",
    "l=[1,2,3,4,5,6]\n",
    "a=7\n",
    "b=a in l\n",
    "print(b)\n",
    "c=2\n",
    "d=c in l\n",
    "print(d)"
   ]
  },
  {
   "cell_type": "markdown",
   "metadata": {},
   "source": [
    "## 身份运算\n",
    "- is:用来检测两个变量是否是同一个变量\n",
    "  - 语法就是 var is var2\n",
    "- is not :两个变量不是同一个变量\n",
    "  "
   ]
  },
  {
   "cell_type": "code",
   "execution_count": 77,
   "metadata": {},
   "outputs": [
    {
     "name": "stdout",
     "output_type": "stream",
     "text": [
      "True\n",
      "False\n"
     ]
    }
   ],
   "source": [
    "a=9\n",
    "b=9\n",
    "print(a is b)\n",
    "\n",
    "a=\"I love wangxiaojing\"\n",
    "b=\"I love wangxiaojing\"\n",
    "print(a is b)"
   ]
  },
  {
   "cell_type": "markdown",
   "metadata": {},
   "source": [
    "## 运算符的优先级问题\n",
    "- 永远记住，括号具有最高优先级\n",
    "- 优先级表格\n",
    "\n",
    "        **  指数 (最高优先级)\n",
    "        ~ + -   按位翻转, 一元加号和减号 (最后两个的方法名为 +@ 和 -@)\n",
    "        * / % //    乘，除，取模和取整除\n",
    "        + - 加法减法\n",
    "        >> <<   右移，左移运算符\n",
    "        &   位 'AND'\n",
    "        ^ | 位运算符\n",
    "        <= < > >=   比较运算符\n",
    "        <> == !=    等于运算符\n",
    "        = %= /= //= -= += *= **=    赋值运算符\n",
    "        is is not   身份运算符\n",
    "        in not in   成员运算符\n",
    "        not or and  逻辑运算符"
   ]
  }
 ],
 "metadata": {
  "kernelspec": {
   "display_name": "Python 3",
   "language": "python",
   "name": "python3"
  },
  "language_info": {
   "codemirror_mode": {
    "name": "ipython",
    "version": 3
   },
   "file_extension": ".py",
   "mimetype": "text/x-python",
   "name": "python",
   "nbconvert_exporter": "python",
   "pygments_lexer": "ipython3",
   "version": "3.7.0"
  }
 },
 "nbformat": 4,
 "nbformat_minor": 2
}
