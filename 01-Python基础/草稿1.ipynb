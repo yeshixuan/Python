{
 "cells": [
  {
   "cell_type": "code",
   "execution_count": 1,
   "metadata": {},
   "outputs": [
    {
     "name": "stdout",
     "output_type": "stream",
     "text": [
      "20408.383830545245 11\n"
     ]
    }
   ],
   "source": [
    "benjin = 10000 \n",
    "year = 0\n",
    "money = benjin\n",
    "while money < 20000:\n",
    "    year += 1\n",
    "    money = money * (1 + 0.067)\n",
    "print(money,year)"
   ]
  },
  {
   "cell_type": "code",
   "execution_count": 2,
   "metadata": {},
   "outputs": [],
   "source": [
    "def hello(person):\n",
    "    print('{},你好'.format(person))"
   ]
  },
  {
   "cell_type": "code",
   "execution_count": 3,
   "metadata": {},
   "outputs": [
    {
     "name": "stdout",
     "output_type": "stream",
     "text": [
      "mimi,你好\n"
     ]
    }
   ],
   "source": [
    "m = 'mimi'\n",
    "hello(m)"
   ]
  },
  {
   "cell_type": "code",
   "execution_count": 5,
   "metadata": {},
   "outputs": [
    {
     "name": "stdout",
     "output_type": "stream",
     "text": [
      "li\n",
      "li\n"
     ]
    }
   ],
   "source": [
    "def haha(m):\n",
    "    print(m)\n",
    "    return m\n",
    "\n",
    "s = haha('li')\n",
    "print(s)\n"
   ]
  },
  {
   "cell_type": "code",
   "execution_count": 7,
   "metadata": {},
   "outputs": [
    {
     "name": "stdout",
     "output_type": "stream",
     "text": [
      "Help on built-in function print in module builtins:\n",
      "\n",
      "print(...)\n",
      "    print(value, ..., sep=' ', end='\\n', file=sys.stdout, flush=False)\n",
      "    \n",
      "    Prints the values to a stream, or to sys.stdout by default.\n",
      "    Optional keyword arguments:\n",
      "    file:  a file-like object (stream); defaults to the current sys.stdout.\n",
      "    sep:   string inserted between values, default a space.\n",
      "    end:   string appended after the last value, default a newline.\n",
      "    flush: whether to forcibly flush the stream.\n",
      "\n"
     ]
    }
   ],
   "source": [
    "help(print)"
   ]
  },
  {
   "cell_type": "code",
   "execution_count": 14,
   "metadata": {},
   "outputs": [
    {
     "name": "stdout",
     "output_type": "stream",
     "text": [
      "1 \n",
      "2 4 \n",
      "3 6 9 \n",
      "4 8 12 16 \n",
      "5 10 15 20 25 \n",
      "6 12 18 24 30 36 \n",
      "7 14 21 28 35 42 49 \n",
      "8 16 24 32 40 48 56 64 \n",
      "9 18 27 36 45 54 63 72 81 \n"
     ]
    }
   ],
   "source": [
    "for i in range(1,10):\n",
    "    for j in range(1,i+1):\n",
    "        print(i*j, end=' ')\n",
    "    print()"
   ]
  },
  {
   "cell_type": "code",
   "execution_count": 18,
   "metadata": {},
   "outputs": [
    {
     "name": "stdout",
     "output_type": "stream",
     "text": [
      "ah is 14, and she is a good student\n"
     ]
    }
   ],
   "source": [
    "def reg(name, age, gender='female'):\n",
    "    if gender == 'female':\n",
    "        print(\"{0} is {1}, and she is a good student\".format(name,age))\n",
    "    else:\n",
    "        print('懒！')\n",
    "        \n",
    "reg('ah', 14)"
   ]
  },
  {
   "cell_type": "code",
   "execution_count": 21,
   "metadata": {},
   "outputs": [
    {
     "name": "stdout",
     "output_type": "stream",
     "text": [
      "haha 15 45 53\n",
      "haha 15 {12: 34}\n"
     ]
    }
   ],
   "source": [
    "def reg(name, age, *arg):\n",
    "    print(name,age,*arg)\n",
    "\n",
    "reg('haha', 15, 45,53)\n",
    "reg('haha',15,{12:34})"
   ]
  },
  {
   "cell_type": "code",
   "execution_count": 22,
   "metadata": {},
   "outputs": [
    {
     "name": "stdout",
     "output_type": "stream",
     "text": [
      "jingjing 18 wojia\n"
     ]
    }
   ],
   "source": [
    "def stu(name, age, addr):\n",
    "    print(name, age, addr)\n",
    "\n",
    "n = 'jingjing'\n",
    "a = 18\n",
    "addr = 'wojia'\n",
    "stu(n,a,addr)\n",
    "    "
   ]
  },
  {
   "cell_type": "code",
   "execution_count": 27,
   "metadata": {},
   "outputs": [
    {
     "name": "stdout",
     "output_type": "stream",
     "text": [
      "jingjing 18 wojia\n",
      "name 0 ha\n"
     ]
    },
    {
     "ename": "TypeError",
     "evalue": "stu() takes from 0 to 3 positional arguments but 4 were given",
     "output_type": "error",
     "traceback": [
      "\u001b[1;31m---------------------------------------------------------------------------\u001b[0m",
      "\u001b[1;31mTypeError\u001b[0m                                 Traceback (most recent call last)",
      "\u001b[1;32m<ipython-input-27-fcc3a0bfe7a8>\u001b[0m in \u001b[0;36m<module>\u001b[1;34m()\u001b[0m\n\u001b[0;32m      4\u001b[0m \u001b[0mstu\u001b[0m\u001b[1;33m(\u001b[0m\u001b[0mn\u001b[0m\u001b[1;33m,\u001b[0m \u001b[0ma\u001b[0m \u001b[1;33m,\u001b[0m\u001b[0maddr\u001b[0m\u001b[1;33m)\u001b[0m\u001b[1;33m\u001b[0m\u001b[0m\n\u001b[0;32m      5\u001b[0m \u001b[0mstu\u001b[0m\u001b[1;33m(\u001b[0m\u001b[1;33m)\u001b[0m\u001b[1;33m\u001b[0m\u001b[0m\n\u001b[1;32m----> 6\u001b[1;33m \u001b[0mstu\u001b[0m\u001b[1;33m(\u001b[0m\u001b[0mn\u001b[0m\u001b[1;33m,\u001b[0m \u001b[0ma\u001b[0m\u001b[1;33m,\u001b[0m \u001b[0maddr\u001b[0m\u001b[1;33m,\u001b[0m \u001b[1;36m1\u001b[0m\u001b[1;33m)\u001b[0m\u001b[1;33m\u001b[0m\u001b[0m\n\u001b[0m",
      "\u001b[1;31mTypeError\u001b[0m: stu() takes from 0 to 3 positional arguments but 4 were given"
     ]
    }
   ],
   "source": [
    "def stu(name='name', age=0, addr='ha'):\n",
    "    print(name, age, addr)\n",
    "\n",
    "stu(n, a ,addr)\n",
    "stu()\n",
    "stu(n, a, addr, 1)#不能多放"
   ]
  },
  {
   "cell_type": "code",
   "execution_count": 31,
   "metadata": {},
   "outputs": [
    {
     "name": "stdout",
     "output_type": "stream",
     "text": [
      "18 jingjing wojia\n"
     ]
    }
   ],
   "source": [
    "def stur(age, name, addr):\n",
    "    print(age, name, addr)\n",
    "    \n",
    "stur(name=n,addr=addr,age=a)"
   ]
  },
  {
   "cell_type": "code",
   "execution_count": 39,
   "metadata": {},
   "outputs": [
    {
     "name": "stdout",
     "output_type": "stream",
     "text": [
      "1 sdfsfs 433e43 sfsfs\n",
      "<class 'tuple'>\n",
      "1\n",
      "sdfsfs\n",
      "433e43\n",
      "sfsfs\n",
      "[1, 2, 3, 4, 5]\n",
      "<class 'tuple'>\n",
      "[1, 2, 3, 4, 5]\n",
      "\n",
      "<class 'tuple'>\n"
     ]
    }
   ],
   "source": [
    "#收集参数\n",
    "#args\n",
    "\n",
    "def m(*args):\n",
    "    print(*args)\n",
    "    print(type(args))\n",
    "    for item in args:\n",
    "        print(item)\n",
    "    \n",
    "m(1,'sdfsfs','433e43','sfsfs')\n",
    "n = [1,2,3,4,5]\n",
    "m(n)\n",
    "m()"
   ]
  },
  {
   "cell_type": "code",
   "execution_count": 50,
   "metadata": {},
   "outputs": [
    {
     "name": "stdout",
     "output_type": "stream",
     "text": [
      "hello dajiahao,woxian\n",
      "<class 'dict'>\n",
      "m ---- sfsfs\n",
      "n ---- 33343\n",
      "l ---- sfssfs\n",
      "xxxxxxxxxxxxxxxxxxx\n",
      "hello dajiahao,woxian\n",
      "<class 'dict'>\n",
      "sss ---- sfs56\n",
      "xxxxxxxxxxxxxxxxxxx\n",
      "hello dajiahao,woxian\n",
      "<class 'dict'>\n"
     ]
    }
   ],
   "source": [
    "def stu(**kwargs):\n",
    "    print('hello dajiahao,woxian')\n",
    "    print(type(kwargs))\n",
    "    for k,v in kwargs.items():\n",
    "        print(k,'----',v)\n",
    "\n",
    "stu(m='sfsfs',n='33343',l='sfssfs')\n",
    "print('xxxxxxxxxxxxxxxxxxx')\n",
    "stu(sss='sfs56')\n",
    "print('xxxxxxxxxxxxxxxxxxx')\n",
    "stu()"
   ]
  },
  {
   "cell_type": "code",
   "execution_count": 59,
   "metadata": {},
   "outputs": [
    {
     "name": "stdout",
     "output_type": "stream",
     "text": [
      "Hello 大家好\n",
      "我叫mimi，我今年25\n",
      "没有爱好\n",
      "**********\n",
      "meiyou\n",
      "**********\n",
      "\n",
      "Hello 大家好\n",
      "我叫mimi，我今年25\n",
      "还好是meiyou\n",
      "**********\n",
      "**********\n",
      "\n",
      "Hello 大家好\n",
      "我叫mimi，我今年25\n",
      "还好是meiyou\n",
      "**********\n",
      "sfsfs\n",
      "sfsfsfs\n",
      "**********\n",
      "mili -- mmmm\n",
      "lihf -- sfsfsf\n"
     ]
    }
   ],
   "source": [
    "def stu(name, age, *args, hobby='没有', **kwargs):\n",
    "    print('Hello 大家好')\n",
    "    print('我叫{}，我今年{}'.format(name, age))\n",
    "    if hobby == '没有':\n",
    "        print('没有爱好')\n",
    "    else:\n",
    "        print('还好是{}'.format(hobby))\n",
    "    print('**********')\n",
    "    for i in args:\n",
    "        print(i)\n",
    "    print('**********')\n",
    "    for k,v in kwargs.items():\n",
    "        print(k,'--',v)\n",
    "name = 'mimi'\n",
    "age = 25\n",
    "hobby='tiaos'\n",
    "stu(name,age,'meiyou')\n",
    "print()\n",
    "stu(name,age,hobby='meiyou')\n",
    "print()\n",
    "stu(name,age,'sfsfs','sfsfsfs',hobby='meiyou',mili='mmmm',lihf='sfsfsf')\n",
    "\n"
   ]
  },
  {
   "cell_type": "code",
   "execution_count": 63,
   "metadata": {},
   "outputs": [
    {
     "name": "stdout",
     "output_type": "stream",
     "text": [
      "hhhhssssaaa\n",
      "<class 'list'>\n",
      "0\n",
      "['liuyang', 18, 23, 'wwangxiaojing']\n",
      "hhhhssssaaa\n",
      "<class 'str'>\n",
      "0\n",
      "liuyang\n",
      "<class 'int'>\n",
      "1\n",
      "18\n",
      "<class 'int'>\n",
      "2\n",
      "23\n",
      "<class 'str'>\n",
      "3\n",
      "wwangxiaojing\n"
     ]
    }
   ],
   "source": [
    "#解包\n",
    "def stu(*args):\n",
    "    print('hhhhssssaaa')\n",
    "    n = 0 \n",
    "    for i in args:\n",
    "        print(type(i))\n",
    "        print(n)\n",
    "        n += 1\n",
    "        print(i)\n",
    "l = [\"liuyang\",18,23,\"wwangxiaojing\"]       \n",
    "stu(l)\n",
    "stu(*l)"
   ]
  },
  {
   "cell_type": "code",
   "execution_count": 66,
   "metadata": {},
   "outputs": [
    {
     "name": "stdout",
     "output_type": "stream",
     "text": [
      "Help on function stu in module __main__:\n",
      "\n",
      "stu()\n",
      "    这是第一行\n",
      "    这是第二行\n",
      "    这是第三行\n",
      "\n",
      "\n",
      "    这是第一行\n",
      "    这是第二行\n",
      "    这是第三行\n",
      "    \n"
     ]
    }
   ],
   "source": [
    "#funcname.__doc__\n",
    "#help(funcname)\n",
    "def stu():\n",
    "    '''\n",
    "    这是第一行\n",
    "    这是第二行\n",
    "    这是第三行\n",
    "    '''\n",
    "    print('hhhhh')\n",
    "help(stu)\n",
    "print(stu.__doc__)\n"
   ]
  },
  {
   "cell_type": "code",
   "execution_count": 72,
   "metadata": {},
   "outputs": [
    {
     "name": "stdout",
     "output_type": "stream",
     "text": [
      "100\n",
      "98\n",
      "I am in fun\n",
      "99\n"
     ]
    }
   ],
   "source": [
    "a1 = 100\n",
    "\n",
    "def fun():\n",
    "    a1 = 98\n",
    "    print(a1)\n",
    "    print('I am in fun')\n",
    "    a2 = 99\n",
    "    print(a2)\n",
    "print(a1)\n",
    "# print(a2)\n",
    "fun()"
   ]
  },
  {
   "cell_type": "code",
   "execution_count": 75,
   "metadata": {},
   "outputs": [
    {
     "name": "stdout",
     "output_type": "stream",
     "text": [
      "100\n",
      "I am in fun\n",
      "99\n",
      "100\n"
     ]
    }
   ],
   "source": [
    "#global\n",
    "def fun():\n",
    "    global b1\n",
    "    b1 = 100\n",
    "    print(b1)\n",
    "    print(\"I am in fun\")\n",
    "    b2 = 99\n",
    "    print(b2)\n",
    "fun()\n",
    "print(b1)\n",
    "# print(b2)\n"
   ]
  },
  {
   "cell_type": "code",
   "execution_count": 77,
   "metadata": {},
   "outputs": [
    {
     "name": "stdout",
     "output_type": "stream",
     "text": [
      "{'c': 100, 'd': 200, 'e': 111}\n",
      "{'__name__': '__main__', '__doc__': 'Automatically created module for IPython interactive environment', '__package__': None, '__loader__': None, '__spec__': None, '__builtin__': <module 'builtins' (built-in)>, '__builtins__': <module 'builtins' (built-in)>, '_ih': ['', 'benjin = 10000 \\nyear = 0\\nmoney = benjin\\nwhile money < 20000:\\n    year += 1\\n    money = money * (1 + 0.067)\\nprint(money,year)', \"def hello(person):\\n    print('{},你好'.format(person))\", \"m = 'mimi'\\nhello(m)\", 'def haha(m):\\n    print(m)', \"def haha(m):\\n    print(m)\\n    return m\\n\\ns = haha('li')\\nprint(s)\", 'hekp(print)', 'help(print)', \"for i in range(1,10):\\n    for j in range(1,i):\\n        print(i*j end=' ')\\n    print()\", \"for i in range(1,10):\\n    for j in range(1,i):\\n        print(i*j, end=' ')\\n    print()\", \"for i in range(0,10):\\n    for j in range(1,i):\\n        print(i*j, end=' ')\\n    print()\", \"for i in range(0,10):\\n    for j in range(1,i):\\n        print(i*j, end=' ')\\n    print()\", \"for i in range(1,10):\\n    for j in range(0,i):\\n        print(i*j, end=' ')\\n    print()\", \"for i in range(1,10):\\n    for j in range(1,i):\\n        print(i*j, end=' ')\\n    print()\", \"for i in range(1,10):\\n    for j in range(1,i+1):\\n        print(i*j, end=' ')\\n    print()\", 'def reg(name, age, gender=\\'female\\'):\\n    if gender == \\'female\\':\\n        print(\"{0} is {0}, and she is a good student\".format(name,age))\\n    else:\\n        print(\\'懒！\\')\\n        \\nreg(\\'ah\\', 14, male)', 'def reg(name, age, gender=\\'female\\'):\\n    if gender == \\'female\\':\\n        print(\"{0} is {0}, and she is a good student\".format(name,age))\\n    else:\\n        print(\\'懒！\\')\\n        \\nreg(\\'ah\\', 14, \\'male\\')', 'def reg(name, age, gender=\\'female\\'):\\n    if gender == \\'female\\':\\n        print(\"{0} is {0}, and she is a good student\".format(name,age))\\n    else:\\n        print(\\'懒！\\')\\n        \\nreg(\\'ah\\', 14)', 'def reg(name, age, gender=\\'female\\'):\\n    if gender == \\'female\\':\\n        print(\"{0} is {1}, and she is a good student\".format(name,age))\\n    else:\\n        print(\\'懒！\\')\\n        \\nreg(\\'ah\\', 14)', 'def reg(name, age, *arg):\\n    print(name,age,*arg)', \"def reg(name, age, *arg):\\n    print(name,age,*arg)\\n\\nreg('haha', 15, 45,53)\", \"def reg(name, age, *arg):\\n    print(name,age,*arg)\\n\\nreg('haha', 15, 45,53)\\nreg('haha',15,{12:34})\", \"def stu(name, age, addr):\\n    print(name, age, addr)\\n\\nn = 'jingjing'\\na = 18\\naddr = 'wojia'\\nstu(n,a,addr)\\n    \", \"def stu(name='name', age=0, addr='ha'):\\n    print(name, age, addr)\\n\\nstu(n, a ,addr)\", \"def stu(name='name', age=0, addr='ha'):\\n    print(name, age, addr)\\n\\nstu(n, a ,addr)\\nstu()\", \"def stu(name='name', age=0, addr='ha'):\\n    print(name, age, addr)\\n\\nstu(n, a ,addr)\\nstu()\", \"def stu(name='name', age=0, addr='ha'):\\n    print(name, age, addr)\\n\\nstu(n, a ,addr)\\nstu()\\nstu(n)\", \"def stu(name='name', age=0, addr='ha'):\\n    print(name, age, addr)\\n\\nstu(n, a ,addr)\\nstu()\\nstu(n, a, addr, 1)\", 'stur(age=a,name=n,addr=addr):\\n    print(age,name,addr)\\n    \\nprint(a, addr, name)', 'def stur(age=a,name=n,addr=addr):\\n    print(age,name,addr)\\n    \\nstur(a, addr, name)', 'def stur(age=a,name=n,addr=addr):\\n    print(age,name,addr)\\n    \\nstur(a, addr, n)', 'def stur(age, name, addr):\\n    print(age, name, addr)\\n    \\nstur(name=n,addr=addr,age=a)', '#收集参数\\n#args\\n\\ndef m(*args):\\n    print(*args)\\n    \\nm(1,sdfsfs,433e43,sfsfs)', \"#收集参数\\n#args\\n\\ndef m(*args):\\n    print(*args)\\n    \\nm(1,'sdfsfs','433e43','sfsfs')\", \"#收集参数\\n#args\\n\\ndef m(*args):\\n    print(*args)\\n    print(type(*args))\\n    \\nm(1,'sdfsfs','433e43','sfsfs')\", \"#收集参数\\n#args\\n\\ndef m(*args):\\n    print(*args)\\n    print(type(args))\\n    \\nm(1,'sdfsfs','433e43','sfsfs')\", \"#收集参数\\n#args\\n\\ndef m(*args):\\n    print(*args)\\n    print(type(args))\\n    \\nm(1,'sdfsfs','433e43','sfsfs')\\nn = [1,2,3,4,5]\", \"#收集参数\\n#args\\n\\ndef m(*args):\\n    print(*args)\\n    print(type(args))\\n    \\nm(1,'sdfsfs','433e43','sfsfs')\\nn = [1,2,3,4,5]\\nm(n)\", \"#收集参数\\n#args\\n\\ndef m(*args):\\n    print(*args)\\n    print(type(args))\\n    \\nm(1,'sdfsfs','433e43','sfsfs')\\nn = [1,2,3,4,5]\\nm(n)\\nm()\", \"#收集参数\\n#args\\n\\ndef m(*args):\\n    print(*args)\\n    print(type(args))\\n    for item in args:\\n        print(item)\\n    \\nm(1,'sdfsfs','433e43','sfsfs')\\nn = [1,2,3,4,5]\\nm(n)\\nm()\", \"def stu(**kwargs):\\n    print('hello dajiahao,woxian')\\n    print(type(kwargs))\\n    for k,v in kwargs:\\n        print(k,'----',v)\\n    \", \"def stu(**kwargs):\\n    print('hello dajiahao,woxian')\\n    print(type(kwargs))\\n    for k,v in kwargs:\\n        print(k,'----',v)\\n\\nstu('sfsfs',33343','sfssfs')\\n    \", \"def stu(**kwargs):\\n    print('hello dajiahao,woxian')\\n    print(type(kwargs))\\n    for k,v in kwargs:\\n        print(k,'----',v)\\n\\nstu('sfsfs',33343,'sfssfs')\\n    \", \"def stu(**kwargs):\\n    print('hello dajiahao,woxian')\\n    print(type(kwargs))\\n    for k,v in kwargs:\\n        print(k,'----',v)\\n\\nstu(m='sfsfs',n=33343,l='sfssfs')\\n    \", \"def stu(**kwargs):\\n    print('hello dajiahao,woxian')\\n    print(type(kwargs))\\n    for k,v in kwargs:\\n        print(k,'----',v)\\n\\nstu(m='sfsfs',n=33343,l='sfssfs')\\nprint('xxxxxxxxxxxxxxxxxxx')\\n    \", \"def stu(**kwargs):\\n    print('hello dajiahao,woxian')\\n    print(type(kwargs))\\n    for k,v in kwargs:\\n        print(k,'----',v)\\n\\nstu(m='sfsfs',n=33343,l='sfssfs')\\nprint('xxxxxxxxxxxxxxxxxxx')\\nstu(m='sfs56')\\n    \", \"def stu(**kwargs):\\n    print('hello dajiahao,woxian')\\n    print(type(kwargs))\\n    for k,v in kwargs:\\n        print(k,'----',v)\\n\\nstu(m='sfsfs',n='33343',l='sfssfs')\\nprint('xxxxxxxxxxxxxxxxxxx')\\nstu(m='sfs56')\\n    \", \"def stu(**kwargs):\\n    print('hello dajiahao,woxian')\\n    print(type(kwargs))\\n    for k,v in kwargs.items():\\n        print(k,'----',v)\\n\\nstu(m='sfsfs',n='33343',l='sfssfs')\\nprint('xxxxxxxxxxxxxxxxxxx')\\nstu(m='sfs56')\\n    \", \"def stu(**kwargs):\\n    print('hello dajiahao,woxian')\\n    print(type(kwargs))\\n    for k,v in kwargs.items():\\n        print(k,'----',v)\\n\\nstu(m='sfsfs',n='33343',l='sfssfs')\\nprint('xxxxxxxxxxxxxxxxxxx')\\nstu(sss='sfs56')\\n    \", \"def stu(**kwargs):\\n    print('hello dajiahao,woxian')\\n    print(type(kwargs))\\n    for k,v in kwargs.items():\\n        print(k,'----',v)\\n\\nstu(m='sfsfs',n='33343',l='sfssfs')\\nprint('xxxxxxxxxxxxxxxxxxx')\\nstu(sss='sfs56')\\nstu()\", \"def stu(**kwargs):\\n    print('hello dajiahao,woxian')\\n    print(type(kwargs))\\n    for k,v in kwargs.items():\\n        print(k,'----',v)\\n\\nstu(m='sfsfs',n='33343',l='sfssfs')\\nprint('xxxxxxxxxxxxxxxxxxx')\\nstu(sss='sfs56')\\nprint('xxxxxxxxxxxxxxxxxxx')\\nstu()\", \"def stu(name, age, *args, hobby='没有', **kwargs):\\n    print('Hello 大家好')\\n    print('我叫{}，我今年{了}'.format(name, age))\\n    if hobby == '没有':\\n        print('没有爱好')\", \"def stu(name, age, *args, hobby='没有', **kwargs):\\n    print('Hello 大家好')\\n    print('我叫{}，我今年{了}'.format(name, age))\\n    if hobby == '没有':\\n        print('没有爱好')\\n    else:\\n        print('还好是{}'.format(hobby))\\n    for i in args:\\n        print(i)\\n    for k,v in kwargs.items():\\n        print(k,'--',v)\\nname = 'mimi'\\nage = 25\\nhobby='tiaos'\\nstu(name,age,'meiyou')\", \"def stu(name, age, *args, hobby='没有', **kwargs):\\n    print('Hello 大家好')\\n    print('我叫{}，我今年{}'.format(name, age))\\n    if hobby == '没有':\\n        print('没有爱好')\\n    else:\\n        print('还好是{}'.format(hobby))\\n    for i in args:\\n        print(i)\\n    for k,v in kwargs.items():\\n        print(k,'--',v)\\nname = 'mimi'\\nage = 25\\nhobby='tiaos'\\nstu(name,age,'meiyou')\", \"def stu(name, age, *args, hobby='没有', **kwargs):\\n    print('Hello 大家好')\\n    print('我叫{}，我今年{}'.format(name, age))\\n    if hobby == '没有':\\n        print('没有爱好')\\n    else:\\n        print('还好是{}'.format(hobby))\\n    print('**********')\\n    for i in args:\\n        print(i)\\n    print('**********')\\n    for k,v in kwargs.items():\\n        print(k,'--',v)\\nname = 'mimi'\\nage = 25\\nhobby='tiaos'\\nstu(name,age,'meiyou')\", \"def stu(name, age, *args, hobby='没有', **kwargs):\\n    print('Hello 大家好')\\n    print('我叫{}，我今年{}'.format(name, age))\\n    if hobby == '没有':\\n        print('没有爱好')\\n    else:\\n        print('还好是{}'.format(hobby))\\n    print('**********')\\n    for i in args:\\n        print(i)\\n    print('**********')\\n    for k,v in kwargs.items():\\n        print(k,'--',v)\\nname = 'mimi'\\nage = 25\\nhobby='tiaos'\\nstu(name,age,'meiyou')\\nstu(name,age,hobby='meiyou')\", \"def stu(name, age, *args, hobby='没有', **kwargs):\\n    print('Hello 大家好')\\n    print('我叫{}，我今年{}'.format(name, age))\\n    if hobby == '没有':\\n        print('没有爱好')\\n    else:\\n        print('还好是{}'.format(hobby))\\n    print('**********')\\n    for i in args:\\n        print(i)\\n    print('**********')\\n    for k,v in kwargs.items():\\n        print(k,'--',v)\\nname = 'mimi'\\nage = 25\\nhobby='tiaos'\\nstu(name,age,'meiyou')\\nstu(name,age,hobby='meiyou')\\nstu(name,age,'sfsfs','sfsfsfs',hobby='meiyou',mili='mmmm',lihf='sfsfsf')\", \"def stu(name, age, *args, hobby='没有', **kwargs):\\n    print('Hello 大家好')\\n    print('我叫{}，我今年{}'.format(name, age))\\n    if hobby == '没有':\\n        print('没有爱好')\\n    else:\\n        print('还好是{}'.format(hobby))\\n    print('**********')\\n    for i in args:\\n        print(i)\\n    print('**********')\\n    for k,v in kwargs.items():\\n        print(k,'--',v)\\nname = 'mimi'\\nage = 25\\nhobby='tiaos'\\nstu(name,age,'meiyou')\\npritn()\\nstu(name,age,hobby='meiyou')\\npritn()\\nstu(name,age,'sfsfs','sfsfsfs',hobby='meiyou',mili='mmmm',lihf='sfsfsf')\", \"def stu(name, age, *args, hobby='没有', **kwargs):\\n    print('Hello 大家好')\\n    print('我叫{}，我今年{}'.format(name, age))\\n    if hobby == '没有':\\n        print('没有爱好')\\n    else:\\n        print('还好是{}'.format(hobby))\\n    print('**********')\\n    for i in args:\\n        print(i)\\n    print('**********')\\n    for k,v in kwargs.items():\\n        print(k,'--',v)\\nname = 'mimi'\\nage = 25\\nhobby='tiaos'\\nstu(name,age,'meiyou')\\npritn()\\nstu(name,age,hobby='meiyou')\\nprint()\\nstu(name,age,'sfsfs','sfsfsfs',hobby='meiyou',mili='mmmm',lihf='sfsfsf')\", \"def stu(name, age, *args, hobby='没有', **kwargs):\\n    print('Hello 大家好')\\n    print('我叫{}，我今年{}'.format(name, age))\\n    if hobby == '没有':\\n        print('没有爱好')\\n    else:\\n        print('还好是{}'.format(hobby))\\n    print('**********')\\n    for i in args:\\n        print(i)\\n    print('**********')\\n    for k,v in kwargs.items():\\n        print(k,'--',v)\\nname = 'mimi'\\nage = 25\\nhobby='tiaos'\\nstu(name,age,'meiyou')\\nprint()\\nstu(name,age,hobby='meiyou')\\nprint()\\nstu(name,age,'sfsfs','sfsfsfs',hobby='meiyou',mili='mmmm',lihf='sfsfsf')\", \"def stu(*args):\\n    print('hhhhssssaaa')\", \"def stu(*args):\\n    print('hhhhssssaaa')\\n    n = 0 \\n    for i in args:\\n        print(type(i))\\n        print(n)\\n        n += 1\\n        print(i)\\n        \", 'def stu(*args):\\n    print(\\'hhhhssssaaa\\')\\n    n = 0 \\n    for i in args:\\n        print(type(i))\\n        print(n)\\n        n += 1\\n        print(i)\\nl = [\"liuyang\",18,23,\"wwangxiaojing\"]       \\nstu(l)', 'def stu(*args):\\n    print(\\'hhhhssssaaa\\')\\n    n = 0 \\n    for i in args:\\n        print(type(i))\\n        print(n)\\n        n += 1\\n        print(i)\\nl = [\"liuyang\",18,23,\"wwangxiaojing\"]       \\nstu(l)\\nstu(*l)', \"def stu():\\n    '''\\n    这是第一行\\n    这是第二行\\n    这是第三行\\n    '''\\n    print('hhhhh')\\nhelp(stu)\", \"def stu():\\n    '''\\n    这是第一行\\n    这是第二行\\n    这是第三行\\n    '''\\n    print('hhhhh')\\nhelp(stu)\\nstu.__doc__\", \"def stu():\\n    '''\\n    这是第一行\\n    这是第二行\\n    这是第三行\\n    '''\\n    print('hhhhh')\\nhelp(stu)\\nprint(stu.__doc__)\", \"a1 = 100\\n\\ndef fun():\\n    print(a1)\\n    print('I am in fun')\\n    a2 = 99\\n    print(a2)\\nprint(a1)\\nprint(a2)\\nfunc()\", \"a1 = 100\\n\\ndef fun():\\n    print(a1)\\n    print('I am in fun')\\n    a2 = 99\\n    print(a2)\\nprint(a1)\\nprint(a2)\\nfun()\", \"a1 = 100\\n\\ndef fun():\\n    print(a1)\\n    print('I am in fun')\\n    a2 = 99\\n    print(a2)\\nprint(a1)\\nprint(a2)\\nfun()\", \"a1 = 100\\n\\ndef fun():\\n    print(a1)\\n    print('I am in fun')\\n    a2 = 99\\n    print(a2)\\nprint(a1)\\n# print(a2)\\nfun()\", \"a1 = 100\\n\\ndef fun():\\n    ai = 98\\n    print(a1)\\n    print('I am in fun')\\n    a2 = 99\\n    print(a2)\\nprint(a1)\\n# print(a2)\\nfun()\", \"a1 = 100\\n\\ndef fun():\\n    a1 = 98\\n    print(a1)\\n    print('I am in fun')\\n    a2 = 99\\n    print(a2)\\nprint(a1)\\n# print(a2)\\nfun()\", 'def fun():\\n    global b1\\n    b1 = 100\\n    print(b1)\\n    print(\"I am in fun\")\\n    b2 = 99\\n    print(b2)\\nprint(b1)\\nprint(b2)', 'def fun():\\n    global b1\\n    b1 = 100\\n    print(b1)\\n    print(\"I am in fun\")\\n    b2 = 99\\n    print(b2)\\nfun()\\nprint(b1)\\nprint(b2)', 'def fun():\\n    global b1\\n    b1 = 100\\n    print(b1)\\n    print(\"I am in fun\")\\n    b2 = 99\\n    print(b2)\\nfun()\\nprint(b1)\\n# print(b2)', 'a = 1\\nb = 2\\ndef fun(c,d):\\n    e = 111\\n    print(locals())\\n    print(globals())\\nfun(100,200)', 'a = 1\\nb = 2\\ndef fun(c,d):\\n    e = 111\\n    print(locals())\\n    print(globals())\\nfun(100,200)'], '_oh': {65: '\\n    这是第一行\\n    这是第二行\\n    这是第三行\\n    '}, '_dh': ['D:\\\\Python全栈'], 'In': ['', 'benjin = 10000 \\nyear = 0\\nmoney = benjin\\nwhile money < 20000:\\n    year += 1\\n    money = money * (1 + 0.067)\\nprint(money,year)', \"def hello(person):\\n    print('{},你好'.format(person))\", \"m = 'mimi'\\nhello(m)\", 'def haha(m):\\n    print(m)', \"def haha(m):\\n    print(m)\\n    return m\\n\\ns = haha('li')\\nprint(s)\", 'hekp(print)', 'help(print)', \"for i in range(1,10):\\n    for j in range(1,i):\\n        print(i*j end=' ')\\n    print()\", \"for i in range(1,10):\\n    for j in range(1,i):\\n        print(i*j, end=' ')\\n    print()\", \"for i in range(0,10):\\n    for j in range(1,i):\\n        print(i*j, end=' ')\\n    print()\", \"for i in range(0,10):\\n    for j in range(1,i):\\n        print(i*j, end=' ')\\n    print()\", \"for i in range(1,10):\\n    for j in range(0,i):\\n        print(i*j, end=' ')\\n    print()\", \"for i in range(1,10):\\n    for j in range(1,i):\\n        print(i*j, end=' ')\\n    print()\", \"for i in range(1,10):\\n    for j in range(1,i+1):\\n        print(i*j, end=' ')\\n    print()\", 'def reg(name, age, gender=\\'female\\'):\\n    if gender == \\'female\\':\\n        print(\"{0} is {0}, and she is a good student\".format(name,age))\\n    else:\\n        print(\\'懒！\\')\\n        \\nreg(\\'ah\\', 14, male)', 'def reg(name, age, gender=\\'female\\'):\\n    if gender == \\'female\\':\\n        print(\"{0} is {0}, and she is a good student\".format(name,age))\\n    else:\\n        print(\\'懒！\\')\\n        \\nreg(\\'ah\\', 14, \\'male\\')', 'def reg(name, age, gender=\\'female\\'):\\n    if gender == \\'female\\':\\n        print(\"{0} is {0}, and she is a good student\".format(name,age))\\n    else:\\n        print(\\'懒！\\')\\n        \\nreg(\\'ah\\', 14)', 'def reg(name, age, gender=\\'female\\'):\\n    if gender == \\'female\\':\\n        print(\"{0} is {1}, and she is a good student\".format(name,age))\\n    else:\\n        print(\\'懒！\\')\\n        \\nreg(\\'ah\\', 14)', 'def reg(name, age, *arg):\\n    print(name,age,*arg)', \"def reg(name, age, *arg):\\n    print(name,age,*arg)\\n\\nreg('haha', 15, 45,53)\", \"def reg(name, age, *arg):\\n    print(name,age,*arg)\\n\\nreg('haha', 15, 45,53)\\nreg('haha',15,{12:34})\", \"def stu(name, age, addr):\\n    print(name, age, addr)\\n\\nn = 'jingjing'\\na = 18\\naddr = 'wojia'\\nstu(n,a,addr)\\n    \", \"def stu(name='name', age=0, addr='ha'):\\n    print(name, age, addr)\\n\\nstu(n, a ,addr)\", \"def stu(name='name', age=0, addr='ha'):\\n    print(name, age, addr)\\n\\nstu(n, a ,addr)\\nstu()\", \"def stu(name='name', age=0, addr='ha'):\\n    print(name, age, addr)\\n\\nstu(n, a ,addr)\\nstu()\", \"def stu(name='name', age=0, addr='ha'):\\n    print(name, age, addr)\\n\\nstu(n, a ,addr)\\nstu()\\nstu(n)\", \"def stu(name='name', age=0, addr='ha'):\\n    print(name, age, addr)\\n\\nstu(n, a ,addr)\\nstu()\\nstu(n, a, addr, 1)\", 'stur(age=a,name=n,addr=addr):\\n    print(age,name,addr)\\n    \\nprint(a, addr, name)', 'def stur(age=a,name=n,addr=addr):\\n    print(age,name,addr)\\n    \\nstur(a, addr, name)', 'def stur(age=a,name=n,addr=addr):\\n    print(age,name,addr)\\n    \\nstur(a, addr, n)', 'def stur(age, name, addr):\\n    print(age, name, addr)\\n    \\nstur(name=n,addr=addr,age=a)', '#收集参数\\n#args\\n\\ndef m(*args):\\n    print(*args)\\n    \\nm(1,sdfsfs,433e43,sfsfs)', \"#收集参数\\n#args\\n\\ndef m(*args):\\n    print(*args)\\n    \\nm(1,'sdfsfs','433e43','sfsfs')\", \"#收集参数\\n#args\\n\\ndef m(*args):\\n    print(*args)\\n    print(type(*args))\\n    \\nm(1,'sdfsfs','433e43','sfsfs')\", \"#收集参数\\n#args\\n\\ndef m(*args):\\n    print(*args)\\n    print(type(args))\\n    \\nm(1,'sdfsfs','433e43','sfsfs')\", \"#收集参数\\n#args\\n\\ndef m(*args):\\n    print(*args)\\n    print(type(args))\\n    \\nm(1,'sdfsfs','433e43','sfsfs')\\nn = [1,2,3,4,5]\", \"#收集参数\\n#args\\n\\ndef m(*args):\\n    print(*args)\\n    print(type(args))\\n    \\nm(1,'sdfsfs','433e43','sfsfs')\\nn = [1,2,3,4,5]\\nm(n)\", \"#收集参数\\n#args\\n\\ndef m(*args):\\n    print(*args)\\n    print(type(args))\\n    \\nm(1,'sdfsfs','433e43','sfsfs')\\nn = [1,2,3,4,5]\\nm(n)\\nm()\", \"#收集参数\\n#args\\n\\ndef m(*args):\\n    print(*args)\\n    print(type(args))\\n    for item in args:\\n        print(item)\\n    \\nm(1,'sdfsfs','433e43','sfsfs')\\nn = [1,2,3,4,5]\\nm(n)\\nm()\", \"def stu(**kwargs):\\n    print('hello dajiahao,woxian')\\n    print(type(kwargs))\\n    for k,v in kwargs:\\n        print(k,'----',v)\\n    \", \"def stu(**kwargs):\\n    print('hello dajiahao,woxian')\\n    print(type(kwargs))\\n    for k,v in kwargs:\\n        print(k,'----',v)\\n\\nstu('sfsfs',33343','sfssfs')\\n    \", \"def stu(**kwargs):\\n    print('hello dajiahao,woxian')\\n    print(type(kwargs))\\n    for k,v in kwargs:\\n        print(k,'----',v)\\n\\nstu('sfsfs',33343,'sfssfs')\\n    \", \"def stu(**kwargs):\\n    print('hello dajiahao,woxian')\\n    print(type(kwargs))\\n    for k,v in kwargs:\\n        print(k,'----',v)\\n\\nstu(m='sfsfs',n=33343,l='sfssfs')\\n    \", \"def stu(**kwargs):\\n    print('hello dajiahao,woxian')\\n    print(type(kwargs))\\n    for k,v in kwargs:\\n        print(k,'----',v)\\n\\nstu(m='sfsfs',n=33343,l='sfssfs')\\nprint('xxxxxxxxxxxxxxxxxxx')\\n    \", \"def stu(**kwargs):\\n    print('hello dajiahao,woxian')\\n    print(type(kwargs))\\n    for k,v in kwargs:\\n        print(k,'----',v)\\n\\nstu(m='sfsfs',n=33343,l='sfssfs')\\nprint('xxxxxxxxxxxxxxxxxxx')\\nstu(m='sfs56')\\n    \", \"def stu(**kwargs):\\n    print('hello dajiahao,woxian')\\n    print(type(kwargs))\\n    for k,v in kwargs:\\n        print(k,'----',v)\\n\\nstu(m='sfsfs',n='33343',l='sfssfs')\\nprint('xxxxxxxxxxxxxxxxxxx')\\nstu(m='sfs56')\\n    \", \"def stu(**kwargs):\\n    print('hello dajiahao,woxian')\\n    print(type(kwargs))\\n    for k,v in kwargs.items():\\n        print(k,'----',v)\\n\\nstu(m='sfsfs',n='33343',l='sfssfs')\\nprint('xxxxxxxxxxxxxxxxxxx')\\nstu(m='sfs56')\\n    \", \"def stu(**kwargs):\\n    print('hello dajiahao,woxian')\\n    print(type(kwargs))\\n    for k,v in kwargs.items():\\n        print(k,'----',v)\\n\\nstu(m='sfsfs',n='33343',l='sfssfs')\\nprint('xxxxxxxxxxxxxxxxxxx')\\nstu(sss='sfs56')\\n    \", \"def stu(**kwargs):\\n    print('hello dajiahao,woxian')\\n    print(type(kwargs))\\n    for k,v in kwargs.items():\\n        print(k,'----',v)\\n\\nstu(m='sfsfs',n='33343',l='sfssfs')\\nprint('xxxxxxxxxxxxxxxxxxx')\\nstu(sss='sfs56')\\nstu()\", \"def stu(**kwargs):\\n    print('hello dajiahao,woxian')\\n    print(type(kwargs))\\n    for k,v in kwargs.items():\\n        print(k,'----',v)\\n\\nstu(m='sfsfs',n='33343',l='sfssfs')\\nprint('xxxxxxxxxxxxxxxxxxx')\\nstu(sss='sfs56')\\nprint('xxxxxxxxxxxxxxxxxxx')\\nstu()\", \"def stu(name, age, *args, hobby='没有', **kwargs):\\n    print('Hello 大家好')\\n    print('我叫{}，我今年{了}'.format(name, age))\\n    if hobby == '没有':\\n        print('没有爱好')\", \"def stu(name, age, *args, hobby='没有', **kwargs):\\n    print('Hello 大家好')\\n    print('我叫{}，我今年{了}'.format(name, age))\\n    if hobby == '没有':\\n        print('没有爱好')\\n    else:\\n        print('还好是{}'.format(hobby))\\n    for i in args:\\n        print(i)\\n    for k,v in kwargs.items():\\n        print(k,'--',v)\\nname = 'mimi'\\nage = 25\\nhobby='tiaos'\\nstu(name,age,'meiyou')\", \"def stu(name, age, *args, hobby='没有', **kwargs):\\n    print('Hello 大家好')\\n    print('我叫{}，我今年{}'.format(name, age))\\n    if hobby == '没有':\\n        print('没有爱好')\\n    else:\\n        print('还好是{}'.format(hobby))\\n    for i in args:\\n        print(i)\\n    for k,v in kwargs.items():\\n        print(k,'--',v)\\nname = 'mimi'\\nage = 25\\nhobby='tiaos'\\nstu(name,age,'meiyou')\", \"def stu(name, age, *args, hobby='没有', **kwargs):\\n    print('Hello 大家好')\\n    print('我叫{}，我今年{}'.format(name, age))\\n    if hobby == '没有':\\n        print('没有爱好')\\n    else:\\n        print('还好是{}'.format(hobby))\\n    print('**********')\\n    for i in args:\\n        print(i)\\n    print('**********')\\n    for k,v in kwargs.items():\\n        print(k,'--',v)\\nname = 'mimi'\\nage = 25\\nhobby='tiaos'\\nstu(name,age,'meiyou')\", \"def stu(name, age, *args, hobby='没有', **kwargs):\\n    print('Hello 大家好')\\n    print('我叫{}，我今年{}'.format(name, age))\\n    if hobby == '没有':\\n        print('没有爱好')\\n    else:\\n        print('还好是{}'.format(hobby))\\n    print('**********')\\n    for i in args:\\n        print(i)\\n    print('**********')\\n    for k,v in kwargs.items():\\n        print(k,'--',v)\\nname = 'mimi'\\nage = 25\\nhobby='tiaos'\\nstu(name,age,'meiyou')\\nstu(name,age,hobby='meiyou')\", \"def stu(name, age, *args, hobby='没有', **kwargs):\\n    print('Hello 大家好')\\n    print('我叫{}，我今年{}'.format(name, age))\\n    if hobby == '没有':\\n        print('没有爱好')\\n    else:\\n        print('还好是{}'.format(hobby))\\n    print('**********')\\n    for i in args:\\n        print(i)\\n    print('**********')\\n    for k,v in kwargs.items():\\n        print(k,'--',v)\\nname = 'mimi'\\nage = 25\\nhobby='tiaos'\\nstu(name,age,'meiyou')\\nstu(name,age,hobby='meiyou')\\nstu(name,age,'sfsfs','sfsfsfs',hobby='meiyou',mili='mmmm',lihf='sfsfsf')\", \"def stu(name, age, *args, hobby='没有', **kwargs):\\n    print('Hello 大家好')\\n    print('我叫{}，我今年{}'.format(name, age))\\n    if hobby == '没有':\\n        print('没有爱好')\\n    else:\\n        print('还好是{}'.format(hobby))\\n    print('**********')\\n    for i in args:\\n        print(i)\\n    print('**********')\\n    for k,v in kwargs.items():\\n        print(k,'--',v)\\nname = 'mimi'\\nage = 25\\nhobby='tiaos'\\nstu(name,age,'meiyou')\\npritn()\\nstu(name,age,hobby='meiyou')\\npritn()\\nstu(name,age,'sfsfs','sfsfsfs',hobby='meiyou',mili='mmmm',lihf='sfsfsf')\", \"def stu(name, age, *args, hobby='没有', **kwargs):\\n    print('Hello 大家好')\\n    print('我叫{}，我今年{}'.format(name, age))\\n    if hobby == '没有':\\n        print('没有爱好')\\n    else:\\n        print('还好是{}'.format(hobby))\\n    print('**********')\\n    for i in args:\\n        print(i)\\n    print('**********')\\n    for k,v in kwargs.items():\\n        print(k,'--',v)\\nname = 'mimi'\\nage = 25\\nhobby='tiaos'\\nstu(name,age,'meiyou')\\npritn()\\nstu(name,age,hobby='meiyou')\\nprint()\\nstu(name,age,'sfsfs','sfsfsfs',hobby='meiyou',mili='mmmm',lihf='sfsfsf')\", \"def stu(name, age, *args, hobby='没有', **kwargs):\\n    print('Hello 大家好')\\n    print('我叫{}，我今年{}'.format(name, age))\\n    if hobby == '没有':\\n        print('没有爱好')\\n    else:\\n        print('还好是{}'.format(hobby))\\n    print('**********')\\n    for i in args:\\n        print(i)\\n    print('**********')\\n    for k,v in kwargs.items():\\n        print(k,'--',v)\\nname = 'mimi'\\nage = 25\\nhobby='tiaos'\\nstu(name,age,'meiyou')\\nprint()\\nstu(name,age,hobby='meiyou')\\nprint()\\nstu(name,age,'sfsfs','sfsfsfs',hobby='meiyou',mili='mmmm',lihf='sfsfsf')\", \"def stu(*args):\\n    print('hhhhssssaaa')\", \"def stu(*args):\\n    print('hhhhssssaaa')\\n    n = 0 \\n    for i in args:\\n        print(type(i))\\n        print(n)\\n        n += 1\\n        print(i)\\n        \", 'def stu(*args):\\n    print(\\'hhhhssssaaa\\')\\n    n = 0 \\n    for i in args:\\n        print(type(i))\\n        print(n)\\n        n += 1\\n        print(i)\\nl = [\"liuyang\",18,23,\"wwangxiaojing\"]       \\nstu(l)', 'def stu(*args):\\n    print(\\'hhhhssssaaa\\')\\n    n = 0 \\n    for i in args:\\n        print(type(i))\\n        print(n)\\n        n += 1\\n        print(i)\\nl = [\"liuyang\",18,23,\"wwangxiaojing\"]       \\nstu(l)\\nstu(*l)', \"def stu():\\n    '''\\n    这是第一行\\n    这是第二行\\n    这是第三行\\n    '''\\n    print('hhhhh')\\nhelp(stu)\", \"def stu():\\n    '''\\n    这是第一行\\n    这是第二行\\n    这是第三行\\n    '''\\n    print('hhhhh')\\nhelp(stu)\\nstu.__doc__\", \"def stu():\\n    '''\\n    这是第一行\\n    这是第二行\\n    这是第三行\\n    '''\\n    print('hhhhh')\\nhelp(stu)\\nprint(stu.__doc__)\", \"a1 = 100\\n\\ndef fun():\\n    print(a1)\\n    print('I am in fun')\\n    a2 = 99\\n    print(a2)\\nprint(a1)\\nprint(a2)\\nfunc()\", \"a1 = 100\\n\\ndef fun():\\n    print(a1)\\n    print('I am in fun')\\n    a2 = 99\\n    print(a2)\\nprint(a1)\\nprint(a2)\\nfun()\", \"a1 = 100\\n\\ndef fun():\\n    print(a1)\\n    print('I am in fun')\\n    a2 = 99\\n    print(a2)\\nprint(a1)\\nprint(a2)\\nfun()\", \"a1 = 100\\n\\ndef fun():\\n    print(a1)\\n    print('I am in fun')\\n    a2 = 99\\n    print(a2)\\nprint(a1)\\n# print(a2)\\nfun()\", \"a1 = 100\\n\\ndef fun():\\n    ai = 98\\n    print(a1)\\n    print('I am in fun')\\n    a2 = 99\\n    print(a2)\\nprint(a1)\\n# print(a2)\\nfun()\", \"a1 = 100\\n\\ndef fun():\\n    a1 = 98\\n    print(a1)\\n    print('I am in fun')\\n    a2 = 99\\n    print(a2)\\nprint(a1)\\n# print(a2)\\nfun()\", 'def fun():\\n    global b1\\n    b1 = 100\\n    print(b1)\\n    print(\"I am in fun\")\\n    b2 = 99\\n    print(b2)\\nprint(b1)\\nprint(b2)', 'def fun():\\n    global b1\\n    b1 = 100\\n    print(b1)\\n    print(\"I am in fun\")\\n    b2 = 99\\n    print(b2)\\nfun()\\nprint(b1)\\nprint(b2)', 'def fun():\\n    global b1\\n    b1 = 100\\n    print(b1)\\n    print(\"I am in fun\")\\n    b2 = 99\\n    print(b2)\\nfun()\\nprint(b1)\\n# print(b2)', 'a = 1\\nb = 2\\ndef fun(c,d):\\n    e = 111\\n    print(locals())\\n    print(globals())\\nfun(100,200)', 'a = 1\\nb = 2\\ndef fun(c,d):\\n    e = 111\\n    print(locals())\\n    print(globals())\\nfun(100,200)'], 'Out': {65: '\\n    这是第一行\\n    这是第二行\\n    这是第三行\\n    '}, 'get_ipython': <bound method InteractiveShell.get_ipython of <ipykernel.zmqshell.ZMQInteractiveShell object at 0x00000103586FDA58>>, 'exit': <IPython.core.autocall.ZMQExitAutocall object at 0x0000010358777BE0>, 'quit': <IPython.core.autocall.ZMQExitAutocall object at 0x0000010358777BE0>, '_': '\\n    这是第一行\\n    这是第二行\\n    这是第三行\\n    ', '__': '', '___': '', '_i': 'a = 1\\nb = 2\\ndef fun(c,d):\\n    e = 111\\n    print(locals())\\n    print(globals())\\nfun(100,200)', '_ii': 'def fun():\\n    global b1\\n    b1 = 100\\n    print(b1)\\n    print(\"I am in fun\")\\n    b2 = 99\\n    print(b2)\\nfun()\\nprint(b1)\\n# print(b2)', '_iii': 'def fun():\\n    global b1\\n    b1 = 100\\n    print(b1)\\n    print(\"I am in fun\")\\n    b2 = 99\\n    print(b2)\\nfun()\\nprint(b1)\\nprint(b2)', '_i1': 'benjin = 10000 \\nyear = 0\\nmoney = benjin\\nwhile money < 20000:\\n    year += 1\\n    money = money * (1 + 0.067)\\nprint(money,year)', 'benjin': 10000, 'year': 11, 'money': 20408.383830545245, '_i2': \"def hello(person):\\n    print('{},你好'.format(person))\", 'hello': <function hello at 0x000001035886AD90>, '_i3': \"m = 'mimi'\\nhello(m)\", 'm': <function m at 0x0000010358923620>, '_i4': 'def haha(m):\\n    print(m)', 'haha': <function haha at 0x000001035886AEA0>, '_i5': \"def haha(m):\\n    print(m)\\n    return m\\n\\ns = haha('li')\\nprint(s)\", 's': 'li', '_i6': 'hekp(print)', '_i7': 'help(print)', '_i8': \"for i in range(1,10):\\n    for j in range(1,i):\\n        print(i*j end=' ')\\n    print()\", '_i9': \"for i in range(1,10):\\n    for j in range(1,i):\\n        print(i*j, end=' ')\\n    print()\", 'i': 9, 'j': 9, '_i10': \"for i in range(0,10):\\n    for j in range(1,i):\\n        print(i*j, end=' ')\\n    print()\", '_i11': \"for i in range(0,10):\\n    for j in range(1,i):\\n        print(i*j, end=' ')\\n    print()\", '_i12': \"for i in range(1,10):\\n    for j in range(0,i):\\n        print(i*j, end=' ')\\n    print()\", '_i13': \"for i in range(1,10):\\n    for j in range(1,i):\\n        print(i*j, end=' ')\\n    print()\", '_i14': \"for i in range(1,10):\\n    for j in range(1,i+1):\\n        print(i*j, end=' ')\\n    print()\", '_i15': 'def reg(name, age, gender=\\'female\\'):\\n    if gender == \\'female\\':\\n        print(\"{0} is {0}, and she is a good student\".format(name,age))\\n    else:\\n        print(\\'懒！\\')\\n        \\nreg(\\'ah\\', 14, male)', 'reg': <function reg at 0x0000010358903C80>, '_i16': 'def reg(name, age, gender=\\'female\\'):\\n    if gender == \\'female\\':\\n        print(\"{0} is {0}, and she is a good student\".format(name,age))\\n    else:\\n        print(\\'懒！\\')\\n        \\nreg(\\'ah\\', 14, \\'male\\')', '_i17': 'def reg(name, age, gender=\\'female\\'):\\n    if gender == \\'female\\':\\n        print(\"{0} is {0}, and she is a good student\".format(name,age))\\n    else:\\n        print(\\'懒！\\')\\n        \\nreg(\\'ah\\', 14)', '_i18': 'def reg(name, age, gender=\\'female\\'):\\n    if gender == \\'female\\':\\n        print(\"{0} is {1}, and she is a good student\".format(name,age))\\n    else:\\n        print(\\'懒！\\')\\n        \\nreg(\\'ah\\', 14)', '_i19': 'def reg(name, age, *arg):\\n    print(name,age,*arg)', '_i20': \"def reg(name, age, *arg):\\n    print(name,age,*arg)\\n\\nreg('haha', 15, 45,53)\", '_i21': \"def reg(name, age, *arg):\\n    print(name,age,*arg)\\n\\nreg('haha', 15, 45,53)\\nreg('haha',15,{12:34})\", '_i22': \"def stu(name, age, addr):\\n    print(name, age, addr)\\n\\nn = 'jingjing'\\na = 18\\naddr = 'wojia'\\nstu(n,a,addr)\\n    \", 'stu': <function stu at 0x0000010358923F28>, 'n': [1, 2, 3, 4, 5], 'a': 1, 'addr': 'wojia', '_i23': \"def stu(name='name', age=0, addr='ha'):\\n    print(name, age, addr)\\n\\nstu(n, a ,addr)\", '_i24': \"def stu(name='name', age=0, addr='ha'):\\n    print(name, age, addr)\\n\\nstu(n, a ,addr)\\nstu()\", '_i25': \"def stu(name='name', age=0, addr='ha'):\\n    print(name, age, addr)\\n\\nstu(n, a ,addr)\\nstu()\", '_i26': \"def stu(name='name', age=0, addr='ha'):\\n    print(name, age, addr)\\n\\nstu(n, a ,addr)\\nstu()\\nstu(n)\", '_i27': \"def stu(name='name', age=0, addr='ha'):\\n    print(name, age, addr)\\n\\nstu(n, a ,addr)\\nstu()\\nstu(n, a, addr, 1)\", '_i28': 'stur(age=a,name=n,addr=addr):\\n    print(age,name,addr)\\n    \\nprint(a, addr, name)', '_i29': 'def stur(age=a,name=n,addr=addr):\\n    print(age,name,addr)\\n    \\nstur(a, addr, name)', 'stur': <function stur at 0x00000103589239D8>, '_i30': 'def stur(age=a,name=n,addr=addr):\\n    print(age,name,addr)\\n    \\nstur(a, addr, n)', '_i31': 'def stur(age, name, addr):\\n    print(age, name, addr)\\n    \\nstur(name=n,addr=addr,age=a)', '_i32': '#收集参数\\n#args\\n\\ndef m(*args):\\n    print(*args)\\n    \\nm(1,sdfsfs,433e43,sfsfs)', '_i33': \"#收集参数\\n#args\\n\\ndef m(*args):\\n    print(*args)\\n    \\nm(1,'sdfsfs','433e43','sfsfs')\", '_i34': \"#收集参数\\n#args\\n\\ndef m(*args):\\n    print(*args)\\n    print(type(*args))\\n    \\nm(1,'sdfsfs','433e43','sfsfs')\", '_i35': \"#收集参数\\n#args\\n\\ndef m(*args):\\n    print(*args)\\n    print(type(args))\\n    \\nm(1,'sdfsfs','433e43','sfsfs')\", '_i36': \"#收集参数\\n#args\\n\\ndef m(*args):\\n    print(*args)\\n    print(type(args))\\n    \\nm(1,'sdfsfs','433e43','sfsfs')\\nn = [1,2,3,4,5]\", '_i37': \"#收集参数\\n#args\\n\\ndef m(*args):\\n    print(*args)\\n    print(type(args))\\n    \\nm(1,'sdfsfs','433e43','sfsfs')\\nn = [1,2,3,4,5]\\nm(n)\", '_i38': \"#收集参数\\n#args\\n\\ndef m(*args):\\n    print(*args)\\n    print(type(args))\\n    \\nm(1,'sdfsfs','433e43','sfsfs')\\nn = [1,2,3,4,5]\\nm(n)\\nm()\", '_i39': \"#收集参数\\n#args\\n\\ndef m(*args):\\n    print(*args)\\n    print(type(args))\\n    for item in args:\\n        print(item)\\n    \\nm(1,'sdfsfs','433e43','sfsfs')\\nn = [1,2,3,4,5]\\nm(n)\\nm()\", '_i40': \"def stu(**kwargs):\\n    print('hello dajiahao,woxian')\\n    print(type(kwargs))\\n    for k,v in kwargs:\\n        print(k,'----',v)\\n    \", '_i41': \"def stu(**kwargs):\\n    print('hello dajiahao,woxian')\\n    print(type(kwargs))\\n    for k,v in kwargs:\\n        print(k,'----',v)\\n\\nstu('sfsfs',33343','sfssfs')\\n    \", '_i42': \"def stu(**kwargs):\\n    print('hello dajiahao,woxian')\\n    print(type(kwargs))\\n    for k,v in kwargs:\\n        print(k,'----',v)\\n\\nstu('sfsfs',33343,'sfssfs')\\n    \", '_i43': \"def stu(**kwargs):\\n    print('hello dajiahao,woxian')\\n    print(type(kwargs))\\n    for k,v in kwargs:\\n        print(k,'----',v)\\n\\nstu(m='sfsfs',n=33343,l='sfssfs')\\n    \", '_i44': \"def stu(**kwargs):\\n    print('hello dajiahao,woxian')\\n    print(type(kwargs))\\n    for k,v in kwargs:\\n        print(k,'----',v)\\n\\nstu(m='sfsfs',n=33343,l='sfssfs')\\nprint('xxxxxxxxxxxxxxxxxxx')\\n    \", '_i45': \"def stu(**kwargs):\\n    print('hello dajiahao,woxian')\\n    print(type(kwargs))\\n    for k,v in kwargs:\\n        print(k,'----',v)\\n\\nstu(m='sfsfs',n=33343,l='sfssfs')\\nprint('xxxxxxxxxxxxxxxxxxx')\\nstu(m='sfs56')\\n    \", '_i46': \"def stu(**kwargs):\\n    print('hello dajiahao,woxian')\\n    print(type(kwargs))\\n    for k,v in kwargs:\\n        print(k,'----',v)\\n\\nstu(m='sfsfs',n='33343',l='sfssfs')\\nprint('xxxxxxxxxxxxxxxxxxx')\\nstu(m='sfs56')\\n    \", '_i47': \"def stu(**kwargs):\\n    print('hello dajiahao,woxian')\\n    print(type(kwargs))\\n    for k,v in kwargs.items():\\n        print(k,'----',v)\\n\\nstu(m='sfsfs',n='33343',l='sfssfs')\\nprint('xxxxxxxxxxxxxxxxxxx')\\nstu(m='sfs56')\\n    \", '_i48': \"def stu(**kwargs):\\n    print('hello dajiahao,woxian')\\n    print(type(kwargs))\\n    for k,v in kwargs.items():\\n        print(k,'----',v)\\n\\nstu(m='sfsfs',n='33343',l='sfssfs')\\nprint('xxxxxxxxxxxxxxxxxxx')\\nstu(sss='sfs56')\\n    \", '_i49': \"def stu(**kwargs):\\n    print('hello dajiahao,woxian')\\n    print(type(kwargs))\\n    for k,v in kwargs.items():\\n        print(k,'----',v)\\n\\nstu(m='sfsfs',n='33343',l='sfssfs')\\nprint('xxxxxxxxxxxxxxxxxxx')\\nstu(sss='sfs56')\\nstu()\", '_i50': \"def stu(**kwargs):\\n    print('hello dajiahao,woxian')\\n    print(type(kwargs))\\n    for k,v in kwargs.items():\\n        print(k,'----',v)\\n\\nstu(m='sfsfs',n='33343',l='sfssfs')\\nprint('xxxxxxxxxxxxxxxxxxx')\\nstu(sss='sfs56')\\nprint('xxxxxxxxxxxxxxxxxxx')\\nstu()\", '_i51': \"def stu(name, age, *args, hobby='没有', **kwargs):\\n    print('Hello 大家好')\\n    print('我叫{}，我今年{了}'.format(name, age))\\n    if hobby == '没有':\\n        print('没有爱好')\", '_i52': \"def stu(name, age, *args, hobby='没有', **kwargs):\\n    print('Hello 大家好')\\n    print('我叫{}，我今年{了}'.format(name, age))\\n    if hobby == '没有':\\n        print('没有爱好')\\n    else:\\n        print('还好是{}'.format(hobby))\\n    for i in args:\\n        print(i)\\n    for k,v in kwargs.items():\\n        print(k,'--',v)\\nname = 'mimi'\\nage = 25\\nhobby='tiaos'\\nstu(name,age,'meiyou')\", 'name': 'mimi', 'age': 25, 'hobby': 'tiaos', '_i53': \"def stu(name, age, *args, hobby='没有', **kwargs):\\n    print('Hello 大家好')\\n    print('我叫{}，我今年{}'.format(name, age))\\n    if hobby == '没有':\\n        print('没有爱好')\\n    else:\\n        print('还好是{}'.format(hobby))\\n    for i in args:\\n        print(i)\\n    for k,v in kwargs.items():\\n        print(k,'--',v)\\nname = 'mimi'\\nage = 25\\nhobby='tiaos'\\nstu(name,age,'meiyou')\", '_i54': \"def stu(name, age, *args, hobby='没有', **kwargs):\\n    print('Hello 大家好')\\n    print('我叫{}，我今年{}'.format(name, age))\\n    if hobby == '没有':\\n        print('没有爱好')\\n    else:\\n        print('还好是{}'.format(hobby))\\n    print('**********')\\n    for i in args:\\n        print(i)\\n    print('**********')\\n    for k,v in kwargs.items():\\n        print(k,'--',v)\\nname = 'mimi'\\nage = 25\\nhobby='tiaos'\\nstu(name,age,'meiyou')\", '_i55': \"def stu(name, age, *args, hobby='没有', **kwargs):\\n    print('Hello 大家好')\\n    print('我叫{}，我今年{}'.format(name, age))\\n    if hobby == '没有':\\n        print('没有爱好')\\n    else:\\n        print('还好是{}'.format(hobby))\\n    print('**********')\\n    for i in args:\\n        print(i)\\n    print('**********')\\n    for k,v in kwargs.items():\\n        print(k,'--',v)\\nname = 'mimi'\\nage = 25\\nhobby='tiaos'\\nstu(name,age,'meiyou')\\nstu(name,age,hobby='meiyou')\", '_i56': \"def stu(name, age, *args, hobby='没有', **kwargs):\\n    print('Hello 大家好')\\n    print('我叫{}，我今年{}'.format(name, age))\\n    if hobby == '没有':\\n        print('没有爱好')\\n    else:\\n        print('还好是{}'.format(hobby))\\n    print('**********')\\n    for i in args:\\n        print(i)\\n    print('**********')\\n    for k,v in kwargs.items():\\n        print(k,'--',v)\\nname = 'mimi'\\nage = 25\\nhobby='tiaos'\\nstu(name,age,'meiyou')\\nstu(name,age,hobby='meiyou')\\nstu(name,age,'sfsfs','sfsfsfs',hobby='meiyou',mili='mmmm',lihf='sfsfsf')\", '_i57': \"def stu(name, age, *args, hobby='没有', **kwargs):\\n    print('Hello 大家好')\\n    print('我叫{}，我今年{}'.format(name, age))\\n    if hobby == '没有':\\n        print('没有爱好')\\n    else:\\n        print('还好是{}'.format(hobby))\\n    print('**********')\\n    for i in args:\\n        print(i)\\n    print('**********')\\n    for k,v in kwargs.items():\\n        print(k,'--',v)\\nname = 'mimi'\\nage = 25\\nhobby='tiaos'\\nstu(name,age,'meiyou')\\npritn()\\nstu(name,age,hobby='meiyou')\\npritn()\\nstu(name,age,'sfsfs','sfsfsfs',hobby='meiyou',mili='mmmm',lihf='sfsfsf')\", '_i58': \"def stu(name, age, *args, hobby='没有', **kwargs):\\n    print('Hello 大家好')\\n    print('我叫{}，我今年{}'.format(name, age))\\n    if hobby == '没有':\\n        print('没有爱好')\\n    else:\\n        print('还好是{}'.format(hobby))\\n    print('**********')\\n    for i in args:\\n        print(i)\\n    print('**********')\\n    for k,v in kwargs.items():\\n        print(k,'--',v)\\nname = 'mimi'\\nage = 25\\nhobby='tiaos'\\nstu(name,age,'meiyou')\\npritn()\\nstu(name,age,hobby='meiyou')\\nprint()\\nstu(name,age,'sfsfs','sfsfsfs',hobby='meiyou',mili='mmmm',lihf='sfsfsf')\", '_i59': \"def stu(name, age, *args, hobby='没有', **kwargs):\\n    print('Hello 大家好')\\n    print('我叫{}，我今年{}'.format(name, age))\\n    if hobby == '没有':\\n        print('没有爱好')\\n    else:\\n        print('还好是{}'.format(hobby))\\n    print('**********')\\n    for i in args:\\n        print(i)\\n    print('**********')\\n    for k,v in kwargs.items():\\n        print(k,'--',v)\\nname = 'mimi'\\nage = 25\\nhobby='tiaos'\\nstu(name,age,'meiyou')\\nprint()\\nstu(name,age,hobby='meiyou')\\nprint()\\nstu(name,age,'sfsfs','sfsfsfs',hobby='meiyou',mili='mmmm',lihf='sfsfsf')\", '_i60': \"def stu(*args):\\n    print('hhhhssssaaa')\", '_i61': \"def stu(*args):\\n    print('hhhhssssaaa')\\n    n = 0 \\n    for i in args:\\n        print(type(i))\\n        print(n)\\n        n += 1\\n        print(i)\\n        \", '_i62': 'def stu(*args):\\n    print(\\'hhhhssssaaa\\')\\n    n = 0 \\n    for i in args:\\n        print(type(i))\\n        print(n)\\n        n += 1\\n        print(i)\\nl = [\"liuyang\",18,23,\"wwangxiaojing\"]       \\nstu(l)', 'l': ['liuyang', 18, 23, 'wwangxiaojing'], '_i63': 'def stu(*args):\\n    print(\\'hhhhssssaaa\\')\\n    n = 0 \\n    for i in args:\\n        print(type(i))\\n        print(n)\\n        n += 1\\n        print(i)\\nl = [\"liuyang\",18,23,\"wwangxiaojing\"]       \\nstu(l)\\nstu(*l)', '_i64': \"def stu():\\n    '''\\n    这是第一行\\n    这是第二行\\n    这是第三行\\n    '''\\n    print('hhhhh')\\nhelp(stu)\", '_i65': \"def stu():\\n    '''\\n    这是第一行\\n    这是第二行\\n    这是第三行\\n    '''\\n    print('hhhhh')\\nhelp(stu)\\nstu.__doc__\", '_65': '\\n    这是第一行\\n    这是第二行\\n    这是第三行\\n    ', '_i66': \"def stu():\\n    '''\\n    这是第一行\\n    这是第二行\\n    这是第三行\\n    '''\\n    print('hhhhh')\\nhelp(stu)\\nprint(stu.__doc__)\", '_i67': \"a1 = 100\\n\\ndef fun():\\n    print(a1)\\n    print('I am in fun')\\n    a2 = 99\\n    print(a2)\\nprint(a1)\\nprint(a2)\\nfunc()\", 'a1': 100, 'fun': <function fun at 0x0000010358958598>, '_i68': \"a1 = 100\\n\\ndef fun():\\n    print(a1)\\n    print('I am in fun')\\n    a2 = 99\\n    print(a2)\\nprint(a1)\\nprint(a2)\\nfun()\", '_i69': \"a1 = 100\\n\\ndef fun():\\n    print(a1)\\n    print('I am in fun')\\n    a2 = 99\\n    print(a2)\\nprint(a1)\\nprint(a2)\\nfun()\", '_i70': \"a1 = 100\\n\\ndef fun():\\n    print(a1)\\n    print('I am in fun')\\n    a2 = 99\\n    print(a2)\\nprint(a1)\\n# print(a2)\\nfun()\", '_i71': \"a1 = 100\\n\\ndef fun():\\n    ai = 98\\n    print(a1)\\n    print('I am in fun')\\n    a2 = 99\\n    print(a2)\\nprint(a1)\\n# print(a2)\\nfun()\", '_i72': \"a1 = 100\\n\\ndef fun():\\n    a1 = 98\\n    print(a1)\\n    print('I am in fun')\\n    a2 = 99\\n    print(a2)\\nprint(a1)\\n# print(a2)\\nfun()\", '_i73': 'def fun():\\n    global b1\\n    b1 = 100\\n    print(b1)\\n    print(\"I am in fun\")\\n    b2 = 99\\n    print(b2)\\nprint(b1)\\nprint(b2)', '_i74': 'def fun():\\n    global b1\\n    b1 = 100\\n    print(b1)\\n    print(\"I am in fun\")\\n    b2 = 99\\n    print(b2)\\nfun()\\nprint(b1)\\nprint(b2)', 'b1': 100, '_i75': 'def fun():\\n    global b1\\n    b1 = 100\\n    print(b1)\\n    print(\"I am in fun\")\\n    b2 = 99\\n    print(b2)\\nfun()\\nprint(b1)\\n# print(b2)', '_i76': 'a = 1\\nb = 2\\ndef fun(c,d):\\n    e = 111\\n    print(locals())\\n    print(globals())\\nfun(100,200)', 'b': 2, '_i77': 'a = 1\\nb = 2\\ndef fun(c,d):\\n    e = 111\\n    print(locals())\\n    print(globals())\\nfun(100,200)'}\n"
     ]
    }
   ],
   "source": [
    "# 可以通过golobals，locals函数显示局部变量和全局变量\n",
    "a = 1\n",
    "b = 2\n",
    "def fun(c,d):\n",
    "    e = 111\n",
    "    print(locals())\n",
    "    print(globals())\n",
    "fun(100,200)"
   ]
  },
  {
   "cell_type": "code",
   "execution_count": 96,
   "metadata": {},
   "outputs": [
    {
     "name": "stdout",
     "output_type": "stream",
     "text": [
      "300\n",
      "None\n",
      "100.0\n"
     ]
    }
   ],
   "source": [
    "# eval（）把一个字符串当做一个表达式来执行\n",
    "x = 100\n",
    "y = 200\n",
    "z1 = x + y\n",
    "z2 = eval(\"x + y\")\n",
    "z3 = eval(\"(x+y-100)/2\")\n",
    "print(z1)\n",
    "print(z2)\n",
    "print(z3)"
   ]
  },
  {
   "cell_type": "code",
   "execution_count": 97,
   "metadata": {},
   "outputs": [
    {
     "name": "stdout",
     "output_type": "stream",
     "text": [
      "\n",
      "300\n"
     ]
    }
   ],
   "source": [
    "#exec\n",
    "x = 100\n",
    "y = 200\n",
    "z1 = x + y\n",
    "# z2 = exec(\"print('x+y:','x+y')\")\n",
    "print()\n",
    "z3 = exec('x + y')\n",
    "print(z1)\n",
    "# print(z2)\n",
    "z3"
   ]
  },
  {
   "cell_type": "code",
   "execution_count": 99,
   "metadata": {},
   "outputs": [
    {
     "name": "stdout",
     "output_type": "stream",
     "text": [
      "4\n"
     ]
    }
   ],
   "source": [
    "x = 1\n",
    "y = 3\n",
    "z = exec('x = x+y')\n",
    "print(x)\n"
   ]
  },
  {
   "cell_type": "code",
   "execution_count": 100,
   "metadata": {},
   "outputs": [
    {
     "name": "stdout",
     "output_type": "stream",
     "text": [
      "0 0 0 0 0 0 0 0 0 0 0 0 0 0 0 0 0 0 0 0 0 0 0 0 0 0 0 0 0 0 0 0 0 0 0 0 0 0 0 0 0 0 0 0 0 0 0 0 0 0 0 0 0 0 0 0 0 0 0 0 0 0 0 0 0 0 0 0 0 0 0 0 0 0 0 0 0 0 0 0 0 0 0 0 0 0 0 0 0 0 0 0 0 0 0 0 0 0 0 0 0 0 0 0 0 0 0 0 0 0 0 0 0 0 0 0 0 0 0 0 0 0 0 0 0 0 0 0 0 0 0 0 0 0 0 0 0 0 0 0 0 0 0 0 0 0 0 0 0 0 0 0 0 0 0 0 0 0 0 0 0 0 0 0 0 0 0 0 0 0 0 0 0 0 0 0 0 0 0 0 0 0 0 0 0 0 0 0 0 0 0 0 0 0 0 0 0 0 0 0 0 0 0 0 0 0 0 0 0 0 0 0 0 0 0 0 0 0 0 0 0 0 0 0 0 0 0 0 0 0 0 0 0 0 0 0 0 0 0 0 0 0 0 0 0 0 0 0 0 0 0 0 0 0 0 0 0 0 0 0 0 0 0 0 0 0 0 0 0 0 0 0 0 0 0 0 0 0 0 0 0 0 0 0 0 0 0 0 0 0 0 0 0 0 0 0 0 0 0 0 0 0 0 0 0 0 0 0 0 0 0 0 0 0 0 0 0 0 0 0 0 0 0 0 0 0 0 0 0 0 0 0 0 0 0 0 0 0 0 0 0 0 0 0 0 0 0 0 0 0 0 0 0 0 0 0 0 0 0 0 0 0 0 0 0 0 0 0 0 0 0 0 0 0 0 0 0 0 0 0 0 0 0 0 0 0 0 0 0 0 0 0 0 0 0 0 0 0 0 0 0 0 0 0 0 0 0 0 0 0 0 0 0 0 0 0 0 0 0 0 0 0 0 0 0 0 0 0 0 0 0 0 0 0 0 0 0 0 0 0 0 0 0 0 0 0 0 0 0 0 0 0 0 0 0 0 0 0 0 0 0 0 0 0 0 0 0 0 0 0 0 0 0 0 0 0 0 0 0 0 0 0 0 0 0 0 0 0 0 0 0 0 0 0 0 0 0 0 0 0 0 0 0 0 0 0 0 0 0 0 0 0 0 0 0 0 0 0 0 0 0 0 0 0 0 0 0 0 0 0 0 0 0 0 0 0 0 0 0 0 0 0 0 0 0 0 0 0 0 0 0 0 0 0 0 0 0 0 0 0 0 0 0 0 0 0 0 0 0 0 0 0 0 0 0 0 0 0 0 0 0 0 0 0 0 0 0 0 0 0 0 0 0 0 0 0 0 0 0 0 0 0 0 0 0 0 0 0 0 0 0 0 0 0 0 0 0 0 0 0 0 0 0 0 0 0 0 0 0 0 0 0 0 0 0 0 0 0 0 0 0 0 0 0 0 0 0 0 0 0 0 0 0 0 0 0 0 0 0 0 0 0 0 0 0 0 0 0 0 0 0 0 0 0 0 0 0 0 0 0 0 0 0 0 0 0 0 0 0 0 0 0 0 0 0 0 0 0 0 0 0 0 0 0 0 0 0 0 0 0 0 0 0 0 0 0 0 0 0 0 0 0 0 0 0 0 0 0 0 0 0 0 0 0 0 0 0 0 0 0 0 0 0 0 0 0 0 0 0 0 0 0 0 0 0 0 0 0 0 0 0 0 0 0 0 0 0 0 0 0 0 0 0 0 0 0 0 0 0 0 0 0 0 0 0 0 0 0 0 0 0 0 0 0 0 0 0 0 0 0 0 0 0 0 0 0 0 0 0 0 0 0 0 0 0 0 0 0 0 0 0 0 0 0 0 0 0 0 0 0 0 0 0 0 0 0 0 0 0 0 0 0 0 0 0 0 0 0 0 0 0 0 0 0 0 0 0 0 0 0 0 0 0 0 0 0 0 0 0 0 0 0 0 0 0 0 0 0 0 0 0 0 0 0 0 0 0 0 0 0 0 0 0 0 0 0 0 0 0 0 0 0 0 0 0 0 0 0 0 0 0 0 0 0 0 0 0 0 0 0 0 0 0 0 0 0 0 0 0 0 0 0 0 0 0 0 0 0 0 0 0 0 0 0 0 0 0 0 0 0 0 0 0 0 0 0 0 0 0 0 0 0 0 0 0 0 0 0 0 0 0 0 0 0 0 0 0 0 0 0 0 0 0 0 0 0 0 0 0 0 0 0 0 0 0 0 0 0 0 0 0 0 0 0 0 0 0 0 0 0 0 0 0 0 0 0 0 0 0 0 0 0 0 0 0 0 0 0 0 0 0 0 0 0 0 0 0 0 0 0 0 0 0 0 0 0 0 0 0 0 0 0 0 0 0 0 0 0 0 0 0 0 0 0 0 0 0 0 0 0 0 0 0 0 0 0 0 0 0 0 0 0 0 0 0 0 0 0 0 0 0 0 0 0 0 0 0 0 0 0 0 0 0 0 0 0 0 0 0 0 0 0 0 0 0 0 0 0 0 0 0 0 0 0 0 0 0 0 0 0 0 0 0 0 0 0 0 0 0 0 0 0 0 0 0 0 0 0 0 0 0 0 0 0 0 0 0 0 0 0 0 0 0 0 0 0 0 0 0 0 0 0 0 0 0 0 0 0 0 0 0 0 0 0 0 0 0 0 0 0 0 0 0 0 0 0 0 0 0 0 0 0 0 0 0 0 0 0 0 0 0 0 0 0 0 0 0 0 0 0 0 0 0 0 0 0 0 0 0 0 0 0 0 0 0 0 0 0 0 0 0 0 0 0 0 0 0 0 0 0 0 0 0 0 0 0 0 0 0 0 0 0 0 0 0 0 0 0 0 0 0 0 0 0 0 0 0 0 0 0 0 0 0 0 0 0 0 0 0 0 0 0 0 0 0 0 0 0 0 0 0 0 0 0 0 0 0 0 0 0 0 0 0 0 0 0 0 0 0 0 0 0 0 0 0 0 0 0 0 0 0 0 0 0 0 0 0 0 0 0 0 0 0 0 0 0 0 0 0 0 0 0 0 0 0 0 0 0 0 0 0 0 0 0 0 0 0 0 0 0 0 0 0 0 0 0 0 0 0 0 0 0 0 0 0 0 0 0 0 0 0 0 0 0 0 0 0 0 0 0 0 0 0 0 0 0 0 0 0 0 0 0 0 0 0 0 0 0 0 0 0 0 0 0 0 0 0 0 0 0 0 0 0 0 0 0 0 0 0 0 0 0 0 0 0 0 0 0 0 0 0 0 0 0 0 0 0 0 0 0 0 0 0 0 0 0 0 0 0 0 0 0 0 0 0 0 0 0 0 0 0 0 0 0 0 0 0 0 0 0 0 0 0 0 0 0 0 0 0 0 0 0 0 0 0 0 0 0 0 0 0 0 0 0 0 0 0 0 0 0 0 0 0 0 0 0 0 0 0 0 0 0 0 0 0 0 0 0 0 0 0 0 0 0 0 0 0 0 0 0 0 0 0 0 0 0 0 0 0 0 0 0 0 0 0 0 0 0 0 0 0 0 0 0 0 0 0 0 0 0 0 0 0 0 0 0 0 0 0 0 0 0 0 0 0 0 0 0 0 0 0 0 0 0 0 0 0 0 0 0 0 0 0 0 0 0 0 0 0 0 0 0 0 0 0 0 0 0 0 0 0 0 0 0 0 0 0 0 0 0 0 0 0 0 0 0 0 0 0 0 0 0 0 0 0 0 0 0 0 0 0 0 0 0 0 0 0 0 0 0 0 0 0 0 0 0 0 0 0 0 0 0 0 0 0 0 0 0 0 0 0 0 0 0 0 0 0 0 0 0 0 0 0 0 0 0 0 0 0 0 0 0 0 0 0 0 0 0 0 0 0 0 0 0 0 0 0 0 0 0 0 0 0 0 0 0 0 0 0 0 0 0 0 0 0 0 0 0 0 0 0 0 0 0 0 0 0 0 0 0 0 0 0 0 0 0 0 0 0 0 0 0 0 0 0 0 0 0 0 0 0 0 0 0 0 0 0 0 0 0 0 0 0 0 0 0 0 0 0 0 0 0 0 0 0 0 0 0 0 0 0 0 0 0 0 0 0 0 0 0 0 0 0 0 0 0 0 0 0 0 0 0 0 0 0 0 0 0 0 0 0 0 0 0 0 0 0 0 0 0 0 0 0 0 0 0 0 0 0 0 0 0 0 0 0 0 0 0 0 0 0 0 0 0 0 0 0 0 0 0 0 0 0 0 0 0 0 0 0 0 0 0 0 0 0 0 0 0 0 0 0 0 0 0 0 0 0 0 0 0 0 0 0 0 0 0 0 0 0 0 0 0 0 0 0 0 0 0 0 0 0 0 0 0 0 0 0 0 0 0 0 0 0 0 0 0 0 0 0 0 0 0 0 0 0 0 0 0 0 0 0 0 0 0 0 0 0 0 0 0 0 0 0 0 0 0 0 0 0 0 0 0 0 0 0 0 0 0 0 0 0 0 0 0 0 0 0 0 0 0 0 0 0 0 0 0 0 0 0 0 0 0 0 0 0 0 0 0 0 0 0 0 0 0 0 0 0 0 0 0 0 0 0 0 0 0 0 0 0 0 0 0 0 0 0 0 0 0 0 0 0 0 0 0 0 0 0 0 0 0 0 0 0 0 0 0 0 0 0 0 0 0 0 0 0 0 0 0 0 0 0 0 0 0 0 0 0 0 0 0 0 0 0 0 0 0 0 0 0 0 0 0 0 0 0 0 0 0 0 0 0 0 0 0 0 0 0 0 0 0 0 0 0 0 0 0 0 0 0 0 0 0 0 0 0 0 0 0 0 0 0 0 0 0 0 0 0 0 0 0 0 0 0 0 0 0 0 0 0 0 0 0 0 0 0 0 0 0 0 0 0 0 0 0 0 0 0 0 0 0 0 0 0 0 0 0 0 0 0 0 0 0 0 0 0 0 0 0 0 0 0 0 0 0 0 0 0 0 0 0 0 0 0 0 0 0 0 0 0 0 0 0 0 0 0 0 0 0 0 0 0 0 0 0 0 0 0 0 0 0 0 0 0 0 0 0 0 0 0 0 0 0 0 0 0 0 0 0 0 0 0 0 0 0 0 0 0 0 0 0 0 0 0 0 0 0 0 0 0 0 0 0 0 0 0 0 0 0 0 0 0 0 0 0 0 0 0 0 0 0 0 0 0 0 0 0 0 0 0 0 0 0 0 0 0 0 0 0 0 0 0 0 0 0 0 0 0 0 0 0 0 0 0 0 0 0 0 0 0 0 0 0 0 0 0 0 0 0 0 0 0 0 0 0 0 0 0 0 0 0 0 0 0 0 0 0 0 0 0 0 0 0 0 0 0 0 0 0 0 0 0 0 0 0 0 0 0 0 0 0 0 0 0 0 0 0 0 0 0 0 0 0 0 0 0 0 0 0 0 0 0 0 0 0 0 0 0 0 0 0 0 0 0 0 0 0 0 0 0 0 0 0 0 0 0 0 0 0 0 0 0 0 0 0 0 0 0 0 0 0 0 0 0 0 0 0 0 0 0 0 0 0 0 0 0 0 0 0 0 0 0 0 0 0 0 0 0 0 0 0 0 0 0 0 0 0 0 0 0 0 0 0 0 0 0 0 0 0 0 0 0 0 0 0 0 0 0 0 0 0 0 0 0 0 0 0 0 0 0 0 0 0 0 0 0 0 0 0 0 0 0 0 0 0 0 0 0 0 0 0 0 0 0 0 0 0 0 0 0 0 0 0 0 0 0 0 0 0 0 0 0 0 0 0 0 0 0 0 0 0 0 0 0 0 0 0 0 0 0 0 0 0 0 0 0 0 0 0 0 0 0 0 0 0 0 0 0 0 0 0 0 0 0 0 0 0 0 0 0 0 0 0 0 0 0 0 0 0 0 0 0 0 0 0 0 0 0 0 0 0 0 0 0 0 0 0 0 0 0 0 0 0 0 0 0 0 0 0 0 0 0 0 0 0 0 0 0 0 0 0 0 0 0 0 0 0 0 0 0 0 0 0 0 0 0 0 0 0 0 0 0 0 0 0 0 0 0 0 0 0 0 0 0 0 0 0 0 0 0 0 0 0 0 0 0 0 0 0 0 0 0 0 0 0 0 0 0 0 0 0 0 0 0 0 0 0 0 0 0 0 0 0 0 0 0 0 0 0 0 0 0 0 0 0 0 0 0 0 0 0 0 0 0 0 0 0 0 0 0 0 0 0 0 0 0 0 0 0 0 0 0 0 0 0 0 0 0 0 0 0 0 0 0 0 0 0 0 0 0 0 0 0 0 0 0 0 0 0 0 0 0 0 0 0 0 0 0 0 0 0 0 0 0 0 0 0 0 0 0 0 0 0 0 0 0 0 0 0 0 0 0 0 0 0 0 0 0 0 0 0 0 0 0 0 0 0 0 0 0 0 0 0 0 0 0 0 0 0 0 0 0 0 0 0 0 0 0 0 0 0 0 0 0 0 0 0 0 0 0 0 0 0 0 0 0 0 0 0 0 0 0 0 0 0 0 0 0 0 0 0 0 0 0 0 0 0 0 0 0 0 0 0 0 0 0 0 0 0 0 0 0 0 0 0 0 0 0 0 0 0 0 0 0 0 0 0 0 0 0 0 0 0 0 0 0 0 0 0 0 0 0 0 0 0 0 0 0 0 0 0 0 0 "
     ]
    },
    {
     "ename": "RecursionError",
     "evalue": "maximum recursion depth exceeded while calling a Python object",
     "output_type": "error",
     "traceback": [
      "\u001b[1;31m---------------------------------------------------------------------------\u001b[0m",
      "\u001b[1;31mRecursionError\u001b[0m                            Traceback (most recent call last)",
      "\u001b[1;32m<ipython-input-100-db852adfab5b>\u001b[0m in \u001b[0;36m<module>\u001b[1;34m()\u001b[0m\n\u001b[0;32m      4\u001b[0m     \u001b[0mprint\u001b[0m\u001b[1;33m(\u001b[0m\u001b[0mx\u001b[0m\u001b[1;33m,\u001b[0m \u001b[0mend\u001b[0m\u001b[1;33m=\u001b[0m\u001b[1;34m' '\u001b[0m\u001b[1;33m)\u001b[0m\u001b[1;33m\u001b[0m\u001b[0m\n\u001b[0;32m      5\u001b[0m     \u001b[0mfun\u001b[0m\u001b[1;33m(\u001b[0m\u001b[1;33m)\u001b[0m\u001b[1;33m\u001b[0m\u001b[0m\n\u001b[1;32m----> 6\u001b[1;33m \u001b[0mfun\u001b[0m\u001b[1;33m(\u001b[0m\u001b[1;33m)\u001b[0m\u001b[1;33m\u001b[0m\u001b[0m\n\u001b[0m\u001b[0;32m      7\u001b[0m \u001b[1;33m\u001b[0m\u001b[0m\n",
      "\u001b[1;32m<ipython-input-100-db852adfab5b>\u001b[0m in \u001b[0;36mfun\u001b[1;34m()\u001b[0m\n\u001b[0;32m      3\u001b[0m     \u001b[1;32mglobal\u001b[0m \u001b[0mx\u001b[0m\u001b[1;33m\u001b[0m\u001b[0m\n\u001b[0;32m      4\u001b[0m     \u001b[0mprint\u001b[0m\u001b[1;33m(\u001b[0m\u001b[0mx\u001b[0m\u001b[1;33m,\u001b[0m \u001b[0mend\u001b[0m\u001b[1;33m=\u001b[0m\u001b[1;34m' '\u001b[0m\u001b[1;33m)\u001b[0m\u001b[1;33m\u001b[0m\u001b[0m\n\u001b[1;32m----> 5\u001b[1;33m     \u001b[0mfun\u001b[0m\u001b[1;33m(\u001b[0m\u001b[1;33m)\u001b[0m\u001b[1;33m\u001b[0m\u001b[0m\n\u001b[0m\u001b[0;32m      6\u001b[0m \u001b[0mfun\u001b[0m\u001b[1;33m(\u001b[0m\u001b[1;33m)\u001b[0m\u001b[1;33m\u001b[0m\u001b[0m\n\u001b[0;32m      7\u001b[0m \u001b[1;33m\u001b[0m\u001b[0m\n",
      "... last 1 frames repeated, from the frame below ...\n",
      "\u001b[1;32m<ipython-input-100-db852adfab5b>\u001b[0m in \u001b[0;36mfun\u001b[1;34m()\u001b[0m\n\u001b[0;32m      3\u001b[0m     \u001b[1;32mglobal\u001b[0m \u001b[0mx\u001b[0m\u001b[1;33m\u001b[0m\u001b[0m\n\u001b[0;32m      4\u001b[0m     \u001b[0mprint\u001b[0m\u001b[1;33m(\u001b[0m\u001b[0mx\u001b[0m\u001b[1;33m,\u001b[0m \u001b[0mend\u001b[0m\u001b[1;33m=\u001b[0m\u001b[1;34m' '\u001b[0m\u001b[1;33m)\u001b[0m\u001b[1;33m\u001b[0m\u001b[0m\n\u001b[1;32m----> 5\u001b[1;33m     \u001b[0mfun\u001b[0m\u001b[1;33m(\u001b[0m\u001b[1;33m)\u001b[0m\u001b[1;33m\u001b[0m\u001b[0m\n\u001b[0m\u001b[0;32m      6\u001b[0m \u001b[0mfun\u001b[0m\u001b[1;33m(\u001b[0m\u001b[1;33m)\u001b[0m\u001b[1;33m\u001b[0m\u001b[0m\n\u001b[0;32m      7\u001b[0m \u001b[1;33m\u001b[0m\u001b[0m\n",
      "\u001b[1;31mRecursionError\u001b[0m: maximum recursion depth exceeded while calling a Python object"
     ]
    }
   ],
   "source": [
    "x = 0\n",
    "def fun():\n",
    "    global x\n",
    "    print(x, end=' ')\n",
    "    fun()\n",
    "fun()\n",
    "    "
   ]
  },
  {
   "cell_type": "code",
   "execution_count": 25,
   "metadata": {},
   "outputs": [
    {
     "name": "stdout",
     "output_type": "stream",
     "text": [
      "21\n"
     ]
    }
   ],
   "source": [
    "def f(n):\n",
    "    if n == 1:\n",
    "        return 1\n",
    "    if n == 2:\n",
    "        return 1\n",
    "    if n < 1:\n",
    "        return \"无解\"\n",
    "\n",
    "    return f(n-1)+f(n-2)\n",
    "\n",
    "print(f(8))\n",
    "\n",
    "    "
   ]
  },
  {
   "cell_type": "code",
   "execution_count": 36,
   "metadata": {},
   "outputs": [
    {
     "name": "stdout",
     "output_type": "stream",
     "text": [
      "A --> C\n",
      "A --> B\n",
      "C --> B\n",
      "A --> C\n",
      "B --> A\n",
      "B --> C\n",
      "A --> C\n",
      "A --> C\n",
      "B --> C\n",
      "B --> B\n",
      "C --> B\n",
      "A --> C\n",
      "B --> A\n",
      "B --> C\n",
      "A --> C\n"
     ]
    }
   ],
   "source": [
    "def f(n,a='A',b='B',c='C'):\n",
    "    if n == 1:\n",
    "        print(a,'-->',c)\n",
    "    if n == 2:\n",
    "        print(a,'-->',b)\n",
    "        print(a,'-->',c)\n",
    "        print(b,'-->',c)\n",
    "    if n > 2:\n",
    "\n",
    "        b = 'C'\n",
    "        c = 'B'\n",
    "        f(n-1,a,b,c)\n",
    "        print('A','-->','C')\n",
    "        a = 'B'\n",
    "        b = 'A'\n",
    "        c = 'C'\n",
    "        f(n-1,a,b,c)       \n",
    "f(4,a,b,c)"
   ]
  },
  {
   "cell_type": "code",
   "execution_count": 7,
   "metadata": {},
   "outputs": [
    {
     "name": "stdout",
     "output_type": "stream",
     "text": [
      "<class 'list'> <class 'list'>\n"
     ]
    }
   ],
   "source": [
    "l1 = []\n",
    "l2 = list()\n",
    "print(type(l1),type(l2))"
   ]
  },
  {
   "cell_type": "code",
   "execution_count": 20,
   "metadata": {},
   "outputs": [
    {
     "name": "stdout",
     "output_type": "stream",
     "text": [
      "3\n",
      "[1, 4, 3]\n",
      "[3, 2, 32]\n",
      "[3, 1, 2, 4, 32, 3]\n",
      "[4, 32]\n",
      "[3, 32, 4]\n"
     ]
    }
   ],
   "source": [
    "l = [3,1,2,4,32,3]\n",
    "print(l[0])\n",
    "print(l[1:6:2])\n",
    "print(l[::2])\n",
    "print(l[-72:54])\n",
    "print(l[3:-1])\n",
    "#包括左边不包括右边\n",
    "print(l[-1:-4:-1])"
   ]
  },
  {
   "cell_type": "code",
   "execution_count": 23,
   "metadata": {},
   "outputs": [
    {
     "name": "stdout",
     "output_type": "stream",
     "text": [
      "140719863823200\n",
      "140719863826400\n",
      "140719863823200\n",
      "140719863823200\n",
      "140719863821600\n"
     ]
    }
   ],
   "source": [
    "a = 100\n",
    "b = 200\n",
    "print(id(a))\n",
    "print(id(b))\n",
    "b = a\n",
    "print(id(a))\n",
    "print(id(b))\n",
    "a = 50\n",
    "print(id(a))"
   ]
  },
  {
   "cell_type": "code",
   "execution_count": 24,
   "metadata": {},
   "outputs": [
    {
     "name": "stdout",
     "output_type": "stream",
     "text": [
      "2670450001480\n",
      "2670450122056\n"
     ]
    }
   ],
   "source": [
    "l = [1,2,3,4,5]\n",
    "l1 = l[:]\n",
    "print(id(l))\n",
    "print(id(l2))"
   ]
  },
  {
   "cell_type": "code",
   "execution_count": 42,
   "metadata": {},
   "outputs": [
    {
     "name": "stdout",
     "output_type": "stream",
     "text": [
      "2670450798408\n",
      "2670450798408\n"
     ]
    }
   ],
   "source": [
    "a = [1,3,4,3,4,3,1]\n",
    "print(id(a))\n",
    "del a[-1]\n",
    "print(id(a))"
   ]
  },
  {
   "cell_type": "code",
   "execution_count": 44,
   "metadata": {},
   "outputs": [
    {
     "ename": "IndexError",
     "evalue": "list assignment index out of range",
     "output_type": "error",
     "traceback": [
      "\u001b[1;31m---------------------------------------------------------------------------\u001b[0m",
      "\u001b[1;31mIndexError\u001b[0m                                Traceback (most recent call last)",
      "\u001b[1;32m<ipython-input-44-c926b9aefad5>\u001b[0m in \u001b[0;36m<module>\u001b[1;34m()\u001b[0m\n\u001b[0;32m      1\u001b[0m \u001b[0ma\u001b[0m \u001b[1;33m=\u001b[0m \u001b[1;33m[\u001b[0m\u001b[1;33m]\u001b[0m\u001b[1;33m\u001b[0m\u001b[0m\n\u001b[1;32m----> 2\u001b[1;33m \u001b[1;32mdel\u001b[0m \u001b[0ma\u001b[0m\u001b[1;33m[\u001b[0m\u001b[1;33m-\u001b[0m\u001b[1;36m1\u001b[0m\u001b[1;33m]\u001b[0m\u001b[1;33m\u001b[0m\u001b[0m\n\u001b[0m",
      "\u001b[1;31mIndexError\u001b[0m: list assignment index out of range"
     ]
    }
   ],
   "source": [
    "a = []\n",
    "del a[-1]"
   ]
  },
  {
   "cell_type": "code",
   "execution_count": 46,
   "metadata": {},
   "outputs": [
    {
     "name": "stdout",
     "output_type": "stream",
     "text": [
      "1\n",
      "2\n",
      "3\n"
     ]
    }
   ],
   "source": [
    "a = [1,2,3]\n",
    "b = [4,5,6]\n",
    "for i in a:\n",
    "    print(i)"
   ]
  },
  {
   "cell_type": "code",
   "execution_count": 47,
   "metadata": {},
   "outputs": [
    {
     "ename": "ValueError",
     "evalue": "too many values to unpack (expected 2)",
     "output_type": "error",
     "traceback": [
      "\u001b[1;31m---------------------------------------------------------------------------\u001b[0m",
      "\u001b[1;31mValueError\u001b[0m                                Traceback (most recent call last)",
      "\u001b[1;32m<ipython-input-47-46c2120ab960>\u001b[0m in \u001b[0;36m<module>\u001b[1;34m()\u001b[0m\n\u001b[0;32m      1\u001b[0m \u001b[0ma\u001b[0m \u001b[1;33m=\u001b[0m \u001b[1;33m[\u001b[0m\u001b[1;33m[\u001b[0m\u001b[1;34m\"one\"\u001b[0m\u001b[1;33m,\u001b[0m\u001b[1;36m1\u001b[0m\u001b[1;33m,\u001b[0m\u001b[1;34m\"ins\"\u001b[0m\u001b[1;33m]\u001b[0m\u001b[1;33m,\u001b[0m\u001b[1;33m[\u001b[0m\u001b[1;34m\"wto\"\u001b[0m\u001b[1;33m,\u001b[0m\u001b[1;36m2\u001b[0m\u001b[1;33m]\u001b[0m\u001b[1;33m,\u001b[0m\u001b[1;33m[\u001b[0m\u001b[1;34m\"three\"\u001b[0m\u001b[1;33m,\u001b[0m\u001b[1;36m3\u001b[0m\u001b[1;33m,\u001b[0m\u001b[1;36m5\u001b[0m\u001b[1;33m,\u001b[0m\u001b[1;36m3\u001b[0m\u001b[1;33m,\u001b[0m\u001b[1;36m4\u001b[0m\u001b[1;33m,\u001b[0m\u001b[1;36m6\u001b[0m\u001b[1;33m]\u001b[0m\u001b[1;33m]\u001b[0m\u001b[1;33m\u001b[0m\u001b[0m\n\u001b[1;32m----> 2\u001b[1;33m \u001b[1;32mfor\u001b[0m \u001b[0mk\u001b[0m\u001b[1;33m,\u001b[0m\u001b[0mv\u001b[0m \u001b[1;32min\u001b[0m \u001b[0ma\u001b[0m\u001b[1;33m:\u001b[0m\u001b[1;33m\u001b[0m\u001b[0m\n\u001b[0m\u001b[0;32m      3\u001b[0m     \u001b[0mprint\u001b[0m\u001b[1;33m(\u001b[0m\u001b[0mk\u001b[0m\u001b[1;33m,\u001b[0m\u001b[1;34m'--'\u001b[0m\u001b[1;33m,\u001b[0m\u001b[0mv\u001b[0m\u001b[1;33m)\u001b[0m\u001b[1;33m\u001b[0m\u001b[0m\n",
      "\u001b[1;31mValueError\u001b[0m: too many values to unpack (expected 2)"
     ]
    }
   ],
   "source": [
    "# 以下不行\n",
    "a = [[\"one\",1,\"ins\"],[\"wto\",2],[\"three\",3,5,3,4,6]]\n",
    "for k,v in a:\n",
    "    print(k,'--',v)"
   ]
  },
  {
   "cell_type": "code",
   "execution_count": 55,
   "metadata": {},
   "outputs": [
    {
     "name": "stdout",
     "output_type": "stream",
     "text": [
      "[0, 1, 2, 3, 4]\n"
     ]
    }
   ],
   "source": [
    "a = [i for i in range(5)]\n",
    "print(a)"
   ]
  },
  {
   "cell_type": "code",
   "execution_count": 56,
   "metadata": {},
   "outputs": [
    {
     "name": "stdout",
     "output_type": "stream",
     "text": [
      "[0, 2, 4, 6, 8]\n"
     ]
    }
   ],
   "source": [
    "b = [x for x in range(10) if x %2 == 0]\n",
    "print(b)"
   ]
  },
  {
   "cell_type": "code",
   "execution_count": 61,
   "metadata": {},
   "outputs": [
    {
     "name": "stdout",
     "output_type": "stream",
     "text": [
      "[0, 2, 4, 6, 8, 1, 3, 5, 7, 9, 2, 4, 6, 8, 10, 3, 5, 7, 9, 11, 4, 6, 8, 10, 12]\n"
     ]
    }
   ],
   "source": [
    "c = [x+y for x in a for y in b]\n",
    "\n",
    "print(c)"
   ]
  },
  {
   "cell_type": "code",
   "execution_count": 65,
   "metadata": {},
   "outputs": [
    {
     "name": "stdout",
     "output_type": "stream",
     "text": [
      "ddfse\n",
      "aba\n"
     ]
    }
   ],
   "source": [
    "b = ['cbc','aba','ddfse']\n",
    "print(max(b))\n",
    "print(min(b))"
   ]
  },
  {
   "cell_type": "code",
   "execution_count": 68,
   "metadata": {},
   "outputs": [
    {
     "name": "stdout",
     "output_type": "stream",
     "text": [
      "[1, 2, 3]\n"
     ]
    }
   ],
   "source": [
    "a = (1,2,3)\n",
    "print(list(a))"
   ]
  },
  {
   "cell_type": "code",
   "execution_count": 69,
   "metadata": {},
   "outputs": [
    {
     "name": "stdout",
     "output_type": "stream",
     "text": [
      "[5, 6, 7]\n"
     ]
    }
   ],
   "source": [
    "print(list(range(5,8)))"
   ]
  },
  {
   "cell_type": "code",
   "execution_count": 73,
   "metadata": {},
   "outputs": [
    {
     "name": "stdout",
     "output_type": "stream",
     "text": [
      "[1, 2, 3, 4, 5]\n",
      "[1, 2, 300, 4, 5]\n",
      "[1, 2, 300, 4, 5]\n",
      "9\n",
      "109\n",
      "9\n"
     ]
    }
   ],
   "source": [
    "# 简单的数值，函数运行不改变外部的数值\n",
    "# 复杂的会改变\n",
    "def a(n):\n",
    "    n[2] = 300\n",
    "    print(n)\n",
    "    return None\n",
    "\n",
    "def b(n):\n",
    "    n += 100\n",
    "    print(n)\n",
    "    return None\n",
    "an = [1,2,3,4,5]\n",
    "bn = 9\n",
    "print(an)\n",
    "a(an)\n",
    "print(an)\n",
    "\n",
    "print(bn)\n",
    "b(bn)\n",
    "print(bn)"
   ]
  },
  {
   "cell_type": "code",
   "execution_count": 78,
   "metadata": {},
   "outputs": [
    {
     "name": "stdout",
     "output_type": "stream",
     "text": [
      "[1, 2, 3, 4, 30]\n"
     ]
    }
   ],
   "source": [
    "an = [1,2,3,4]\n",
    "an.append(30)\n",
    "print(an)"
   ]
  },
  {
   "cell_type": "code",
   "execution_count": 79,
   "metadata": {},
   "outputs": [
    {
     "data": {
      "text/plain": [
       "[1, 8, 2, 3, 4, 30]"
      ]
     },
     "execution_count": 79,
     "metadata": {},
     "output_type": "execute_result"
    }
   ],
   "source": [
    "# insert(index,data)\n",
    "an.insert(1,8)\n",
    "an"
   ]
  },
  {
   "cell_type": "code",
   "execution_count": 86,
   "metadata": {},
   "outputs": [
    {
     "data": {
      "text/plain": [
       "[1, 8, 2, 3, 4, 7]"
      ]
     },
     "execution_count": 86,
     "metadata": {},
     "output_type": "execute_result"
    }
   ],
   "source": [
    "# 超过下标就在最后插入\n",
    "an.insert(9,7)\n",
    "an"
   ]
  },
  {
   "cell_type": "code",
   "execution_count": 87,
   "metadata": {},
   "outputs": [
    {
     "name": "stdout",
     "output_type": "stream",
     "text": [
      "[1, 8, 2, 3, 4]\n"
     ]
    }
   ],
   "source": [
    "# del an[9]\n",
    "#pop()弹出最后一个\n",
    "m = an.pop()\n",
    "print(an)"
   ]
  },
  {
   "cell_type": "code",
   "execution_count": 93,
   "metadata": {},
   "outputs": [
    {
     "ename": "SyntaxError",
     "evalue": "invalid syntax (<ipython-input-93-d51dcb6f9feb>, line 4)",
     "output_type": "error",
     "traceback": [
      "\u001b[1;36m  File \u001b[1;32m\"<ipython-input-93-d51dcb6f9feb>\"\u001b[1;36m, line \u001b[1;32m4\u001b[0m\n\u001b[1;33m    a.del()\u001b[0m\n\u001b[1;37m        ^\u001b[0m\n\u001b[1;31mSyntaxError\u001b[0m\u001b[1;31m:\u001b[0m invalid syntax\n"
     ]
    }
   ],
   "source": [
    "a = [1,3,4,3,1,3,3,2]\n",
    "# a.remove(666)\n",
    "a.remove(3)#删除第一个3\n"
   ]
  },
  {
   "cell_type": "code",
   "execution_count": 95,
   "metadata": {},
   "outputs": [
    {
     "name": "stdout",
     "output_type": "stream",
     "text": [
      "list.remove(x): x not in list\n"
     ]
    }
   ],
   "source": [
    "a = [1,3,4,3,1,3,3,2]\n",
    "try:\n",
    "    a.remove(666)\n",
    "    a.remove(3)\n",
    "    a.pop()\n",
    "    del a[3]\n",
    "except Exception as e:\n",
    "    print(e)"
   ]
  },
  {
   "cell_type": "code",
   "execution_count": 97,
   "metadata": {},
   "outputs": [
    {
     "name": "stdout",
     "output_type": "stream",
     "text": [
      "[]\n"
     ]
    }
   ],
   "source": [
    "# clear\n",
    "a = [1,3,4,3,1,3,3,2]\n",
    "a.clear()\n",
    "print(a)"
   ]
  },
  {
   "cell_type": "code",
   "execution_count": 99,
   "metadata": {},
   "outputs": [
    {
     "name": "stdout",
     "output_type": "stream",
     "text": [
      "[2, 3, 3, 1, 3, 4, 3, 1]\n"
     ]
    }
   ],
   "source": [
    "# reverse id也不变\n",
    "a = [1,3,4,3,1,3,3,2]\n",
    "a.reverse()\n",
    "print(a)"
   ]
  },
  {
   "cell_type": "code",
   "execution_count": 101,
   "metadata": {},
   "outputs": [
    {
     "name": "stdout",
     "output_type": "stream",
     "text": [
      "[1, 2, 3, 4, 5]\n",
      "2670450949576\n",
      "[1, 2, 3, 4, 5, 6, 7, 8, 9, 10]\n",
      "2670450949576\n"
     ]
    }
   ],
   "source": [
    "# extend ：扩展列表\n",
    "a=[1,2,3,4,5]\n",
    "b=[6,7,8,9,10]\n",
    "print(a)\n",
    "print(id(a))\n",
    "a.extend(b)\n",
    "print(a)\n",
    "print(id(a))\n",
    "a.extend(b)"
   ]
  },
  {
   "cell_type": "code",
   "execution_count": 102,
   "metadata": {},
   "outputs": [
    {
     "name": "stdout",
     "output_type": "stream",
     "text": [
      "1\n",
      "[1, 2, 3, 4, 5, 90, 6, 7, 8, 9, 10, 6, 7, 8, 9, 10, 11]\n"
     ]
    }
   ],
   "source": [
    "# count:\n",
    "a.append(11)\n",
    "a.insert(5,90)\n",
    "lens = a.count(5)\n",
    "print(lens)\n",
    "print(a)"
   ]
  },
  {
   "cell_type": "code",
   "execution_count": 112,
   "metadata": {},
   "outputs": [
    {
     "name": "stdout",
     "output_type": "stream",
     "text": [
      "[1, 2, 3, 777, 5, 500]\n",
      "2670450917000\n",
      "[1, 2, 3, 777, 5, 500]\n",
      "2670451003208\n",
      "[1, 2, 3, 777, 5, 500]\n",
      "[1, 2, 3, 888, 5, 500]\n"
     ]
    }
   ],
   "source": [
    "#copy，浅拷贝\n",
    "a = [1,2,3,4,5,500]\n",
    "b = a \n",
    "b[3] = 777\n",
    "print(a)\n",
    "print(id(a))\n",
    "b = a.copy()\n",
    "print(b)\n",
    "print(id(b))\n",
    "\n",
    "b[3] = 888\n",
    "print(a)\n",
    "print(b)"
   ]
  },
  {
   "cell_type": "code",
   "execution_count": 113,
   "metadata": {},
   "outputs": [
    {
     "name": "stdout",
     "output_type": "stream",
     "text": [
      "[1, 2, 3, [4, 5, 9]]\n",
      "[1, 2, 3, [4, 5, 9]]\n"
     ]
    }
   ],
   "source": [
    "a = [1,2,3,[4,5,6]]\n",
    "b = a.copy()\n",
    "b[3][2] = 9\n",
    "print(a)\n",
    "print(b)"
   ]
  },
  {
   "cell_type": "code",
   "execution_count": 119,
   "metadata": {},
   "outputs": [
    {
     "name": "stdout",
     "output_type": "stream",
     "text": [
      "<class 'tuple'>\n",
      "<class 'tuple'>\n",
      "<class 'tuple'>\n",
      "<class 'tuple'>\n"
     ]
    }
   ],
   "source": [
    "t = ()\n",
    "print(type(t))\n",
    "t = 1,\n",
    "print(type(t))\n",
    "t = 2,3,3,4,\n",
    "print(type(t))\n",
    "l = [1,3,3,4]\n",
    "t = tuple(l)\n",
    "print(type(t))\n"
   ]
  },
  {
   "cell_type": "code",
   "execution_count": 122,
   "metadata": {},
   "outputs": [
    {
     "name": "stdout",
     "output_type": "stream",
     "text": [
      "1\n"
     ]
    },
    {
     "ename": "TypeError",
     "evalue": "'tuple' object does not support item assignment",
     "output_type": "error",
     "traceback": [
      "\u001b[1;31m---------------------------------------------------------------------------\u001b[0m",
      "\u001b[1;31mTypeError\u001b[0m                                 Traceback (most recent call last)",
      "\u001b[1;32m<ipython-input-122-a5de60a28337>\u001b[0m in \u001b[0;36m<module>\u001b[1;34m()\u001b[0m\n\u001b[0;32m      1\u001b[0m \u001b[0mt\u001b[0m \u001b[1;33m=\u001b[0m \u001b[1;33m(\u001b[0m\u001b[1;36m1\u001b[0m\u001b[1;33m,\u001b[0m\u001b[1;36m2\u001b[0m\u001b[1;33m,\u001b[0m\u001b[1;36m3\u001b[0m\u001b[1;33m)\u001b[0m\u001b[1;33m\u001b[0m\u001b[0m\n\u001b[0;32m      2\u001b[0m \u001b[0mprint\u001b[0m\u001b[1;33m(\u001b[0m\u001b[0mt\u001b[0m\u001b[1;33m[\u001b[0m\u001b[1;36m0\u001b[0m\u001b[1;33m]\u001b[0m\u001b[1;33m)\u001b[0m\u001b[1;33m\u001b[0m\u001b[0m\n\u001b[1;32m----> 3\u001b[1;33m \u001b[0mt\u001b[0m\u001b[1;33m[\u001b[0m\u001b[1;36m0\u001b[0m\u001b[1;33m]\u001b[0m \u001b[1;33m=\u001b[0m \u001b[1;36m1\u001b[0m\u001b[1;31m#不可更改\u001b[0m\u001b[1;33m\u001b[0m\u001b[0m\n\u001b[0m\u001b[0;32m      4\u001b[0m \u001b[0mprint\u001b[0m\u001b[1;33m(\u001b[0m\u001b[0mt\u001b[0m\u001b[1;33m)\u001b[0m\u001b[1;33m\u001b[0m\u001b[0m\n",
      "\u001b[1;31mTypeError\u001b[0m: 'tuple' object does not support item assignment"
     ]
    }
   ],
   "source": [
    "t = (1,2,3)\n",
    "print(t[0])\n",
    "t[0] = 1#不可更改\n",
    "print(t)\n",
    "# list的属性，除了不可修改，别的tuple都有"
   ]
  },
  {
   "cell_type": "code",
   "execution_count": 125,
   "metadata": {},
   "outputs": [
    {
     "name": "stdout",
     "output_type": "stream",
     "text": [
      "1\n",
      "2\n",
      "1\n",
      "1\n"
     ]
    }
   ],
   "source": [
    "t = (1,2,3,46)\n",
    "print(t.count(3))\n",
    "print(t.index(3))\n",
    "l = [1,3,4,46]\n",
    "print(l.count(3))\n",
    "print(l.index(3))"
   ]
  },
  {
   "cell_type": "code",
   "execution_count": 126,
   "metadata": {},
   "outputs": [
    {
     "name": "stdout",
     "output_type": "stream",
     "text": [
      "3 1\n"
     ]
    }
   ],
   "source": [
    "a,b = 1,3\n",
    "a,b = b,a\n",
    "print(a,b)"
   ]
  },
  {
   "cell_type": "code",
   "execution_count": 130,
   "metadata": {},
   "outputs": [
    {
     "name": "stdout",
     "output_type": "stream",
     "text": [
      "<class 'set'>\n",
      "<class 'tuple'>\n",
      "<class 'dict'>\n",
      "<class 'set'>\n"
     ]
    }
   ],
   "source": [
    "# set 一堆确定的无需的唯一的数据，集合中每一个数据称为一个元素\n",
    "s = set()\n",
    "print(type(s))\n",
    "s = ()\n",
    "print(type(s))\n",
    "s = {}\n",
    "print(type(s))\n",
    "s = {1,2,3,4}\n",
    "print(type(s))"
   ]
  },
  {
   "cell_type": "code",
   "execution_count": 138,
   "metadata": {},
   "outputs": [
    {
     "name": "stdout",
     "output_type": "stream",
     "text": [
      "(1, 3, 3, 2, 7, 8, 8, 6)\n",
      "{1, 2, 3, 6, 7, 8}\n",
      "{1, 2, 3, 6, 7, 8}\n",
      "{1, 3, 4}\n"
     ]
    }
   ],
   "source": [
    "m = [1,3,3,2,7,8,8,6]\n",
    "l = tuple(m)\n",
    "print(l)\n",
    "s = set(m)\n",
    "print(s)\n",
    "s = set(l)\n",
    "print(s)\n",
    "d = {1:2,3:4,3:4,3:5,4:6}\n",
    "s = set(d)#只能取键，然后筛选\n",
    "print(s)"
   ]
  },
  {
   "cell_type": "code",
   "execution_count": 140,
   "metadata": {},
   "outputs": [
    {
     "name": "stdout",
     "output_type": "stream",
     "text": [
      "{545, 1, 3, 2, 4, 23, 223}\n"
     ]
    }
   ],
   "source": [
    "s={23,223,545,3,1,2,3,4,3,2,3,1,2,4,3}\n",
    "print(s)"
   ]
  },
  {
   "cell_type": "code",
   "execution_count": 141,
   "metadata": {},
   "outputs": [
    {
     "name": "stdout",
     "output_type": "stream",
     "text": [
      "{0, 1, 2, 3, 4}\n"
     ]
    }
   ],
   "source": [
    "ss = {i for i in range(5)}\n",
    "print(ss)"
   ]
  },
  {
   "cell_type": "code",
   "execution_count": 142,
   "metadata": {},
   "outputs": [
    {
     "name": "stdout",
     "output_type": "stream",
     "text": [
      "{'sfe', 'sfesfesfesfe', 'sfesfesfe', 'sfssfssfssfs', 'sfs', '3434343434343434', 'sfssfssfs', '343434343434', '3434'}\n"
     ]
    }
   ],
   "source": [
    "s1 = {1,3,3,4}\n",
    "s2 = {'sfs','sfe','3434'}\n",
    "s = {m*n for m in s1 for n in s2}\n",
    "print(s)"
   ]
  },
  {
   "cell_type": "code",
   "execution_count": 143,
   "metadata": {},
   "outputs": [
    {
     "name": "stdout",
     "output_type": "stream",
     "text": [
      "['sfs', 'sfe', '3434', 'sfssfssfs', 'sfesfesfe', '343434343434', 'sfssfssfs', 'sfesfesfe', '343434343434', 'sfssfssfssfs', 'sfesfesfesfe', '3434343434343434']\n"
     ]
    }
   ],
   "source": [
    "s1 = [1,3,3,4]\n",
    "s2 = ['sfs','sfe','3434']\n",
    "s = [m*n for m in s1 for n in s2]\n",
    "print(s)"
   ]
  },
  {
   "cell_type": "code",
   "execution_count": 146,
   "metadata": {},
   "outputs": [
    {
     "name": "stdout",
     "output_type": "stream",
     "text": [
      "9\n",
      "6575\n"
     ]
    }
   ],
   "source": [
    "s={24.23,5,4,6,6575,7,8,787,2,4}\n",
    "print(len(s))\n",
    "print(max(s))"
   ]
  },
  {
   "cell_type": "code",
   "execution_count": 148,
   "metadata": {},
   "outputs": [
    {
     "name": "stdout",
     "output_type": "stream",
     "text": [
      "{1, 333}\n",
      "set()\n"
     ]
    }
   ],
   "source": [
    "#add:添加元素\n",
    "s = {1}\n",
    "s.add(333)\n",
    "print(s)\n",
    "s.clear()\n",
    "print(s)"
   ]
  },
  {
   "cell_type": "code",
   "execution_count": 151,
   "metadata": {},
   "outputs": [
    {
     "data": {
      "text/plain": [
       "{1, 3, 4, 5}"
      ]
     },
     "execution_count": 151,
     "metadata": {},
     "output_type": "execute_result"
    }
   ],
   "source": [
    "s = {1,3,4,5}\n",
    "# s.remove(9)#不存在则报错\n",
    "s.discard(9)\n",
    "s"
   ]
  },
  {
   "cell_type": "code",
   "execution_count": 159,
   "metadata": {},
   "outputs": [
    {
     "name": "stdout",
     "output_type": "stream",
     "text": [
      "2\n",
      "{3, 4, 5, 6, 7, 9}\n"
     ]
    }
   ],
   "source": [
    "#pop，弹出最早输入的那个数，并不随机\n",
    "s = {9,2,3,4,5,6,7}\n",
    "m = s.pop()\n",
    "print(m)\n",
    "print(s)"
   ]
  },
  {
   "cell_type": "code",
   "execution_count": 169,
   "metadata": {},
   "outputs": [
    {
     "name": "stdout",
     "output_type": "stream",
     "text": [
      "False\n",
      "True\n",
      "True\n"
     ]
    }
   ],
   "source": [
    "# 集合函数\n",
    "# intersection:交集\n",
    "# difference：差集\n",
    "# union:并集\n",
    "# issubset:检查一个集合是否为另一个的子集\n",
    "# issuperset:检车一个集合是否为零一个的超集\n",
    "s1={1,2,3,4,5,6}\n",
    "s2={5,6,7,8,9}\n",
    "s3={1,2,3,4,5,6,7}\n",
    "# s_1 = s1.intersection(s2)\n",
    "# s_1 = s1.difference(s2)\n",
    "# s_1 = s1.union(s2)\n",
    "s_1 = s1.issubset(s2)\n",
    "s_2 = s1.issubset(s3)\n",
    "s_3 = s3.issuperset(s1)\n",
    "print(s_1)\n",
    "print(s_2)\n",
    "print(s_3)"
   ]
  },
  {
   "cell_type": "code",
   "execution_count": 171,
   "metadata": {},
   "outputs": [
    {
     "ename": "TypeError",
     "evalue": "unsupported operand type(s) for +: 'set' and 'set'",
     "output_type": "error",
     "traceback": [
      "\u001b[1;31m---------------------------------------------------------------------------\u001b[0m",
      "\u001b[1;31mTypeError\u001b[0m                                 Traceback (most recent call last)",
      "\u001b[1;32m<ipython-input-171-ffe572915687>\u001b[0m in \u001b[0;36m<module>\u001b[1;34m()\u001b[0m\n\u001b[0;32m      3\u001b[0m \u001b[0ms2\u001b[0m \u001b[1;33m=\u001b[0m \u001b[1;33m{\u001b[0m\u001b[1;36m5\u001b[0m\u001b[1;33m,\u001b[0m\u001b[1;36m6\u001b[0m\u001b[1;33m,\u001b[0m\u001b[1;36m7\u001b[0m\u001b[1;33m,\u001b[0m\u001b[1;36m8\u001b[0m\u001b[1;33m,\u001b[0m\u001b[1;36m9\u001b[0m\u001b[1;33m}\u001b[0m\u001b[1;33m\u001b[0m\u001b[0m\n\u001b[0;32m      4\u001b[0m \u001b[0ms_1\u001b[0m \u001b[1;33m=\u001b[0m \u001b[0ms1\u001b[0m \u001b[1;33m-\u001b[0m \u001b[0ms2\u001b[0m\u001b[1;33m\u001b[0m\u001b[0m\n\u001b[1;32m----> 5\u001b[1;33m \u001b[0ms_1\u001b[0m \u001b[1;33m=\u001b[0m \u001b[0ms1\u001b[0m \u001b[1;33m+\u001b[0m \u001b[0ms2\u001b[0m\u001b[1;33m\u001b[0m\u001b[0m\n\u001b[0m\u001b[0;32m      6\u001b[0m \u001b[0mprint\u001b[0m\u001b[1;33m(\u001b[0m\u001b[0ms_1\u001b[0m\u001b[1;33m)\u001b[0m\u001b[1;33m\u001b[0m\u001b[0m\n",
      "\u001b[1;31mTypeError\u001b[0m: unsupported operand type(s) for +: 'set' and 'set'"
     ]
    }
   ],
   "source": [
    "# 集合的数学操作\n",
    "s1 = {1,2,3,4,5,6}\n",
    "s2 = {5,6,7,8,9}\n",
    "s_1 = s1 - s2\n",
    "# s_1 = s1 + s2#不行\n",
    "print(s_1)"
   ]
  },
  {
   "cell_type": "code",
   "execution_count": 173,
   "metadata": {},
   "outputs": [
    {
     "ename": "TypeError",
     "evalue": "frozenset expected at most 1 arguments, got 3",
     "output_type": "error",
     "traceback": [
      "\u001b[1;31m---------------------------------------------------------------------------\u001b[0m",
      "\u001b[1;31mTypeError\u001b[0m                                 Traceback (most recent call last)",
      "\u001b[1;32m<ipython-input-173-06ca795c1638>\u001b[0m in \u001b[0;36m<module>\u001b[1;34m()\u001b[0m\n\u001b[0;32m      1\u001b[0m \u001b[1;31m# frozenset是一种特殊集合\u001b[0m\u001b[1;33m\u001b[0m\u001b[1;33m\u001b[0m\u001b[0m\n\u001b[1;32m----> 2\u001b[1;33m \u001b[0ms\u001b[0m \u001b[1;33m=\u001b[0m \u001b[0mfrozenset\u001b[0m\u001b[1;33m(\u001b[0m\u001b[1;36m1\u001b[0m\u001b[1;33m,\u001b[0m\u001b[1;36m3\u001b[0m\u001b[1;33m,\u001b[0m\u001b[1;36m4\u001b[0m\u001b[1;33m)\u001b[0m\u001b[1;33m\u001b[0m\u001b[0m\n\u001b[0m\u001b[0;32m      3\u001b[0m \u001b[0mprint\u001b[0m\u001b[1;33m(\u001b[0m\u001b[0ms\u001b[0m\u001b[1;33m)\u001b[0m\u001b[1;33m\u001b[0m\u001b[0m\n",
      "\u001b[1;31mTypeError\u001b[0m: frozenset expected at most 1 arguments, got 3"
     ]
    }
   ],
   "source": [
    "# frozenset是一种特殊集合\n",
    "s = frozenset(1,3,4)\n",
    "print(s)"
   ]
  },
  {
   "cell_type": "code",
   "execution_count": null,
   "metadata": {},
   "outputs": [],
   "source": []
  }
 ],
 "metadata": {
  "kernelspec": {
   "display_name": "Python 3",
   "language": "python",
   "name": "python3"
  },
  "language_info": {
   "codemirror_mode": {
    "name": "ipython",
    "version": 3
   },
   "file_extension": ".py",
   "mimetype": "text/x-python",
   "name": "python",
   "nbconvert_exporter": "python",
   "pygments_lexer": "ipython3",
   "version": "3.7.0"
  }
 },
 "nbformat": 4,
 "nbformat_minor": 2
}
