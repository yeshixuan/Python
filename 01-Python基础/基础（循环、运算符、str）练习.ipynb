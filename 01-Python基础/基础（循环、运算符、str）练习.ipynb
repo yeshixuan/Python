{
 "cells": [
  {
   "cell_type": "code",
   "execution_count": 7,
   "metadata": {},
   "outputs": [
    {
     "name": "stdout",
     "output_type": "stream",
     "text": [
      "请输入一个0-100的整数：5\n",
      "输入正确\n"
     ]
    }
   ],
   "source": [
    "temp = input(\"请输入一个0-100的整数：\")\n",
    "if temp.isdigit():\n",
    "    temp = int(temp)\n",
    "    if 0 <= temp <= 100:\n",
    "        print(\"输入正确\")\n",
    "    else:\n",
    "        print(\"大小不对哦\")\n",
    "else:\n",
    "    print(\"不是让你输入数字吗？\")"
   ]
  },
  {
   "cell_type": "code",
   "execution_count": 10,
   "metadata": {},
   "outputs": [
    {
     "name": "stdout",
     "output_type": "stream",
     "text": [
      "-4\n",
      "4\n"
     ]
    }
   ],
   "source": [
    "print(int(-4.99))\n",
    "print(int(4.99))"
   ]
  },
  {
   "cell_type": "code",
   "execution_count": 3,
   "metadata": {},
   "outputs": [
    {
     "name": "stdout",
     "output_type": "stream",
     "text": [
      "请输入1-100的数字：4\n",
      "猜错了\n",
      "请输入1-100的数字：1\n",
      "猜对了\n",
      "恭喜过关\n"
     ]
    }
   ],
   "source": [
    "import random\n",
    "secert = random.randint(1,100)\n",
    "times = 3\n",
    "k = False\n",
    "while times:\n",
    "    num = input(\"请输入1-100的数字：\")\n",
    "    if num.isdigit():\n",
    "        temp = int(num)\n",
    "        if temp == secert:\n",
    "            print(\"猜对了\")\n",
    "            k = True\n",
    "            break\n",
    "        else:\n",
    "            print(\"猜错了\")\n",
    "            times -= 1\n",
    "            \n",
    "    else:\n",
    "        print(\"输入数字啊亲！\")\n",
    "        \n",
    "if k == False:\n",
    "    print(\"猜错3次，游戏结束\")\n",
    "else:\n",
    "    print(\"恭喜过关\")"
   ]
  },
  {
   "cell_type": "code",
   "execution_count": 4,
   "metadata": {},
   "outputs": [
    {
     "name": "stdout",
     "output_type": "stream",
     "text": [
      "开始\n",
      "119\n"
     ]
    }
   ],
   "source": [
    "print(\"开始\")\n",
    "time = 0\n",
    "j = 0\n",
    "while time == 0:\n",
    "    if (j % 2 == 1 and j % 3 == 2 and j % 5 == 4 and j % 6 == 5 and j % 7 == 0):\n",
    "        print(j)\n",
    "        time = 1\n",
    "    j += 1"
   ]
  },
  {
   "cell_type": "markdown",
   "metadata": {},
   "source": [
    "# if not"
   ]
  },
  {
   "cell_type": "code",
   "execution_count": 5,
   "metadata": {},
   "outputs": [
    {
     "name": "stdout",
     "output_type": "stream",
     "text": [
      "1\n"
     ]
    }
   ],
   "source": [
    "money = 100\n",
    "if not (money < 100):\n",
    "    print(\"1\")\n",
    "else:\n",
    "    pritn(money)"
   ]
  },
  {
   "cell_type": "code",
   "execution_count": 6,
   "metadata": {},
   "outputs": [
    {
     "name": "stdout",
     "output_type": "stream",
     "text": [
      "3 1 2\n"
     ]
    }
   ],
   "source": [
    "x = 1\n",
    "y = 2\n",
    "z = 3\n",
    "x,y,z = z,x,y\n",
    "print(x, y, z)"
   ]
  },
  {
   "cell_type": "code",
   "execution_count": 8,
   "metadata": {},
   "outputs": [
    {
     "name": "stdout",
     "output_type": "stream",
     "text": [
      "0 2 4 6 8 10 12 14 16 18 20 22 24 26 28 30 32 34 36 38 40 42 44 46 48 50 52 54 56 58 60 62 64 66 68 70 72 74 76 78 80 82 84 86 88 90 92 94 96 98 "
     ]
    }
   ],
   "source": [
    "l = range(0,100,2)\n",
    "for i in l:\n",
    "    print(i, end=\" \")"
   ]
  },
  {
   "cell_type": "code",
   "execution_count": 9,
   "metadata": {},
   "outputs": [
    {
     "name": "stdout",
     "output_type": "stream",
     "text": [
      "2\n",
      "3\n"
     ]
    }
   ],
   "source": [
    "# break 跳出本循环，没跳出外面一层循环\n",
    "while True:\n",
    "    while True:\n",
    "        break\n",
    "        print(1)\n",
    "    print(2)\n",
    "    break\n",
    "print(3)"
   ]
  },
  {
   "cell_type": "code",
   "execution_count": 15,
   "metadata": {},
   "outputs": [
    {
     "name": "stdout",
     "output_type": "stream",
     "text": [
      "1\n",
      "2\n",
      "3\n",
      "4\n",
      "5\n",
      "6\n",
      "7\n",
      "8\n",
      "9\n",
      "10\n",
      "11\n",
      "12\n"
     ]
    }
   ],
   "source": [
    "# 从代码效率的方面考虑，以下代码的问题，如何改进\n",
    "string = \"ilovexiaoxue\"\n",
    "# i = 0\n",
    "# while i < len(string): #不要把len(string)直接放这里，会降低它的效率\n",
    "#     print(i + 1)\n",
    "#     i += 1\n",
    "\n",
    "i = 0 \n",
    "leng = len(string)\n",
    "while i < leng:\n",
    "    print(i + 1)\n",
    "    i += 1\n",
    "    "
   ]
  },
  {
   "cell_type": "code",
   "execution_count": 2,
   "metadata": {},
   "outputs": [
    {
     "name": "stdout",
     "output_type": "stream",
     "text": [
      "请输入6位数密码：5\n",
      "猜错了！你还有2次机会\n",
      "请输入6位数密码：5\n",
      "猜错了！你还有1次机会\n",
      "请输入6位数密码：5\n",
      "猜错了！你没有机会了\n",
      "游戏结束\n"
     ]
    }
   ],
   "source": [
    "password = \"abc123\"\n",
    "\n",
    "times = 3\n",
    "while times:\n",
    "    input_password = input(\"请输入6位数密码：\")\n",
    "    if \"*\" in input_password:\n",
    "        print(\"密码不能有*号\")\n",
    "        times -= 1\n",
    "        print(\"你还有%d次机会\"%(times))\n",
    "    else:\n",
    "        if input_password == password:\n",
    "            print(\"密码才对了！\")\n",
    "            break\n",
    "        else:\n",
    "            times -= 1\n",
    "            if times == 0:\n",
    "                print(\"猜错了！你没有机会了\")\n",
    "            else:\n",
    "                print(\"猜错了！你还有%d次机会\"%(times))\n",
    "            \n",
    "print(\"游戏结束\")"
   ]
  },
  {
   "cell_type": "code",
   "execution_count": 4,
   "metadata": {},
   "outputs": [
    {
     "name": "stdout",
     "output_type": "stream",
     "text": [
      "153\n",
      "370\n",
      "371\n",
      "407\n"
     ]
    }
   ],
   "source": [
    "for i in range(100,1000):\n",
    "    if (i//100)**3 + (i%100//10)**3 + (i%10)**3 == i:\n",
    "        print(i)"
   ]
  },
  {
   "cell_type": "code",
   "execution_count": 6,
   "metadata": {},
   "outputs": [
    {
     "name": "stdout",
     "output_type": "stream",
     "text": [
      "153\n",
      "370\n",
      "371\n",
      "407\n"
     ]
    }
   ],
   "source": [
    "for i in range(100,1000):\n",
    "    temp = str(i)\n",
    "    rst = 0\n",
    "    for m in temp:\n",
    "        rst += int(m)**3\n",
    "    if rst == i:\n",
    "        print(i)"
   ]
  },
  {
   "cell_type": "code",
   "execution_count": null,
   "metadata": {},
   "outputs": [],
   "source": [
    "for i in range(5):\n",
    "    for j in range(5):\n",
    "        print(\"*\", end=\" \")\n",
    "    print()"
   ]
  },
  {
   "cell_type": "code",
   "execution_count": null,
   "metadata": {},
   "outputs": [],
   "source": [
    "'''\n",
    "思路，第一行最后一行打满，其余行只要第一个和最后一个\n",
    "'''\n",
    "s = int(input())\n",
    "\n",
    "for i in range(1,s+1):\n",
    "    for j in range(1, s+1):\n",
    "        if i == 1 or i == s:\n",
    "            print(\"*\", end = \" \")\n",
    "        else:\n",
    "            if j == 1 or j == s:\n",
    "                print(\"*\", end = \" \")\n",
    "            else:\n",
    "                print(\" \", end = \" \")\n",
    "    print()"
   ]
  },
  {
   "cell_type": "code",
   "execution_count": 6,
   "metadata": {},
   "outputs": [
    {
     "name": "stdout",
     "output_type": "stream",
     "text": [
      "7\n",
      "* \n",
      "* * \n",
      "* * * \n",
      "* * * * \n",
      "* * * * * \n",
      "* * * * * * \n",
      "* * * * * * * \n"
     ]
    }
   ],
   "source": [
    "# 第n行答应n个\n",
    "# 打印n行\n",
    "s = int(input())\n",
    "# s = 5\n",
    "for i in range(s):\n",
    "    for j in range(i+1):\n",
    "        print(\"*\", end=\" \")\n",
    "    print()"
   ]
  },
  {
   "cell_type": "code",
   "execution_count": 11,
   "metadata": {},
   "outputs": [
    {
     "name": "stdout",
     "output_type": "stream",
     "text": [
      "8\n",
      "* \n",
      "* * \n",
      "*   * \n",
      "*     * \n",
      "*       * \n",
      "*         * \n",
      "*           * \n",
      "* * * * * * * * \n"
     ]
    }
   ],
   "source": [
    "# 思路 先实现实心，再实现空心\n",
    "# 除洗后一行外，都是第一个和最后一个\n",
    "s = int(input())\n",
    "# s = 5\n",
    "\n",
    "for i in range(s):\n",
    "    for j in range(i+1):\n",
    "        if i == s-1:\n",
    "            print(\"*\", end=\" \")\n",
    "        else:\n",
    "            if j == 0 or j == i:\n",
    "                print(\"*\", end=\" \")\n",
    "            else:\n",
    "                print(\" \", end=\" \")\n",
    "    print()"
   ]
  },
  {
   "cell_type": "code",
   "execution_count": 16,
   "metadata": {},
   "outputs": [
    {
     "name": "stdout",
     "output_type": "stream",
     "text": [
      "9\n",
      "*  *  *  *  *  *  *  *  *  \n",
      "*  *  *  *  *  *  *  *  \n",
      "*  *  *  *  *  *  *  \n",
      "*  *  *  *  *  *  \n",
      "*  *  *  *  *  \n",
      "*  *  *  *  \n",
      "*  *  *  \n",
      "*  *  \n",
      "*  \n"
     ]
    }
   ],
   "source": [
    "# 先打印行数\n",
    "s = int(input())\n",
    "# s = 5\n",
    "for i in range(s):\n",
    "    for j in range(s-i):\n",
    "        print(\"*\", end=\"  \")\n",
    "    print()"
   ]
  },
  {
   "cell_type": "code",
   "execution_count": 20,
   "metadata": {},
   "outputs": [
    {
     "name": "stdout",
     "output_type": "stream",
     "text": [
      "9\n",
      "* * * * * * * * * \n",
      "*             * \n",
      "*           * \n",
      "*         * \n",
      "*       * \n",
      "*     * \n",
      "*   * \n",
      "* * \n",
      "* \n"
     ]
    }
   ],
   "source": [
    "# 先打印行数\n",
    "s = int(input())\n",
    "# s = 5\n",
    "for i in range(s):\n",
    "    for j in range(s-i):\n",
    "        if i == 0 or i == s:\n",
    "            print(\"*\", end=\" \")\n",
    "        else:\n",
    "            if j == 0 or j == (s-i-1):\n",
    "                print(\"*\", end=\" \")\n",
    "            else:\n",
    "                print(\" \", end=\" \")\n",
    "                               \n",
    "        \n",
    "    print()"
   ]
  },
  {
   "cell_type": "code",
   "execution_count": 30,
   "metadata": {},
   "outputs": [
    {
     "name": "stdout",
     "output_type": "stream",
     "text": [
      "6\n",
      "      * \n",
      "     * * \n",
      "    * * * \n",
      "   * * * * \n",
      "  * * * * * \n",
      " * * * * * * \n"
     ]
    }
   ],
   "source": [
    "s = int(input())\n",
    "# s = 5\n",
    "\n",
    "for i in range(s):\n",
    "    for j in range(s-i):\n",
    "        print(\" \", end=\"\")\n",
    "    for k in range(i+1):\n",
    "        print(\"* \", end=\"\")\n",
    "    print()"
   ]
  },
  {
   "cell_type": "code",
   "execution_count": 34,
   "metadata": {},
   "outputs": [
    {
     "name": "stdout",
     "output_type": "stream",
     "text": [
      "7\n",
      "       * \n",
      "      * * \n",
      "     *   * \n",
      "    *     * \n",
      "   *       * \n",
      "  *         * \n",
      " * * * * * * * \n"
     ]
    }
   ],
   "source": [
    "s = int(input())\n",
    "# s = 5\n",
    "\n",
    "for i in range(s):\n",
    "    for j in range(s-i):\n",
    "        print(\" \", end=\"\")\n",
    "    for k in range(i+1):\n",
    "        if i == 0 or i == (s-1):\n",
    "            print(\"*\", end=\" \")\n",
    "        else:\n",
    "            if k == 0 or k == i:\n",
    "                print(\"*\", end=\" \")\n",
    "            else:\n",
    "                print(\" \", end=\" \")\n",
    "    print()"
   ]
  },
  {
   "cell_type": "code",
   "execution_count": 38,
   "metadata": {},
   "outputs": [
    {
     "name": "stdout",
     "output_type": "stream",
     "text": [
      "10\n",
      "         * \n",
      "        * * \n",
      "       * * * \n",
      "      * * * * \n",
      "     * * * * * \n",
      "    * * * * * * \n",
      "   * * * * * * * \n",
      "  * * * * * * * * \n",
      " * * * * * * * * * \n",
      "* * * * * * * * * * \n",
      " * * * * * * * * * \n",
      "  * * * * * * * * \n",
      "   * * * * * * * \n",
      "    * * * * * * \n",
      "     * * * * * \n",
      "      * * * * \n",
      "       * * * \n",
      "        * * \n",
      "         * \n"
     ]
    }
   ],
   "source": [
    "s = int(input())\n",
    "# s = 5\n",
    "for i in range(s):\n",
    "    for j in range(s-i-1):\n",
    "        print(\" \", end=\"\")\n",
    "    for k in range(i+1):\n",
    "        print(\"*\", end=\" \")\n",
    "    print()\n",
    "for i in range(s-1):\n",
    "    for j in range(i+1):\n",
    "        print(\" \", end=\"\")\n",
    "    for k in range(s-i-1):\n",
    "        print(\"*\", end=\" \")\n",
    "    print()"
   ]
  },
  {
   "cell_type": "code",
   "execution_count": 40,
   "metadata": {},
   "outputs": [
    {
     "name": "stdout",
     "output_type": "stream",
     "text": [
      "10\n",
      "         * \n",
      "        * * \n",
      "       *   * \n",
      "      *     * \n",
      "     *       * \n",
      "    *         * \n",
      "   *           * \n",
      "  *             * \n",
      " *               * \n",
      "*                 * \n",
      " *               * \n",
      "  *             * \n",
      "   *           * \n",
      "    *         * \n",
      "     *       * \n",
      "      *     * \n",
      "       *   * \n",
      "        * * \n",
      "         * \n"
     ]
    }
   ],
   "source": [
    "s = int(input())\n",
    "# s = 5\n",
    "for i in range(s):\n",
    "    for j in range(s-i-1):\n",
    "        print(\" \", end=\"\")\n",
    "    for k in range(i+1):\n",
    "        if k == 0 or k == i:\n",
    "            print(\"*\", end=\" \")\n",
    "        else:\n",
    "            print(\" \", end= \" \")\n",
    "    print()\n",
    "for i in range(s-1):\n",
    "    for j in range(i+1):\n",
    "        print(\" \", end=\"\")\n",
    "    for k in range(s-i-1):\n",
    "        if k == 0 or k == (s-i-2): \n",
    "            print(\"*\", end=\" \")\n",
    "        else:\n",
    "            print(\" \", end=\" \")\n",
    "    print()"
   ]
  }
 ],
 "metadata": {
  "kernelspec": {
   "display_name": "Python 3",
   "language": "python",
   "name": "python3"
  },
  "language_info": {
   "codemirror_mode": {
    "name": "ipython",
    "version": 3
   },
   "file_extension": ".py",
   "mimetype": "text/x-python",
   "name": "python",
   "nbconvert_exporter": "python",
   "pygments_lexer": "ipython3",
   "version": "3.7.0"
  }
 },
 "nbformat": 4,
 "nbformat_minor": 2
}
