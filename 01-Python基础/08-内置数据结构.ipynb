{
 "cells": [
  {
   "cell_type": "markdown",
   "metadata": {},
   "source": [
    "# 汉诺塔问题\n",
    "- 规则：\n",
    "    - 1.每次移动一个盘子\n",
    "    - 2.任何时候盘中在下面，小盘子在上面\n",
    "- 方法： \n",
    "    - 1. n=1:直接把A上的一个盘子移动到c上，a->C\n",
    "    - 2. n=2:\n",
    "        - 1.把小胖子从A放到B上\n",
    "        - 2.把大胖子从A放到C上\n",
    "        - 3.把b上的一道c\n",
    "     - 3 n=3:\n",
    "        - 调用递归实现上面2个，最下面的移到c，再调用递归函数\n",
    "     - 4 n=n:\n",
    "        - 1.调用递归，把n-1移到B\n",
    "        - 2.最后个一道C\n",
    "        - 3.再调用递归，把B的n-1一道C"
   ]
  },
  {
   "cell_type": "code",
   "execution_count": 7,
   "metadata": {},
   "outputs": [
    {
     "name": "stdout",
     "output_type": "stream",
     "text": [
      "A --> C\n"
     ]
    }
   ],
   "source": [
    "def hano(n,a,b,c):\n",
    "    '''\n",
    "    汉诺塔的递归实现\n",
    "    n：代表几个胖子\n",
    "    a:代表第一个盘子\n",
    "    b:代表第二个\n",
    "    c:代表第三个\n",
    "    '''\n",
    "    if n==1:\n",
    "        print(a,\"-->\",c)\n",
    "        return None\n",
    "    if n==2:\n",
    "        print(a,\"-->\",b)\n",
    "        print(a,\"-->\",c)\n",
    "        print(b,\"-->\",c)\n",
    "        return None\n",
    "    hano(n-1,a,b,c)\n",
    "    print(a,\"-->\",c)\n",
    "    hano(n-1,b,a,c)\n",
    "\n",
    "a=\"A\"\n",
    "b=\"B\"\n",
    "c=\"C\"\n",
    "\n",
    "n=1\n",
    "hano(n,a,b,c)"
   ]
  },
  {
   "cell_type": "code",
   "execution_count": 9,
   "metadata": {},
   "outputs": [
    {
     "name": "stdout",
     "output_type": "stream",
     "text": [
      "A --> B\n",
      "A --> C\n",
      "B --> C\n"
     ]
    }
   ],
   "source": [
    "a=\"A\"\n",
    "b=\"B\"\n",
    "c=\"C\"\n",
    "\n",
    "n=2\n",
    "hano(n,a,b,c)"
   ]
  },
  {
   "cell_type": "markdown",
   "metadata": {},
   "source": [
    "# List(列表)\n",
    "- del:删除命令"
   ]
  },
  {
   "cell_type": "code",
   "execution_count": 11,
   "metadata": {},
   "outputs": [
    {
     "name": "stdout",
     "output_type": "stream",
     "text": [
      "[1, 3, 5, 56, 6]\n"
     ]
    }
   ],
   "source": [
    "# del 伤处\n",
    "a=[1,3,4,5,56,6]\n",
    "del a[2]\n",
    "print(a)"
   ]
  },
  {
   "cell_type": "code",
   "execution_count": 13,
   "metadata": {},
   "outputs": [
    {
     "name": "stdout",
     "output_type": "stream",
     "text": [
      "[1, 3, 4, 5, 56, 6]\n",
      "2151288280776\n",
      "2151288280776\n",
      "[1, 3, 5, 56, 6]\n"
     ]
    }
   ],
   "source": [
    "# del 伤处\n",
    "# 删除一个元素厚，列表的id不变\n",
    "a=[1,3,4,5,56,6]\n",
    "print(a)\n",
    "print(id(a))\n",
    "del a[2]\n",
    "print(id(a))\n",
    "print(a)"
   ]
  },
  {
   "cell_type": "code",
   "execution_count": 15,
   "metadata": {},
   "outputs": [
    {
     "ename": "NameError",
     "evalue": "name 'a' is not defined",
     "output_type": "error",
     "traceback": [
      "\u001b[1;31m---------------------------------------------------------------------------\u001b[0m",
      "\u001b[1;31mNameError\u001b[0m                                 Traceback (most recent call last)",
      "\u001b[1;32m<ipython-input-15-d9ac75c7ca75>\u001b[0m in \u001b[0;36m<module>\u001b[1;34m()\u001b[0m\n\u001b[0;32m      1\u001b[0m \u001b[1;31m# del一个变量后不能继续使用此变量\u001b[0m\u001b[1;33m\u001b[0m\u001b[1;33m\u001b[0m\u001b[0m\n\u001b[1;32m----> 2\u001b[1;33m \u001b[1;32mdel\u001b[0m \u001b[0ma\u001b[0m\u001b[1;33m\u001b[0m\u001b[0m\n\u001b[0m\u001b[0;32m      3\u001b[0m \u001b[0mprint\u001b[0m\u001b[1;33m(\u001b[0m\u001b[0ma\u001b[0m\u001b[1;33m)\u001b[0m\u001b[1;33m\u001b[0m\u001b[0m\n",
      "\u001b[1;31mNameError\u001b[0m: name 'a' is not defined"
     ]
    }
   ],
   "source": [
    "# del一个变量后不能继续使用此变量\n",
    "del a\n",
    "print(a)"
   ]
  },
  {
   "cell_type": "markdown",
   "metadata": {},
   "source": [
    "### 列表相加\n",
    "- 使用加号谅解两个列表\n",
    "\n"
   ]
  },
  {
   "cell_type": "code",
   "execution_count": 18,
   "metadata": {},
   "outputs": [
    {
     "name": "stdout",
     "output_type": "stream",
     "text": [
      "[1, 2, 3, 4, 5, 6, 7, 8, 9, 0, 'a', 'b', 'c']\n"
     ]
    }
   ],
   "source": [
    "a=[1,2,3,4,5,6]\n",
    "b=[7,8,9,0]\n",
    "d=[\"a\",\"b\",\"c\"]\n",
    "c=a+b+d\n",
    "print(c)"
   ]
  },
  {
   "cell_type": "code",
   "execution_count": 20,
   "metadata": {},
   "outputs": [
    {
     "name": "stdout",
     "output_type": "stream",
     "text": [
      "[1, 3, 4, 5, 6, 1, 3, 4, 5, 6, 1, 3, 4, 5, 6]\n"
     ]
    }
   ],
   "source": [
    "# 使用称号操作列表\n",
    "# 列表直接跟一个整数相乘\n",
    "# 相当于把n个列表连接在一起\n",
    "a=[1,3,4,5,6]\n",
    "b=a*3\n",
    "print(b)"
   ]
  },
  {
   "cell_type": "code",
   "execution_count": 23,
   "metadata": {},
   "outputs": [
    {
     "name": "stdout",
     "output_type": "stream",
     "text": [
      "False\n",
      "True\n"
     ]
    }
   ],
   "source": [
    "# 成员资格运算\n",
    "# 就是旁段一个元素是否在list里面\n",
    "a=[1,3,4,5]\n",
    "b=8\n",
    "\n",
    "# c的值是一个布尔值\n",
    "c= b in a\n",
    "print(c)\n",
    "\n",
    "b=4\n",
    "print(b in a)\n"
   ]
  },
  {
   "cell_type": "code",
   "execution_count": 25,
   "metadata": {},
   "outputs": [
    {
     "name": "stdout",
     "output_type": "stream",
     "text": [
      "True\n"
     ]
    }
   ],
   "source": [
    "# not in \n",
    "a=[1,3,4,5]\n",
    "b=9\n",
    "print(b not in a)"
   ]
  },
  {
   "cell_type": "markdown",
   "metadata": {},
   "source": [
    "列表的遍历\n",
    "- for \n",
    "- while "
   ]
  },
  {
   "cell_type": "code",
   "execution_count": 27,
   "metadata": {},
   "outputs": [
    {
     "name": "stdout",
     "output_type": "stream",
     "text": [
      "1\n",
      "2\n",
      "3\n",
      "4\n",
      "5\n"
     ]
    }
   ],
   "source": [
    "# for in list\n",
    "a=[1,2,3,4,5]\n",
    "\n",
    "# 挨个答应a里面的元素\n",
    "for i in a:\n",
    "    print(i)"
   ]
  },
  {
   "cell_type": "code",
   "execution_count": 30,
   "metadata": {},
   "outputs": [
    {
     "name": "stdout",
     "output_type": "stream",
     "text": [
      "I love wangxiaojing\n"
     ]
    }
   ],
   "source": [
    "b=[\"I love wangxiaojing\"]\n",
    "for i in b:\n",
    "    print(i)"
   ]
  },
  {
   "cell_type": "code",
   "execution_count": 32,
   "metadata": {},
   "outputs": [
    {
     "name": "stdout",
     "output_type": "stream",
     "text": [
      "0\n",
      "1\n",
      "2\n",
      "3\n",
      "4\n",
      "5\n",
      "6\n",
      "7\n",
      "8\n",
      "9\n",
      "<class 'range'>\n"
     ]
    }
   ],
   "source": [
    "# range\n",
    "# in 后面的变量要求是可以可迭代的内容\n",
    "for i in range(10):\n",
    "    print(i)\n",
    "print(type(range(10)))"
   ]
  },
  {
   "cell_type": "code",
   "execution_count": 35,
   "metadata": {},
   "outputs": [
    {
     "name": "stdout",
     "output_type": "stream",
     "text": [
      "1\n",
      "3\n",
      "4\n",
      "5\n"
     ]
    }
   ],
   "source": [
    "# while循环访问liast\n",
    "# 一般不用while便利list\n",
    "\n",
    "a=[1,3,4,5]\n",
    "lengh=len(a)\n",
    "# index表示list的下表\n",
    "index=0\n",
    "while index<lengh:\n",
    "    print(a[index])\n",
    "    index+=1\n",
    "    "
   ]
  },
  {
   "cell_type": "code",
   "execution_count": 37,
   "metadata": {},
   "outputs": [
    {
     "name": "stdout",
     "output_type": "stream",
     "text": [
      "one --- 1\n",
      "wto --- 2\n",
      "three --- 3\n"
     ]
    }
   ],
   "source": [
    "# 双层列表循环\n",
    "\n",
    "#a为嵌套列表或双层列表\n",
    "a = [[\"one\",1],[\"wto\",2],[\"three\",3]]\n",
    "\n",
    "for k,v in a:\n",
    "    print(k,\"---\",v)"
   ]
  },
  {
   "cell_type": "code",
   "execution_count": 50,
   "metadata": {},
   "outputs": [
    {
     "name": "stdout",
     "output_type": "stream",
     "text": [
      "one --- 1 ins\n",
      "wto --- 2 4\n",
      "three --- 3 5\n"
     ]
    }
   ],
   "source": [
    "# 双层列表循环\n",
    "\n",
    "#a为嵌套列表或双层列表\n",
    "a = [[\"one\",1,\"ins\"],[\"wto\",2],[\"three\",3,5,3,4,6]] #它就不行\n",
    "a1= [[\"one\",1,\"ins\"],[\"wto\",2,4],[\"three\",3,5]]\n",
    "#这个例子说明，k,v,w的个数应该跟解包出来的变量个数一致\n",
    "for k,v,w in a1:\n",
    "    print(k,\"---\",v,w)"
   ]
  },
  {
   "cell_type": "markdown",
   "metadata": {},
   "source": [
    "# 列表内建:List content\n",
    "- 通过简单方法创作列表"
   ]
  },
  {
   "cell_type": "code",
   "execution_count": 54,
   "metadata": {},
   "outputs": [
    {
     "name": "stdout",
     "output_type": "stream",
     "text": [
      "['a', 'b', 'c']\n"
     ]
    }
   ],
   "source": [
    "# for 创建\n",
    "a=[\"a\",\"b\",\"c\"]\n",
    "# 用lists a创建一个liesb\n",
    "# 下面代码的含义是，对于所有a中的元素，诸葛放入新列表b中\n",
    "b=[i for i in a]\n",
    "print(b)"
   ]
  },
  {
   "cell_type": "code",
   "execution_count": 56,
   "metadata": {},
   "outputs": [
    {
     "name": "stdout",
     "output_type": "stream",
     "text": [
      "[10, 20, 30]\n"
     ]
    }
   ],
   "source": [
    "# for 创建\n",
    "a=[1,2,3]\n",
    "# 用lists a创建一个liesb\n",
    "# 下面代码的含义是，对于所有a中的元素，诸葛放入新列表b中\n",
    "b=[i*10 for i in a]\n",
    "print(b)"
   ]
  },
  {
   "cell_type": "code",
   "execution_count": 59,
   "metadata": {},
   "outputs": [
    {
     "name": "stdout",
     "output_type": "stream",
     "text": [
      "[2, 4, 6, 8, 10, 12, 14, 16, 18, 20, 22, 24, 26, 28, 30, 32, 34]\n"
     ]
    }
   ],
   "source": [
    "# 海可以过滤原来list中的内容并放入新列表\n",
    "# 比如原有列表a,需要把所有偶数生成新的列表\n",
    "\n",
    "a=[x for x in range(1,35)]#生成一个1到34的列表\n",
    "# 把a\n",
    "b=[m for m in a if m %2==0]\n",
    "print(b)"
   ]
  },
  {
   "cell_type": "code",
   "execution_count": 65,
   "metadata": {},
   "outputs": [
    {
     "name": "stdout",
     "output_type": "stream",
     "text": [
      "[1, 2, 3, 4]\n",
      "[100, 200, 300]\n",
      "[101, 201, 301, 102, 202, 302, 103, 203, 303, 104, 204, 304]\n"
     ]
    }
   ],
   "source": [
    "# 列表生成式可以嵌套\n",
    "# 有两个表a,b\n",
    "a=[i for i in range(1,5)]\n",
    "print(a)\n",
    "b=[i for i in range(100,400) if i%100==0]\n",
    "print(b)\n",
    "\n",
    "# 列表生成式可以嵌套\n",
    "c=[m+n for m in a for n in b]\n",
    "print(c)\n"
   ]
  },
  {
   "cell_type": "markdown",
   "metadata": {},
   "source": [
    "# 关于列表的常用函数"
   ]
  },
  {
   "cell_type": "code",
   "execution_count": 68,
   "metadata": {},
   "outputs": [
    {
     "name": "stdout",
     "output_type": "stream",
     "text": [
      "99\n",
      "99\n",
      "python\n"
     ]
    }
   ],
   "source": [
    "# len:求列表长度\n",
    "a=[x for x in range(1,100)]\n",
    "print(len(a))\n",
    "\n",
    "#max:求列表中的最大值\n",
    "print(max(a))\n",
    "b=[\"man\",\"file\",\"python\"]\n",
    "print(max(b))"
   ]
  },
  {
   "cell_type": "code",
   "execution_count": 70,
   "metadata": {},
   "outputs": [
    {
     "name": "stdout",
     "output_type": "stream",
     "text": [
      "[1, 2, 3]\n"
     ]
    }
   ],
   "source": [
    "#list:讲其他格式的数据转换称list\n",
    "a=[1,2,3]\n",
    "print(list(a))"
   ]
  },
  {
   "cell_type": "code",
   "execution_count": 72,
   "metadata": {},
   "outputs": [
    {
     "name": "stdout",
     "output_type": "stream",
     "text": [
      "['I', ' ', 'l', 'o', 'v', 'e', ' ', 'w', 'a', 'n', 'g', 'x', 'i', 'a', 'o', 'j', 'i', 'n', 'g']\n"
     ]
    }
   ],
   "source": [
    "s=\"I love wangxiaojing\"\n",
    "print(list(s))"
   ]
  },
  {
   "cell_type": "code",
   "execution_count": 73,
   "metadata": {},
   "outputs": [
    {
     "name": "stdout",
     "output_type": "stream",
     "text": [
      "[12, 13, 14, 15, 16, 17, 18]\n"
     ]
    }
   ],
   "source": [
    "#把range长生的内容转换称list\n",
    "print(list(range(12,19)))"
   ]
  }
 ],
 "metadata": {
  "kernelspec": {
   "display_name": "Python 3",
   "language": "python",
   "name": "python3"
  },
  "language_info": {
   "codemirror_mode": {
    "name": "ipython",
    "version": 3
   },
   "file_extension": ".py",
   "mimetype": "text/x-python",
   "name": "python",
   "nbconvert_exporter": "python",
   "pygments_lexer": "ipython3",
   "version": "3.7.0"
  }
 },
 "nbformat": 4,
 "nbformat_minor": 2
}
