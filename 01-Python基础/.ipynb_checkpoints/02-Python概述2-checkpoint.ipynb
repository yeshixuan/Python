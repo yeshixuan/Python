{
 "cells": [
  {
   "cell_type": "markdown",
   "metadata": {},
   "source": [
    "# 额外内容\n",
    "- 坚持写Blog + 撸代码\n",
    "- Jupyter notebook的用法\n",
    "    - 跟vi/vim的编辑模式很像\n",
    "    - Esc+a上面插入一个单元\n",
    "    - Esc+x 剪切一个单元\n",
    "    - Esc + v 黏贴一个单元\n",
    "    - markdown模式下 B 下面插入一个单元\n",
    "    - Shift + Enter:运行本单元并新建下一个单元\n",
    "    - Ctrl + Enter:运行本单元\n",
    "    - Esc + M 进入markdown模式\n",
    "    - Esc + Y 进入code模式\n",
    "    - \n",
    "    "
   ]
  },
  {
   "cell_type": "markdown",
   "metadata": {},
   "source": [
    "# 环境安装\n",
    " - 推荐Virtualbox+Ubuntu\n",
    " - 套件推荐 Anaconda+pycharm\n",
    " - 如果机器内存大于4G，推荐虚拟机下启动系统\n",
    " - 找工作事一定要有一个github放代码，博客地址：我的文章，我涉猎的区域的广度和深度"
   ]
  },
  {
   "cell_type": "code",
   "execution_count": 1,
   "metadata": {},
   "outputs": [
    {
     "name": "stdout",
     "output_type": "stream",
     "text": [
      "Hello world\n"
     ]
    },
    {
     "data": {
      "text/plain": [
       "'\\n这里边任何内容机器都不管了\\n我可以写好多\\n'"
      ]
     },
     "execution_count": 1,
     "metadata": {},
     "output_type": "execute_result"
    }
   ],
   "source": [
    "#1.代码的作用\n",
    "#2.给机器看\n",
    "#注释是纯给人看的内容\n",
    "print(\"Hello world\")#d打印hello world出来\n",
    "'''\n",
    "这里边任何内容机器都不管了\n",
    "我可以写好多\n",
    "'''"
   ]
  },
  {
   "cell_type": "markdown",
   "metadata": {},
   "source": [
    "# 注释\n",
    "- 机器不去执行注释内容\n",
    "- 注释一般用自然语言书写\n",
    "- 注释的写法：\n",
    "    - 行注释：以#号开头，可以单独运行，也可以在某行代码后边\n",
    "    - 块注释：好几行代码或内容，以三个连续单引号或双引号开始和结束，中间任何内容机器都忽略\n",
    "- 注释原则：\n",
    "    - 恰当\n",
    "    - 不是越多越好\n",
    "    - 复杂算法\n",
    "    - 不容易懂的代码"
   ]
  },
  {
   "cell_type": "markdown",
   "metadata": {},
   "source": [
    "# 变量\n",
    "- 程序=数据结构+算法\n",
    "- 变量就是可以重复使用的一个量，或者叫一个代号\n",
    "- 变量命名的规则\n",
    "  - 变量命名可以包含数字，大小写字母，下划线或者更多，但是我们不推荐除了前三种内容之外的符号\n",
    "  - 数字不可以打头\n",
    "    - 4man,5for 是不可以的\n",
    "    - man4,for5 是可以的\n",
    "  - 一般在python中，以下划线开头的内容是具有特殊含义的，不建议使用\n",
    "    - 比如 _age,_name，理论可以，但强烈不推荐，包括但不限于一个下划线开头和两个连续下划线开头\n",
    "  - 大小写不一样，俗称大小写敏感\n",
    "    - ForMan 跟 forMan不是一个变量名称\n",
    "  - 推荐：\n",
    "    - 使用具有固定含义的英文单词或者缩写，srv=server,skt=socket,一般以posix命名规则为主\n",
    "    - 驼峰命名法\n",
    "       - 名称以单词自动连接，且每个单词首字母大写\n",
    "         - 大驼峰，每个单词第一个字母均大写\n",
    "           - 在Python中给类命名使用此法\n",
    "           - MyFirstLove,IntOne\n",
    "         - 小驼峰，类似大驼峰，但是第一个字母小写\n",
    "           - 在Python中一般给普通变量或者函数命名\n",
    "           - myFirstLove,intOne\n",
    "         - posix写法\n",
    "           - 多个单词用下划线连接\n",
    "           - 单词全部小写\n",
    "           - my_first_love,int_one   #给普通变量写，这个多一点\n",
    "   - 保留字和关键字\n",
    "     - 变量命名必须避开，不能跟关键字和保留字充分\n",
    "     - class,def,break,for"
   ]
  },
  {
   "cell_type": "code",
   "execution_count": 2,
   "metadata": {},
   "outputs": [
    {
     "name": "stdout",
     "output_type": "stream",
     "text": [
      "['False', 'None', 'True', 'and', 'as', 'assert', 'async', 'await', 'break', 'class', 'continue', 'def', 'del', 'elif', 'else', 'except', 'finally', 'for', 'from', 'global', 'if', 'import', 'in', 'is', 'lambda', 'nonlocal', 'not', 'or', 'pass', 'raise', 'return', 'try', 'while', 'with', 'yield']\n"
     ]
    }
   ],
   "source": [
    "#查看关键字的方法\n",
    "import keyword #映入关键字模块\n",
    "#答应出系统颧骨关键字\n",
    "print(keyword.kwlist)"
   ]
  },
  {
   "cell_type": "markdown",
   "metadata": {},
   "source": [
    "## 变量声明\n",
    "- var_name=var_value\n",
    "- var1=var2=var3=var_value\n",
    "- var1,var2,var3=v1,v2,v3\n"
   ]
  },
  {
   "cell_type": "code",
   "execution_count": 3,
   "metadata": {},
   "outputs": [
    {
     "name": "stdout",
     "output_type": "stream",
     "text": [
      "18\n",
      "18\n",
      "18\n",
      "18\n",
      "18\n",
      "12\n",
      "21\n",
      "45\n"
     ]
    }
   ],
   "source": [
    "#定义行列age,把18放入变量age中\n",
    "age=18\n",
    "print(age)\n",
    "print(18)\n",
    "\n",
    "#给age1,age2,age3=18放入同一个内容或值\n",
    "age1=age2=age3=18\n",
    "print(age1)\n",
    "print(age2)\n",
    "print(age3)\n",
    "\n",
    "#一行内多个变量赋值\n",
    "age4,age5,age6=12,21,45\n",
    "print(age4)\n",
    "print(age5)\n",
    "print(age6)"
   ]
  },
  {
   "cell_type": "markdown",
   "metadata": {},
   "source": [
    "## 变量类型\n",
    "- 严格意义上讲，python只是一个类型\n",
    "- 标准数据一共六种\n",
    "  - 数字类型 Number\n",
    "  - 字符串类型 str\n",
    "  - 列表 list\n",
    "  - 元组 tuple\n",
    "  - 字典 Dictionary\n",
    "  - 集合 set\n",
    "  "
   ]
  },
  {
   "cell_type": "markdown",
   "metadata": {},
   "source": [
    "## Number数字类型\n",
    "- 数字类型没有大小写限制\n",
    "### 整数\n",
    " - 没有小数部分，表示个数的数字\n",
    " - 自然数，0，自然数\n",
    " - 整数分禁止\n",
    "   - 二进制\n",
    "     - 计算机常用\n",
    "     - 是计算机唯一直接理解的数字\n",
    "     - 表示0b开头的0，1代码\n",
    "     - 例如：0b01101,0b10001\n",
    "   - 八进制\n",
    "     - 不常用\n",
    "     - 以0o开头的包含0-7的数字\n",
    "   - 十六进制\n",
    "     - 逢16进1\n",
    "     - 其实是每四位二进制表示一位十六进制数\n",
    "     - 包含0-9，a-f\n",
    "     - 数字上以0x开头表示\n",
    "   - 十进制\n",
    "     -18，89，178\n",
    " \n"
   ]
  },
  {
   "cell_type": "code",
   "execution_count": 4,
   "metadata": {},
   "outputs": [
    {
     "name": "stdout",
     "output_type": "stream",
     "text": [
      "18\n",
      "18\n",
      "18\n",
      "255\n"
     ]
    }
   ],
   "source": [
    "age=18\n",
    "print(18)\n",
    "\n",
    "age=0b10010\n",
    "print(age)\n",
    "\n",
    "age=0o022\n",
    "print(age)\n",
    "\n",
    "age=0xff #十六进制ff表示二进制 1111 1111\n",
    "print(age)"
   ]
  },
  {
   "cell_type": "markdown",
   "metadata": {},
   "source": [
    "### 浮点数\n",
    "- 就是通俗意义上的小数\n",
    "- 常见的案例格式\n",
    "    - 3.14\n",
    "    - 3.1415\n",
    "    - 3.\n",
    "    - 0.5\n",
    "    - .5\n",
    "- 科学计数法\n",
    "    - 定义跟数学定义\n",
    "    - 写法是用e/E后面跟整数表示10的指数\n",
    "    - 176.34==1.7634e2\n",
    "    - 0.876==8.76e-1\n",
    "\n"
   ]
  },
  {
   "cell_type": "code",
   "execution_count": 5,
   "metadata": {},
   "outputs": [
    {
     "name": "stdout",
     "output_type": "stream",
     "text": [
      "156.34\n",
      "184.0\n",
      "0.2\n",
      "0.2\n"
     ]
    }
   ],
   "source": [
    "height=156.34\n",
    "print(height)\n",
    "height = 1.84e2\n",
    "print(height)\n",
    "\n",
    "shili=0.2\n",
    "print(shili)\n",
    "\n",
    "shili=.2\n",
    "print(shili)"
   ]
  },
  {
   "cell_type": "markdown",
   "metadata": {},
   "source": [
    "### complex\n",
    "- 与数学定义一直\n",
    "- 复数的虚部用j/J表示\n",
    "    - 5+4j\n",
    "    - 4j\n",
    "    - (4j)"
   ]
  },
  {
   "cell_type": "markdown",
   "metadata": {},
   "source": [
    "### 布尔值\n",
    "- 布尔值就是用来表示真假的值\n",
    "- 只有两个值，True/False\n",
    "- 布尔值可以跟数字直接操作\n",
    "    - 如果数字用来当做布尔值使用，0=False,其余都是True\n"
   ]
  },
  {
   "cell_type": "code",
   "execution_count": 6,
   "metadata": {},
   "outputs": [
    {
     "name": "stdout",
     "output_type": "stream",
     "text": [
      "19\n",
      "负数是Ture\n"
     ]
    }
   ],
   "source": [
    "#布尔值的操作\n",
    "age=18+True\n",
    "print(age)\n",
    "\n",
    "# 判断语句\n",
    "a = -1\n",
    "if a:\n",
    "    print('负数是Ture')\n",
    "else:\n",
    "    print('负数是False')\n",
    "    "
   ]
  },
  {
   "cell_type": "markdown",
   "metadata": {},
   "source": [
    "## 字符串\n",
    "- 用来表示一串文字信息\n",
    "- 如何表示\n",
    "  - 单引号\n",
    "  - 双引号\n",
    "  - 三引号（三个单引号或者三个双引号）\n",
    "    - 能够扩起多行信息\n",
    "- 单双引号可以交错使用，一般含义一致"
   ]
  },
  {
   "cell_type": "code",
   "execution_count": 7,
   "metadata": {},
   "outputs": [
    {
     "name": "stdout",
     "output_type": "stream",
     "text": [
      "i love wangxiaojing\n",
      "哈哈哈哈\n",
      "<a style=\"color:red\">哈哈哈</a>\n",
      "<a style=\"color:red\">\n",
      "\n",
      "哈哈哈</a>\n"
     ]
    }
   ],
   "source": [
    "love=\"i love wangxiaojing\"\n",
    "print(love)\n",
    "\n",
    "love=\"哈哈哈哈\"\n",
    "print(love)\n",
    "\n",
    "#但双引号交错使用的例子\n",
    "#<a style=\"color:red\">哈哈哈</a>\n",
    "#用引号表示上面字符串\n",
    "\n",
    "html='<a style=\"color:red\">哈哈哈</a>'\n",
    "print(html)\n",
    "\n",
    "html='''<a style=\"color:red\">\n",
    "\n",
    "哈哈哈</a>'''\n",
    "\n",
    "print(html)\n"
   ]
  }
 ],
 "metadata": {
  "kernelspec": {
   "display_name": "Python 3",
   "language": "python",
   "name": "python3"
  },
  "language_info": {
   "codemirror_mode": {
    "name": "ipython",
    "version": 3
   },
   "file_extension": ".py",
   "mimetype": "text/x-python",
   "name": "python",
   "nbconvert_exporter": "python",
   "pygments_lexer": "ipython3",
   "version": "3.7.0"
  }
 },
 "nbformat": 4,
 "nbformat_minor": 2
}
