{
 "cells": [
  {
   "cell_type": "markdown",
   "metadata": {},
   "source": [
    "# while 循环\n",
    "- 一个循环语句\n",
    "- 表示当条件成立的时候，就循环\n",
    "- 不知道具体循环次数，但是能确定循环的成立的时候用while循环\n",
    "- while语法：\n",
    "     \n",
    "       while 条件表达式：\n",
    "          语句块\n",
    "       #另外一种表达方法：\n",
    "       while 条件表达式：\n",
    "          语句块1\n",
    "       else：\n",
    "          语句块2\n",
    " - 注意：如果能用for就优先用for，再用while"
   ]
  },
  {
   "cell_type": "code",
   "execution_count": 5,
   "metadata": {},
   "outputs": [
    {
     "name": "stdout",
     "output_type": "stream",
     "text": [
      "第1年拿了10670.0块钱\n",
      "第2年拿了11384.89块钱\n",
      "第3年拿了12147.677629999998块钱\n",
      "第4年拿了12961.572031209998块钱\n",
      "第5年拿了13829.997357301068块钱\n",
      "第6年拿了14756.607180240238块钱\n",
      "第7年拿了15745.299861316334块钱\n",
      "第8年拿了16800.23495202453块钱\n",
      "第9年拿了17925.85069381017块钱\n",
      "第10年拿了19126.88269029545块钱\n",
      "第11年拿了20408.383830545245块钱\n"
     ]
    }
   ],
   "source": [
    "# 如果年利率是6.7%,则多少年厚本钱会翻倍\n",
    "benqian=10000\n",
    "year=0\n",
    "while benqian<20000:\n",
    "    benqian=benqian*(1+0.067)\n",
    "    year+=1\n",
    "    print(\"第{0}年拿了{1}块钱\".format(year,benqian))\n",
    "    "
   ]
  },
  {
   "cell_type": "code",
   "execution_count": 7,
   "metadata": {},
   "outputs": [
    {
     "name": "stdout",
     "output_type": "stream",
     "text": [
      "第1年拿了10670.0块钱\n",
      "第2年拿了11384.89块钱\n",
      "第3年拿了12147.677629999998块钱\n",
      "第4年拿了12961.572031209998块钱\n",
      "第5年拿了13829.997357301068块钱\n",
      "第6年拿了14756.607180240238块钱\n",
      "第7年拿了15745.299861316334块钱\n",
      "第8年拿了16800.23495202453块钱\n",
      "第9年拿了17925.85069381017块钱\n",
      "第10年拿了19126.88269029545块钱\n",
      "第11年拿了20408.383830545245块钱\n",
      "11年翻倍了，取出来\n"
     ]
    }
   ],
   "source": [
    "# 如果年利率是6.7%,则多少年厚本钱会翻倍\n",
    "# 翻倍了厚干点点事\n",
    "benqian=10000\n",
    "year=0\n",
    "while benqian<20000:\n",
    "    benqian=benqian*(1+0.067)\n",
    "    year+=1\n",
    "    print(\"第{0}年拿了{1}块钱\".format(year,benqian))\n",
    "else:\n",
    "    print(\"{0}年翻倍了，取出来\".format(year))\n",
    "    "
   ]
  },
  {
   "cell_type": "markdown",
   "metadata": {},
   "source": [
    "# 函数\n",
    "- 代码的一种组织形式\n",
    "- 一个函数一般完成一项特定的功能\n",
    "- 函数定义：\n",
    "   - 函数需要先定义\n",
    "   - 使用函数，俗称调用"
   ]
  },
  {
   "cell_type": "code",
   "execution_count": 5,
   "metadata": {},
   "outputs": [
    {
     "name": "stdout",
     "output_type": "stream",
     "text": [
      "我结束了\n"
     ]
    }
   ],
   "source": [
    "#定义一个函数\n",
    "#只有定义的画不会执行\n",
    "#1.def关键字，厚跟一个空格\n",
    "#2.函数命，自己定义，起名需要遵循命名规则，约定俗称，大驼峰命名只能给类用\n",
    "#3，后面括号和冒号不能省，括号内可以有参数\n",
    "#4.函数内所有代码缩进\n",
    "def func():\n",
    "    print(\"我事一个函数\")\n",
    "    print(\"我要完成一定的功能\")\n",
    "    print(\"我结束了\")"
   ]
  },
  {
   "cell_type": "code",
   "execution_count": 6,
   "metadata": {},
   "outputs": [
    {
     "name": "stdout",
     "output_type": "stream",
     "text": [
      "我事一个函数\n",
      "我要完成一定的功能\n"
     ]
    }
   ],
   "source": [
    "# 函数的调用\n",
    "# 直接函数名后面跟括号\n",
    "func()"
   ]
  },
  {
   "cell_type": "markdown",
   "metadata": {},
   "source": [
    "### 函数的参数和返回值\n",
    "- 参数：负责给函数传递一些必要的数据或信息\n",
    "   - 形参（形式参数）：在函数定义的时候用到的参数，没有具体值，只是一个占位的符号，称为形参\n",
    "   - 实参（实际参数）：在调用函数的时候输入的值\n",
    "- 返回值：函数的执行结果\n",
    "   - 使用return关键字\n",
    "   - 如果没有return，默认返回一个None\n",
    "   - 函数一旦执行return语句，则无条件返回，即结束函数的执行\n"
   ]
  },
  {
   "cell_type": "code",
   "execution_count": 10,
   "metadata": {},
   "outputs": [
    {
     "name": "stdout",
     "output_type": "stream",
     "text": [
      "mimi,你怎么了\n",
      "Sir,你不理额额就走了\n",
      "明月,你怎么了\n",
      "Sir,你不理额额就走了\n"
     ]
    }
   ],
   "source": [
    "#参数的使用和定义\n",
    "#参数person只是要给符号，代表的事调用的时候的某一个数据\n",
    "#调用的时候，会用P的值代替函数中所有的person\n",
    "def hello(person):\n",
    "    print(\"{0},你怎么了\".format(person))\n",
    "    print(\"Sir,你不理额额就走了\")\n",
    "hello(\"mimi\")\n",
    "p=\"明月\"\n",
    "hello(p)"
   ]
  },
  {
   "cell_type": "code",
   "execution_count": 16,
   "metadata": {},
   "outputs": [
    {
     "name": "stdout",
     "output_type": "stream",
     "text": [
      "明月,你怎么了\n",
      "Sir,你不理额额就走了\n",
      "我已经跟明月打过招呼了，明月不理我\n"
     ]
    }
   ],
   "source": [
    "# reutrn语句的基本使用\n",
    "# 函数打完招呼厚返回一句话\n",
    "def hello(person):\n",
    "    print(\"{0},你怎么了\".format(person))\n",
    "    print(\"Sir,你不理额额就走了\")\n",
    "    return \"我已经跟{0}打过招呼了，{0}不理我\".format(person)\n",
    "\n",
    "p=\"明月\"\n",
    "rst=hello(p)\n",
    "print(rst)\n",
    "\n"
   ]
  },
  {
   "cell_type": "code",
   "execution_count": 28,
   "metadata": {},
   "outputs": [
    {
     "name": "stdout",
     "output_type": "stream",
     "text": [
      "liyang,你怎么了\n",
      "哈哈，我提前结束了\n"
     ]
    }
   ],
   "source": [
    "# return案例2\n",
    "def hello(person):\n",
    "    print(\"{0},你怎么了\".format(person))\n",
    "    return \"哈哈，我提前结束了\"\n",
    "    print(\"Sir,你不理额额就走了\")\n",
    "    return \"我已经跟{0}打过招呼了，{0}不理我\".format(person)\n",
    "p=\"liyang\"\n",
    "rst=hello(p)\n",
    "print(rst)\n",
    "\n"
   ]
  },
  {
   "cell_type": "code",
   "execution_count": 29,
   "metadata": {},
   "outputs": [
    {
     "name": "stdout",
     "output_type": "stream",
     "text": [
      "Help on built-in function print in module builtins:\n",
      "\n",
      "print(...)\n",
      "    print(value, ..., sep=' ', end='\\n', file=sys.stdout, flush=False)\n",
      "    \n",
      "    Prints the values to a stream, or to sys.stdout by default.\n",
      "    Optional keyword arguments:\n",
      "    file:  a file-like object (stream); defaults to the current sys.stdout.\n",
      "    sep:   string inserted between values, default a space.\n",
      "    end:   string appended after the last value, default a newline.\n",
      "    flush: whether to forcibly flush the stream.\n",
      "\n"
     ]
    }
   ],
   "source": [
    "# 查找函数帮助文档\n",
    "#1.用help函数\n",
    "help(print)"
   ]
  },
  {
   "cell_type": "code",
   "execution_count": 42,
   "metadata": {},
   "outputs": [
    {
     "name": "stdout",
     "output_type": "stream",
     "text": [
      "1 ......................\n",
      "2 4 ......................\n",
      "3 6 9 ......................\n",
      "4 8 12 16 ......................\n",
      "5 10 15 20 25 ......................\n",
      "6 12 18 24 30 36 ......................\n",
      "7 14 21 28 35 42 49 ......................\n",
      "8 16 24 32 40 48 56 64 ......................\n",
      "9 18 27 36 45 54 63 72 81 ......................\n"
     ]
    }
   ],
   "source": [
    "# 九九乘法表\n",
    "# version 1.0\n",
    "\n",
    "for row in range(1,10):\n",
    "    #打印一行\n",
    "    for col in range(1,row+1):\n",
    "        #print函数默认打印完毕后换行\n",
    "        print(row*col,end=\" \")\n",
    "    print(\"......................\")"
   ]
  },
  {
   "cell_type": "code",
   "execution_count": 44,
   "metadata": {},
   "outputs": [
    {
     "name": "stdout",
     "output_type": "stream",
     "text": [
      "1 \n",
      "2 4 \n",
      "3 6 9 \n",
      "4 8 12 16 \n",
      "5 10 15 20 25 \n",
      "6 12 18 24 30 36 \n",
      "7 14 21 28 35 42 49 \n",
      "8 16 24 32 40 48 56 64 \n",
      "9 18 27 36 45 54 63 72 81 \n"
     ]
    }
   ],
   "source": [
    "# 定义一个函数，打印一行九九乘法表\n",
    "def printLine(row):\n",
    "    for col in range(1,row+1):\n",
    "        print(row*col,end=\" \")\n",
    "    print(\"\")\n",
    "    \n",
    "# 九九乘法表\n",
    "# version 2.0\n",
    "for row in range(1,10):\n",
    "    printLine(row)\n",
    "   "
   ]
  },
  {
   "cell_type": "markdown",
   "metadata": {},
   "source": [
    "## 参数详解\n",
    "- [参考资料]（https://www.cnblogs.com/bingabcd/p/6671368.html）\n",
    "- python参考资料：headfirst python ->零基础入门学习python(小甲鱼),本将以参考的事流程的python-->看免费课-->习题-->后期可以考虑腾讯公开免费课\n",
    "- 参数分类\n",
    "   - 普通参数\n",
    "   - 默认参数\n",
    "   - 关键字参数\n",
    "   - 收集参数\n",
    "- 普通参数\n",
    "   - 参见上例\n",
    "   - 定义的时候直接定义变量名\n",
    "   - 调用的时候把变量或者值放入指定位置\n",
    "   \n",
    "         def  函数名（参数1，参数2，...）:\n",
    "            函数体\n",
    "         # 调用\n",
    "         函数名（value1,value2,......）\n",
    "         \n",
    "         # 调用的时候，具体值参考的事位置，按位置赋值\n",
    "- 默认参数\n",
    "   - 形参带有默认值\n",
    "   - 调用的时候，如果没有对应形参赋值，则使用默认值\n",
    "         \n",
    "         def func_name(p1=v1,p2=v2,.....)\n",
    "            func_block\n",
    "         #调用1\n",
    "         func_name()\n",
    "         \n",
    "         #调用2\n",
    "         value1=100\n",
    "         value2=200\n",
    "         func_name(value1,value2......)"
   ]
  },
  {
   "cell_type": "code",
   "execution_count": 45,
   "metadata": {},
   "outputs": [],
   "source": [
    "# 默认参数示例\n",
    "# 报名函数，需要知道学生性别\n",
    "# 学习Python的学生都是男生，所以，报名的时候如果没有特别指定，我们认为事男生\n",
    "\n",
    "def reg(name,age,gender=\"male\"):\n",
    "    if gender==\"male\":\n",
    "        print(\"{0} is {1},and he is a good student\".format(name,age))\n",
    "    else:\n",
    "        print(\"{0} is {1},and she is a good student\".format(name,age))\n",
    "    \n",
    "    "
   ]
  },
  {
   "cell_type": "code",
   "execution_count": 47,
   "metadata": {},
   "outputs": [
    {
     "name": "stdout",
     "output_type": "stream",
     "text": [
      "mingyue is 21,and he is a good student\n",
      "xiaojing is 23,and she is a good student\n"
     ]
    }
   ],
   "source": [
    "#调用默认参数案例1\n",
    "reg(\"mingyue\",21)\n",
    "reg(\"xiaojing\",23,\"female\")"
   ]
  }
 ],
 "metadata": {
  "kernelspec": {
   "display_name": "Python 3",
   "language": "python",
   "name": "python3"
  },
  "language_info": {
   "codemirror_mode": {
    "name": "ipython",
    "version": 3
   },
   "file_extension": ".py",
   "mimetype": "text/x-python",
   "name": "python",
   "nbconvert_exporter": "python",
   "pygments_lexer": "ipython3",
   "version": "3.7.0"
  }
 },
 "nbformat": 4,
 "nbformat_minor": 2
}
