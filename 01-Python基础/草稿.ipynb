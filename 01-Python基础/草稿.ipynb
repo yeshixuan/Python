{
 "cells": [
  {
   "cell_type": "code",
   "execution_count": 2,
   "metadata": {},
   "outputs": [],
   "source": [
    "import keyword"
   ]
  },
  {
   "cell_type": "code",
   "execution_count": 5,
   "metadata": {},
   "outputs": [],
   "source": [
    "# keyword.kwlist"
   ]
  },
  {
   "cell_type": "markdown",
   "metadata": {},
   "source": [
    "# 变量声明\n",
    "var_name = var_value\n",
    "var1 = var2 = var3 = var_value\n",
    "var1, var2, var3 = v1, v2, v3"
   ]
  },
  {
   "cell_type": "code",
   "execution_count": 10,
   "metadata": {},
   "outputs": [
    {
     "name": "stdout",
     "output_type": "stream",
     "text": [
      "15\n",
      "15\n",
      "15\n"
     ]
    }
   ],
   "source": [
    "age1 = age2 = age3 = 15\n",
    "print(age1)\n",
    "print(age2)\n",
    "print(age3)"
   ]
  },
  {
   "cell_type": "code",
   "execution_count": 11,
   "metadata": {},
   "outputs": [],
   "source": [
    "# 类型：Number, str, list, tuple, dic, set"
   ]
  },
  {
   "cell_type": "code",
   "execution_count": 13,
   "metadata": {},
   "outputs": [
    {
     "name": "stdout",
     "output_type": "stream",
     "text": [
      "15\n"
     ]
    }
   ],
   "source": [
    "#二进制\n",
    "print(0b1111)"
   ]
  },
  {
   "cell_type": "code",
   "execution_count": 14,
   "metadata": {},
   "outputs": [
    {
     "name": "stdout",
     "output_type": "stream",
     "text": [
      "83\n"
     ]
    }
   ],
   "source": [
    "print(0o123)"
   ]
  },
  {
   "cell_type": "code",
   "execution_count": 16,
   "metadata": {},
   "outputs": [
    {
     "name": "stdout",
     "output_type": "stream",
     "text": [
      "8003\n"
     ]
    }
   ],
   "source": [
    "print(0x1f43)"
   ]
  },
  {
   "cell_type": "code",
   "execution_count": 17,
   "metadata": {},
   "outputs": [
    {
     "name": "stdout",
     "output_type": "stream",
     "text": [
      "3.13\n",
      "2.0\n",
      "0.3\n"
     ]
    }
   ],
   "source": [
    "print(3.13)\n",
    "print(2.)\n",
    "print(.3)"
   ]
  },
  {
   "cell_type": "code",
   "execution_count": 18,
   "metadata": {},
   "outputs": [
    {
     "name": "stdout",
     "output_type": "stream",
     "text": [
      "3230.0\n"
     ]
    }
   ],
   "source": [
    "print(3.23e3)"
   ]
  },
  {
   "cell_type": "code",
   "execution_count": 19,
   "metadata": {},
   "outputs": [
    {
     "data": {
      "text/plain": [
       "19"
      ]
     },
     "execution_count": 19,
     "metadata": {},
     "output_type": "execute_result"
    }
   ],
   "source": [
    "age = 18 + True\n",
    "age"
   ]
  },
  {
   "cell_type": "code",
   "execution_count": 22,
   "metadata": {},
   "outputs": [
    {
     "name": "stdout",
     "output_type": "stream",
     "text": [
      "sfsfsfs\n"
     ]
    }
   ],
   "source": [
    "love = 'sfsfsfs'\n",
    "print(love)"
   ]
  },
  {
   "cell_type": "code",
   "execution_count": 23,
   "metadata": {},
   "outputs": [
    {
     "name": "stdout",
     "output_type": "stream",
     "text": [
      "3\n",
      "7\n",
      "73\n",
      "831\n"
     ]
    }
   ],
   "source": [
    "王浩 = 3\n",
    "print(王浩)\n",
    "print(0b111)\n",
    "print(0o111)\n",
    "print(0x33f)"
   ]
  },
  {
   "cell_type": "raw",
   "metadata": {},
   "source": [
    "如果数字用来当做布尔值使用，那么0=False，其余都是True"
   ]
  },
  {
   "cell_type": "markdown",
   "metadata": {},
   "source": [
    "windows:\\n\n",
    "linux:\\r\\n"
   ]
  },
  {
   "cell_type": "code",
   "execution_count": 33,
   "metadata": {},
   "outputs": [
    {
     "name": "stdout",
     "output_type": "stream",
     "text": [
      "let's go\n",
      "let's go\n",
      "let's go\n",
      "c:\\u\n",
      "s\n",
      "m\n",
      "liuliuliu\r\n",
      "sfsfsf\n"
     ]
    }
   ],
   "source": [
    "# 打印let's go\n",
    "#转义字符\n",
    "s = 'let\\'s go'\n",
    "print(s)\n",
    "# 嵌套引号\n",
    "s = \"let's go\"\n",
    "print(s)\n",
    "# 最直接的转义\n",
    "s = r\"let's go\"\n",
    "print(s)\n",
    "\n",
    "s = 'c:\\\\u'\n",
    "print(s)\n",
    "s = 's\\nm'\n",
    "print(s)\n",
    "s = 'liuliuliu\\r\\nsfsfsf'\n",
    "print(s)"
   ]
  },
  {
   "cell_type": "code",
   "execution_count": 39,
   "metadata": {},
   "outputs": [
    {
     "name": "stdout",
     "output_type": "stream",
     "text": [
      "sfsfsfsfsfsfsfs45sfsfsfsfsfsfsfs\n",
      "wrwrwr scascrwrcwrcw 564534\n",
      "sfsfsfsfd45fssfsf\n",
      "bbbbbbbbbf4.140000sfsfsfs\n",
      "bbbbbbbbbf4sfsfsfs\n"
     ]
    }
   ],
   "source": [
    "s = 'sfsfsfsfsfsfsfs%ssfsfsfsfsfsfsfs'%45\n",
    "print(s)\n",
    "s = 'wrwrwr scascrwrcwrcw {}'.format(564534)\n",
    "print(s)\n",
    "\n",
    "s = 'sfsfsfsfd%sfssfsf'%45\n",
    "print(s)\n",
    "#浮点型%f\n",
    "s = 'bbbbbbbbbf%fsfsfsfs'%4.14\n",
    "print(s)\n",
    "s = 'bbbbbbbbbf%dsfsfsfs'%4.14\n",
    "print(s)"
   ]
  },
  {
   "cell_type": "code",
   "execution_count": 42,
   "metadata": {},
   "outputs": [
    {
     "name": "stdout",
     "output_type": "stream",
     "text": [
      "3\n",
      "12\n",
      "-1\n",
      "4\n",
      "1.5\n"
     ]
    }
   ],
   "source": [
    "print(1+2)\n",
    "print('1'+'2')\n",
    "print(1-2)\n",
    "print(2*2)\n",
    "print(3/2)"
   ]
  },
  {
   "cell_type": "code",
   "execution_count": 43,
   "metadata": {},
   "outputs": [
    {
     "name": "stdout",
     "output_type": "stream",
     "text": [
      "3\n",
      "1\n"
     ]
    }
   ],
   "source": [
    "print(9//3)\n",
    "print(10%3)"
   ]
  },
  {
   "cell_type": "code",
   "execution_count": 44,
   "metadata": {},
   "outputs": [
    {
     "name": "stdout",
     "output_type": "stream",
     "text": [
      "False\n"
     ]
    }
   ],
   "source": [
    "a = 3==4\n",
    "print(a)"
   ]
  },
  {
   "cell_type": "code",
   "execution_count": 45,
   "metadata": {},
   "outputs": [
    {
     "name": "stdout",
     "output_type": "stream",
     "text": [
      "90 90\n"
     ]
    }
   ],
   "source": [
    "a = b =90\n",
    "print(a,b)"
   ]
  },
  {
   "cell_type": "code",
   "execution_count": 47,
   "metadata": {},
   "outputs": [
    {
     "name": "stdout",
     "output_type": "stream",
     "text": [
      "True\n"
     ]
    }
   ],
   "source": [
    "a = 3 !=4\n",
    "print(a)"
   ]
  },
  {
   "cell_type": "code",
   "execution_count": 48,
   "metadata": {},
   "outputs": [
    {
     "name": "stdout",
     "output_type": "stream",
     "text": [
      "False\n"
     ]
    }
   ],
   "source": [
    "a = 3 >=4\n",
    "print(a)"
   ]
  },
  {
   "cell_type": "code",
   "execution_count": 49,
   "metadata": {},
   "outputs": [
    {
     "name": "stdout",
     "output_type": "stream",
     "text": [
      "True\n"
     ]
    }
   ],
   "source": [
    "a = 3 <= 4\n",
    "print(a)"
   ]
  },
  {
   "cell_type": "code",
   "execution_count": 50,
   "metadata": {},
   "outputs": [
    {
     "name": "stdout",
     "output_type": "stream",
     "text": [
      "4\n"
     ]
    }
   ],
   "source": [
    "a = a +3\n",
    "print(a)\n",
    "# -= *= /= //= %=, **="
   ]
  },
  {
   "cell_type": "code",
   "execution_count": 60,
   "metadata": {},
   "outputs": [
    {
     "name": "stdout",
     "output_type": "stream",
     "text": [
      "False\n",
      "True\n"
     ]
    }
   ],
   "source": [
    "a = True\n",
    "b = False\n",
    "c = True\n",
    "\n",
    "d = a and b and c \n",
    "print(d)\n",
    "d = a or b or c\n",
    "print(d)"
   ]
  },
  {
   "cell_type": "code",
   "execution_count": 67,
   "metadata": {},
   "outputs": [
    {
     "ename": "SyntaxError",
     "evalue": "invalid syntax (<ipython-input-67-6bb3e6a74c61>, line 6)",
     "output_type": "error",
     "traceback": [
      "\u001b[1;36m  File \u001b[1;32m\"<ipython-input-67-6bb3e6a74c61>\"\u001b[1;36m, line \u001b[1;32m6\u001b[0m\n\u001b[1;33m    a = a or (b=9) and 6\u001b[0m\n\u001b[1;37m               ^\u001b[0m\n\u001b[1;31mSyntaxError\u001b[0m\u001b[1;31m:\u001b[0m invalid syntax\n"
     ]
    }
   ],
   "source": [
    "# 逻辑运算符的短路案例\n",
    "a = True or xxxxxx\n",
    "print(a)\n",
    "\n",
    "b = 0\n",
    "# 下面的写法不对\n",
    "a = a or (b=9) and 6\n",
    "# a 已经是True了，b=9就不会被执行，b还是等于0\n",
    "print(a)\n",
    "print(b)"
   ]
  },
  {
   "cell_type": "code",
   "execution_count": null,
   "metadata": {},
   "outputs": [],
   "source": [
    "l = [1,2,3,4,5]\n",
    "a = 7\n",
    "\n",
    "b = a not in l\n",
    "print(b)\n",
    "b = a in l \n",
    "print(b)"
   ]
  },
  {
   "cell_type": "code",
   "execution_count": null,
   "metadata": {},
   "outputs": [],
   "source": [
    "a = 9\n",
    "b = 9\n",
    "print(a is b)\n",
    "print(a is not b)"
   ]
  },
  {
   "cell_type": "code",
   "execution_count": 3,
   "metadata": {},
   "outputs": [
    {
     "name": "stdout",
     "output_type": "stream",
     "text": [
      "输入数字3\n",
      "3\n",
      "<class 'str'>\n",
      "输入数字2\n",
      "2\n",
      "<class 'int'>\n",
      "输入数字2\n",
      "2.0\n",
      "<class 'float'>\n"
     ]
    }
   ],
   "source": [
    "# input:在屏幕上输入括号内的字符串\n",
    "m = input('输入数字')\n",
    "print(m)\n",
    "print(type(m))\n",
    "n = int(input('输入数字'))\n",
    "print(n)\n",
    "print(type(n))\n",
    "l = float(input('输入数字'))\n",
    "print(l)\n",
    "print(type(l))"
   ]
  },
  {
   "cell_type": "code",
   "execution_count": 5,
   "metadata": {},
   "outputs": [
    {
     "name": "stdout",
     "output_type": "stream",
     "text": [
      "刚成年\n"
     ]
    }
   ],
   "source": [
    "age = 18\n",
    "if age < 18:\n",
    "    print('未成年')\n",
    "elif age == 18:\n",
    "    print('刚成年')\n",
    "else:\n",
    "    print('造就成年了')"
   ]
  },
  {
   "cell_type": "markdown",
   "metadata": {},
   "source": [
    "if语句可以嵌套使用，但是不推荐，python没有switch-case"
   ]
  },
  {
   "cell_type": "code",
   "execution_count": 9,
   "metadata": {},
   "outputs": [
    {
     "name": "stdout",
     "output_type": "stream",
     "text": [
      "1 3 5 2 3 5 "
     ]
    }
   ],
   "source": [
    "inte = [1,3,5,2,3,5]\n",
    "for i in inte:\n",
    "    print(i, end=' ')"
   ]
  },
  {
   "cell_type": "code",
   "execution_count": 1,
   "metadata": {},
   "outputs": [
    {
     "name": "stdout",
     "output_type": "stream",
     "text": [
      "1 2 3 4 5 "
     ]
    }
   ],
   "source": [
    "i = 0\n",
    "while i < 5:\n",
    "    i += 1\n",
    "    print(i, end=' ')\n",
    "    "
   ]
  },
  {
   "cell_type": "markdown",
   "metadata": {},
   "source": [
    "range(a,b)，包括a不包括b"
   ]
  },
  {
   "cell_type": "code",
   "execution_count": 3,
   "metadata": {},
   "outputs": [
    {
     "name": "stdout",
     "output_type": "stream",
     "text": [
      "你是1\n",
      "你是2\n",
      "你是3哦！\n",
      "你是4\n",
      "你是5\n",
      "结束啦\n"
     ]
    }
   ],
   "source": [
    "l = [1,2,3,4,5]\n",
    "for i in l:\n",
    "    if i == 3:\n",
    "        print('你是3哦！')\n",
    "    else:\n",
    "        print('你是{}'.format(i))\n",
    "    i += 1\n",
    "print('结束啦')"
   ]
  },
  {
   "cell_type": "markdown",
   "metadata": {},
   "source": [
    "break：无条件结束整个循环，如果是嵌套在别的循环内的循环，只结束本个循环，外部循环不结束"
   ]
  },
  {
   "cell_type": "code",
   "execution_count": 8,
   "metadata": {},
   "outputs": [
    {
     "name": "stdout",
     "output_type": "stream",
     "text": [
      "\n",
      "0 \n",
      "0 1 \n",
      "0 1 2 \n",
      "0 1 2 \n",
      "0 1 2 \n",
      "0 1 2 \n",
      "\n",
      "0 \n",
      "0 1 \n",
      "0 1 2 \n",
      "0 1 2 \n",
      "0 1 2 4 \n",
      "0 1 2 4 5 \n"
     ]
    }
   ],
   "source": [
    "for i in range(7):\n",
    "    for i in range(0,i):\n",
    "        if i == 3:\n",
    "            break\n",
    "            \n",
    "        else:\n",
    "            print(i, end=' ')\n",
    "    print()\n",
    "         \n",
    "        \n",
    "for i in range(7):\n",
    "    for i in range(0,i):\n",
    "        if i == 3:\n",
    "            continue\n",
    "            \n",
    "        else:\n",
    "            print(i, end=' ')\n",
    "    print()\n",
    "             "
   ]
  },
  {
   "cell_type": "code",
   "execution_count": 7,
   "metadata": {},
   "outputs": [
    {
     "name": "stdout",
     "output_type": "stream",
     "text": [
      "0\n",
      "2\n",
      "4\n",
      "6\n",
      "8\n"
     ]
    }
   ],
   "source": [
    "for i in range(0,10,2):\n",
    "    print(i)"
   ]
  },
  {
   "cell_type": "code",
   "execution_count": 10,
   "metadata": {},
   "outputs": [
    {
     "name": "stdout",
     "output_type": "stream",
     "text": [
      "0 1 2 3 4 5 6 7 8 9 "
     ]
    }
   ],
   "source": [
    "# pass一般用于站位，没有跳过功能\n",
    "for i in range(10):\n",
    "    pass\n",
    "    print(i, end=' ')"
   ]
  },
  {
   "cell_type": "code",
   "execution_count": null,
   "metadata": {},
   "outputs": [],
   "source": []
  }
 ],
 "metadata": {
  "kernelspec": {
   "display_name": "Python 3",
   "language": "python",
   "name": "python3"
  },
  "language_info": {
   "codemirror_mode": {
    "name": "ipython",
    "version": 3
   },
   "file_extension": ".py",
   "mimetype": "text/x-python",
   "name": "python",
   "nbconvert_exporter": "python",
   "pygments_lexer": "ipython3",
   "version": "3.7.0"
  }
 },
 "nbformat": 4,
 "nbformat_minor": 2
}
