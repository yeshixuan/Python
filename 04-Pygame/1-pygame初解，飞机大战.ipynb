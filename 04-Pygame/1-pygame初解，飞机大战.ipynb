{
 "cells": [
  {
   "cell_type": "code",
   "execution_count": 2,
   "metadata": {},
   "outputs": [
    {
     "name": "stdout",
     "output_type": "stream",
     "text": [
      "1.9.5\n"
     ]
    }
   ],
   "source": [
    "import pygame\n",
    "print(pygame.ver)"
   ]
  },
  {
   "cell_type": "markdown",
   "metadata": {},
   "source": [
    "# 1. pygame\n",
    "## 初始化和退出\n",
    "- 使用pygame提供的所有功能之前调用：init()\n",
    "- 在游戏结束前需要调用：quit（）\n",
    "\n",
    "            import pygame\n",
    "            pygame.init()\n",
    "              # 游戏代码...\n",
    "            pygame.quit()"
   ]
  },
  {
   "cell_type": "markdown",
   "metadata": {},
   "source": [
    "## 游戏的坐标系\n",
    "- Rect(x, y, width, height) -> Rect"
   ]
  },
  {
   "cell_type": "markdown",
   "metadata": {},
   "source": [
    "## 创建主窗口\n",
    "- pygame.display：用于创建、管理游戏窗口\n",
    "    - pygame.display.set_mode()初始化游戏显示窗口\n",
    "    - pygame.display.update()刷新屏幕内容显示，稍后使用set_mode 方法\n",
    "    - set_mode(resolution=(0,0),flags=0,depth=0)->Surface"
   ]
  },
  {
   "cell_type": "markdown",
   "metadata": {},
   "source": [
    "## 简单的游戏循环\n",
    "- 为了做到游戏程序启动后，不会立即退出，通常会在游戏程序中增加一个 游戏循环，所谓 游戏循环 就是一个 无限循环，在创建游戏窗口代码下方，增加一个无限循环\n",
    "- 注意：游戏窗口不需要重复创建\n",
    "\n",
    "             # 游戏循环\n",
    "                  while True:\n",
    "                       pass"
   ]
  },
  {
   "cell_type": "markdown",
   "metadata": {},
   "source": [
    "# 2. 理解 图像 并实现图像绘制\n",
    "- 在游戏中，能够看到的 游戏元素 大多都是 图像\n",
    "- 图像文件初始是保存在磁盘上的，如果需要使用，第一步就需要被加载到内存\n",
    "- 要在屏幕上看到某一个图像的内容，需要按照三个步骤：\n",
    "\n",
    "    - 使用 pygame.image.load() 加载图像的数据\n",
    "    - 使用 游戏屏幕 对象，调用 blit 方法 将图像绘制到指定位置\n",
    "    - 调用 pygame.display.update() 方法更新整个屏幕的显示\n",
    "        - 注意：要想在屏幕上看到绘制的结果，就一定要调用 pygame.display.update() 方法\n"
   ]
  },
  {
   "cell_type": "code",
   "execution_count": 8,
   "metadata": {},
   "outputs": [
    {
     "ename": "SystemExit",
     "evalue": "",
     "output_type": "error",
     "traceback": [
      "An exception has occurred, use %tb to see the full traceback.\n",
      "\u001b[1;31mSystemExit\u001b[0m\n"
     ]
    },
    {
     "name": "stderr",
     "output_type": "stream",
     "text": [
      "E:\\Anaconoda\\lib\\site-packages\\IPython\\core\\interactiveshell.py:2969: UserWarning: To exit: use 'exit', 'quit', or Ctrl-D.\n",
      "  warn(\"To exit: use 'exit', 'quit', or Ctrl-D.\", stacklevel=1)\n"
     ]
    }
   ],
   "source": [
    "import pygame\n",
    "from pygame.locals import *    # 导入pygame库中的一些敞亮\n",
    "from sys import exit           # 导入sys库中的exit函数\n",
    "\n",
    "# 定义窗口的分辨率\n",
    "SCREEN_WIDTH = 480\n",
    "SCREEN_HEIGHT = 640\n",
    "\n",
    "# 初始化游戏\n",
    "pygame.init()             # 初始化pygame\n",
    "screen = pygame.display.set_mode([SCREEN_WIDTH, SCREEN_HEIGHT])# 初始化一个用于显示的窗口\n",
    "pygame.display.set_caption(\"This is my first pygame-program\")# 设置矿口标题\n",
    "\n",
    "# 时间循环（main loop）\n",
    "while True:\n",
    "    \n",
    "    # 处理游戏退出\n",
    "    # 从消息队列中循环取出\n",
    "    for event in pygame.event.get():\n",
    "        if event.type == pygame.QUIT:\n",
    "            pygame.quit()\n",
    "            exit()\n",
    "            "
   ]
  },
  {
   "cell_type": "code",
   "execution_count": 4,
   "metadata": {},
   "outputs": [
    {
     "ename": "SystemExit",
     "evalue": "",
     "output_type": "error",
     "traceback": [
      "An exception has occurred, use %tb to see the full traceback.\n",
      "\u001b[1;31mSystemExit\u001b[0m\n"
     ]
    },
    {
     "name": "stderr",
     "output_type": "stream",
     "text": [
      "E:\\Anaconoda\\lib\\site-packages\\IPython\\core\\interactiveshell.py:2969: UserWarning: To exit: use 'exit', 'quit', or Ctrl-D.\n",
      "  warn(\"To exit: use 'exit', 'quit', or Ctrl-D.\", stacklevel=1)\n"
     ]
    }
   ],
   "source": [
    "#关于pygame.display.flip()和pygame.display.update()\n",
    "# flip()是整体刷新\n",
    "# update（）局部刷新\n",
    "\n",
    "import pygame\n",
    "from pygame.locals import *    # 导入pygame库中的一些敞亮\n",
    "from sys import exit           # 导入sys库中的exit函数\n",
    "\n",
    "# 定义窗口的分辨率\n",
    "SCREEN_WIDTH = 480\n",
    "SCREEN_HEIGHT = 640\n",
    "\n",
    "# 初始化游戏\n",
    "pygame.init()             # 初始化pygame\n",
    "screen = pygame.display.set_mode([SCREEN_WIDTH, SCREEN_HEIGHT])# 初始化一个用于显示的窗口\n",
    "pygame.display.set_caption(\"This is my first pygame-program\")# 设置矿口标题\n",
    "\n",
    "# 载入背景\n",
    "background = pygame.image.load(\"images/background.gif\")\n",
    "\n",
    "# 事件循环（main loop）\n",
    "while True:\n",
    "    # 绘制背景\n",
    "    screen.blit(background, (0, 0))\n",
    "    # 更新屏幕\n",
    "    pygame.display.update()\n",
    "    \n",
    "    # 处理游戏退出\n",
    "    # 从消息队列中循环取出\n",
    "    for event in pygame.event.get():\n",
    "        if event.type == pygame.QUIT:\n",
    "            pygame.quit()\n",
    "            exit()\n",
    "            "
   ]
  },
  {
   "cell_type": "code",
   "execution_count": 6,
   "metadata": {},
   "outputs": [
    {
     "ename": "SystemExit",
     "evalue": "",
     "output_type": "error",
     "traceback": [
      "An exception has occurred, use %tb to see the full traceback.\n",
      "\u001b[1;31mSystemExit\u001b[0m\n"
     ]
    },
    {
     "name": "stderr",
     "output_type": "stream",
     "text": [
      "E:\\Anaconoda\\lib\\site-packages\\IPython\\core\\interactiveshell.py:2969: UserWarning: To exit: use 'exit', 'quit', or Ctrl-D.\n",
      "  warn(\"To exit: use 'exit', 'quit', or Ctrl-D.\", stacklevel=1)\n"
     ]
    }
   ],
   "source": [
    "import pygame\n",
    "from pygame.locals import *    # 导入pygame库中的一些敞亮\n",
    "from sys import exit           # 导入sys库中的exit函数\n",
    "\n",
    "# 定义窗口的分辨率\n",
    "SCREEN_WIDTH = 480\n",
    "SCREEN_HEIGHT = 640\n",
    "\n",
    "# 初始化游戏\n",
    "pygame.init()             # 初始化pygame\n",
    "screen = pygame.display.set_mode([SCREEN_WIDTH, SCREEN_HEIGHT])# 初始化一个用于显示的窗口\n",
    "pygame.display.set_caption(\"This is my first pygame-program\")# 设置矿口标题\n",
    "\n",
    "# 载入背景\n",
    "background = pygame.image.load(\"images/background.gif\")\n",
    "ball = pygame.image.load(\"images/bee.gif\")\n",
    "\n",
    "# 绘制背景\n",
    "screen.blit(background, (0, 0))\n",
    "# 更新屏幕\n",
    "pygame.display.update()\n",
    "\n",
    "# 事件循环（main loop）\n",
    "while True:\n",
    "    # 绘制背景\n",
    "    screen.blit(ball, (0, 0))\n",
    "    # 更新屏幕\n",
    "    pygame.display.update()\n",
    "    \n",
    "    # 处理游戏退出\n",
    "    # 从消息队列中循环取出\n",
    "    for event in pygame.event.get():\n",
    "        if event.type == pygame.QUIT:\n",
    "            pygame.quit()\n",
    "            exit()\n",
    "            "
   ]
  },
  {
   "cell_type": "markdown",
   "metadata": {},
   "source": [
    "#  pygame.time.Clock()：创建一个记录时间的对象；clock.tick(60)就是限制游戏最大帧率（framerate）为60\n",
    "- tick()函数要修出现在每一帧里，其实也是主循环里\n",
    "- 不过tick()函数仅仅是限制最大帧率，也就是说很可能由于游戏画面太复杂或者机器性能不佳，帧率达不到参数值\n",
    "\n",
    "            ...\n",
    "            clock = pygame.time.Clock()\n",
    "            ...\n",
    "            while True\n",
    "                clock.tick(60)\n",
    "            ..."
   ]
  },
  {
   "cell_type": "code",
   "execution_count": 9,
   "metadata": {},
   "outputs": [
    {
     "ename": "SystemExit",
     "evalue": "",
     "output_type": "error",
     "traceback": [
      "An exception has occurred, use %tb to see the full traceback.\n",
      "\u001b[1;31mSystemExit\u001b[0m\n"
     ]
    },
    {
     "name": "stderr",
     "output_type": "stream",
     "text": [
      "E:\\Anaconoda\\lib\\site-packages\\IPython\\core\\interactiveshell.py:2969: UserWarning: To exit: use 'exit', 'quit', or Ctrl-D.\n",
      "  warn(\"To exit: use 'exit', 'quit', or Ctrl-D.\", stacklevel=1)\n"
     ]
    }
   ],
   "source": [
    "#关于pygame.display.flip()和pygame.display.update()\n",
    "# flip()是整体刷新\n",
    "# update（）局部刷新\n",
    "\n",
    "import pygame\n",
    "from pygame.locals import *    # 导入pygame库中的一些敞亮\n",
    "from sys import exit           # 导入sys库中的exit函数\n",
    "import time\n",
    "\n",
    "# 定义窗口的分辨率\n",
    "SCREEN_WIDTH = 480\n",
    "SCREEN_HEIGHT = 640\n",
    "\n",
    "# 计数ticks\n",
    "ticks = 0\n",
    "offset = {pygame.K_LEFT:0, pygame.K_RIGHT:0, pygame.K_UP:0, pygame.K_DOWN:0}\n",
    "\n",
    "# 初始化游戏\n",
    "pygame.init()             # 初始化pygame\n",
    "screen = pygame.display.set_mode([SCREEN_WIDTH, SCREEN_HEIGHT])# 初始化一个用于显示的窗口\n",
    "pygame.display.set_caption(\"This is my first pygame-program\")# 设置矿口标题\n",
    "\n",
    "# 载入背景\n",
    "background = pygame.image.load(\"images/background.gif\")\n",
    "\n",
    "# 载入飞机图片\n",
    "bigplane = pygame.image.load(\"images/bigplane.gif\")\n",
    "\n",
    "# # 翟茹小飞机图片\n",
    "# smallplane = pygame.image.load(\"images/smallplane.gif\")\n",
    "shoot_img = pygame.image.load(\"images/shoot.jpg\")\n",
    "\n",
    "#用subsurface剪切读入的图片\n",
    "hero1_rect = pygame.Rect(0, 99, 102, 126)\n",
    "hero2_rect = pygame.Rect(165, 360, 102, 126)\n",
    "hero1 = shoot_img.subsurface(hero1_rect)\n",
    "hero2 = shoot_img.subsurface(hero2_rect)\n",
    "\n",
    "hero_pos = [200, 500]\n",
    "\n",
    "clock = pygame.time.Clock()\n",
    "# 事件循环（main loop）\n",
    "while True:\n",
    "    clock.tick(60)\n",
    "    # 绘制背景\n",
    "    screen.blit(background, (0, 0))\n",
    "    \n",
    "#     # 绘制飞机\n",
    "#     if ticks % 50 < 25:\n",
    "#         screen.blit(hero1, hero_pos)\n",
    "#     else:\n",
    "#         screen.blit(hero2, hero_pos)\n",
    "#     ticks += 1\n",
    "    screen.blit(bigplane, hero_pos)\n",
    "    \n",
    "    # 更新屏幕\n",
    "    pygame.display.update()\n",
    "    \n",
    "    # 处理游戏退出\n",
    "    # 从消息队列中循环取出\n",
    "#     time.sleep(0.01)\n",
    "    for event in pygame.event.get():\n",
    "        if event.type == pygame.QUIT:\n",
    "            pygame.quit()\n",
    "            exit()\n",
    "        \n",
    "        if event.type == pygame.KEYDOWN:\n",
    "            if event.key in offset:\n",
    "                offset[event.key] = 3\n",
    "                \n",
    "        elif event.type == pygame.KEYUP:\n",
    "            if event.key in offset:\n",
    "                offset[event.key] = 0\n",
    "            \n",
    "    offset_x = offset[pygame.K_RIGHT] - offset[pygame.K_LEFT]\n",
    "    offset_y = offset[pygame.K_DOWN] - offset[pygame.K_UP]\n",
    "    hero_pos = [hero_pos[0] + offset_x, hero_pos[1] + offset_y] \n",
    "    if hero_pos[0] < 0:\n",
    "        hero_pos[0] = 0\n",
    "    elif hero_pos[0] >= SCREEN_WIDTH - hero1_rect.width:\n",
    "        hero_pos[0] = SCREEN_WIDTH - hero1_rect.width\n",
    "    else:\n",
    "        hero_pos[0] = hero_pos[0]\n",
    "        \n",
    "    if hero_pos[1] < 0:\n",
    "        hero_pos[1] = 0\n",
    "    elif hero_pos[1] > SCREEN_HEIGHT - hero1_rect.height:\n",
    "        hero_pos[1] = SCREEN_HEIGHT - hero1_rect.height\n",
    "    else:\n",
    "        hero_pos[1] = hero_pos[1]\n"
   ]
  }
 ],
 "metadata": {
  "kernelspec": {
   "display_name": "Python 3",
   "language": "python",
   "name": "python3"
  },
  "language_info": {
   "codemirror_mode": {
    "name": "ipython",
    "version": 3
   },
   "file_extension": ".py",
   "mimetype": "text/x-python",
   "name": "python",
   "nbconvert_exporter": "python",
   "pygments_lexer": "ipython3",
   "version": "3.7.0"
  }
 },
 "nbformat": 4,
 "nbformat_minor": 2
}
