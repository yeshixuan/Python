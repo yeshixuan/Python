{
 "cells": [
  {
   "cell_type": "markdown",
   "metadata": {},
   "source": [
    "# 依赖列表\n",
    "1. Python 3.7.0\n",
    "2. Pygame"
   ]
  },
  {
   "cell_type": "code",
   "execution_count": 13,
   "metadata": {},
   "outputs": [],
   "source": [
    "# 载入模块\n",
    "import sys\n",
    "import pygame"
   ]
  },
  {
   "cell_type": "code",
   "execution_count": 14,
   "metadata": {},
   "outputs": [
    {
     "data": {
      "text/plain": [
       "(6, 0)"
      ]
     },
     "execution_count": 14,
     "metadata": {},
     "output_type": "execute_result"
    }
   ],
   "source": [
    "# 首先代用pygame初始化函数\n",
    "pygame.init()"
   ]
  },
  {
   "cell_type": "code",
   "execution_count": 15,
   "metadata": {},
   "outputs": [],
   "source": [
    "# 建立常量（不需要改变的量，用大写字母命名）\n",
    "SCREEN_SIZE = SCREEN_WIDTH, SCRREN_HEIGHT = 640, 480\n",
    "BLACK = 0, 0, 0 #相当于BLACK=(0,0,0)"
   ]
  },
  {
   "cell_type": "code",
   "execution_count": 16,
   "metadata": {},
   "outputs": [],
   "source": [
    "# 创建变量（需要变化的量，小写字母）\n",
    "ball_speed = [2, 2] # 分别表示球的横向速度和纵向速度，他们会随着方向的改变而改变"
   ]
  },
  {
   "cell_type": "code",
   "execution_count": 17,
   "metadata": {},
   "outputs": [],
   "source": [
    "# 创建对象\n",
    "ball_img = pygame.image.load(\"images/shoot.jpg\")\n",
    "ball_img = ball_img.subsurface(pygame.Rect(50,80,100,130))\n",
    "ball_rect = ball_img.get_rect()#得到矩形\n",
    "screen = pygame.display.set_mode(SCREEN_SIZE)\n",
    "clock = pygame.time.Clock()"
   ]
  },
  {
   "cell_type": "code",
   "execution_count": 18,
   "metadata": {},
   "outputs": [
    {
     "ename": "SystemExit",
     "evalue": "",
     "output_type": "error",
     "traceback": [
      "An exception has occurred, use %tb to see the full traceback.\n",
      "\u001b[1;31mSystemExit\u001b[0m\n"
     ]
    },
    {
     "name": "stderr",
     "output_type": "stream",
     "text": [
      "E:\\Anaconoda\\lib\\site-packages\\IPython\\core\\interactiveshell.py:2969: UserWarning: To exit: use 'exit', 'quit', or Ctrl-D.\n",
      "  warn(\"To exit: use 'exit', 'quit', or Ctrl-D.\", stacklevel=1)\n"
     ]
    }
   ],
   "source": [
    "# 游戏主循环\n",
    "while True:\n",
    "    clock.tick(90)\n",
    "    \n",
    "    # 更新游戏数据\n",
    "    ball_rect = ball_rect.move(ball_speed)\n",
    "    if ball_rect.left < 0 or ball_rect.right > SCREEN_WIDTH:\n",
    "        ball_speed[0] *= -1\n",
    "    if ball_rect.top < 0 or ball_rect.bottom > SCRREN_HEIGHT:\n",
    "        ball_speed[1] *= -1\n",
    "    #更新游戏花边\n",
    "    screen.fill(BLACK)\n",
    "    screen.blit(ball_img, ball_rect)\n",
    "#     pygame.display.flip()\n",
    "    pygame.display.update()\n",
    "    \n",
    "        \n",
    "    # 用户控制\n",
    "    for event in pygame.event.get():\n",
    "        if event.type == pygame.QUIT:\n",
    "            pygame.quit()\n",
    "            sys.exit()"
   ]
  },
  {
   "cell_type": "code",
   "execution_count": 19,
   "metadata": {},
   "outputs": [
    {
     "name": "stdout",
     "output_type": "stream",
     "text": [
      "4\n"
     ]
    }
   ],
   "source": [
    "#!/usr/bin/env python\n",
    "# -*- coding: utf-8 -*-\n",
    "# @Time    : 2019/4/3 22:00\n",
    "# @Author  : Yebiyun\n",
    "# @Site    : \n",
    "# @File    : 飞机大战.py\n",
    "# @Software: PyCharm\n",
    "\n",
    "\n",
    "\n",
    "import pygame\n",
    "from pygame.locals import *\n",
    "from sys import exit\n",
    "from random import randint\n",
    "\n",
    "# 定义窗口的分辨率\n",
    "SCREEN_WIDTH = 480\n",
    "SCREEN_HEIGHT = 640\n",
    "\n",
    "hero_is_hit = False\n",
    "ticks = 0\n",
    "offset = {pygame.K_LEFT:0, pygame.K_RIGHT:0, pygame.K_UP:0, pygame.K_DOWN:0}\n",
    "# 定义画面帧率\n",
    "FRAME_RATE = 60\n",
    "\n",
    "# 定义动画周期（帧数）\n",
    "ANIMATE_CYCLE = 30\n",
    "\n",
    "pos = [200, 500]\n",
    "\n",
    "#英雄类\n",
    "class Hero(pygame.sprite.Sprite):\n",
    "    def __init__(self, hero_surface, hero_init_pos):\n",
    "        super(Hero, self).__init__()\n",
    "        self.image = hero_surface\n",
    "        self.rect = self.image.get_rect()\n",
    "        self.rect.topleft = hero_init_pos\n",
    "\n",
    "        self.speed = 6\n",
    "        self.down_index = 0\n",
    "        self.bullet_sprite = pygame.sprite.Group()\n",
    "\n",
    "    def move(self, offset):\n",
    "        x = self.rect[0] + offset[pygame.K_RIGHT] - offset[pygame.K_LEFT]\n",
    "        y = self.rect[1] + offset[pygame.K_DOWN] - offset[pygame.K_UP]\n",
    "        if x < 0:\n",
    "            self.rect[0] = 0\n",
    "        elif x > SCREEN_WIDTH - self.rect.width:\n",
    "            self.rect[0] = SCREEN_WIDTH - self.rect.width\n",
    "        else:\n",
    "            self.rect[0] = x\n",
    "\n",
    "        if y < 0:\n",
    "            self.rect[1] = 0\n",
    "        elif y > SCREEN_HEIGHT - self.rect.height:\n",
    "            self.rect[1] = SCREEN_HEIGHT - self.rect.height\n",
    "        else:\n",
    "            self.rect[1] = y\n",
    "\n",
    "# 子弹类\n",
    "class Bullet(pygame.sprite.Sprite):\n",
    "    def __init__(self, bullet_surface, bullet_init_pos):\n",
    "        super().__init__()\n",
    "        self.image = bullet_surface\n",
    "        self.rect = self.image.get_rect()\n",
    "        self.rect.topleft = bullet_init_pos\n",
    "\n",
    "        self.speed = 8\n",
    "\n",
    "    def update(self):\n",
    "        self.rect.top -= self.speed\n",
    "        if self.rect.top < -self.rect.height:\n",
    "            self.kill()\n",
    "\n",
    "# 敌机类\n",
    "class Enemy(pygame.sprite.Sprite):\n",
    "    def __init__(self, enemy_surface, enemy_init_pos):\n",
    "        super().__init__()\n",
    "        self.image = enemy_surface\n",
    "        self.rect = self.image.get_rect()\n",
    "        self.rect.topleft = enemy_init_pos\n",
    "\n",
    "        self.speed = 2\n",
    "        self.down_index = 0\n",
    "\n",
    "\n",
    "    def update(self):\n",
    "        self.rect.top += self.speed\n",
    "        if self.rect.top > SCREEN_HEIGHT:\n",
    "            self.kill()\n",
    "\n",
    "# 开始\n",
    "pygame.init()\n",
    "\n",
    "screen = pygame.display.set_mode([SCREEN_WIDTH, SCREEN_HEIGHT])\n",
    "pygame.display.set_caption(\"飞机大战\")\n",
    "\n",
    "background = pygame.image.load(\"images/background.gif\")\n",
    "\n",
    "hero_surface = pygame.image.load(\"images/hero.gif\")\n",
    "hero_down_surface = []\n",
    "hero_down_surface.append(pygame.image.load(\"images/hero1.gif\"))\n",
    "hero_down_surface.append(pygame.image.load(\"images/hero2.gif\"))\n",
    "hero_down_surface.append(pygame.image.load(\"images/hero3.gif\"))\n",
    "hero_down_surface.append(pygame.image.load(\"images/hero4.gif\"))\n",
    "\n",
    "bullet_surface = pygame.image.load(\"images/bullet.gif\")\n",
    "\n",
    "enemy_surface = pygame.image.load(\"images/smallplane.gif\")\n",
    "enemy_down_surface = []\n",
    "enemy_down_surface.append(pygame.image.load(\"images/smallplane1.gif\"))\n",
    "enemy_down_surface.append(pygame.image.load(\"images/smallplane2.gif\"))\n",
    "enemy_down_surface.append(pygame.image.load(\"images/smallplane3.gif\"))\n",
    "enemy_down_surface.append(pygame.image.load(\"images/smallplane4.gif\"))\n",
    "hero = Hero(hero_surface, pos)\n",
    "enemy_sprite = pygame.sprite.Group()\n",
    "# 敌机击毁组\n",
    "enemy_down_group = pygame.sprite.Group()\n",
    "clock = pygame.time.Clock()\n",
    "print(len(hero_down_surface))\n",
    "while True:\n",
    "    clock.tick(FRAME_RATE)\n",
    "\n",
    "    screen.blit(background,(0,0))\n",
    "\n",
    "\n",
    "    screen.blit(hero.image, hero.rect)\n",
    "    if ticks % 10 == 0:\n",
    "        hero.bullet_sprite.add(Bullet(bullet_surface, hero.rect.midtop))\n",
    "\n",
    "    hero.bullet_sprite.update()\n",
    "    hero.bullet_sprite.draw(screen)\n",
    "\n",
    "    if ticks % ANIMATE_CYCLE == 0:\n",
    "        enemy_sprite.add(Enemy(enemy_surface, (randint(0,SCREEN_WIDTH-enemy_surface.get_width()), -enemy_surface.get_height())))\n",
    "    enemy_sprite.update()\n",
    "    enemy_sprite.draw(screen)\n",
    "\n",
    "    enemy_down_group.add(pygame.sprite.groupcollide(enemy_sprite, hero.bullet_sprite, True, True))\n",
    "    for enemy in enemy_down_group:\n",
    "        if ticks % (ANIMATE_CYCLE//2) != 0:\n",
    "            screen.blit(enemy_down_surface[enemy.down_index], enemy.rect)\n",
    "        else:\n",
    "            if enemy.down_index < 3:\n",
    "                enemy.down_index += 1\n",
    "            else:\n",
    "                enemy_down_group.remove(enemy)\n",
    "\n",
    "    enemy_list = pygame.sprite.spritecollide(hero, enemy_sprite, True)\n",
    "    if len(enemy_list):\n",
    "        hero_is_hit = True\n",
    "        enemy_down_group.add(enemy_list)\n",
    "    if hero_is_hit:\n",
    "        if ticks % (ANIMATE_CYCLE//2) != 0:\n",
    "            hero.image = hero_down_surface[hero.down_index]\n",
    "        else:\n",
    "            if hero.down_index < 3:\n",
    "                hero.down_index += 1\n",
    "            else:\n",
    "                break\n",
    "\n",
    "    pygame.display.update()\n",
    "\n",
    "\n",
    "\n",
    "    ticks += 1\n",
    "    for event in pygame.event.get():\n",
    "        if event.type == pygame.QUIT:\n",
    "            pygame.quit()\n",
    "            exit()\n",
    "        if event.type == pygame.KEYDOWN:\n",
    "            if event.key in offset:\n",
    "                offset[event.key] = hero.speed\n",
    "\n",
    "        if event.type == pygame.KEYUP:\n",
    "            if event.key in offset:\n",
    "                offset[event.key] = 0\n",
    "\n",
    "    hero.move(offset)\n",
    "\n",
    "\n",
    "\n",
    "\n"
   ]
  },
  {
   "cell_type": "code",
   "execution_count": null,
   "metadata": {},
   "outputs": [],
   "source": []
  },
  {
   "cell_type": "code",
   "execution_count": null,
   "metadata": {},
   "outputs": [],
   "source": []
  }
 ],
 "metadata": {
  "kernelspec": {
   "display_name": "Python 3",
   "language": "python",
   "name": "python3"
  },
  "language_info": {
   "codemirror_mode": {
    "name": "ipython",
    "version": 3
   },
   "file_extension": ".py",
   "mimetype": "text/x-python",
   "name": "python",
   "nbconvert_exporter": "python",
   "pygments_lexer": "ipython3",
   "version": "3.7.0"
  }
 },
 "nbformat": 4,
 "nbformat_minor": 2
}
