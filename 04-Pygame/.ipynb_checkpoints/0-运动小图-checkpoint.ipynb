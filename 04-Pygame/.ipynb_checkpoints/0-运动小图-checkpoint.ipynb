{
 "cells": [
  {
   "cell_type": "markdown",
   "metadata": {},
   "source": [
    "# 依赖列表\n",
    "1. Python 3.7.0\n",
    "2. Pygame"
   ]
  },
  {
   "cell_type": "code",
   "execution_count": 8,
   "metadata": {},
   "outputs": [],
   "source": [
    "# 载入模块\n",
    "import sys\n",
    "import pygame"
   ]
  },
  {
   "cell_type": "code",
   "execution_count": 9,
   "metadata": {},
   "outputs": [
    {
     "data": {
      "text/plain": [
       "(6, 0)"
      ]
     },
     "execution_count": 9,
     "metadata": {},
     "output_type": "execute_result"
    }
   ],
   "source": [
    "# 首先代用pygame初始化函数\n",
    "pygame.init()"
   ]
  },
  {
   "cell_type": "code",
   "execution_count": 10,
   "metadata": {},
   "outputs": [],
   "source": [
    "# 建立常量（不需要改变的量，用大写字母命名）\n",
    "SCREEN_SIZE = SCREEN_WIDTH, SCRREN_HEIGHT = 640, 480\n",
    "BLACK = 0, 0, 0 #相当于BLACK=(0,0,0)"
   ]
  },
  {
   "cell_type": "code",
   "execution_count": 11,
   "metadata": {},
   "outputs": [],
   "source": [
    "# 创建变量（需要变化的量，小写字母）\n",
    "ball_speed = [2, 2] # 分别表示球的横向速度和纵向速度，他们会随着方向的改变而改变"
   ]
  },
  {
   "cell_type": "code",
   "execution_count": 12,
   "metadata": {},
   "outputs": [],
   "source": [
    "# 创建对象\n",
    "ball_img = pygame.image.load(\"images/ball.jpg\")\n",
    "ball_rect = ball_img.get_rect()#得到矩形\n",
    "screen = pygame.display.set_mode(SCREEN_SIZE)\n",
    "clock = pygame.time.Clock()"
   ]
  },
  {
   "cell_type": "code",
   "execution_count": 13,
   "metadata": {},
   "outputs": [
    {
     "ename": "SystemExit",
     "evalue": "0",
     "output_type": "error",
     "traceback": [
      "An exception has occurred, use %tb to see the full traceback.\n",
      "\u001b[1;31mSystemExit\u001b[0m\u001b[1;31m:\u001b[0m 0\n"
     ]
    },
    {
     "name": "stderr",
     "output_type": "stream",
     "text": [
      "E:\\Anaconoda\\lib\\site-packages\\IPython\\core\\interactiveshell.py:2969: UserWarning: To exit: use 'exit', 'quit', or Ctrl-D.\n",
      "  warn(\"To exit: use 'exit', 'quit', or Ctrl-D.\", stacklevel=1)\n"
     ]
    }
   ],
   "source": [
    "# 游戏主循环\n",
    "while True:\n",
    "    \n",
    "    # 用户控制\n",
    "    for event in pygame.event.get():\n",
    "        if event.type == pygame.QUIT:\n",
    "            pygame.quit()\n",
    "            sys.exit(0)\n",
    "    \n",
    "    # 更新游戏数据\n",
    "    ball_rect = ball_rect.move(ball_speed)\n",
    "    if ball_rect.left < 0 or ball_rect.right > SCREEN_WIDTH:\n",
    "        ball_speed[0] *= -1\n",
    "    if ball_rect.top < 0 or ball_rect.bottom > SCRREN_HEIGHT:\n",
    "        ball_speed[1] *= -1\n",
    "    #更新游戏花边\n",
    "    screen.fill(BLACK)\n",
    "    screen.blit(ball_img, ball_rect)\n",
    "    pygame.display.flip()\n",
    "    clock.tick(60)"
   ]
  },
  {
   "cell_type": "code",
   "execution_count": null,
   "metadata": {},
   "outputs": [],
   "source": []
  },
  {
   "cell_type": "code",
   "execution_count": null,
   "metadata": {},
   "outputs": [],
   "source": []
  }
 ],
 "metadata": {
  "kernelspec": {
   "display_name": "Python 3",
   "language": "python",
   "name": "python3"
  },
  "language_info": {
   "codemirror_mode": {
    "name": "ipython",
    "version": 3
   },
   "file_extension": ".py",
   "mimetype": "text/x-python",
   "name": "python",
   "nbconvert_exporter": "python",
   "pygments_lexer": "ipython3",
   "version": "3.7.0"
  }
 },
 "nbformat": 4,
 "nbformat_minor": 2
}
