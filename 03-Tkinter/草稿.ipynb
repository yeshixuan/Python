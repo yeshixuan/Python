{
 "cells": [
  {
   "cell_type": "code",
   "execution_count": 19,
   "metadata": {},
   "outputs": [
    {
     "name": "stdout",
     "output_type": "stream",
     "text": [
      "#b52bd9\n"
     ]
    }
   ],
   "source": [
    "import random\n",
    "c = lambda:random.randint(0,255)\n",
    "# color = \"#%02x%02x%02x\"%(c(),c(),c())\n",
    "color = \"#%02x%02x%02x\"%(c(), c(), c())\n",
    "print(color)"
   ]
  },
  {
   "cell_type": "code",
   "execution_count": 9,
   "metadata": {},
   "outputs": [],
   "source": [
    "import tkinter\n",
    "def ww():\n",
    "    a,b,c,d = 15, 25, 55, 66\n",
    "    color = \"yellow\"\n",
    "    return (a,b,c,d),color\n",
    "\n",
    "def ball_move(event):\n",
    "    csv.move(ball, 5,5)\n",
    "    \n",
    "    csv.after(200, ball_move)\n",
    "    \n",
    "base = tkinter.Tk()\n",
    "# base.overrideredirect(1)\n",
    "\n",
    "# base.bind(\"<Button-1>\", ball_move)\n",
    "\n",
    "# w,h =base.winfo_screenwidth(), base.winfo_screenheight()\n",
    "csv = tkinter.Canvas(base, width = 200, height = 200)\n",
    "csv.pack()\n",
    "\n",
    "pos, color = ww()\n",
    "\n",
    "csv.create_oval(pos, fill = color, outline = color)\n",
    "\n",
    "base.mainloop()"
   ]
  },
  {
   "cell_type": "code",
   "execution_count": null,
   "metadata": {},
   "outputs": [],
   "source": [
    "def ww():\n",
    "    x = 1 ,\n",
    "    return ()"
   ]
  }
 ],
 "metadata": {
  "kernelspec": {
   "display_name": "Python 3",
   "language": "python",
   "name": "python3"
  },
  "language_info": {
   "codemirror_mode": {
    "name": "ipython",
    "version": 3
   },
   "file_extension": ".py",
   "mimetype": "text/x-python",
   "name": "python",
   "nbconvert_exporter": "python",
   "pygments_lexer": "ipython3",
   "version": "3.7.0"
  }
 },
 "nbformat": 4,
 "nbformat_minor": 2
}
