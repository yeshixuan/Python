{
 "cells": [
  {
   "cell_type": "code",
   "execution_count": 4,
   "metadata": {},
   "outputs": [
    {
     "name": "stdout",
     "output_type": "stream",
     "text": [
      "<class 'tkinter.Tk'>\n"
     ]
    }
   ],
   "source": [
    "import tkinter\n",
    "\n",
    "base = tkinter.Tk()\n",
    "csv = tkinter.Canvas(base, width=400, height=500)\n",
    "csv.pack()\n",
    "\n",
    "def destroy():\n",
    "    pass\n",
    "def game_again():\n",
    "    pass\n",
    "def keypress(e):\n",
    "    print(e.keysym)\n",
    "food = csv.create_rectangle(30, 40, 40, 50, fill=\"yellow\", outline=\"yellow\")\n",
    "csv.create_text(200, 150, fill=\"black\", text=\"Game Over!\")\n",
    "# csv.coords(food, *task['food'])\n",
    "# lb = tkinter.Label(csv, text=\"游戏结束\")\n",
    "# lb.pack()\n",
    "# quitBt = tkinter.Button(csv, text='Quit', command=destroy)\n",
    "\n",
    "# againBt = tkinter.Button(csv, text=\"Again\", command=game_again)\n",
    "# # 以下是为了把上面显示出来，否则不显示btn键\n",
    "# csv.create_window(200, 180, anchor=\"nw\", window=quitBt)\n",
    "# csv.create_window(200, 210, anchor='nw',window=againBt)\n",
    "\n",
    "base.bind(\"<a> \",keypress)\n",
    "base.mainloop()\n",
    "\n",
    "\n",
    "# self.canvas.itemconfigure(self.points_earned,\n",
    "#                                               text=\"Scored: {}\".format(task['points_earned']))"
   ]
  },
  {
   "cell_type": "code",
   "execution_count": 6,
   "metadata": {},
   "outputs": [
    {
     "name": "stdout",
     "output_type": "stream",
     "text": [
      "Help on method itemconfigure in module tkinter:\n",
      "\n",
      "itemconfigure(tagOrId, cnf=None, **kw) method of tkinter.Canvas instance\n",
      "    Configure resources of an item TAGORID.\n",
      "    \n",
      "    The values for resources are specified as keyword\n",
      "    arguments. To get an overview about\n",
      "    the allowed keyword arguments call the method without arguments.\n",
      "\n"
     ]
    }
   ],
   "source": [
    "help(csv.itemconfigure)"
   ]
  },
  {
   "cell_type": "code",
   "execution_count": 27,
   "metadata": {},
   "outputs": [],
   "source": [
    "import threading\n",
    "class Snake(threading.Thread):\n",
    "    def __init__(self):\n",
    "        threading.Thread.__init__(self)\n",
    "        \n",
    "        \n",
    "s = Snake()\n",
    "s._delete()\n",
    "\n",
    "    def key_press(self, e):\n",
    "        self.direction = e.keysym\n"
   ]
  },
  {
   "cell_type": "code",
   "execution_count": 28,
   "metadata": {},
   "outputs": [
    {
     "name": "stdout",
     "output_type": "stream",
     "text": [
      "Help on method _delete in module threading:\n",
      "\n",
      "_delete() method of __main__.Snake instance\n",
      "    Remove current thread from the dict of currently running threads.\n",
      "\n"
     ]
    }
   ],
   "source": [
    "help(s._delete)"
   ]
  }
 ],
 "metadata": {
  "kernelspec": {
   "display_name": "Python 3",
   "language": "python",
   "name": "python3"
  },
  "language_info": {
   "codemirror_mode": {
    "name": "ipython",
    "version": 3
   },
   "file_extension": ".py",
   "mimetype": "text/x-python",
   "name": "python",
   "nbconvert_exporter": "python",
   "pygments_lexer": "ipython3",
   "version": "3.7.0"
  }
 },
 "nbformat": 4,
 "nbformat_minor": 2
}
